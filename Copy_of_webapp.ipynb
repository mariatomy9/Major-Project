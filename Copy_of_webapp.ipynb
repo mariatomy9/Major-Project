{
  "nbformat": 4,
  "nbformat_minor": 0,
  "metadata": {
    "colab": {
      "provenance": [],
      "include_colab_link": true
    },
    "kernelspec": {
      "name": "python3",
      "display_name": "Python 3"
    },
    "language_info": {
      "name": "python"
    }
  },
  "cells": [
    {
      "cell_type": "markdown",
      "metadata": {
        "id": "view-in-github",
        "colab_type": "text"
      },
      "source": [
        "<a href=\"https://colab.research.google.com/github/mariatomy9/Major-Project/blob/lena/Copy_of_webapp.ipynb\" target=\"_parent\"><img src=\"https://colab.research.google.com/assets/colab-badge.svg\" alt=\"Open In Colab\"/></a>"
      ]
    },
    {
      "cell_type": "markdown",
      "source": [
        "Streamlit installation"
      ],
      "metadata": {
        "id": "IPH3NfX9trTC"
      }
    },
    {
      "cell_type": "code",
      "source": [
        "from google.colab import drive\n",
        "drive.mount('/content/drive')"
      ],
      "metadata": {
        "colab": {
          "base_uri": "https://localhost:8080/"
        },
        "id": "5-e9ltzxuyBO",
        "outputId": "167071f5-1d1f-49f0-e198-79e0fc0890dd"
      },
      "execution_count": null,
      "outputs": [
        {
          "output_type": "stream",
          "name": "stdout",
          "text": [
            "Mounted at /content/drive\n"
          ]
        }
      ]
    },
    {
      "cell_type": "code",
      "source": [
        "pip install streamlit -q"
      ],
      "metadata": {
        "id": "MCkaDEVdk4BT"
      },
      "execution_count": null,
      "outputs": []
    },
    {
      "cell_type": "code",
      "source": [
        "pip install --upgrade streamlit"
      ],
      "metadata": {
        "colab": {
          "base_uri": "https://localhost:8080/"
        },
        "id": "a0lFeTQAIGSg",
        "outputId": "4a3fff17-0a5f-41ac-e9bc-634a3987a049"
      },
      "execution_count": null,
      "outputs": [
        {
          "output_type": "stream",
          "name": "stdout",
          "text": [
            "Looking in indexes: https://pypi.org/simple, https://us-python.pkg.dev/colab-wheels/public/simple/\n",
            "Requirement already satisfied: streamlit in /usr/local/lib/python3.9/dist-packages (1.20.0)\n",
            "Requirement already satisfied: click>=7.0 in /usr/local/lib/python3.9/dist-packages (from streamlit) (8.1.3)\n",
            "Requirement already satisfied: pydeck>=0.1.dev5 in /usr/local/lib/python3.9/dist-packages (from streamlit) (0.8.0)\n",
            "Requirement already satisfied: typing-extensions>=3.10.0.0 in /usr/local/lib/python3.9/dist-packages (from streamlit) (4.5.0)\n",
            "Requirement already satisfied: pyarrow>=4.0 in /usr/local/lib/python3.9/dist-packages (from streamlit) (9.0.0)\n",
            "Requirement already satisfied: tzlocal>=1.1 in /usr/local/lib/python3.9/dist-packages (from streamlit) (4.3)\n",
            "Requirement already satisfied: pandas<2,>=0.25 in /usr/local/lib/python3.9/dist-packages (from streamlit) (1.4.4)\n",
            "Requirement already satisfied: packaging>=14.1 in /usr/local/lib/python3.9/dist-packages (from streamlit) (23.0)\n",
            "Requirement already satisfied: tornado>=6.0.3 in /usr/local/lib/python3.9/dist-packages (from streamlit) (6.2)\n",
            "Requirement already satisfied: importlib-metadata>=1.4 in /usr/local/lib/python3.9/dist-packages (from streamlit) (6.1.0)\n",
            "Requirement already satisfied: protobuf<4,>=3.12 in /usr/local/lib/python3.9/dist-packages (from streamlit) (3.20.3)\n",
            "Requirement already satisfied: pillow>=6.2.0 in /usr/local/lib/python3.9/dist-packages (from streamlit) (8.4.0)\n",
            "Requirement already satisfied: toml in /usr/local/lib/python3.9/dist-packages (from streamlit) (0.10.2)\n",
            "Requirement already satisfied: watchdog in /usr/local/lib/python3.9/dist-packages (from streamlit) (3.0.0)\n",
            "Requirement already satisfied: blinker>=1.0.0 in /usr/local/lib/python3.9/dist-packages (from streamlit) (1.6)\n",
            "Requirement already satisfied: numpy in /usr/local/lib/python3.9/dist-packages (from streamlit) (1.22.4)\n",
            "Requirement already satisfied: altair<5,>=3.2.0 in /usr/local/lib/python3.9/dist-packages (from streamlit) (4.2.2)\n",
            "Requirement already satisfied: validators>=0.2 in /usr/local/lib/python3.9/dist-packages (from streamlit) (0.20.0)\n",
            "Requirement already satisfied: pympler>=0.9 in /usr/local/lib/python3.9/dist-packages (from streamlit) (1.0.1)\n",
            "Requirement already satisfied: requests>=2.4 in /usr/local/lib/python3.9/dist-packages (from streamlit) (2.27.1)\n",
            "Requirement already satisfied: gitpython!=3.1.19 in /usr/local/lib/python3.9/dist-packages (from streamlit) (3.1.31)\n",
            "Requirement already satisfied: cachetools>=4.0 in /usr/local/lib/python3.9/dist-packages (from streamlit) (5.3.0)\n",
            "Requirement already satisfied: semver in /usr/local/lib/python3.9/dist-packages (from streamlit) (3.0.0)\n",
            "Requirement already satisfied: python-dateutil in /usr/local/lib/python3.9/dist-packages (from streamlit) (2.8.2)\n",
            "Requirement already satisfied: rich>=10.11.0 in /usr/local/lib/python3.9/dist-packages (from streamlit) (13.3.3)\n",
            "Requirement already satisfied: jsonschema>=3.0 in /usr/local/lib/python3.9/dist-packages (from altair<5,>=3.2.0->streamlit) (4.3.3)\n",
            "Requirement already satisfied: entrypoints in /usr/local/lib/python3.9/dist-packages (from altair<5,>=3.2.0->streamlit) (0.4)\n",
            "Requirement already satisfied: jinja2 in /usr/local/lib/python3.9/dist-packages (from altair<5,>=3.2.0->streamlit) (3.1.2)\n",
            "Requirement already satisfied: toolz in /usr/local/lib/python3.9/dist-packages (from altair<5,>=3.2.0->streamlit) (0.12.0)\n",
            "Requirement already satisfied: gitdb<5,>=4.0.1 in /usr/local/lib/python3.9/dist-packages (from gitpython!=3.1.19->streamlit) (4.0.10)\n",
            "Requirement already satisfied: zipp>=0.5 in /usr/local/lib/python3.9/dist-packages (from importlib-metadata>=1.4->streamlit) (3.15.0)\n",
            "Requirement already satisfied: pytz>=2020.1 in /usr/local/lib/python3.9/dist-packages (from pandas<2,>=0.25->streamlit) (2022.7.1)\n",
            "Requirement already satisfied: six>=1.5 in /usr/local/lib/python3.9/dist-packages (from python-dateutil->streamlit) (1.16.0)\n",
            "Requirement already satisfied: idna<4,>=2.5 in /usr/local/lib/python3.9/dist-packages (from requests>=2.4->streamlit) (3.4)\n",
            "Requirement already satisfied: certifi>=2017.4.17 in /usr/local/lib/python3.9/dist-packages (from requests>=2.4->streamlit) (2022.12.7)\n",
            "Requirement already satisfied: urllib3<1.27,>=1.21.1 in /usr/local/lib/python3.9/dist-packages (from requests>=2.4->streamlit) (1.26.15)\n",
            "Requirement already satisfied: charset-normalizer~=2.0.0 in /usr/local/lib/python3.9/dist-packages (from requests>=2.4->streamlit) (2.0.12)\n",
            "Requirement already satisfied: pygments<3.0.0,>=2.13.0 in /usr/local/lib/python3.9/dist-packages (from rich>=10.11.0->streamlit) (2.14.0)\n",
            "Requirement already satisfied: markdown-it-py<3.0.0,>=2.2.0 in /usr/local/lib/python3.9/dist-packages (from rich>=10.11.0->streamlit) (2.2.0)\n",
            "Requirement already satisfied: pytz-deprecation-shim in /usr/local/lib/python3.9/dist-packages (from tzlocal>=1.1->streamlit) (0.1.0.post0)\n",
            "Requirement already satisfied: decorator>=3.4.0 in /usr/local/lib/python3.9/dist-packages (from validators>=0.2->streamlit) (4.4.2)\n",
            "Requirement already satisfied: smmap<6,>=3.0.1 in /usr/local/lib/python3.9/dist-packages (from gitdb<5,>=4.0.1->gitpython!=3.1.19->streamlit) (5.0.0)\n",
            "Requirement already satisfied: MarkupSafe>=2.0 in /usr/local/lib/python3.9/dist-packages (from jinja2->altair<5,>=3.2.0->streamlit) (2.1.2)\n",
            "Requirement already satisfied: pyrsistent!=0.17.0,!=0.17.1,!=0.17.2,>=0.14.0 in /usr/local/lib/python3.9/dist-packages (from jsonschema>=3.0->altair<5,>=3.2.0->streamlit) (0.19.3)\n",
            "Requirement already satisfied: attrs>=17.4.0 in /usr/local/lib/python3.9/dist-packages (from jsonschema>=3.0->altair<5,>=3.2.0->streamlit) (22.2.0)\n",
            "Requirement already satisfied: mdurl~=0.1 in /usr/local/lib/python3.9/dist-packages (from markdown-it-py<3.0.0,>=2.2.0->rich>=10.11.0->streamlit) (0.1.2)\n",
            "Requirement already satisfied: tzdata in /usr/local/lib/python3.9/dist-packages (from pytz-deprecation-shim->tzlocal>=1.1->streamlit) (2023.3)\n"
          ]
        }
      ]
    },
    {
      "cell_type": "code",
      "source": [
        "!pip install eeglib\n",
        "!pip install mne\n",
        "!pip install pyEDFlib\n",
        "!pip install EDFlib-Python"
      ],
      "metadata": {
        "colab": {
          "base_uri": "https://localhost:8080/"
        },
        "id": "-eq0XHszkPCX",
        "outputId": "51237633-600b-4fa4-b887-bb8f0b1a16bc"
      },
      "execution_count": null,
      "outputs": [
        {
          "output_type": "stream",
          "name": "stdout",
          "text": [
            "Looking in indexes: https://pypi.org/simple, https://us-python.pkg.dev/colab-wheels/public/simple/\n",
            "Collecting eeglib\n",
            "  Downloading eeglib-0.4.1-py3-none-any.whl (25 kB)\n",
            "Requirement already satisfied: scipy in /usr/local/lib/python3.9/dist-packages (from eeglib) (1.10.1)\n",
            "Requirement already satisfied: progressbar2 in /usr/local/lib/python3.9/dist-packages (from eeglib) (4.2.0)\n",
            "Requirement already satisfied: numba in /usr/local/lib/python3.9/dist-packages (from eeglib) (0.56.4)\n",
            "Requirement already satisfied: pandas in /usr/local/lib/python3.9/dist-packages (from eeglib) (1.4.4)\n",
            "Collecting fastdtw\n",
            "  Downloading fastdtw-0.3.4.tar.gz (133 kB)\n",
            "\u001b[2K     \u001b[90m━━━━━━━━━━━━━━━━━━━━━━━━━━━━━━━━━━━━━━━\u001b[0m \u001b[32m133.4/133.4 KB\u001b[0m \u001b[31m9.1 MB/s\u001b[0m eta \u001b[36m0:00:00\u001b[0m\n",
            "\u001b[?25h  Preparing metadata (setup.py) ... \u001b[?25l\u001b[?25hdone\n",
            "Requirement already satisfied: numpy in /usr/local/lib/python3.9/dist-packages (from eeglib) (1.22.4)\n",
            "Collecting sklearn\n",
            "  Downloading sklearn-0.0.post1.tar.gz (3.6 kB)\n",
            "  Preparing metadata (setup.py) ... \u001b[?25l\u001b[?25hdone\n",
            "Collecting pyedflib\n",
            "  Downloading pyEDFlib-0.1.30-cp39-cp39-manylinux_2_17_x86_64.manylinux2014_x86_64.whl (2.4 MB)\n",
            "\u001b[2K     \u001b[90m━━━━━━━━━━━━━━━━━━━━━━━━━━━━━━━━━━━━━━━━\u001b[0m \u001b[32m2.4/2.4 MB\u001b[0m \u001b[31m60.2 MB/s\u001b[0m eta \u001b[36m0:00:00\u001b[0m\n",
            "\u001b[?25hRequirement already satisfied: llvmlite<0.40,>=0.39.0dev0 in /usr/local/lib/python3.9/dist-packages (from numba->eeglib) (0.39.1)\n",
            "Requirement already satisfied: setuptools in /usr/local/lib/python3.9/dist-packages (from numba->eeglib) (67.6.1)\n",
            "Requirement already satisfied: pytz>=2020.1 in /usr/local/lib/python3.9/dist-packages (from pandas->eeglib) (2022.7.1)\n",
            "Requirement already satisfied: python-dateutil>=2.8.1 in /usr/local/lib/python3.9/dist-packages (from pandas->eeglib) (2.8.2)\n",
            "Requirement already satisfied: python-utils>=3.0.0 in /usr/local/lib/python3.9/dist-packages (from progressbar2->eeglib) (3.5.2)\n",
            "Requirement already satisfied: six>=1.5 in /usr/local/lib/python3.9/dist-packages (from python-dateutil>=2.8.1->pandas->eeglib) (1.16.0)\n",
            "Building wheels for collected packages: fastdtw, sklearn\n",
            "  Building wheel for fastdtw (setup.py) ... \u001b[?25l\u001b[?25hdone\n",
            "  Created wheel for fastdtw: filename=fastdtw-0.3.4-cp39-cp39-linux_x86_64.whl size=534338 sha256=7c8bc54939ea09872250826d0876083afc32d266dfe86775b508d862337f72fd\n",
            "  Stored in directory: /root/.cache/pip/wheels/1f/a1/63/bfd0fddb5bf0b59f564872e29272cee8a2de0cd745d88fede5\n",
            "  Building wheel for sklearn (setup.py) ... \u001b[?25l\u001b[?25hdone\n",
            "  Created wheel for sklearn: filename=sklearn-0.0.post1-py3-none-any.whl size=2955 sha256=0d42834db0b3098758460a47b02efffd7b3d9aecbb33308bd2f4573255b0e57d\n",
            "  Stored in directory: /root/.cache/pip/wheels/f8/e0/3d/9d0c2020c44a519b9f02ab4fa6d2a4a996c98d79ab2f569fa1\n",
            "Successfully built fastdtw sklearn\n",
            "Installing collected packages: sklearn, pyedflib, fastdtw, eeglib\n",
            "Successfully installed eeglib-0.4.1 fastdtw-0.3.4 pyedflib-0.1.30 sklearn-0.0.post1\n",
            "Looking in indexes: https://pypi.org/simple, https://us-python.pkg.dev/colab-wheels/public/simple/\n",
            "Collecting mne\n",
            "  Downloading mne-1.3.1-py3-none-any.whl (7.6 MB)\n",
            "\u001b[2K     \u001b[90m━━━━━━━━━━━━━━━━━━━━━━━━━━━━━━━━━━━━━━━━\u001b[0m \u001b[32m7.6/7.6 MB\u001b[0m \u001b[31m68.9 MB/s\u001b[0m eta \u001b[36m0:00:00\u001b[0m\n",
            "\u001b[?25hRequirement already satisfied: packaging in /usr/local/lib/python3.9/dist-packages (from mne) (23.0)\n",
            "Requirement already satisfied: pooch>=1.5 in /usr/local/lib/python3.9/dist-packages (from mne) (1.6.0)\n",
            "Requirement already satisfied: scipy>=1.1.0 in /usr/local/lib/python3.9/dist-packages (from mne) (1.10.1)\n",
            "Requirement already satisfied: decorator in /usr/local/lib/python3.9/dist-packages (from mne) (4.4.2)\n",
            "Requirement already satisfied: tqdm in /usr/local/lib/python3.9/dist-packages (from mne) (4.65.0)\n",
            "Requirement already satisfied: jinja2 in /usr/local/lib/python3.9/dist-packages (from mne) (3.1.2)\n",
            "Requirement already satisfied: matplotlib in /usr/local/lib/python3.9/dist-packages (from mne) (3.7.1)\n",
            "Requirement already satisfied: numpy>=1.15.4 in /usr/local/lib/python3.9/dist-packages (from mne) (1.22.4)\n",
            "Requirement already satisfied: appdirs>=1.3.0 in /usr/local/lib/python3.9/dist-packages (from pooch>=1.5->mne) (1.4.4)\n",
            "Requirement already satisfied: requests>=2.19.0 in /usr/local/lib/python3.9/dist-packages (from pooch>=1.5->mne) (2.27.1)\n",
            "Requirement already satisfied: MarkupSafe>=2.0 in /usr/local/lib/python3.9/dist-packages (from jinja2->mne) (2.1.2)\n",
            "Requirement already satisfied: cycler>=0.10 in /usr/local/lib/python3.9/dist-packages (from matplotlib->mne) (0.11.0)\n",
            "Requirement already satisfied: pyparsing>=2.3.1 in /usr/local/lib/python3.9/dist-packages (from matplotlib->mne) (3.0.9)\n",
            "Requirement already satisfied: pillow>=6.2.0 in /usr/local/lib/python3.9/dist-packages (from matplotlib->mne) (8.4.0)\n",
            "Requirement already satisfied: importlib-resources>=3.2.0 in /usr/local/lib/python3.9/dist-packages (from matplotlib->mne) (5.12.0)\n",
            "Requirement already satisfied: kiwisolver>=1.0.1 in /usr/local/lib/python3.9/dist-packages (from matplotlib->mne) (1.4.4)\n",
            "Requirement already satisfied: fonttools>=4.22.0 in /usr/local/lib/python3.9/dist-packages (from matplotlib->mne) (4.39.3)\n",
            "Requirement already satisfied: contourpy>=1.0.1 in /usr/local/lib/python3.9/dist-packages (from matplotlib->mne) (1.0.7)\n",
            "Requirement already satisfied: python-dateutil>=2.7 in /usr/local/lib/python3.9/dist-packages (from matplotlib->mne) (2.8.2)\n",
            "Requirement already satisfied: zipp>=3.1.0 in /usr/local/lib/python3.9/dist-packages (from importlib-resources>=3.2.0->matplotlib->mne) (3.15.0)\n",
            "Requirement already satisfied: six>=1.5 in /usr/local/lib/python3.9/dist-packages (from python-dateutil>=2.7->matplotlib->mne) (1.16.0)\n",
            "Requirement already satisfied: certifi>=2017.4.17 in /usr/local/lib/python3.9/dist-packages (from requests>=2.19.0->pooch>=1.5->mne) (2022.12.7)\n",
            "Requirement already satisfied: charset-normalizer~=2.0.0 in /usr/local/lib/python3.9/dist-packages (from requests>=2.19.0->pooch>=1.5->mne) (2.0.12)\n",
            "Requirement already satisfied: idna<4,>=2.5 in /usr/local/lib/python3.9/dist-packages (from requests>=2.19.0->pooch>=1.5->mne) (3.4)\n",
            "Requirement already satisfied: urllib3<1.27,>=1.21.1 in /usr/local/lib/python3.9/dist-packages (from requests>=2.19.0->pooch>=1.5->mne) (1.26.15)\n",
            "Installing collected packages: mne\n",
            "Successfully installed mne-1.3.1\n",
            "Looking in indexes: https://pypi.org/simple, https://us-python.pkg.dev/colab-wheels/public/simple/\n",
            "Requirement already satisfied: pyEDFlib in /usr/local/lib/python3.9/dist-packages (0.1.30)\n",
            "Requirement already satisfied: numpy>=1.9.1 in /usr/local/lib/python3.9/dist-packages (from pyEDFlib) (1.22.4)\n",
            "Looking in indexes: https://pypi.org/simple, https://us-python.pkg.dev/colab-wheels/public/simple/\n",
            "Collecting EDFlib-Python\n",
            "  Downloading EDFlib_Python-1.0.6-py3-none-any.whl (26 kB)\n",
            "Requirement already satisfied: numpy>=1.17 in /usr/local/lib/python3.9/dist-packages (from EDFlib-Python) (1.22.4)\n",
            "Installing collected packages: EDFlib-Python\n",
            "Successfully installed EDFlib-Python-1.0.6\n"
          ]
        }
      ]
    },
    {
      "cell_type": "code",
      "source": [
        "%%writefile app.py\n",
        "import pandas as pd\n",
        "import mne\n",
        "import streamlit as st\n",
        "import streamlit.components.v1 as components\n",
        "st.set_page_config(layout=\"wide\")\n",
        "\n",
        "left_column,center_column, right_column = st.columns(3)\n",
        "with st.container():\n",
        "        original_title = '<p style=\"font-family:palatino; color:Blue; font-size: 80px;margin:0;padding:0;line-height:30px; \">Amateur Medico</p>'\n",
        "        st.markdown(original_title, unsafe_allow_html=True)\n",
        "    \n",
        "        original_title1 = '<i><p style=\"color:black; font-size: 20px;\">a medical assistance app</p></i>'\n",
        "        st.markdown(original_title1, unsafe_allow_html=True)\n",
        "\n",
        "with st.container():\n",
        "    st.write(\"---\")\n",
        "    \n",
        "     \n",
        "     \n",
        "import base64\n",
        "def add_bg_from_local(image_file):\n",
        "    with open(image_file, \"rb\") as image_file:\n",
        "        encoded_string = base64.b64encode(image_file.read())\n",
        "    st.markdown(\n",
        "    f\"\"\"\n",
        "    <style>\n",
        "    .stApp {{\n",
        "        background-image: url(data:image/{\"png\"};base64,{encoded_string.decode()});\n",
        "        background-repeat:repeat-x;\n",
        "        background-position-y: bottom; \n",
        "        background-size: 40%;\n",
        "    }}\n",
        "    </style>\n",
        "    \"\"\",\n",
        "    unsafe_allow_html=True\n",
        "    )\n",
        "add_bg_from_local('/content/drive/MyDrive/Colab Notebooks/neurology-illustration-cartoon-tiny-doctor-people-study-human-brain-nerve-system-medical-anatomical-science-research-white_213110-221.avif')    \n",
        "\n",
        "\n",
        "def home_page():\n",
        "    st.markdown(\"\"\"In today’s scenario, several brain and neurological disorders are being discovered and the complexity of structure of \n",
        "    brain varies with age. The early diagnosis of these diseases is of utmost importance. \n",
        "    so, the segmentation process of Magnetic resonance imaging is done to obtain maximum accuracy. \n",
        "    Precise segmentation of the magnetic resonance imaging image is required for the diagnosing the brain tumor\n",
        "     using laptop-based clinical requirement. Using each of the segmentation strategies, which method is \n",
        "     best for segmenting the tumor can be identified from each of the images. \n",
        "     This work proposes an advanced machine learning and deep learning based predictive method to forecast malignant and benign tumor. \n",
        "     This is an effective and simple model for the detection and classification of brain tumor.\"\"\") \n",
        "    st.markdown(\"Select options from the sidebar\")\n",
        "    st.sidebar.markdown(\" You are in Home page\")\n",
        "\n",
        "def main_page():\n",
        "  \n",
        "    Patient_id =st.text_input(\"Enter your Patient Id\")\n",
        "    gender = st.selectbox(\"Enter your gender\",[\"Male\", \"Female\"])\n",
        "    col1, col2, col3 = st.columns(3)\n",
        "    # getting user inputgender = col1.selectbox(\"Enter your gender\",[\"Male\", \"Female\"])\n",
        "\n",
        "\n",
        "    age = col2.number_input(\"Enter your age\")\n",
        "    \n",
        "    stroke = col1.selectbox(\"Have you ever experienced a seizure?\",[\"Yes\",\"No\"])\n",
        "    uploaded_file = st.file_uploader(\"Upload the eeg (EDF FILE)\")\n",
        "    if st.button('predict'):\n",
        "        if Patient_id == \"\" :                                                                                                                                                                                                 \n",
        "          st.write(\"fill the Patient_id\") \n",
        "        elif gender == \"\" :\n",
        "          st.write(\"fill the gender field\")\n",
        "        elif age == \"\" :\n",
        "          st.write(\"fill the age field\")\n",
        "        elif stroke == \"\" :\n",
        "          st.write(\"fill all the questions\")  \n",
        "        elif uploaded_file is not None :\n",
        "          st.write(\"Processing Please Wait\")\n",
        "          dataframe = pd.read_csv(uploaded_file)\n",
        "          st.write(dataframe) \n",
        "        else :\n",
        "          st.write(\"Upload the File\")    \n",
        "\n",
        "      \n",
        "    st.sidebar.markdown(\" You are in Classification Page\")\n",
        "\n",
        "def page2():\n",
        "   \n",
        "    Patient_id =st.text_input(\"Enter your Patient Id\")\n",
        "    gender = st.selectbox(\"Enter your gender\",[\"Male\", \"Female\"])\n",
        "    col1, col2, col3 = st.columns(3)\n",
        "    # getting user inputgender = col1.selectbox(\"Enter your gender\",[\"Male\", \"Female\"])\n",
        "\n",
        "\n",
        "    age = col2.number_input(\"Enter your age\")\n",
        "    \n",
        "    stroke = col1.selectbox(\"Have you ever experienced a seizure?\",[\"Yes\",\"No\"])\n",
        "    uploaded_file = st.file_uploader(\"Upload the eeg (EDF FILE)\")\n",
        "    if st.button('predict'):\n",
        "        if Patient_id == \"\" :                                                                                                                                                                                                 \n",
        "          st.write(\"fill the Patient_id\") \n",
        "        elif gender == \"\" :\n",
        "          st.write(\"fill the gender field\")\n",
        "        elif age == \"\" :\n",
        "          st.write(\"fill the age field\")\n",
        "        elif stroke == \"\" :\n",
        "          st.write(\"fill all the questions\")  \n",
        "        elif uploaded_file is not None :\n",
        "          st.write(\"Processing Please Wait\")\n",
        "          dataframe = pd.read_csv(uploaded_file)\n",
        "          st.write(dataframe) \n",
        "        else :\n",
        "          st.write(\"Upload the File\")    \n",
        "  \n",
        "    st.sidebar.markdown(\" You are in Early prediction Page\")\n",
        "\n",
        "def page3():\n",
        "  \n",
        "    Patient_id =st.text_input(\"Enter your Patient Id\")\n",
        "    gender = st.selectbox(\"Enter your gender\",[\"Male\", \"Female\"])\n",
        "    col1, col2, col3 = st.columns(3)\n",
        "    # getting user inputgender = col1.selectbox(\"Enter your gender\",[\"Male\", \"Female\"])\n",
        "\n",
        "\n",
        "    age = col2.number_input(\"Enter your age\")\n",
        "    \n",
        "    stroke = col1.selectbox(\"Have you ever experienced a seizure?\",[\"Yes\",\"No\"])\n",
        "    uploaded_file = st.file_uploader(\"Upload the eeg (EDF FILE)\")\n",
        "    if st.button('predict'):\n",
        "        if Patient_id == \"\" :                                                                                                                                                                                                 \n",
        "          st.write(\"fill the Patient_id\") \n",
        "        elif gender == \"\" :\n",
        "          st.write(\"fill the gender field\")\n",
        "        elif age == \"\" :\n",
        "          st.write(\"fill the age field\")\n",
        "        elif stroke == \"\" :\n",
        "          st.write(\"fill all the questions\")  \n",
        "        elif uploaded_file is not None :\n",
        "          st.write(\"Processing Please Wait\")\n",
        "          dataframe = pd.read_csv(uploaded_file)\n",
        "          st.write(dataframe) \n",
        "        else :\n",
        "          st.write(\"Upload the File\")    \n",
        "\n",
        "    st.sidebar.markdown(\" You are in Types of Epilepsy Page\")\n",
        "\n",
        "page_names_to_funcs = {\n",
        "  \"Home Page\": home_page,\n",
        "    \"Classification\": main_page,\n",
        "    \"Early prediction\": page2,\n",
        "    \"Types of Epilepsy\": page3,\n",
        "}\n",
        "\n",
        "selected_page = st.sidebar.radio(\" Select the required detection technique\",(\"Home Page\",\"Classification\",\"Early prediction\",\"Types of Epilepsy\"))\n",
        "\n",
        "page_names_to_funcs[selected_page]()\n",
        "\n",
        "\n",
        "\n",
        "\n",
        "\n",
        "\n",
        "\n"
      ],
      "metadata": {
        "colab": {
          "base_uri": "https://localhost:8080/"
        },
        "id": "9oIwQvuUvBOx",
        "outputId": "f00e82f0-df60-4e96-f632-b11abfaf88ad"
      },
      "execution_count": null,
      "outputs": [
        {
          "output_type": "stream",
          "name": "stdout",
          "text": [
            "Overwriting app.py\n"
          ]
        }
      ]
    },
    {
      "cell_type": "code",
      "source": [
        " ! pip install pyngrok"
      ],
      "metadata": {
        "colab": {
          "base_uri": "https://localhost:8080/"
        },
        "id": "7QP92XzunQ1Q",
        "outputId": "30f29b58-e5fa-42f4-eaae-e442aaa4be67"
      },
      "execution_count": null,
      "outputs": [
        {
          "output_type": "stream",
          "name": "stdout",
          "text": [
            "Looking in indexes: https://pypi.org/simple, https://us-python.pkg.dev/colab-wheels/public/simple/\n",
            "Requirement already satisfied: pyngrok in /usr/local/lib/python3.9/dist-packages (5.2.1)\n",
            "Requirement already satisfied: PyYAML in /usr/local/lib/python3.9/dist-packages (from pyngrok) (6.0)\n"
          ]
        }
      ]
    },
    {
      "cell_type": "code",
      "source": [
        "from pyngrok import ngrok"
      ],
      "metadata": {
        "id": "k_efhQ-qnXO3"
      },
      "execution_count": null,
      "outputs": []
    },
    {
      "cell_type": "code",
      "source": [
        "\n",
        "ngrok.set_auth_token(\"2O0kHUEJFIxeiY4pM0S7lNL7qjF_5SNeXBG5ytVNsPyZKHS6g\") "
      ],
      "metadata": {
        "colab": {
          "base_uri": "https://localhost:8080/"
        },
        "id": "OcXKDE12naD_",
        "outputId": "994ae774-5669-4979-8eef-66eb608c1b01"
      },
      "execution_count": null,
      "outputs": [
        {
          "output_type": "stream",
          "name": "stderr",
          "text": [
            "INFO:pyngrok.process:Updating authtoken for default \"config_path\" of \"ngrok_path\": /usr/local/lib/python3.9/dist-packages/pyngrok/bin/ngrok\n",
            "2023-04-05 15:50:42.010 Updating authtoken for default \"config_path\" of \"ngrok_path\": /usr/local/lib/python3.9/dist-packages/pyngrok/bin/ngrok\n"
          ]
        }
      ]
    },
    {
      "cell_type": "code",
      "source": [
        "ngrok.kill()"
      ],
      "metadata": {
        "colab": {
          "base_uri": "https://localhost:8080/"
        },
        "id": "mRhoXN-9HX4H",
        "outputId": "59ddd4ce-832e-40c9-fb73-428d0b87f6d6"
      },
      "execution_count": null,
      "outputs": [
        {
          "output_type": "stream",
          "name": "stderr",
          "text": [
            "INFO:pyngrok.process:Killing ngrok process: 31753\n",
            "2023-04-05 16:07:08.736 Killing ngrok process: 31753\n"
          ]
        }
      ]
    },
    {
      "cell_type": "code",
      "source": [
        "!nohup streamlit run app.py --server.port 80 &\n",
        "url = ngrok.connect(port = '80')\n",
        "print(url)"
      ],
      "metadata": {
        "colab": {
          "base_uri": "https://localhost:8080/"
        },
        "id": "L_RZL47nxd8U",
        "outputId": "4616ebbf-2acb-4a87-9097-f1393451954b"
      },
      "execution_count": null,
      "outputs": [
        {
          "output_type": "stream",
          "name": "stdout",
          "text": [
            "nohup: appending output to 'nohup.out'\n"
          ]
        },
        {
          "output_type": "stream",
          "name": "stderr",
          "text": [
            "INFO:pyngrok.ngrok:Opening tunnel named: http-80-afd707c3-c3e8-4689-8866-9995c78879ca\n",
            "2023-04-05 16:07:10.711 Opening tunnel named: http-80-afd707c3-c3e8-4689-8866-9995c78879ca\n",
            "INFO:pyngrok.process.ngrok:t=2023-04-05T16:07:10+0000 lvl=info msg=\"no configuration paths supplied\"\n",
            "2023-04-05 16:07:10.785 t=2023-04-05T16:07:10+0000 lvl=info msg=\"no configuration paths supplied\"\n",
            "INFO:pyngrok.process.ngrok:t=2023-04-05T16:07:10+0000 lvl=info msg=\"using configuration at default config path\" path=/root/.ngrok2/ngrok.yml\n",
            "2023-04-05 16:07:10.790 t=2023-04-05T16:07:10+0000 lvl=info msg=\"using configuration at default config path\" path=/root/.ngrok2/ngrok.yml\n",
            "INFO:pyngrok.process.ngrok:t=2023-04-05T16:07:10+0000 lvl=info msg=\"open config file\" path=/root/.ngrok2/ngrok.yml err=nil\n",
            "2023-04-05 16:07:10.795 t=2023-04-05T16:07:10+0000 lvl=info msg=\"open config file\" path=/root/.ngrok2/ngrok.yml err=nil\n",
            "INFO:pyngrok.process.ngrok:t=2023-04-05T16:07:10+0000 lvl=info msg=\"starting web service\" obj=web addr=127.0.0.1:4040\n",
            "2023-04-05 16:07:10.809 t=2023-04-05T16:07:10+0000 lvl=info msg=\"starting web service\" obj=web addr=127.0.0.1:4040\n",
            "INFO:pyngrok.process.ngrok:t=2023-04-05T16:07:11+0000 lvl=info msg=\"tunnel session started\" obj=tunnels.session\n",
            "2023-04-05 16:07:11.084 t=2023-04-05T16:07:11+0000 lvl=info msg=\"tunnel session started\" obj=tunnels.session\n",
            "INFO:pyngrok.process.ngrok:t=2023-04-05T16:07:11+0000 lvl=info msg=\"client session established\" obj=csess id=0a2921a4cb38\n",
            "2023-04-05 16:07:11.093 t=2023-04-05T16:07:11+0000 lvl=info msg=\"client session established\" obj=csess id=0a2921a4cb38\n",
            "INFO:pyngrok.process.ngrok:t=2023-04-05T16:07:11+0000 lvl=info msg=start pg=/api/tunnels id=0773187386925300\n",
            "2023-04-05 16:07:11.113 t=2023-04-05T16:07:11+0000 lvl=info msg=start pg=/api/tunnels id=0773187386925300\n",
            "INFO:pyngrok.process.ngrok:t=2023-04-05T16:07:11+0000 lvl=info msg=end pg=/api/tunnels id=0773187386925300 status=200 dur=458.61µs\n",
            "2023-04-05 16:07:11.129 t=2023-04-05T16:07:11+0000 lvl=info msg=end pg=/api/tunnels id=0773187386925300 status=200 dur=458.61µs\n",
            "INFO:pyngrok.process.ngrok:t=2023-04-05T16:07:11+0000 lvl=info msg=start pg=/api/tunnels id=e21fe2453f63a8cb\n",
            "2023-04-05 16:07:11.140 t=2023-04-05T16:07:11+0000 lvl=info msg=start pg=/api/tunnels id=e21fe2453f63a8cb\n",
            "INFO:pyngrok.process.ngrok:t=2023-04-05T16:07:11+0000 lvl=info msg=end pg=/api/tunnels id=e21fe2453f63a8cb status=200 dur=129.29µs\n",
            "2023-04-05 16:07:11.145 t=2023-04-05T16:07:11+0000 lvl=info msg=end pg=/api/tunnels id=e21fe2453f63a8cb status=200 dur=129.29µs\n",
            "INFO:pyngrok.process.ngrok:t=2023-04-05T16:07:11+0000 lvl=info msg=start pg=/api/tunnels id=f55eb98f4f6a9ccb\n",
            "2023-04-05 16:07:11.156 t=2023-04-05T16:07:11+0000 lvl=info msg=start pg=/api/tunnels id=f55eb98f4f6a9ccb\n",
            "INFO:pyngrok.process.ngrok:t=2023-04-05T16:07:11+0000 lvl=info msg=\"started tunnel\" obj=tunnels name=\"http-80-afd707c3-c3e8-4689-8866-9995c78879ca (http)\" addr=http://localhost:80 url=http://cc22-34-125-34-91.ngrok.io\n",
            "2023-04-05 16:07:11.298 t=2023-04-05T16:07:11+0000 lvl=info msg=\"started tunnel\" obj=tunnels name=\"http-80-afd707c3-c3e8-4689-8866-9995c78879ca (http)\" addr=http://localhost:80 url=http://cc22-34-125-34-91.ngrok.io\n",
            "INFO:pyngrok.process.ngrok:t=2023-04-05T16:07:11+0000 lvl=info msg=\"started tunnel\" obj=tunnels name=http-80-afd707c3-c3e8-4689-8866-9995c78879ca addr=http://localhost:80 url=https://cc22-34-125-34-91.ngrok.io\n"
          ]
        },
        {
          "output_type": "stream",
          "name": "stdout",
          "text": [
            "NgrokTunnel: \"http://cc22-34-125-34-91.ngrok.io\" -> \"http://localhost:80\"\n"
          ]
        },
        {
          "output_type": "stream",
          "name": "stderr",
          "text": [
            "2023-04-05 16:07:11.306 t=2023-04-05T16:07:11+0000 lvl=info msg=\"started tunnel\" obj=tunnels name=http-80-afd707c3-c3e8-4689-8866-9995c78879ca addr=http://localhost:80 url=https://cc22-34-125-34-91.ngrok.io\n",
            "INFO:pyngrok.process.ngrok:t=2023-04-05T16:07:11+0000 lvl=info msg=end pg=/api/tunnels id=f55eb98f4f6a9ccb status=201 dur=180.250318ms\n"
          ]
        }
      ]
    },
    {
      "cell_type": "code",
      "source": [
        "from pyngrok import ngrok\n",
        "\n",
        "tunnels = ngrok.get_tunnels()\n",
        "tunnels\n",
        "\n",
        "# try:\n",
        "#     # Block until CTRL-C or some other terminating event\n",
        "#     ngrok_process.proc.wait()\n",
        "# except KeyboardInterrupt:\n",
        "#     print(\" Shutting down server.\")\n",
        "\n",
        "#     ngrok.kill()"
      ],
      "metadata": {
        "colab": {
          "base_uri": "https://localhost:8080/"
        },
        "id": "Mr9BGv28nf5Z",
        "outputId": "1befbe36-6e18-40ac-ccb7-47f101b63011"
      },
      "execution_count": null,
      "outputs": [
        {
          "output_type": "stream",
          "name": "stderr",
          "text": [
            "INFO:pyngrok.process.ngrok:t=2023-04-05T16:10:05+0000 lvl=info msg=start pg=/api/tunnels id=1321596154926863\n",
            "2023-04-05 16:10:05.218 t=2023-04-05T16:10:05+0000 lvl=info msg=start pg=/api/tunnels id=1321596154926863\n",
            "INFO:pyngrok.process.ngrok:t=2023-04-05T16:10:05+0000 lvl=info msg=end pg=/api/tunnels id=1321596154926863 status=200 dur=239.153µs\n",
            "2023-04-05 16:10:05.221 t=2023-04-05T16:10:05+0000 lvl=info msg=end pg=/api/tunnels id=1321596154926863 status=200 dur=239.153µs\n"
          ]
        },
        {
          "output_type": "execute_result",
          "data": {
            "text/plain": [
              "[<NgrokTunnel: \"http://cc22-34-125-34-91.ngrok.io\" -> \"http://localhost:80\">,\n",
              " <NgrokTunnel: \"https://cc22-34-125-34-91.ngrok.io\" -> \"http://localhost:80\">]"
            ]
          },
          "metadata": {},
          "execution_count": 114
        }
      ]
    },
    {
      "cell_type": "code",
      "source": [],
      "metadata": {
        "id": "_kE9R0EVzNye"
      },
      "execution_count": null,
      "outputs": []
    },
    {
      "cell_type": "code",
      "source": [],
      "metadata": {
        "id": "i6fQdJw_t9-b"
      },
      "execution_count": null,
      "outputs": []
    },
    {
      "cell_type": "markdown",
      "source": [
        "Prediction Encoding"
      ],
      "metadata": {
        "id": "ESb9_Ki6w1Yx"
      }
    },
    {
      "cell_type": "code",
      "source": [
        "# File for writing UI elements\n",
        "\n",
        "%%writefile app.py\n",
        "\n",
        "import streamlit as st\n",
        "\n",
        "st.write('# 10 Year Heart Disease Prediction ')\n",
        "\n",
        "gender = st.selectbox(\"Enter your gender\",[\"Male\", \"Female\"])\n",
        "col1, col2, col3 = st.columns(3)\n",
        "# getting user inputgender = col1.selectbox(\"Enter your gender\",[\"Male\", \"Female\"])\n",
        "\n",
        "\n",
        "age = col2.number_input(\"Enter your age\")\n",
        "education = col3.selectbox(\"Highest academic qualification\",[\"High school diploma\", \"Undergraduate degree\", \"Postgraduate degree\", \"PhD\"])\n",
        "\n",
        "isSmoker = col1.selectbox(\"Are you currently a smoker?\",[\"Yes\",\"No\"])\n",
        "\n",
        "yearsSmoking = col2.number_input(\"Number of daily cigarettes\")\n",
        "\n",
        "BPMeds = col3.selectbox(\"Are you currently on BP medication?\",[\"Yes\",\"No\"])\n",
        "\n",
        "stroke = col1.selectbox(\"Have you ever experienced a stroke?\",[\"Yes\",\"No\"])\n",
        "\n",
        "hyp = col2.selectbox(\"Do you have hypertension?\",[\"Yes\",\"No\"])\n",
        "\n",
        "diabetes = col3.selectbox(\"Do you have diabetes?\",[\"Yes\",\"No\"])\n",
        "\n",
        "chol = col1.number_input(\"Enter your cholesterol level\")\n",
        "\n",
        "sys_bp = col2.number_input(\"Enter your systolic blood pressure\")\n",
        "\n",
        "dia_bp = col3.number_input(\"Enter your diastolic blood pressure\")\n",
        "\n",
        "bmi = col1.number_input(\"Enter your BMI\")\n",
        "\n",
        "heart_rate = col2.number_input(\"Enter your resting heart rate\")\n",
        "\n",
        "glucose = col3.number_input(\"Enter your glucose level\")\n",
        "\n",
        "st.button('Predict')"
      ],
      "metadata": {
        "colab": {
          "base_uri": "https://localhost:8080/"
        },
        "id": "7NfWLffXnDW-",
        "outputId": "fb1b7d5d-918e-4dc6-bf13-d46c8be91a8d"
      },
      "execution_count": null,
      "outputs": [
        {
          "output_type": "stream",
          "name": "stdout",
          "text": [
            "Overwriting app.py\n"
          ]
        }
      ]
    }
  ]
}