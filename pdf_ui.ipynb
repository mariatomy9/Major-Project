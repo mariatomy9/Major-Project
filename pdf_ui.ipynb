{
  "nbformat": 4,
  "nbformat_minor": 0,
  "metadata": {
    "colab": {
      "provenance": [],
      "include_colab_link": true
    },
    "kernelspec": {
      "name": "python3",
      "display_name": "Python 3"
    },
    "language_info": {
      "name": "python"
    }
  },
  "cells": [
    {
      "cell_type": "markdown",
      "metadata": {
        "id": "view-in-github",
        "colab_type": "text"
      },
      "source": [
        "<a href=\"https://colab.research.google.com/github/mariatomy9/Major-Project/blob/lena/pdf_ui.ipynb\" target=\"_parent\"><img src=\"https://colab.research.google.com/assets/colab-badge.svg\" alt=\"Open In Colab\"/></a>"
      ]
    },
    {
      "cell_type": "code",
      "execution_count": null,
      "metadata": {
        "id": "rcqOKuCpwp2l",
        "colab": {
          "base_uri": "https://localhost:8080/"
        },
        "outputId": "960d5aca-fe59-4483-857b-8e18f6b69a5b"
      },
      "outputs": [
        {
          "output_type": "stream",
          "name": "stdout",
          "text": [
            "Looking in indexes: https://pypi.org/simple, https://us-python.pkg.dev/colab-wheels/public/simple/\n",
            "Requirement already satisfied: eeglib in /usr/local/lib/python3.10/dist-packages (0.4.1)\n",
            "Requirement already satisfied: numpy in /usr/local/lib/python3.10/dist-packages (from eeglib) (1.22.4)\n",
            "Requirement already satisfied: scipy in /usr/local/lib/python3.10/dist-packages (from eeglib) (1.10.1)\n",
            "Requirement already satisfied: sklearn in /usr/local/lib/python3.10/dist-packages (from eeglib) (0.0.post4)\n",
            "Requirement already satisfied: numba in /usr/local/lib/python3.10/dist-packages (from eeglib) (0.56.4)\n",
            "Requirement already satisfied: pandas in /usr/local/lib/python3.10/dist-packages (from eeglib) (1.5.3)\n",
            "Requirement already satisfied: pyedflib in /usr/local/lib/python3.10/dist-packages (from eeglib) (0.1.32)\n",
            "Requirement already satisfied: fastdtw in /usr/local/lib/python3.10/dist-packages (from eeglib) (0.3.4)\n",
            "Requirement already satisfied: progressbar2 in /usr/local/lib/python3.10/dist-packages (from eeglib) (4.2.0)\n",
            "Requirement already satisfied: llvmlite<0.40,>=0.39.0dev0 in /usr/local/lib/python3.10/dist-packages (from numba->eeglib) (0.39.1)\n",
            "Requirement already satisfied: setuptools in /usr/local/lib/python3.10/dist-packages (from numba->eeglib) (67.7.2)\n",
            "Requirement already satisfied: python-dateutil>=2.8.1 in /usr/local/lib/python3.10/dist-packages (from pandas->eeglib) (2.8.2)\n",
            "Requirement already satisfied: pytz>=2020.1 in /usr/local/lib/python3.10/dist-packages (from pandas->eeglib) (2022.7.1)\n",
            "Requirement already satisfied: python-utils>=3.0.0 in /usr/local/lib/python3.10/dist-packages (from progressbar2->eeglib) (3.5.2)\n",
            "Requirement already satisfied: six>=1.5 in /usr/local/lib/python3.10/dist-packages (from python-dateutil>=2.8.1->pandas->eeglib) (1.16.0)\n",
            "\u001b[33mWARNING: Running pip as the 'root' user can result in broken permissions and conflicting behaviour with the system package manager. It is recommended to use a virtual environment instead: https://pip.pypa.io/warnings/venv\u001b[0m\u001b[33m\n",
            "\u001b[0m"
          ]
        }
      ],
      "source": [
        "!pip install eeglib"
      ]
    },
    {
      "cell_type": "code",
      "source": [
        "!pip install -q pyngrok\n",
        "\n",
        "!pip install -q streamlit\n",
        "\n",
        "!pip install -q streamlit_ace"
      ],
      "metadata": {
        "id": "ZhGpVhdGwzZ0",
        "colab": {
          "base_uri": "https://localhost:8080/"
        },
        "outputId": "46ba56e0-9e1a-48fe-91bc-0764d06203a3"
      },
      "execution_count": null,
      "outputs": [
        {
          "output_type": "stream",
          "name": "stdout",
          "text": [
            "\u001b[33mWARNING: Running pip as the 'root' user can result in broken permissions and conflicting behaviour with the system package manager. It is recommended to use a virtual environment instead: https://pip.pypa.io/warnings/venv\u001b[0m\u001b[33m\n",
            "\u001b[0m\u001b[33mWARNING: Running pip as the 'root' user can result in broken permissions and conflicting behaviour with the system package manager. It is recommended to use a virtual environment instead: https://pip.pypa.io/warnings/venv\u001b[0m\u001b[33m\n",
            "\u001b[0m\u001b[33mWARNING: Running pip as the 'root' user can result in broken permissions and conflicting behaviour with the system package manager. It is recommended to use a virtual environment instead: https://pip.pypa.io/warnings/venv\u001b[0m\u001b[33m\n",
            "\u001b[0m"
          ]
        }
      ]
    },
    {
      "cell_type": "code",
      "source": [
        "!pip install eeglib\n",
        "!pip install mne\n",
        "!pip install pyEDFlib\n",
        "!pip install EDFlib-Python\n",
        "# !pip install fpdf\n",
        "# !pip install reportlab\n"
      ],
      "metadata": {
        "id": "kaB_6ShRw_Eh",
        "colab": {
          "base_uri": "https://localhost:8080/"
        },
        "outputId": "db185a6f-df05-4949-fd8e-06b4f8c2cae4"
      },
      "execution_count": null,
      "outputs": [
        {
          "output_type": "stream",
          "name": "stdout",
          "text": [
            "Looking in indexes: https://pypi.org/simple, https://us-python.pkg.dev/colab-wheels/public/simple/\n",
            "Requirement already satisfied: eeglib in /usr/local/lib/python3.10/dist-packages (0.4.1)\n",
            "Requirement already satisfied: numpy in /usr/local/lib/python3.10/dist-packages (from eeglib) (1.22.4)\n",
            "Requirement already satisfied: scipy in /usr/local/lib/python3.10/dist-packages (from eeglib) (1.10.1)\n",
            "Requirement already satisfied: sklearn in /usr/local/lib/python3.10/dist-packages (from eeglib) (0.0.post4)\n",
            "Requirement already satisfied: numba in /usr/local/lib/python3.10/dist-packages (from eeglib) (0.56.4)\n",
            "Requirement already satisfied: pandas in /usr/local/lib/python3.10/dist-packages (from eeglib) (1.5.3)\n",
            "Requirement already satisfied: pyedflib in /usr/local/lib/python3.10/dist-packages (from eeglib) (0.1.32)\n",
            "Requirement already satisfied: fastdtw in /usr/local/lib/python3.10/dist-packages (from eeglib) (0.3.4)\n",
            "Requirement already satisfied: progressbar2 in /usr/local/lib/python3.10/dist-packages (from eeglib) (4.2.0)\n",
            "Requirement already satisfied: llvmlite<0.40,>=0.39.0dev0 in /usr/local/lib/python3.10/dist-packages (from numba->eeglib) (0.39.1)\n",
            "Requirement already satisfied: setuptools in /usr/local/lib/python3.10/dist-packages (from numba->eeglib) (67.7.2)\n",
            "Requirement already satisfied: python-dateutil>=2.8.1 in /usr/local/lib/python3.10/dist-packages (from pandas->eeglib) (2.8.2)\n",
            "Requirement already satisfied: pytz>=2020.1 in /usr/local/lib/python3.10/dist-packages (from pandas->eeglib) (2022.7.1)\n",
            "Requirement already satisfied: python-utils>=3.0.0 in /usr/local/lib/python3.10/dist-packages (from progressbar2->eeglib) (3.5.2)\n",
            "Requirement already satisfied: six>=1.5 in /usr/local/lib/python3.10/dist-packages (from python-dateutil>=2.8.1->pandas->eeglib) (1.16.0)\n",
            "\u001b[33mWARNING: Running pip as the 'root' user can result in broken permissions and conflicting behaviour with the system package manager. It is recommended to use a virtual environment instead: https://pip.pypa.io/warnings/venv\u001b[0m\u001b[33m\n",
            "\u001b[0mLooking in indexes: https://pypi.org/simple, https://us-python.pkg.dev/colab-wheels/public/simple/\n",
            "Requirement already satisfied: mne in /usr/local/lib/python3.10/dist-packages (1.3.1)\n",
            "Requirement already satisfied: numpy>=1.15.4 in /usr/local/lib/python3.10/dist-packages (from mne) (1.22.4)\n",
            "Requirement already satisfied: scipy>=1.1.0 in /usr/local/lib/python3.10/dist-packages (from mne) (1.10.1)\n",
            "Requirement already satisfied: matplotlib in /usr/local/lib/python3.10/dist-packages (from mne) (3.7.1)\n",
            "Requirement already satisfied: tqdm in /usr/local/lib/python3.10/dist-packages (from mne) (4.65.0)\n",
            "Requirement already satisfied: pooch>=1.5 in /usr/local/lib/python3.10/dist-packages (from mne) (1.6.0)\n",
            "Requirement already satisfied: decorator in /usr/local/lib/python3.10/dist-packages (from mne) (4.4.2)\n",
            "Requirement already satisfied: packaging in /usr/local/lib/python3.10/dist-packages (from mne) (23.1)\n",
            "Requirement already satisfied: jinja2 in /usr/local/lib/python3.10/dist-packages (from mne) (3.1.2)\n",
            "Requirement already satisfied: appdirs>=1.3.0 in /usr/local/lib/python3.10/dist-packages (from pooch>=1.5->mne) (1.4.4)\n",
            "Requirement already satisfied: requests>=2.19.0 in /usr/local/lib/python3.10/dist-packages (from pooch>=1.5->mne) (2.27.1)\n",
            "Requirement already satisfied: MarkupSafe>=2.0 in /usr/local/lib/python3.10/dist-packages (from jinja2->mne) (2.1.2)\n",
            "Requirement already satisfied: contourpy>=1.0.1 in /usr/local/lib/python3.10/dist-packages (from matplotlib->mne) (1.0.7)\n",
            "Requirement already satisfied: cycler>=0.10 in /usr/local/lib/python3.10/dist-packages (from matplotlib->mne) (0.11.0)\n",
            "Requirement already satisfied: fonttools>=4.22.0 in /usr/local/lib/python3.10/dist-packages (from matplotlib->mne) (4.39.3)\n",
            "Requirement already satisfied: kiwisolver>=1.0.1 in /usr/local/lib/python3.10/dist-packages (from matplotlib->mne) (1.4.4)\n",
            "Requirement already satisfied: pillow>=6.2.0 in /usr/local/lib/python3.10/dist-packages (from matplotlib->mne) (9.5.0)\n",
            "Requirement already satisfied: pyparsing>=2.3.1 in /usr/local/lib/python3.10/dist-packages (from matplotlib->mne) (3.0.9)\n",
            "Requirement already satisfied: python-dateutil>=2.7 in /usr/local/lib/python3.10/dist-packages (from matplotlib->mne) (2.8.2)\n",
            "Requirement already satisfied: six>=1.5 in /usr/local/lib/python3.10/dist-packages (from python-dateutil>=2.7->matplotlib->mne) (1.16.0)\n",
            "Requirement already satisfied: urllib3<1.27,>=1.21.1 in /usr/local/lib/python3.10/dist-packages (from requests>=2.19.0->pooch>=1.5->mne) (1.26.15)\n",
            "Requirement already satisfied: certifi>=2017.4.17 in /usr/local/lib/python3.10/dist-packages (from requests>=2.19.0->pooch>=1.5->mne) (2022.12.7)\n",
            "Requirement already satisfied: charset-normalizer~=2.0.0 in /usr/local/lib/python3.10/dist-packages (from requests>=2.19.0->pooch>=1.5->mne) (2.0.12)\n",
            "Requirement already satisfied: idna<4,>=2.5 in /usr/local/lib/python3.10/dist-packages (from requests>=2.19.0->pooch>=1.5->mne) (3.4)\n",
            "\u001b[33mWARNING: Running pip as the 'root' user can result in broken permissions and conflicting behaviour with the system package manager. It is recommended to use a virtual environment instead: https://pip.pypa.io/warnings/venv\u001b[0m\u001b[33m\n",
            "\u001b[0mLooking in indexes: https://pypi.org/simple, https://us-python.pkg.dev/colab-wheels/public/simple/\n",
            "Requirement already satisfied: pyEDFlib in /usr/local/lib/python3.10/dist-packages (0.1.32)\n",
            "Requirement already satisfied: numpy>=1.9.1 in /usr/local/lib/python3.10/dist-packages (from pyEDFlib) (1.22.4)\n",
            "\u001b[33mWARNING: Running pip as the 'root' user can result in broken permissions and conflicting behaviour with the system package manager. It is recommended to use a virtual environment instead: https://pip.pypa.io/warnings/venv\u001b[0m\u001b[33m\n",
            "\u001b[0mLooking in indexes: https://pypi.org/simple, https://us-python.pkg.dev/colab-wheels/public/simple/\n",
            "Requirement already satisfied: EDFlib-Python in /usr/local/lib/python3.10/dist-packages (1.0.6)\n",
            "Requirement already satisfied: numpy>=1.17 in /usr/local/lib/python3.10/dist-packages (from EDFlib-Python) (1.22.4)\n",
            "\u001b[33mWARNING: Running pip as the 'root' user can result in broken permissions and conflicting behaviour with the system package manager. It is recommended to use a virtual environment instead: https://pip.pypa.io/warnings/venv\u001b[0m\u001b[33m\n",
            "\u001b[0m"
          ]
        }
      ]
    },
    {
      "cell_type": "code",
      "source": [
        "\n",
        "!pip install PyPDF2\n",
        "\n",
        "!pip install fpdf\n",
        "\n"
      ],
      "metadata": {
        "colab": {
          "base_uri": "https://localhost:8080/"
        },
        "id": "al7SbbRLMh1R",
        "outputId": "fe4a4f47-6240-45f4-9f38-51d88bd59788"
      },
      "execution_count": null,
      "outputs": [
        {
          "output_type": "stream",
          "name": "stdout",
          "text": [
            "Looking in indexes: https://pypi.org/simple, https://us-python.pkg.dev/colab-wheels/public/simple/\n",
            "Requirement already satisfied: PyPDF2 in /usr/local/lib/python3.10/dist-packages (3.0.1)\n",
            "\u001b[33mWARNING: Running pip as the 'root' user can result in broken permissions and conflicting behaviour with the system package manager. It is recommended to use a virtual environment instead: https://pip.pypa.io/warnings/venv\u001b[0m\u001b[33m\n",
            "\u001b[0mLooking in indexes: https://pypi.org/simple, https://us-python.pkg.dev/colab-wheels/public/simple/\n",
            "Requirement already satisfied: fpdf in /usr/local/lib/python3.10/dist-packages (1.7.2)\n",
            "\u001b[33mWARNING: Running pip as the 'root' user can result in broken permissions and conflicting behaviour with the system package manager. It is recommended to use a virtual environment instead: https://pip.pypa.io/warnings/venv\u001b[0m\u001b[33m\n",
            "\u001b[0m"
          ]
        }
      ]
    },
    {
      "cell_type": "code",
      "source": [
        "!pip install reportlab"
      ],
      "metadata": {
        "colab": {
          "base_uri": "https://localhost:8080/"
        },
        "id": "8XhboSniFruV",
        "outputId": "5d926cbd-c08b-4cc3-fb58-b9f8e1766ea3"
      },
      "execution_count": null,
      "outputs": [
        {
          "output_type": "stream",
          "name": "stdout",
          "text": [
            "Looking in indexes: https://pypi.org/simple, https://us-python.pkg.dev/colab-wheels/public/simple/\n",
            "Requirement already satisfied: reportlab in /usr/local/lib/python3.10/dist-packages (4.0.0)\n",
            "Requirement already satisfied: pillow>=9.0.0 in /usr/local/lib/python3.10/dist-packages (from reportlab) (9.5.0)\n",
            "Requirement already satisfied: rlPyCairo<1,>=0.2.0 in /usr/local/lib/python3.10/dist-packages (from reportlab) (0.2.0)\n",
            "Requirement already satisfied: freetype-py<2.4,>=2.3.0 in /usr/local/lib/python3.10/dist-packages (from reportlab) (2.3.0)\n",
            "Requirement already satisfied: pycairo>=1.20.0 in /usr/local/lib/python3.10/dist-packages (from rlPyCairo<1,>=0.2.0->reportlab) (1.23.0)\n",
            "\u001b[33mWARNING: Running pip as the 'root' user can result in broken permissions and conflicting behaviour with the system package manager. It is recommended to use a virtual environment instead: https://pip.pypa.io/warnings/venv\u001b[0m\u001b[33m\n",
            "\u001b[0m"
          ]
        }
      ]
    },
    {
      "cell_type": "code",
      "source": [
        "!pip install eeglib"
      ],
      "metadata": {
        "colab": {
          "base_uri": "https://localhost:8080/"
        },
        "id": "RmjvUMI2EHwf",
        "outputId": "fa652e6a-a3fb-49a9-befd-54af9497d914"
      },
      "execution_count": null,
      "outputs": [
        {
          "output_type": "stream",
          "name": "stdout",
          "text": [
            "Looking in indexes: https://pypi.org/simple, https://us-python.pkg.dev/colab-wheels/public/simple/\n",
            "Requirement already satisfied: eeglib in /usr/local/lib/python3.10/dist-packages (0.4.1)\n",
            "Requirement already satisfied: numpy in /usr/local/lib/python3.10/dist-packages (from eeglib) (1.22.4)\n",
            "Requirement already satisfied: scipy in /usr/local/lib/python3.10/dist-packages (from eeglib) (1.10.1)\n",
            "Requirement already satisfied: sklearn in /usr/local/lib/python3.10/dist-packages (from eeglib) (0.0.post4)\n",
            "Requirement already satisfied: numba in /usr/local/lib/python3.10/dist-packages (from eeglib) (0.56.4)\n",
            "Requirement already satisfied: pandas in /usr/local/lib/python3.10/dist-packages (from eeglib) (1.5.3)\n",
            "Requirement already satisfied: pyedflib in /usr/local/lib/python3.10/dist-packages (from eeglib) (0.1.32)\n",
            "Requirement already satisfied: fastdtw in /usr/local/lib/python3.10/dist-packages (from eeglib) (0.3.4)\n",
            "Requirement already satisfied: progressbar2 in /usr/local/lib/python3.10/dist-packages (from eeglib) (4.2.0)\n",
            "Requirement already satisfied: llvmlite<0.40,>=0.39.0dev0 in /usr/local/lib/python3.10/dist-packages (from numba->eeglib) (0.39.1)\n",
            "Requirement already satisfied: setuptools in /usr/local/lib/python3.10/dist-packages (from numba->eeglib) (67.7.2)\n",
            "Requirement already satisfied: python-dateutil>=2.8.1 in /usr/local/lib/python3.10/dist-packages (from pandas->eeglib) (2.8.2)\n",
            "Requirement already satisfied: pytz>=2020.1 in /usr/local/lib/python3.10/dist-packages (from pandas->eeglib) (2022.7.1)\n",
            "Requirement already satisfied: python-utils>=3.0.0 in /usr/local/lib/python3.10/dist-packages (from progressbar2->eeglib) (3.5.2)\n",
            "Requirement already satisfied: six>=1.5 in /usr/local/lib/python3.10/dist-packages (from python-dateutil>=2.8.1->pandas->eeglib) (1.16.0)\n",
            "\u001b[33mWARNING: Running pip as the 'root' user can result in broken permissions and conflicting behaviour with the system package manager. It is recommended to use a virtual environment instead: https://pip.pypa.io/warnings/venv\u001b[0m\u001b[33m\n",
            "\u001b[0m"
          ]
        }
      ]
    },
    {
      "cell_type": "code",
      "source": [
        "%%writefile app1.py\n",
        "\n",
        "from __future__ import print_function\n",
        "import pandas as pd\n",
        "import eeglib\n",
        "from eeglib.helpers import EDFHelper\n",
        "import mne\n",
        "from collections import Counter\n",
        "import statistics\n",
        "import streamlit as st\n",
        "import numpy as np\n",
        "import pandas as pd\n",
        "from sklearn.model_selection import train_test_split\n",
        "from sklearn import svm\n",
        "from sklearn.metrics import accuracy_score\n",
        "import os\n",
        "from reportlab.pdfgen import canvas\n",
        "from reportlab.lib.pagesizes import letter\n",
        "import time\n",
        "import random\n",
        "import glob\n",
        "import librosa\n",
        "import numpy as np\n",
        "import librosa.display\n",
        "import tensorflow as tf\n",
        "from tensorflow.keras.optimizers import Adam\n",
        "import matplotlib.pyplot as plt\n",
        "import numpy as np\n",
        "from numpy import loadtxt\n",
        "import seaborn as sn\n",
        "import pandas as pd\n",
        "import keras\n",
        "from keras.models import Sequential\n",
        "from keras.wrappers.scikit_learn import KerasClassifier\n",
        "from keras.utils import np_utils\n",
        "from sklearn.model_selection import cross_val_score\n",
        "from sklearn.model_selection import KFold\n",
        "from sklearn.preprocessing import LabelEncoder\n",
        "from sklearn.pipeline import Pipeline\n",
        "from sklearn.model_selection import train_test_split\n",
        "from tensorflow.keras.callbacks import  ModelCheckpoint\n",
        "from tensorflow.keras.models import Model, load_model\n",
        "from keras.layers.core import Dense, Activation\n",
        "from keras.layers.core import Dropout\n",
        "from keras.layers import BatchNormalization\n",
        "from keras.layers import Dropout\n",
        "\n",
        "\n",
        "epilepsy_data = pd.read_csv('/content/original_epilepsy_types_new.csv')\n",
        "epilepsy_data =epilepsy_data.drop(['Unnamed: 0'],axis=1)\n",
        "x=epilepsy_data[['PFD0', 'PFD1', 'PFD2', 'PFD3', 'PFD4', 'PFD5', 'PFD6', 'PFD7', 'PFD8',\n",
        "       'PFD9', 'PFD10', 'PFD11', 'PFD12', 'PFD13', 'PFD14', 'PFD15', 'PFD16',\n",
        "       'PFD17', 'PFD18', 'PFD19', 'PFD20', 'PFD21', 'PFD22', 'DTW',\n",
        "       'hjorthActivity0', 'hjorthActivity1', 'hjorthActivity2',\n",
        "       'hjorthActivity3', 'hjorthActivity4', 'hjorthActivity5',\n",
        "       'hjorthActivity6', 'hjorthActivity7', 'hjorthActivity8',\n",
        "       'hjorthActivity9', 'hjorthActivity10', 'hjorthActivity11',\n",
        "       'hjorthActivity12', 'hjorthActivity13', 'hjorthActivity14',\n",
        "       'hjorthActivity15', 'hjorthActivity16', 'hjorthActivity17',\n",
        "       'hjorthActivity18', 'hjorthActivity19', 'hjorthActivity20',\n",
        "       'hjorthActivity21', 'hjorthActivity22']]\n",
        "y = epilepsy_data['Label']\n",
        "from sklearn.model_selection import train_test_split\n",
        "x_train, x_test, y_train, y_test = train_test_split(x, y, test_size = 0.2, random_state = 42)\n",
        "from sklearn.ensemble import RandomForestClassifier \n",
        "model = RandomForestClassifier() \n",
        "model.fit(x_train, y_train)\n",
        "#pickle_in = open('/content/classifier (3).pkl', 'rb') \n",
        "#classifier = pickle.load(pickle_in)\n",
        " \n",
        "st.cache_data()\n",
        "\n",
        "def generate_pdf_report(variables):\n",
        "    # Create a new PDF file\n",
        "    pdf_file = canvas.Canvas(\"Report.pdf\", pagesize=letter)\n",
        "\n",
        "    # Set the title of the report\n",
        "    report_title = \"Report\"\n",
        "\n",
        "    # Add the report title to the PDF file\n",
        "    pdf_file.setFont(\"Helvetica-Bold\", 16)\n",
        "    pdf_file.drawCentredString(300, 750, report_title)\n",
        "    pdf_file.line(30, 740, 550, 740)\n",
        "\n",
        "    # Add the variables to the PDF file\n",
        "    pdf_file.setFont(\"Helvetica\", 12)\n",
        "    y = 700\n",
        "    for name, value in variables.items():\n",
        "        pdf_file.drawString(50, y, f\"{name}: {value}\")\n",
        "        y -= 20\n",
        "\n",
        "    # Save the PDF file\n",
        "    pdf_file.save()\n",
        "    return os.path.abspath(\"Report.pdf\") \n",
        "\n",
        "# defining the function which will make the prediction using the data which the user inputs \n",
        "def prediction(dataframe):   \n",
        " \n",
        "    # Making predictions \n",
        "\n",
        "    prediction = model.predict(dataframe)\n",
        "    \n",
        "    prediction2 = statistics.mode(prediction)\n",
        "   \n",
        "     \n",
        "    if (prediction2 == 0):\n",
        "        pred = 'Dis1 Generalised Epilepsy'\n",
        "    elif (prediction2 == 1):\n",
        "        pred = 'Dis3 Generalised Epilepsy'\n",
        "    elif (prediction2 == 2):\n",
        "        pred = 'Delta Generalised Epilepsy'\n",
        "    elif (prediction2 == 3):\n",
        "        pred = 'Single burst Generalised Epilepsy'\n",
        "    elif (prediction2 == 4):\n",
        "        pred = 'Temporal Epilepsy'\n",
        "    elif (prediction2 == 5):\n",
        "        pred = 'Frontocentral Epilepsy'\n",
        "    else:\n",
        "        pred = 'Frontopolar Epilepsy'\n",
        "    return pred\n",
        "      \n",
        "\n",
        "\n",
        "# this is the main function in which we define our webpage  \n",
        "def main():       \n",
        "    # front end elements of the web page \n",
        "    html_temp = \"\"\" \n",
        "    <div style =\"background-color:yellow;padding:13px\"> \n",
        "    <h1 style =\"color:black;text-align:center;\">Streamlit Epilepsy Prediction App</h1> \n",
        "    </div> \n",
        "    \"\"\"\n",
        "      \n",
        "    # display the front end aspect\n",
        "    st.markdown(html_temp, unsafe_allow_html = True) \n",
        "      \n",
        "    # following lines create boxes in which user can enter data required to make prediction \n",
        "    Patient_id =st.text_input(\"Enter your Patient Id\")\n",
        "    gender = st.selectbox(\"Enter your gender\",[\"Male\", \"Female\"])\n",
        "    col1, col2, col3 = st.columns(3)\n",
        "    age = col2.number_input(\"Enter your age\")\n",
        "    stroke = col1.selectbox(\"Have you ever experienced a seizure?\",[\"Yes\",\"No\"])\n",
        "    uploaded_file = st.file_uploader(\"Upload the eeg (EDF)\")\n",
        "    if uploaded_file is not None :\n",
        "        with open(os.path.join(\"/content/uploaded_file\",\"patient.edf\"),\"wb\") as f: \n",
        "              f.write(uploaded_file.getbuffer())       \n",
        "\n",
        "        #dataframe = mne.io.read_raw_edf(uploaded_file)\n",
        "        \n",
        "    # when 'Predict' is clicked, make the prediction and store it \n",
        "    if st.button(\"Predict\"):\n",
        "        st.write(\"Processing Please Wait\") \n",
        "        s1= mne.io.read_raw_edf('/content/uploaded_file/patient.edf',include=['C3',\n",
        "        'C4',\n",
        "        'Cz',\n",
        "        'F3',\n",
        "        'F4',\n",
        "        'F7',\n",
        "        'F8',\n",
        "        'Fz',\n",
        "        'Fp1',\n",
        "        'Fp2',\n",
        "        'A1',\n",
        "        'A2',\n",
        "        'O1',\n",
        "        'O2',\n",
        "        'P3',\n",
        "        'P4',\n",
        "        'T5',\n",
        "        'T6',\n",
        "        'Pz',\n",
        "        'T3',\n",
        "        'T4',\n",
        "        'ECG-LA',\n",
        "        'ECG-RA'])\n",
        "        s2 = mne.export.export_raw('/content/patient1.edf',s1,overwrite=True)\n",
        "        helper= EDFHelper(\"/content/patient1.edf\",lowpass=70, highpass=1, normalize=True, ICA=True,windowSize = 20)\n",
        "        wrapper=eeglib.wrapper.Wrapper(helper)\n",
        "        wrapper.addFeature.PFD()\n",
        "        wrapper.addFeature.DTW((0,1))\n",
        "        wrapper.addFeature.hjorthActivity()\n",
        "        data=wrapper.getAllFeatures()\n",
        "        data.to_csv('patient.csv')\n",
        "        dataframe1 = pd.read_csv('patient.csv')\n",
        "        dataframe1 = dataframe1.drop(dataframe1.columns[0],axis=1)\n",
        "        dataframe1.columns = ['PFD0', 'PFD1', 'PFD2', 'PFD3', 'PFD4', 'PFD5', 'PFD6', 'PFD7', 'PFD8',\n",
        "       'PFD9', 'PFD10', 'PFD11', 'PFD12', 'PFD13', 'PFD14', 'PFD15', 'PFD16',\n",
        "       'PFD17', 'PFD18', 'PFD19', 'PFD20', 'PFD21', 'PFD22', 'DTW',\n",
        "       'hjorthActivity0', 'hjorthActivity1', 'hjorthActivity2',\n",
        "       'hjorthActivity3', 'hjorthActivity4', 'hjorthActivity5',\n",
        "       'hjorthActivity6', 'hjorthActivity7', 'hjorthActivity8',\n",
        "       'hjorthActivity9', 'hjorthActivity10', 'hjorthActivity11',\n",
        "       'hjorthActivity12', 'hjorthActivity13', 'hjorthActivity14',\n",
        "       'hjorthActivity15', 'hjorthActivity16', 'hjorthActivity17',\n",
        "       'hjorthActivity18', 'hjorthActivity19', 'hjorthActivity20',\n",
        "       'hjorthActivity21', 'hjorthActivity22']\n",
        "        dataframe1.to_csv(\"patient_app.csv\")\n",
        "        dataframe = pd.read_csv('patient_app.csv')\n",
        "        dataframe = dataframe.drop(dataframe.columns[0],axis=1)\n",
        "        result = prediction(dataframe) \n",
        "        variables = {\"Name\": Patient_id, \"Age\": age, \"Gender\":gender, \"Have you ever experienced a seizure\":stroke, \"Result\":result} \n",
        "\n",
        "                # Display the variables in Streamlit\n",
        "                # Generate the PDF report\n",
        "        pdf_file_path = generate_pdf_report(variables)\n",
        "        with st.expander(\"Download PDF Report\"):\n",
        "                st.write(\"Click the button below to download the PDF report\")\n",
        "                st.download_button(\n",
        "                    label=\"Download Report\",\n",
        "                    data=open(pdf_file_path, \"rb\").read(),\n",
        "                    file_name=\"streamlit_variables.pdf\",\n",
        "                    mime=\"application/pdf\"\n",
        "                )\n",
        "        st.success('Patient disease is {}'.format(result))\n",
        "        print(result)\n",
        "        \n",
        "       \n",
        "\n",
        "if __name__=='__main__': \n",
        "    main()\n",
        "      "
      ],
      "metadata": {
        "colab": {
          "base_uri": "https://localhost:8080/"
        },
        "id": "DdcQlqIKzv4i",
        "outputId": "f1274b82-e7de-4134-b53b-ca9fc1cb0657"
      },
      "execution_count": null,
      "outputs": [
        {
          "output_type": "stream",
          "name": "stdout",
          "text": [
            "Overwriting app1.py\n"
          ]
        }
      ]
    },
    {
      "cell_type": "code",
      "source": [
        "!streamlit run app1.py & npx localtunnel --port 8501"
      ],
      "metadata": {
        "colab": {
          "base_uri": "https://localhost:8080/"
        },
        "id": "SNoMese_z2T4",
        "outputId": "3c114a52-fc51-4d93-b773-708bc20d64c0"
      },
      "execution_count": null,
      "outputs": [
        {
          "output_type": "stream",
          "name": "stdout",
          "text": [
            "\u001b[K\u001b[?25h\n",
            "Collecting usage statistics. To deactivate, set browser.gatherUsageStats to False.\n",
            "\u001b[0m\n",
            "npx: installed 22 in 2.217s\n",
            "\u001b[0m\n",
            "\u001b[34m\u001b[1m  You can now view your Streamlit app in your browser.\u001b[0m\n",
            "\u001b[0m\n",
            "\u001b[34m  Network URL: \u001b[0m\u001b[1mhttp://172.28.0.12:8501\u001b[0m\n",
            "\u001b[34m  External URL: \u001b[0m\u001b[1mhttp://35.245.234.224:8501\u001b[0m\n",
            "\u001b[0m\n",
            "your url is: https://smooth-icons-enter-35-245-234-224.loca.lt\n",
            "2023-05-05 16:08:43.219213: I tensorflow/core/platform/cpu_feature_guard.cc:182] This TensorFlow binary is optimized to use available CPU instructions in performance-critical operations.\n",
            "To enable the following instructions: AVX2 FMA, in other operations, rebuild TensorFlow with the appropriate compiler flags.\n",
            "2023-05-05 16:08:44.723695: W tensorflow/compiler/tf2tensorrt/utils/py_utils.cc:38] TF-TRT Warning: Could not find TensorRT\n",
            "Extracting EDF parameters from /content/uploaded_file/patient.edf...\n",
            "EDF file detected\n",
            "Setting channel info structure...\n",
            "Creating raw.info structure...\n",
            "/content/app1.py:151: RuntimeWarning: Omitted 47 annotation(s) that were outside data range.\n",
            "  s1= mne.io.read_raw_edf('/content/uploaded_file/patient.edf',include=['C3',\n",
            "Reading 0 ... 402687  =      0.000 ...  1572.996 secs...\n",
            "/usr/local/lib/python3.10/dist-packages/sklearn/decomposition/_fastica.py:542: FutureWarning: Starting in v1.3, whiten='unit-variance' will be used by default.\n",
            "  warnings.warn(\n",
            "/usr/local/lib/python3.10/dist-packages/sklearn/decomposition/_fastica.py:123: ConvergenceWarning: FastICA did not converge. Consider increasing tolerance or the maximum number of iterations.\n",
            "  warnings.warn(\n",
            "Delta Generalised Epilepsy\n",
            "Extracting EDF parameters from /content/uploaded_file/patient.edf...\n",
            "EDF file detected\n",
            "Setting channel info structure...\n",
            "Creating raw.info structure...\n",
            "/content/app1.py:151: RuntimeWarning: Omitted 47 annotation(s) that were outside data range.\n",
            "  s1= mne.io.read_raw_edf('/content/uploaded_file/patient.edf',include=['C3',\n",
            "Overwriting existing file.\n",
            "Reading 0 ... 402687  =      0.000 ...  1572.996 secs...\n",
            "/usr/local/lib/python3.10/dist-packages/sklearn/decomposition/_fastica.py:542: FutureWarning: Starting in v1.3, whiten='unit-variance' will be used by default.\n",
            "  warnings.warn(\n",
            "/usr/local/lib/python3.10/dist-packages/sklearn/decomposition/_fastica.py:123: ConvergenceWarning: FastICA did not converge. Consider increasing tolerance or the maximum number of iterations.\n",
            "  warnings.warn(\n",
            "Delta Generalised Epilepsy\n",
            "\u001b[34m  Stopping...\u001b[0m\n",
            "^C\n"
          ]
        }
      ]
    },
    {
      "cell_type": "code",
      "source": [
        "from __future__ import print_function\n",
        "import pandas as pd\n",
        "import eeglib\n",
        "from eeglib.helpers import EDFHelper\n",
        "import mne\n",
        "from collections import Counter\n",
        "import statistics\n",
        "import streamlit as st\n",
        "import numpy as np\n",
        "import pandas as pd\n",
        "from sklearn.model_selection import train_test_split\n",
        "from sklearn import svm\n",
        "from sklearn.metrics import accuracy_score\n",
        "import os\n",
        "import time\n",
        "import random\n",
        "import glob\n",
        "import librosa\n",
        "import numpy as np\n",
        "import librosa.display\n",
        "import tensorflow as tf\n",
        "from tensorflow.keras.optimizers import Adam\n",
        "import matplotlib.pyplot as plt\n",
        "import numpy as np\n",
        "from numpy import loadtxt\n",
        "import seaborn as sn\n",
        "import pandas as pd\n",
        "import keras\n",
        "import tensorflow as tf\n",
        "from tensorflow.keras import Sequential\n",
        "from tensorflow.keras.layers import Dense, Dropout\n",
        "from tensorflow.keras.layers import Embedding\n",
        "from tensorflow.keras.layers import GRU,LSTM\n",
        "from keras.models import Sequential\n",
        "from keras.wrappers.scikit_learn import KerasClassifier\n",
        "from keras.utils import np_utils\n",
        "from sklearn.model_selection import cross_val_score\n",
        "from sklearn.model_selection import KFold\n",
        "from sklearn.preprocessing import LabelEncoder\n",
        "from sklearn.pipeline import Pipeline\n",
        "from sklearn.model_selection import train_test_split\n",
        "from tensorflow.keras.callbacks import  ModelCheckpoint\n",
        "from tensorflow.keras.models import Model, load_model\n",
        "from keras.layers.core import Dense, Activation\n",
        "from keras.layers.core import Dropout\n",
        "from keras.layers import BatchNormalization\n",
        "from keras.layers import Dropout\n",
        "\n",
        "\n",
        "epilepsy_data = pd.read_csv('/content/original_epilepsy_types_new.csv')\n",
        "epilepsy_data =epilepsy_data.drop(['Unnamed: 0'],axis=1)\n",
        "x=epilepsy_data[['PFD0', 'PFD1', 'PFD2', 'PFD3', 'PFD4', 'PFD5', 'PFD6', 'PFD7', 'PFD8',\n",
        "       'PFD9', 'PFD10', 'PFD11', 'PFD12', 'PFD13', 'PFD14', 'PFD15', 'PFD16',\n",
        "       'PFD17', 'PFD18', 'PFD19', 'PFD20', 'PFD21', 'PFD22', 'DTW',\n",
        "       'hjorthActivity0', 'hjorthActivity1', 'hjorthActivity2',\n",
        "       'hjorthActivity3', 'hjorthActivity4', 'hjorthActivity5',\n",
        "       'hjorthActivity6', 'hjorthActivity7', 'hjorthActivity8',\n",
        "       'hjorthActivity9', 'hjorthActivity10', 'hjorthActivity11',\n",
        "       'hjorthActivity12', 'hjorthActivity13', 'hjorthActivity14',\n",
        "       'hjorthActivity15', 'hjorthActivity16', 'hjorthActivity17',\n",
        "       'hjorthActivity18', 'hjorthActivity19', 'hjorthActivity20',\n",
        "       'hjorthActivity21', 'hjorthActivity22']]\n",
        "y = epilepsy_data['Label']\n",
        "from sklearn.model_selection import train_test_split\n",
        "x_train, x_test, y_train, y_test = train_test_split(x, y, test_size = 0.2, random_state = 42)\n",
        "from sklearn.ensemble import RandomForestClassifier \n",
        "model = RandomForestClassifier() \n",
        "model.fit(x_train, y_train)\n",
        "\n",
        "def prediction(dataframe):  \n",
        "  prediction = model.predict(dataframe)\n",
        "  print(prediction)\n",
        "  prediction2 = statistics.mode(prediction)\n",
        "    \n",
        "      \n",
        "  if (prediction2 == 0):\n",
        "      pred = 'Dis1 Generalised Epilepsy'\n",
        "  elif (prediction2 == 1):\n",
        "      pred = 'Dis3 Generalised Epilepsy'\n",
        "  elif (prediction2 == 2):\n",
        "      pred = 'Delta Generalised Epilepsy'\n",
        "  elif (prediction2 == 3):\n",
        "      pred = 'Single burst Generalised Epilepsy'\n",
        "  elif (prediction2 == 4):\n",
        "      pred = 'Temporal Epilepsy'\n",
        "  elif (prediction2 == 5):\n",
        "      pred = 'Frontocentral Epilepsy'\n",
        "  else:\n",
        "      pred = 'Frontopolar Epilepsy'\n",
        "  return pred\n",
        "\n",
        "dataframe = pd.read_csv('/content/ABDULSALMAN_new.csv')\n",
        "dataframe = dataframe.drop(dataframe.columns[0],axis=1)\n",
        "\n",
        "\n",
        "# Read CSV file\n",
        "\n",
        "# num_rows and num_cols are the dimensions of each 2D slice of the data\n",
        "# -1 in the reshape function means that the size of this dimension will be inferred from the input data\n",
        "\n",
        "# Print the shape of the original and reshaped data\n",
        "\n",
        "result = prediction(dataframe)\n",
        "print(result)\n"
      ],
      "metadata": {
        "colab": {
          "base_uri": "https://localhost:8080/"
        },
        "id": "THGLRBaaUHVk",
        "outputId": "6b79e103-d8a2-4e9d-bdb4-d264d5e10997"
      },
      "execution_count": null,
      "outputs": [
        {
          "output_type": "stream",
          "name": "stdout",
          "text": [
            "[5 5 5 ... 5 5 5]\n",
            "Frontocentral Epilepsy\n"
          ]
        }
      ]
    },
    {
      "cell_type": "code",
      "source": [
        "def generate_pdf_report(variables):\n",
        "    # Create a new PDF file\n",
        "    pdf_file = canvas.Canvas(\"Report.pdf\", pagesize=letter)\n",
        "\n",
        "    # Set the title of the report\n",
        "    report_title = \"Report\"\n",
        "\n",
        "    # Add the report title to the PDF file\n",
        "    pdf_file.setFont(\"Helvetica-Bold\", 16)\n",
        "    pdf_file.drawCentredString(300, 750, report_title)\n",
        "    pdf_file.line(30, 740, 550, 740)\n",
        "\n",
        "    # Add the variables to the PDF file\n",
        "    pdf_file.setFont(\"Helvetica\", 12)\n",
        "    y = 700\n",
        "    for name, value in variables.items():\n",
        "        pdf_file.drawString(50, y, f\"{name}: {value}\")\n",
        "        y -= 20\n",
        "\n",
        "    # Save the PDF file\n",
        "    pdf_file.save()\n",
        "    return os.path.abspath(\"Report.pdf\") "
      ],
      "metadata": {
        "id": "CQdVQ0gaz4xA"
      },
      "execution_count": null,
      "outputs": []
    },
    {
      "cell_type": "code",
      "source": [
        " variables = {\"Name\": Patient_id, \"Age\": age, \"Gender\":gender, \"Have you ever experienced a seizure\":stroke, \"Result\":result} \n",
        "\n",
        "                # Display the variables in Streamlit\n",
        "        st.write(\"Name:\", Patient_id)\n",
        "        st.write(\"Age:\", age)\n",
        "        st.write(\"Gender:\", gender)\n",
        "        st.write(\"Have you ever experienced a seizure:\", stroke)\n",
        "        st.write(\"Result:\", result)\n",
        "\n",
        "                # Generate the PDF report\n",
        "        pdf_file_path = generate_pdf_report(variables)\n",
        "        with st.beta_expander(\"Download PDF Report\"):\n",
        "                st.write(\"Click the button below to download the PDF report\")\n",
        "                st.download_button(\n",
        "                    label=\"Download Report\",\n",
        "                    data=open(pdf_file_path, \"rb\").read(),\n",
        "                    file_name=\"streamlit_variables.pdf\",\n",
        "                    mime=\"application/pdf\"\n",
        "                )"
      ],
      "metadata": {
        "id": "6BKuRBp_0kDR"
      },
      "execution_count": null,
      "outputs": []
    },
    {
      "cell_type": "code",
      "source": [
        "\n",
        "!apt-get update && apt-get install -y libffi-dev libcairo2-dev\n"
      ],
      "metadata": {
        "colab": {
          "base_uri": "https://localhost:8080/"
        },
        "id": "_ShGT-4ig9-8",
        "outputId": "30283a66-26ec-42ac-e55e-e9a6177a2260"
      },
      "execution_count": null,
      "outputs": [
        {
          "output_type": "stream",
          "name": "stdout",
          "text": [
            "Looking in indexes: https://pypi.org/simple, https://us-python.pkg.dev/colab-wheels/public/simple/\n",
            "Requirement already satisfied: pip in /usr/local/lib/python3.10/dist-packages (23.1.2)\n",
            "\u001b[33mWARNING: Running pip as the 'root' user can result in broken permissions and conflicting behaviour with the system package manager. It is recommended to use a virtual environment instead: https://pip.pypa.io/warnings/venv\u001b[0m\u001b[33m\n",
            "Hit:1 http://archive.ubuntu.com/ubuntu focal InRelease\n",
            "Get:2 http://archive.ubuntu.com/ubuntu focal-updates InRelease [114 kB]\n",
            "Get:3 https://cloud.r-project.org/bin/linux/ubuntu focal-cran40/ InRelease [3,622 B]\n",
            "Get:4 https://developer.download.nvidia.com/compute/cuda/repos/ubuntu2004/x86_64  InRelease [1,581 B]\n",
            "Get:5 http://archive.ubuntu.com/ubuntu focal-backports InRelease [108 kB]\n",
            "Get:6 http://security.ubuntu.com/ubuntu focal-security InRelease [114 kB]\n",
            "Hit:7 http://ppa.launchpad.net/c2d4u.team/c2d4u4.0+/ubuntu focal InRelease\n",
            "Hit:8 http://ppa.launchpad.net/cran/libgit2/ubuntu focal InRelease\n",
            "Get:9 http://archive.ubuntu.com/ubuntu focal-updates/main amd64 Packages [3,150 kB]\n",
            "Hit:10 http://ppa.launchpad.net/deadsnakes/ppa/ubuntu focal InRelease\n",
            "Hit:11 http://ppa.launchpad.net/graphics-drivers/ppa/ubuntu focal InRelease\n",
            "Get:12 https://developer.download.nvidia.com/compute/cuda/repos/ubuntu2004/x86_64  Packages [1,008 kB]\n",
            "Hit:13 http://ppa.launchpad.net/ubuntugis/ppa/ubuntu focal InRelease\n",
            "Get:14 http://security.ubuntu.com/ubuntu focal-security/main amd64 Packages [2,669 kB]\n",
            "Fetched 7,168 kB in 2s (3,812 kB/s)\n",
            "Reading package lists... Done\n",
            "Reading package lists... Done\n",
            "Building dependency tree       \n",
            "Reading state information... Done\n",
            "The following additional packages will be installed:\n",
            "  libblkid-dev libcairo-script-interpreter2 libglib2.0-dev libglib2.0-dev-bin\n",
            "  liblzo2-2 libmount-dev libpixman-1-dev libselinux1-dev libsepol1-dev\n",
            "  libxcb-render0-dev libxcb-shm0-dev\n",
            "Suggested packages:\n",
            "  libcairo2-doc libgirepository1.0-dev libglib2.0-doc libgdk-pixbuf2.0-bin\n",
            "  | libgdk-pixbuf2.0-dev libxml2-utils\n",
            "The following NEW packages will be installed:\n",
            "  libblkid-dev libcairo-script-interpreter2 libcairo2-dev libffi-dev\n",
            "  libglib2.0-dev libglib2.0-dev-bin liblzo2-2 libmount-dev libpixman-1-dev\n",
            "  libselinux1-dev libsepol1-dev libxcb-render0-dev libxcb-shm0-dev\n",
            "0 upgraded, 13 newly installed, 0 to remove and 25 not upgraded.\n",
            "Need to get 3,492 kB of archives.\n",
            "After this operation, 20.0 MB of additional disk space will be used.\n",
            "Get:1 http://archive.ubuntu.com/ubuntu focal/main amd64 liblzo2-2 amd64 2.10-2 [50.8 kB]\n",
            "Get:2 http://archive.ubuntu.com/ubuntu focal/main amd64 libcairo-script-interpreter2 amd64 1.16.0-4ubuntu1 [54.2 kB]\n",
            "Get:3 http://archive.ubuntu.com/ubuntu focal-updates/main amd64 libpixman-1-dev amd64 0.38.4-0ubuntu2.1 [243 kB]\n",
            "Get:4 http://archive.ubuntu.com/ubuntu focal/main amd64 libxcb-render0-dev amd64 1.14-2 [18.4 kB]\n",
            "Get:5 http://archive.ubuntu.com/ubuntu focal/main amd64 libxcb-shm0-dev amd64 1.14-2 [6,716 B]\n",
            "Get:6 http://archive.ubuntu.com/ubuntu focal/main amd64 libffi-dev amd64 3.3-4 [57.0 kB]\n",
            "Get:7 http://archive.ubuntu.com/ubuntu focal-updates/main amd64 libglib2.0-dev-bin amd64 2.64.6-1~ubuntu20.04.4 [109 kB]\n",
            "Get:8 http://archive.ubuntu.com/ubuntu focal-updates/main amd64 libblkid-dev amd64 2.34-0.1ubuntu9.3 [167 kB]\n",
            "Get:9 http://archive.ubuntu.com/ubuntu focal-updates/main amd64 libmount-dev amd64 2.34-0.1ubuntu9.3 [176 kB]\n",
            "Get:10 http://archive.ubuntu.com/ubuntu focal-updates/main amd64 libsepol1-dev amd64 3.0-1ubuntu0.1 [325 kB]\n",
            "Get:11 http://archive.ubuntu.com/ubuntu focal/main amd64 libselinux1-dev amd64 3.0-1build2 [151 kB]\n",
            "Get:12 http://archive.ubuntu.com/ubuntu focal-updates/main amd64 libglib2.0-dev amd64 2.64.6-1~ubuntu20.04.4 [1,506 kB]\n",
            "Get:13 http://archive.ubuntu.com/ubuntu focal/main amd64 libcairo2-dev amd64 1.16.0-4ubuntu1 [627 kB]\n",
            "Fetched 3,492 kB in 0s (12.2 MB/s)\n",
            "Selecting previously unselected package liblzo2-2:amd64.\n",
            "(Reading database ... 122518 files and directories currently installed.)\n",
            "Preparing to unpack .../00-liblzo2-2_2.10-2_amd64.deb ...\n",
            "Unpacking liblzo2-2:amd64 (2.10-2) ...\n",
            "Selecting previously unselected package libcairo-script-interpreter2:amd64.\n",
            "Preparing to unpack .../01-libcairo-script-interpreter2_1.16.0-4ubuntu1_amd64.deb ...\n",
            "Unpacking libcairo-script-interpreter2:amd64 (1.16.0-4ubuntu1) ...\n",
            "Selecting previously unselected package libpixman-1-dev:amd64.\n",
            "Preparing to unpack .../02-libpixman-1-dev_0.38.4-0ubuntu2.1_amd64.deb ...\n",
            "Unpacking libpixman-1-dev:amd64 (0.38.4-0ubuntu2.1) ...\n",
            "Selecting previously unselected package libxcb-render0-dev:amd64.\n",
            "Preparing to unpack .../03-libxcb-render0-dev_1.14-2_amd64.deb ...\n",
            "Unpacking libxcb-render0-dev:amd64 (1.14-2) ...\n",
            "Selecting previously unselected package libxcb-shm0-dev:amd64.\n",
            "Preparing to unpack .../04-libxcb-shm0-dev_1.14-2_amd64.deb ...\n",
            "Unpacking libxcb-shm0-dev:amd64 (1.14-2) ...\n",
            "Selecting previously unselected package libffi-dev:amd64.\n",
            "Preparing to unpack .../05-libffi-dev_3.3-4_amd64.deb ...\n",
            "Unpacking libffi-dev:amd64 (3.3-4) ...\n",
            "Selecting previously unselected package libglib2.0-dev-bin.\n",
            "Preparing to unpack .../06-libglib2.0-dev-bin_2.64.6-1~ubuntu20.04.4_amd64.deb ...\n",
            "Unpacking libglib2.0-dev-bin (2.64.6-1~ubuntu20.04.4) ...\n",
            "Selecting previously unselected package libblkid-dev:amd64.\n",
            "Preparing to unpack .../07-libblkid-dev_2.34-0.1ubuntu9.3_amd64.deb ...\n",
            "Unpacking libblkid-dev:amd64 (2.34-0.1ubuntu9.3) ...\n",
            "Selecting previously unselected package libmount-dev:amd64.\n",
            "Preparing to unpack .../08-libmount-dev_2.34-0.1ubuntu9.3_amd64.deb ...\n",
            "Unpacking libmount-dev:amd64 (2.34-0.1ubuntu9.3) ...\n",
            "Selecting previously unselected package libsepol1-dev:amd64.\n",
            "Preparing to unpack .../09-libsepol1-dev_3.0-1ubuntu0.1_amd64.deb ...\n",
            "Unpacking libsepol1-dev:amd64 (3.0-1ubuntu0.1) ...\n",
            "Selecting previously unselected package libselinux1-dev:amd64.\n",
            "Preparing to unpack .../10-libselinux1-dev_3.0-1build2_amd64.deb ...\n",
            "Unpacking libselinux1-dev:amd64 (3.0-1build2) ...\n",
            "Selecting previously unselected package libglib2.0-dev:amd64.\n",
            "Preparing to unpack .../11-libglib2.0-dev_2.64.6-1~ubuntu20.04.4_amd64.deb ...\n",
            "Unpacking libglib2.0-dev:amd64 (2.64.6-1~ubuntu20.04.4) ...\n",
            "Selecting previously unselected package libcairo2-dev:amd64.\n",
            "Preparing to unpack .../12-libcairo2-dev_1.16.0-4ubuntu1_amd64.deb ...\n",
            "Unpacking libcairo2-dev:amd64 (1.16.0-4ubuntu1) ...\n",
            "Setting up libglib2.0-dev-bin (2.64.6-1~ubuntu20.04.4) ...\n",
            "Setting up libblkid-dev:amd64 (2.34-0.1ubuntu9.3) ...\n",
            "Setting up libpixman-1-dev:amd64 (0.38.4-0ubuntu2.1) ...\n",
            "Setting up libsepol1-dev:amd64 (3.0-1ubuntu0.1) ...\n",
            "Setting up liblzo2-2:amd64 (2.10-2) ...\n",
            "Setting up libffi-dev:amd64 (3.3-4) ...\n",
            "Setting up libxcb-shm0-dev:amd64 (1.14-2) ...\n",
            "Setting up libxcb-render0-dev:amd64 (1.14-2) ...\n",
            "Setting up libmount-dev:amd64 (2.34-0.1ubuntu9.3) ...\n",
            "Setting up libcairo-script-interpreter2:amd64 (1.16.0-4ubuntu1) ...\n",
            "Setting up libselinux1-dev:amd64 (3.0-1build2) ...\n",
            "Setting up libglib2.0-dev:amd64 (2.64.6-1~ubuntu20.04.4) ...\n",
            "Processing triggers for libglib2.0-0:amd64 (2.64.6-1~ubuntu20.04.4) ...\n",
            "Processing triggers for libc-bin (2.31-0ubuntu9.9) ...\n",
            "Processing triggers for man-db (2.9.1-1) ...\n",
            "Setting up libcairo2-dev:amd64 (1.16.0-4ubuntu1) ...\n"
          ]
        }
      ]
    },
    {
      "cell_type": "code",
      "source": [
        "!pip install reportlab"
      ],
      "metadata": {
        "colab": {
          "base_uri": "https://localhost:8080/",
          "height": 592
        },
        "id": "J0iqUxLAhbRh",
        "outputId": "78230373-5cf2-4665-a90c-f5c3edc9e12c"
      },
      "execution_count": null,
      "outputs": [
        {
          "output_type": "stream",
          "name": "stdout",
          "text": [
            "Looking in indexes: https://pypi.org/simple, https://us-python.pkg.dev/colab-wheels/public/simple/\n",
            "Collecting reportlab\n",
            "  Using cached reportlab-4.0.0-py3-none-any.whl (1.9 MB)\n",
            "Collecting pillow>=9.0.0 (from reportlab)\n",
            "  Using cached Pillow-9.5.0-cp310-cp310-manylinux_2_28_x86_64.whl (3.4 MB)\n",
            "Collecting rlPyCairo<1,>=0.2.0 (from reportlab)\n",
            "  Using cached rlPyCairo-0.2.0-py3-none-any.whl (10 kB)\n",
            "Collecting freetype-py<2.4,>=2.3.0 (from reportlab)\n",
            "  Using cached freetype_py-2.3.0-py3-none-manylinux_2_5_x86_64.manylinux1_x86_64.manylinux_2_12_x86_64.manylinux2010_x86_64.whl (978 kB)\n",
            "Collecting pycairo>=1.20.0 (from rlPyCairo<1,>=0.2.0->reportlab)\n",
            "  Using cached pycairo-1.23.0.tar.gz (344 kB)\n",
            "  Installing build dependencies ... \u001b[?25l\u001b[?25hdone\n",
            "  Getting requirements to build wheel ... \u001b[?25l\u001b[?25hdone\n",
            "  Installing backend dependencies ... \u001b[?25l\u001b[?25hdone\n",
            "  Preparing metadata (pyproject.toml) ... \u001b[?25l\u001b[?25hdone\n",
            "Building wheels for collected packages: pycairo\n",
            "  Building wheel for pycairo (pyproject.toml) ... \u001b[?25l\u001b[?25hdone\n",
            "  Created wheel for pycairo: filename=pycairo-1.23.0-cp310-cp310-linux_x86_64.whl size=331663 sha256=a7569b920ff5fd97569e731084cf94563f0a335caebe1404038e416036f8765c\n",
            "  Stored in directory: /root/.cache/pip/wheels/6d/63/63/4341460df2dca6490f16a23996298f277a3441f0b08bebe69b\n",
            "Successfully built pycairo\n",
            "Installing collected packages: pycairo, pillow, freetype-py, rlPyCairo, reportlab\n",
            "  Attempting uninstall: pillow\n",
            "    Found existing installation: Pillow 8.4.0\n",
            "    Uninstalling Pillow-8.4.0:\n",
            "      Successfully uninstalled Pillow-8.4.0\n",
            "Successfully installed freetype-py-2.3.0 pillow-9.5.0 pycairo-1.23.0 reportlab-4.0.0 rlPyCairo-0.2.0\n",
            "\u001b[33mWARNING: Running pip as the 'root' user can result in broken permissions and conflicting behaviour with the system package manager. It is recommended to use a virtual environment instead: https://pip.pypa.io/warnings/venv\u001b[0m\u001b[33m\n",
            "\u001b[0m"
          ]
        },
        {
          "output_type": "display_data",
          "data": {
            "application/vnd.colab-display-data+json": {
              "pip_warning": {
                "packages": [
                  "PIL"
                ]
              }
            }
          },
          "metadata": {}
        }
      ]
    }
  ]
}