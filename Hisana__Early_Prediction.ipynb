{
  "nbformat": 4,
  "nbformat_minor": 0,
  "metadata": {
    "colab": {
      "provenance": [],
      "include_colab_link": true
    },
    "kernelspec": {
      "name": "python3",
      "display_name": "Python 3"
    },
    "language_info": {
      "name": "python"
    }
  },
  "cells": [
    {
      "cell_type": "markdown",
      "metadata": {
        "id": "view-in-github",
        "colab_type": "text"
      },
      "source": [
        "<a href=\"https://colab.research.google.com/github/mariatomy9/Major-Project/blob/hisana/Hisana__Early_Prediction.ipynb\" target=\"_parent\"><img src=\"https://colab.research.google.com/assets/colab-badge.svg\" alt=\"Open In Colab\"/></a>"
      ]
    },
    {
      "cell_type": "code",
      "execution_count": null,
      "metadata": {
        "id": "3Z5e3hXtGRfK",
        "colab": {
          "base_uri": "https://localhost:8080/"
        },
        "outputId": "b0704be0-5599-412d-acfc-051105da3ca1"
      },
      "outputs": [
        {
          "output_type": "stream",
          "name": "stdout",
          "text": [
            "Looking in indexes: https://pypi.org/simple, https://us-python.pkg.dev/colab-wheels/public/simple/\n",
            "Requirement already satisfied: scikit-learn in /usr/local/lib/python3.10/dist-packages (1.2.2)\n",
            "Requirement already satisfied: threadpoolctl>=2.0.0 in /usr/local/lib/python3.10/dist-packages (from scikit-learn) (3.1.0)\n",
            "Requirement already satisfied: joblib>=1.1.1 in /usr/local/lib/python3.10/dist-packages (from scikit-learn) (1.2.0)\n",
            "Requirement already satisfied: scipy>=1.3.2 in /usr/local/lib/python3.10/dist-packages (from scikit-learn) (1.10.1)\n",
            "Requirement already satisfied: numpy>=1.17.3 in /usr/local/lib/python3.10/dist-packages (from scikit-learn) (1.22.4)\n",
            "Looking in indexes: https://pypi.org/simple, https://us-python.pkg.dev/colab-wheels/public/simple/\n",
            "Requirement already satisfied: eeglib in /usr/local/lib/python3.10/dist-packages (0.4.1)\n",
            "Requirement already satisfied: pandas in /usr/local/lib/python3.10/dist-packages (from eeglib) (1.5.3)\n",
            "Requirement already satisfied: numpy in /usr/local/lib/python3.10/dist-packages (from eeglib) (1.22.4)\n",
            "Requirement already satisfied: fastdtw in /usr/local/lib/python3.10/dist-packages (from eeglib) (0.3.4)\n",
            "Requirement already satisfied: sklearn in /usr/local/lib/python3.10/dist-packages (from eeglib) (0.0.post4)\n",
            "Requirement already satisfied: pyedflib in /usr/local/lib/python3.10/dist-packages (from eeglib) (0.1.32)\n",
            "Requirement already satisfied: numba in /usr/local/lib/python3.10/dist-packages (from eeglib) (0.56.4)\n",
            "Requirement already satisfied: scipy in /usr/local/lib/python3.10/dist-packages (from eeglib) (1.10.1)\n",
            "Requirement already satisfied: progressbar2 in /usr/local/lib/python3.10/dist-packages (from eeglib) (4.2.0)\n",
            "Requirement already satisfied: setuptools in /usr/local/lib/python3.10/dist-packages (from numba->eeglib) (67.7.2)\n",
            "Requirement already satisfied: llvmlite<0.40,>=0.39.0dev0 in /usr/local/lib/python3.10/dist-packages (from numba->eeglib) (0.39.1)\n",
            "Requirement already satisfied: python-dateutil>=2.8.1 in /usr/local/lib/python3.10/dist-packages (from pandas->eeglib) (2.8.2)\n",
            "Requirement already satisfied: pytz>=2020.1 in /usr/local/lib/python3.10/dist-packages (from pandas->eeglib) (2022.7.1)\n",
            "Requirement already satisfied: python-utils>=3.0.0 in /usr/local/lib/python3.10/dist-packages (from progressbar2->eeglib) (3.5.2)\n",
            "Requirement already satisfied: six>=1.5 in /usr/local/lib/python3.10/dist-packages (from python-dateutil>=2.8.1->pandas->eeglib) (1.16.0)\n",
            "Looking in indexes: https://pypi.org/simple, https://us-python.pkg.dev/colab-wheels/public/simple/\n",
            "Requirement already satisfied: mne in /usr/local/lib/python3.10/dist-packages (1.3.1)\n",
            "Requirement already satisfied: pooch>=1.5 in /usr/local/lib/python3.10/dist-packages (from mne) (1.6.0)\n",
            "Requirement already satisfied: scipy>=1.1.0 in /usr/local/lib/python3.10/dist-packages (from mne) (1.10.1)\n",
            "Requirement already satisfied: packaging in /usr/local/lib/python3.10/dist-packages (from mne) (23.1)\n",
            "Requirement already satisfied: numpy>=1.15.4 in /usr/local/lib/python3.10/dist-packages (from mne) (1.22.4)\n",
            "Requirement already satisfied: matplotlib in /usr/local/lib/python3.10/dist-packages (from mne) (3.7.1)\n",
            "Requirement already satisfied: jinja2 in /usr/local/lib/python3.10/dist-packages (from mne) (3.1.2)\n",
            "Requirement already satisfied: tqdm in /usr/local/lib/python3.10/dist-packages (from mne) (4.65.0)\n",
            "Requirement already satisfied: decorator in /usr/local/lib/python3.10/dist-packages (from mne) (4.4.2)\n",
            "Requirement already satisfied: requests>=2.19.0 in /usr/local/lib/python3.10/dist-packages (from pooch>=1.5->mne) (2.27.1)\n",
            "Requirement already satisfied: appdirs>=1.3.0 in /usr/local/lib/python3.10/dist-packages (from pooch>=1.5->mne) (1.4.4)\n",
            "Requirement already satisfied: MarkupSafe>=2.0 in /usr/local/lib/python3.10/dist-packages (from jinja2->mne) (2.1.2)\n",
            "Requirement already satisfied: contourpy>=1.0.1 in /usr/local/lib/python3.10/dist-packages (from matplotlib->mne) (1.0.7)\n",
            "Requirement already satisfied: cycler>=0.10 in /usr/local/lib/python3.10/dist-packages (from matplotlib->mne) (0.11.0)\n",
            "Requirement already satisfied: kiwisolver>=1.0.1 in /usr/local/lib/python3.10/dist-packages (from matplotlib->mne) (1.4.4)\n",
            "Requirement already satisfied: pyparsing>=2.3.1 in /usr/local/lib/python3.10/dist-packages (from matplotlib->mne) (3.0.9)\n",
            "Requirement already satisfied: pillow>=6.2.0 in /usr/local/lib/python3.10/dist-packages (from matplotlib->mne) (8.4.0)\n",
            "Requirement already satisfied: python-dateutil>=2.7 in /usr/local/lib/python3.10/dist-packages (from matplotlib->mne) (2.8.2)\n",
            "Requirement already satisfied: fonttools>=4.22.0 in /usr/local/lib/python3.10/dist-packages (from matplotlib->mne) (4.39.3)\n",
            "Requirement already satisfied: six>=1.5 in /usr/local/lib/python3.10/dist-packages (from python-dateutil>=2.7->matplotlib->mne) (1.16.0)\n",
            "Requirement already satisfied: urllib3<1.27,>=1.21.1 in /usr/local/lib/python3.10/dist-packages (from requests>=2.19.0->pooch>=1.5->mne) (1.26.15)\n",
            "Requirement already satisfied: certifi>=2017.4.17 in /usr/local/lib/python3.10/dist-packages (from requests>=2.19.0->pooch>=1.5->mne) (2022.12.7)\n",
            "Requirement already satisfied: charset-normalizer~=2.0.0 in /usr/local/lib/python3.10/dist-packages (from requests>=2.19.0->pooch>=1.5->mne) (2.0.12)\n",
            "Requirement already satisfied: idna<4,>=2.5 in /usr/local/lib/python3.10/dist-packages (from requests>=2.19.0->pooch>=1.5->mne) (3.4)\n",
            "Looking in indexes: https://pypi.org/simple, https://us-python.pkg.dev/colab-wheels/public/simple/\n",
            "Requirement already satisfied: pyEDFlib in /usr/local/lib/python3.10/dist-packages (0.1.32)\n",
            "Requirement already satisfied: numpy>=1.9.1 in /usr/local/lib/python3.10/dist-packages (from pyEDFlib) (1.22.4)\n",
            "Looking in indexes: https://pypi.org/simple, https://us-python.pkg.dev/colab-wheels/public/simple/\n",
            "Requirement already satisfied: EDFlib-Python in /usr/local/lib/python3.10/dist-packages (1.0.6)\n",
            "Requirement already satisfied: numpy>=1.17 in /usr/local/lib/python3.10/dist-packages (from EDFlib-Python) (1.22.4)\n"
          ]
        }
      ],
      "source": [
        "!pip install scikit-learn\n",
        "!pip install eeglib\n",
        "!pip install mne\n",
        "!pip install pyEDFlib\n",
        "!pip install EDFlib-Python\n"
      ]
    },
    {
      "cell_type": "code",
      "source": [
        "from google.colab import drive\n",
        "drive.mount('/content/drive')"
      ],
      "metadata": {
        "id": "Mf0wMsbd_-mQ",
        "outputId": "a86247d0-3b42-4b5d-bf99-04968a46ec69",
        "colab": {
          "base_uri": "https://localhost:8080/"
        }
      },
      "execution_count": null,
      "outputs": [
        {
          "output_type": "stream",
          "name": "stdout",
          "text": [
            "Mounted at /content/drive\n"
          ]
        }
      ]
    },
    {
      "cell_type": "code",
      "source": [
        "from __future__ import print_function\n",
        "import pandas as pd\n",
        "import eeglib\n",
        "from eeglib.helpers import EDFHelper\n",
        "import mne\n",
        "from collections import Counter\n",
        "import statistics\n",
        "# import streamlit as st\n",
        "import numpy as np\n",
        "import pandas as pd\n",
        "from sklearn.model_selection import train_test_split\n",
        "from sklearn import svm\n",
        "from sklearn.metrics import accuracy_score\n",
        "import os\n",
        "import time\n",
        "import random\n",
        "import glob\n",
        "import librosa\n",
        "import numpy as np\n",
        "import librosa.display\n",
        "import tensorflow as tf\n",
        "from tensorflow.keras.optimizers import Adam\n",
        "import matplotlib.pyplot as plt\n",
        "import numpy as np\n",
        "from numpy import loadtxt\n",
        "import seaborn as sn\n",
        "import pandas as pd\n",
        "import keras\n",
        "from keras.models import Sequential\n",
        "from keras.wrappers.scikit_learn import KerasClassifier\n",
        "from keras.utils import np_utils\n",
        "from sklearn.model_selection import cross_val_score\n",
        "from sklearn.model_selection import KFold\n",
        "from sklearn.preprocessing import LabelEncoder\n",
        "from tensorflow.keras.layers import Embedding\n",
        "from tensorflow.keras.layers import GRU,LSTM\n",
        "tf.keras.backend.clear_session()\n",
        "from sklearn.pipeline import Pipeline\n",
        "from sklearn.model_selection import train_test_split\n",
        "from tensorflow.keras.callbacks import  ModelCheckpoint\n",
        "from tensorflow.keras.models import Model, load_model\n",
        "from keras.layers.core import Dense, Activation\n",
        "from keras.layers.core import Dropout\n",
        "from keras.layers import BatchNormalization\n",
        "from keras.layers import Dropout\n",
        "\n"
      ],
      "metadata": {
        "id": "96OMlkuXGXjf",
        "colab": {
          "base_uri": "https://localhost:8080/",
          "height": 374
        },
        "outputId": "18a6b80c-bf7c-4188-a11b-4925e000a542"
      },
      "execution_count": null,
      "outputs": [
        {
          "output_type": "error",
          "ename": "ModuleNotFoundError",
          "evalue": "ignored",
          "traceback": [
            "\u001b[0;31m---------------------------------------------------------------------------\u001b[0m",
            "\u001b[0;31mModuleNotFoundError\u001b[0m                       Traceback (most recent call last)",
            "\u001b[0;32m<ipython-input-8-5f7237701dad>\u001b[0m in \u001b[0;36m<cell line: 3>\u001b[0;34m()\u001b[0m\n\u001b[1;32m      1\u001b[0m \u001b[0;32mfrom\u001b[0m \u001b[0m__future__\u001b[0m \u001b[0;32mimport\u001b[0m \u001b[0mprint_function\u001b[0m\u001b[0;34m\u001b[0m\u001b[0;34m\u001b[0m\u001b[0m\n\u001b[1;32m      2\u001b[0m \u001b[0;32mimport\u001b[0m \u001b[0mpandas\u001b[0m \u001b[0;32mas\u001b[0m \u001b[0mpd\u001b[0m\u001b[0;34m\u001b[0m\u001b[0;34m\u001b[0m\u001b[0m\n\u001b[0;32m----> 3\u001b[0;31m \u001b[0;32mimport\u001b[0m \u001b[0meeglib\u001b[0m\u001b[0;34m\u001b[0m\u001b[0;34m\u001b[0m\u001b[0m\n\u001b[0m\u001b[1;32m      4\u001b[0m \u001b[0;32mfrom\u001b[0m \u001b[0meeglib\u001b[0m\u001b[0;34m.\u001b[0m\u001b[0mhelpers\u001b[0m \u001b[0;32mimport\u001b[0m \u001b[0mEDFHelper\u001b[0m\u001b[0;34m\u001b[0m\u001b[0;34m\u001b[0m\u001b[0m\n\u001b[1;32m      5\u001b[0m \u001b[0;32mimport\u001b[0m \u001b[0mmne\u001b[0m\u001b[0;34m\u001b[0m\u001b[0;34m\u001b[0m\u001b[0m\n",
            "\u001b[0;31mModuleNotFoundError\u001b[0m: No module named 'eeglib'",
            "",
            "\u001b[0;31m---------------------------------------------------------------------------\u001b[0;32m\nNOTE: If your import is failing due to a missing package, you can\nmanually install dependencies using either !pip or !apt.\n\nTo view examples of installing some common dependencies, click the\n\"Open Examples\" button below.\n\u001b[0;31m---------------------------------------------------------------------------\u001b[0m\n"
          ],
          "errorDetails": {
            "actions": [
              {
                "action": "open_url",
                "actionText": "Open Examples",
                "url": "/notebooks/snippets/importing_libraries.ipynb"
              }
            ]
          }
        }
      ]
    },
    {
      "cell_type": "markdown",
      "source": [
        "SVM\n",
        "\n",
        "```\n",
        "# This is formatted as code\n",
        "```\n",
        "\n"
      ],
      "metadata": {
        "id": "oLNa97uBZMPh"
      }
    },
    {
      "cell_type": "code",
      "source": [
        "epilepsy_data = pd.read_csv('/content/drive/MyDrive/Colab Notebooks/Epilepsy_Stages.csv')\n",
        "epilepsy_data =epilepsy_data.drop(['Unnamed: 0'],axis=1)\n",
        "# epilepsy_data.columns."
      ],
      "metadata": {
        "id": "KIxAp64MY4Uv"
      },
      "execution_count": null,
      "outputs": []
    },
    {
      "cell_type": "code",
      "source": [
        "\n",
        "x=epilepsy_data[['Mean','Std','Ptp','Var','Minim','Maxim','Argminim','Argmaxim','Mean_square','RMS','Abs_diffs_signal','Skewness','Kurtosis']]\n",
        "y = epilepsy_data.loc[:,'Label'].values\n"
      ],
      "metadata": {
        "id": "FyKdxY5WGSng"
      },
      "execution_count": null,
      "outputs": []
    },
    {
      "cell_type": "code",
      "source": [
        "from sklearn.model_selection import train_test_split\n",
        "x_train, x_test, y_train, y_test = train_test_split(x, y, test_size = 0.2, random_state = 42)"
      ],
      "metadata": {
        "id": "h960DXW4GStj"
      },
      "execution_count": null,
      "outputs": []
    },
    {
      "cell_type": "code",
      "source": [
        "model = svm.SVC(kernel='linear')\n",
        "model.fit(x_train, y_train)\n"
      ],
      "metadata": {
        "colab": {
          "base_uri": "https://localhost:8080/",
          "height": 74
        },
        "id": "oXtglnSOXSIS",
        "outputId": "d4a86ef8-aabe-4894-8c89-57a1a2656462"
      },
      "execution_count": null,
      "outputs": [
        {
          "output_type": "execute_result",
          "data": {
            "text/plain": [
              "SVC(kernel='linear')"
            ],
            "text/html": [
              "<style>#sk-container-id-1 {color: black;background-color: white;}#sk-container-id-1 pre{padding: 0;}#sk-container-id-1 div.sk-toggleable {background-color: white;}#sk-container-id-1 label.sk-toggleable__label {cursor: pointer;display: block;width: 100%;margin-bottom: 0;padding: 0.3em;box-sizing: border-box;text-align: center;}#sk-container-id-1 label.sk-toggleable__label-arrow:before {content: \"▸\";float: left;margin-right: 0.25em;color: #696969;}#sk-container-id-1 label.sk-toggleable__label-arrow:hover:before {color: black;}#sk-container-id-1 div.sk-estimator:hover label.sk-toggleable__label-arrow:before {color: black;}#sk-container-id-1 div.sk-toggleable__content {max-height: 0;max-width: 0;overflow: hidden;text-align: left;background-color: #f0f8ff;}#sk-container-id-1 div.sk-toggleable__content pre {margin: 0.2em;color: black;border-radius: 0.25em;background-color: #f0f8ff;}#sk-container-id-1 input.sk-toggleable__control:checked~div.sk-toggleable__content {max-height: 200px;max-width: 100%;overflow: auto;}#sk-container-id-1 input.sk-toggleable__control:checked~label.sk-toggleable__label-arrow:before {content: \"▾\";}#sk-container-id-1 div.sk-estimator input.sk-toggleable__control:checked~label.sk-toggleable__label {background-color: #d4ebff;}#sk-container-id-1 div.sk-label input.sk-toggleable__control:checked~label.sk-toggleable__label {background-color: #d4ebff;}#sk-container-id-1 input.sk-hidden--visually {border: 0;clip: rect(1px 1px 1px 1px);clip: rect(1px, 1px, 1px, 1px);height: 1px;margin: -1px;overflow: hidden;padding: 0;position: absolute;width: 1px;}#sk-container-id-1 div.sk-estimator {font-family: monospace;background-color: #f0f8ff;border: 1px dotted black;border-radius: 0.25em;box-sizing: border-box;margin-bottom: 0.5em;}#sk-container-id-1 div.sk-estimator:hover {background-color: #d4ebff;}#sk-container-id-1 div.sk-parallel-item::after {content: \"\";width: 100%;border-bottom: 1px solid gray;flex-grow: 1;}#sk-container-id-1 div.sk-label:hover label.sk-toggleable__label {background-color: #d4ebff;}#sk-container-id-1 div.sk-serial::before {content: \"\";position: absolute;border-left: 1px solid gray;box-sizing: border-box;top: 0;bottom: 0;left: 50%;z-index: 0;}#sk-container-id-1 div.sk-serial {display: flex;flex-direction: column;align-items: center;background-color: white;padding-right: 0.2em;padding-left: 0.2em;position: relative;}#sk-container-id-1 div.sk-item {position: relative;z-index: 1;}#sk-container-id-1 div.sk-parallel {display: flex;align-items: stretch;justify-content: center;background-color: white;position: relative;}#sk-container-id-1 div.sk-item::before, #sk-container-id-1 div.sk-parallel-item::before {content: \"\";position: absolute;border-left: 1px solid gray;box-sizing: border-box;top: 0;bottom: 0;left: 50%;z-index: -1;}#sk-container-id-1 div.sk-parallel-item {display: flex;flex-direction: column;z-index: 1;position: relative;background-color: white;}#sk-container-id-1 div.sk-parallel-item:first-child::after {align-self: flex-end;width: 50%;}#sk-container-id-1 div.sk-parallel-item:last-child::after {align-self: flex-start;width: 50%;}#sk-container-id-1 div.sk-parallel-item:only-child::after {width: 0;}#sk-container-id-1 div.sk-dashed-wrapped {border: 1px dashed gray;margin: 0 0.4em 0.5em 0.4em;box-sizing: border-box;padding-bottom: 0.4em;background-color: white;}#sk-container-id-1 div.sk-label label {font-family: monospace;font-weight: bold;display: inline-block;line-height: 1.2em;}#sk-container-id-1 div.sk-label-container {text-align: center;}#sk-container-id-1 div.sk-container {/* jupyter's `normalize.less` sets `[hidden] { display: none; }` but bootstrap.min.css set `[hidden] { display: none !important; }` so we also need the `!important` here to be able to override the default hidden behavior on the sphinx rendered scikit-learn.org. See: https://github.com/scikit-learn/scikit-learn/issues/21755 */display: inline-block !important;position: relative;}#sk-container-id-1 div.sk-text-repr-fallback {display: none;}</style><div id=\"sk-container-id-1\" class=\"sk-top-container\"><div class=\"sk-text-repr-fallback\"><pre>SVC(kernel=&#x27;linear&#x27;)</pre><b>In a Jupyter environment, please rerun this cell to show the HTML representation or trust the notebook. <br />On GitHub, the HTML representation is unable to render, please try loading this page with nbviewer.org.</b></div><div class=\"sk-container\" hidden><div class=\"sk-item\"><div class=\"sk-estimator sk-toggleable\"><input class=\"sk-toggleable__control sk-hidden--visually\" id=\"sk-estimator-id-1\" type=\"checkbox\" checked><label for=\"sk-estimator-id-1\" class=\"sk-toggleable__label sk-toggleable__label-arrow\">SVC</label><div class=\"sk-toggleable__content\"><pre>SVC(kernel=&#x27;linear&#x27;)</pre></div></div></div></div></div>"
            ]
          },
          "metadata": {},
          "execution_count": 62
        }
      ]
    },
    {
      "cell_type": "code",
      "source": [
        "x_train_prediction = model.predict(x_train)\n",
        "training_data_accuracy = accuracy_score(y_train, x_train_prediction)"
      ],
      "metadata": {
        "id": "NPg_-INzXeqt"
      },
      "execution_count": null,
      "outputs": []
    },
    {
      "cell_type": "code",
      "source": [
        "print('Accuracy score of training data : ', training_data_accuracy)"
      ],
      "metadata": {
        "colab": {
          "base_uri": "https://localhost:8080/"
        },
        "id": "C-jar2EYXgv0",
        "outputId": "b6eb85aa-ad35-49f6-a715-b3d5e97774f2"
      },
      "execution_count": null,
      "outputs": [
        {
          "output_type": "stream",
          "name": "stdout",
          "text": [
            "Accuracy score of training data :  0.8571428571428571\n"
          ]
        }
      ]
    },
    {
      "cell_type": "markdown",
      "source": [
        "LSTM"
      ],
      "metadata": {
        "id": "d2wm0RfVZI9v"
      }
    },
    {
      "cell_type": "code",
      "source": [
        "epilepsy_data = pd.read_csv('/content/drive/MyDrive/Colab Notebooks/Epilepsy_Stages.csv')\n",
        "epilepsy_data =epilepsy_data.drop(['Unnamed: 0'],axis=1)\n",
        "# epilepsy_data.columns."
      ],
      "metadata": {
        "id": "uBi8CvM5GSkQ"
      },
      "execution_count": null,
      "outputs": []
    },
    {
      "cell_type": "code",
      "source": [
        "\n",
        "x=epilepsy_data[['Mean','Std','Ptp','Var','Minim','Maxim','Argminim','Argmaxim','Mean_square','RMS','Abs_diffs_signal','Skewness','Kurtosis']]\n",
        "y = epilepsy_data.loc[:,'Label'].values\n"
      ],
      "metadata": {
        "id": "R2nQG-cJY6lP"
      },
      "execution_count": null,
      "outputs": []
    },
    {
      "cell_type": "code",
      "source": [
        "from sklearn.preprocessing import StandardScaler\n",
        "scaler = StandardScaler()\n",
        "scaler.fit(x)\n",
        "x = scaler.transform(x)\n",
        "from keras.utils import to_categorical\n",
        "y = to_categorical(y)\n"
      ],
      "metadata": {
        "id": "r6jHWNGAGSqf"
      },
      "execution_count": null,
      "outputs": []
    },
    {
      "cell_type": "code",
      "source": [
        "from sklearn.model_selection import train_test_split\n",
        "x_train, x_test, y_train, y_test = train_test_split(x, y, test_size = 0.2, random_state = 42)\n",
        "x_train1 = np.reshape(x_train, (x_train.shape[0],1,x.shape[1]))\n",
        "x_test1 = np.reshape(x_test, (x_test.shape[0],1,x.shape[1]))"
      ],
      "metadata": {
        "id": "fTqXr5flYxIS"
      },
      "execution_count": null,
      "outputs": []
    },
    {
      "cell_type": "code",
      "source": [
        "# x_test.shape"
      ],
      "metadata": {
        "colab": {
          "base_uri": "https://localhost:8080/"
        },
        "id": "97u8720LALvG",
        "outputId": "61ad0a9e-2762-40e4-d7bf-5c11c6feebe3"
      },
      "execution_count": null,
      "outputs": [
        {
          "output_type": "execute_result",
          "data": {
            "text/plain": [
              "(21, 1, 13)"
            ]
          },
          "metadata": {},
          "execution_count": 45
        }
      ]
    },
    {
      "cell_type": "code",
      "source": [
        "# y_train.shape"
      ],
      "metadata": {
        "colab": {
          "base_uri": "https://localhost:8080/"
        },
        "id": "TJ5K7H9_AL1l",
        "outputId": "02eb5d25-ee70-4885-ceb8-db19a52ab8bd"
      },
      "execution_count": null,
      "outputs": [
        {
          "output_type": "execute_result",
          "data": {
            "text/plain": [
              "(84, 3)"
            ]
          },
          "metadata": {},
          "execution_count": 46
        }
      ]
    },
    {
      "cell_type": "code",
      "source": [
        "# y_test.shape"
      ],
      "metadata": {
        "colab": {
          "base_uri": "https://localhost:8080/"
        },
        "id": "MLI1GHePAL9A",
        "outputId": "e0f989b7-883b-4c40-cf88-cbca87d79f64"
      },
      "execution_count": null,
      "outputs": [
        {
          "output_type": "execute_result",
          "data": {
            "text/plain": [
              "(21, 3)"
            ]
          },
          "metadata": {},
          "execution_count": 47
        }
      ]
    },
    {
      "cell_type": "code",
      "source": [
        "model = Sequential()\n",
        "# model.add(LSTM(128, input_shape=(1,13),activation=\"sigmoid\",return_sequences=True))\n",
        "# model.add(Dropout(0.3))\n",
        "model.add(LSTM(64, input_shape=(1,13),activation=\"relu\",return_sequences=True))\n",
        "model.add(Dropout(0.1))\n",
        "model.add(LSTM(16,activation=\"relu\"))\n",
        "model.add(Dropout(0.2))\n",
        "#model.add(LSTM(100,return_sequences=True))\n",
        "#model.add(Dropout(0.2))\n",
        "#model.add(LSTM(50))\n",
        "#model.add(Dropout(0.2))\n",
        "model.add(Dense(3, activation='sigmoid'))\n",
        "from keras.optimizers import SGD\n",
        "model.compile(loss = 'categorical_crossentropy', optimizer = \"adam\", metrics = ['accuracy'])\n",
        "\n",
        "history = model.fit(x_train1, y_train, epochs = 100, validation_data= (x_test1, y_test))"
      ],
      "metadata": {
        "id": "Ms85_8dPGSwX",
        "colab": {
          "base_uri": "https://localhost:8080/"
        },
        "outputId": "a66443e5-7c05-45ce-88b9-e68f1d261dec"
      },
      "execution_count": null,
      "outputs": [
        {
          "output_type": "stream",
          "name": "stdout",
          "text": [
            "Epoch 1/100\n",
            "3/3 [==============================] - 8s 324ms/step - loss: 1.0962 - accuracy: 0.3929 - val_loss: 1.0951 - val_accuracy: 0.6667\n",
            "Epoch 2/100\n",
            "3/3 [==============================] - 0s 21ms/step - loss: 1.0922 - accuracy: 0.5119 - val_loss: 1.0920 - val_accuracy: 0.7619\n",
            "Epoch 3/100\n",
            "3/3 [==============================] - 0s 30ms/step - loss: 1.0884 - accuracy: 0.5595 - val_loss: 1.0892 - val_accuracy: 0.7143\n",
            "Epoch 4/100\n",
            "3/3 [==============================] - 0s 20ms/step - loss: 1.0842 - accuracy: 0.5357 - val_loss: 1.0861 - val_accuracy: 0.7143\n",
            "Epoch 5/100\n",
            "3/3 [==============================] - 0s 20ms/step - loss: 1.0796 - accuracy: 0.6429 - val_loss: 1.0823 - val_accuracy: 0.7619\n",
            "Epoch 6/100\n",
            "3/3 [==============================] - 0s 31ms/step - loss: 1.0732 - accuracy: 0.6548 - val_loss: 1.0778 - val_accuracy: 0.6667\n",
            "Epoch 7/100\n",
            "3/3 [==============================] - 0s 21ms/step - loss: 1.0659 - accuracy: 0.5833 - val_loss: 1.0728 - val_accuracy: 0.6667\n",
            "Epoch 8/100\n",
            "3/3 [==============================] - 0s 22ms/step - loss: 1.0579 - accuracy: 0.6905 - val_loss: 1.0669 - val_accuracy: 0.6667\n",
            "Epoch 9/100\n",
            "3/3 [==============================] - 0s 29ms/step - loss: 1.0509 - accuracy: 0.7262 - val_loss: 1.0599 - val_accuracy: 0.6190\n",
            "Epoch 10/100\n",
            "3/3 [==============================] - 0s 26ms/step - loss: 1.0396 - accuracy: 0.6667 - val_loss: 1.0519 - val_accuracy: 0.6667\n",
            "Epoch 11/100\n",
            "3/3 [==============================] - 0s 20ms/step - loss: 1.0309 - accuracy: 0.6548 - val_loss: 1.0424 - val_accuracy: 0.6667\n",
            "Epoch 12/100\n",
            "3/3 [==============================] - 0s 29ms/step - loss: 1.0175 - accuracy: 0.6905 - val_loss: 1.0313 - val_accuracy: 0.6190\n",
            "Epoch 13/100\n",
            "3/3 [==============================] - 0s 29ms/step - loss: 1.0035 - accuracy: 0.6786 - val_loss: 1.0179 - val_accuracy: 0.6190\n",
            "Epoch 14/100\n",
            "3/3 [==============================] - 0s 20ms/step - loss: 0.9749 - accuracy: 0.6429 - val_loss: 1.0018 - val_accuracy: 0.6190\n",
            "Epoch 15/100\n",
            "3/3 [==============================] - 0s 30ms/step - loss: 0.9562 - accuracy: 0.7143 - val_loss: 0.9831 - val_accuracy: 0.6190\n",
            "Epoch 16/100\n",
            "3/3 [==============================] - 0s 20ms/step - loss: 0.9301 - accuracy: 0.7381 - val_loss: 0.9607 - val_accuracy: 0.6190\n",
            "Epoch 17/100\n",
            "3/3 [==============================] - 0s 21ms/step - loss: 0.8932 - accuracy: 0.6667 - val_loss: 0.9361 - val_accuracy: 0.6190\n",
            "Epoch 18/100\n",
            "3/3 [==============================] - 0s 30ms/step - loss: 0.8794 - accuracy: 0.6548 - val_loss: 0.9086 - val_accuracy: 0.6190\n",
            "Epoch 19/100\n",
            "3/3 [==============================] - 0s 36ms/step - loss: 0.8420 - accuracy: 0.7024 - val_loss: 0.8792 - val_accuracy: 0.6667\n",
            "Epoch 20/100\n",
            "3/3 [==============================] - 0s 21ms/step - loss: 0.8265 - accuracy: 0.6429 - val_loss: 0.8504 - val_accuracy: 0.6667\n",
            "Epoch 21/100\n",
            "3/3 [==============================] - 0s 31ms/step - loss: 0.7932 - accuracy: 0.6429 - val_loss: 0.8230 - val_accuracy: 0.7143\n",
            "Epoch 22/100\n",
            "3/3 [==============================] - 0s 29ms/step - loss: 0.7606 - accuracy: 0.6667 - val_loss: 0.7979 - val_accuracy: 0.7143\n",
            "Epoch 23/100\n",
            "3/3 [==============================] - 0s 20ms/step - loss: 0.7437 - accuracy: 0.6905 - val_loss: 0.7766 - val_accuracy: 0.7143\n",
            "Epoch 24/100\n",
            "3/3 [==============================] - 0s 24ms/step - loss: 0.7035 - accuracy: 0.6667 - val_loss: 0.7581 - val_accuracy: 0.7143\n",
            "Epoch 25/100\n",
            "3/3 [==============================] - 0s 22ms/step - loss: 0.6765 - accuracy: 0.6548 - val_loss: 0.7427 - val_accuracy: 0.7143\n",
            "Epoch 26/100\n",
            "3/3 [==============================] - 0s 19ms/step - loss: 0.6656 - accuracy: 0.6310 - val_loss: 0.7291 - val_accuracy: 0.7143\n",
            "Epoch 27/100\n",
            "3/3 [==============================] - 0s 19ms/step - loss: 0.6567 - accuracy: 0.6310 - val_loss: 0.7176 - val_accuracy: 0.7143\n",
            "Epoch 28/100\n",
            "3/3 [==============================] - 0s 23ms/step - loss: 0.6335 - accuracy: 0.6667 - val_loss: 0.7079 - val_accuracy: 0.7143\n",
            "Epoch 29/100\n",
            "3/3 [==============================] - 0s 21ms/step - loss: 0.6214 - accuracy: 0.6310 - val_loss: 0.7008 - val_accuracy: 0.7143\n",
            "Epoch 30/100\n",
            "3/3 [==============================] - 0s 20ms/step - loss: 0.5839 - accuracy: 0.6429 - val_loss: 0.6941 - val_accuracy: 0.7143\n",
            "Epoch 31/100\n",
            "3/3 [==============================] - 0s 20ms/step - loss: 0.5881 - accuracy: 0.6905 - val_loss: 0.6889 - val_accuracy: 0.7143\n",
            "Epoch 32/100\n",
            "3/3 [==============================] - 0s 21ms/step - loss: 0.5735 - accuracy: 0.6190 - val_loss: 0.6848 - val_accuracy: 0.7143\n",
            "Epoch 33/100\n",
            "3/3 [==============================] - 0s 28ms/step - loss: 0.5527 - accuracy: 0.6786 - val_loss: 0.6821 - val_accuracy: 0.6190\n",
            "Epoch 34/100\n",
            "3/3 [==============================] - 0s 21ms/step - loss: 0.5430 - accuracy: 0.7143 - val_loss: 0.6796 - val_accuracy: 0.6190\n",
            "Epoch 35/100\n",
            "3/3 [==============================] - 0s 22ms/step - loss: 0.5272 - accuracy: 0.7143 - val_loss: 0.6789 - val_accuracy: 0.6190\n",
            "Epoch 36/100\n",
            "3/3 [==============================] - 0s 20ms/step - loss: 0.5052 - accuracy: 0.7262 - val_loss: 0.6800 - val_accuracy: 0.5714\n",
            "Epoch 37/100\n",
            "3/3 [==============================] - 0s 28ms/step - loss: 0.5234 - accuracy: 0.7262 - val_loss: 0.6828 - val_accuracy: 0.5238\n",
            "Epoch 38/100\n",
            "3/3 [==============================] - 0s 31ms/step - loss: 0.5211 - accuracy: 0.6905 - val_loss: 0.6848 - val_accuracy: 0.4762\n",
            "Epoch 39/100\n",
            "3/3 [==============================] - 0s 21ms/step - loss: 0.4923 - accuracy: 0.7143 - val_loss: 0.6874 - val_accuracy: 0.5714\n",
            "Epoch 40/100\n",
            "3/3 [==============================] - 0s 23ms/step - loss: 0.4860 - accuracy: 0.7262 - val_loss: 0.6914 - val_accuracy: 0.5714\n",
            "Epoch 41/100\n",
            "3/3 [==============================] - 0s 20ms/step - loss: 0.4750 - accuracy: 0.7857 - val_loss: 0.6949 - val_accuracy: 0.5714\n",
            "Epoch 42/100\n",
            "3/3 [==============================] - 0s 29ms/step - loss: 0.5071 - accuracy: 0.7143 - val_loss: 0.6985 - val_accuracy: 0.6190\n",
            "Epoch 43/100\n",
            "3/3 [==============================] - 0s 24ms/step - loss: 0.4932 - accuracy: 0.7262 - val_loss: 0.7022 - val_accuracy: 0.6190\n",
            "Epoch 44/100\n",
            "3/3 [==============================] - 0s 23ms/step - loss: 0.5019 - accuracy: 0.7143 - val_loss: 0.7057 - val_accuracy: 0.6190\n",
            "Epoch 45/100\n",
            "3/3 [==============================] - 0s 21ms/step - loss: 0.5020 - accuracy: 0.6905 - val_loss: 0.7073 - val_accuracy: 0.6190\n",
            "Epoch 46/100\n",
            "3/3 [==============================] - 0s 20ms/step - loss: 0.4652 - accuracy: 0.7738 - val_loss: 0.7057 - val_accuracy: 0.6190\n",
            "Epoch 47/100\n",
            "3/3 [==============================] - 0s 20ms/step - loss: 0.5344 - accuracy: 0.6429 - val_loss: 0.7045 - val_accuracy: 0.6190\n",
            "Epoch 48/100\n",
            "3/3 [==============================] - 0s 21ms/step - loss: 0.4539 - accuracy: 0.7381 - val_loss: 0.7088 - val_accuracy: 0.6190\n",
            "Epoch 49/100\n",
            "3/3 [==============================] - 0s 21ms/step - loss: 0.4751 - accuracy: 0.7381 - val_loss: 0.7074 - val_accuracy: 0.6190\n",
            "Epoch 50/100\n",
            "3/3 [==============================] - 0s 32ms/step - loss: 0.4702 - accuracy: 0.7024 - val_loss: 0.7026 - val_accuracy: 0.5238\n",
            "Epoch 51/100\n",
            "3/3 [==============================] - 0s 30ms/step - loss: 0.4826 - accuracy: 0.7262 - val_loss: 0.6995 - val_accuracy: 0.5238\n",
            "Epoch 52/100\n",
            "3/3 [==============================] - 0s 21ms/step - loss: 0.4852 - accuracy: 0.7500 - val_loss: 0.6987 - val_accuracy: 0.5238\n",
            "Epoch 53/100\n",
            "3/3 [==============================] - 0s 30ms/step - loss: 0.4520 - accuracy: 0.7143 - val_loss: 0.6973 - val_accuracy: 0.5714\n",
            "Epoch 54/100\n",
            "3/3 [==============================] - 0s 30ms/step - loss: 0.4744 - accuracy: 0.7143 - val_loss: 0.7006 - val_accuracy: 0.5238\n",
            "Epoch 55/100\n",
            "3/3 [==============================] - 0s 30ms/step - loss: 0.4315 - accuracy: 0.7857 - val_loss: 0.7047 - val_accuracy: 0.5714\n",
            "Epoch 56/100\n",
            "3/3 [==============================] - 0s 38ms/step - loss: 0.4319 - accuracy: 0.7857 - val_loss: 0.7101 - val_accuracy: 0.5714\n",
            "Epoch 57/100\n",
            "3/3 [==============================] - 0s 30ms/step - loss: 0.4601 - accuracy: 0.7619 - val_loss: 0.7140 - val_accuracy: 0.6190\n",
            "Epoch 58/100\n",
            "3/3 [==============================] - 0s 38ms/step - loss: 0.4687 - accuracy: 0.7143 - val_loss: 0.7129 - val_accuracy: 0.6190\n",
            "Epoch 59/100\n",
            "3/3 [==============================] - 0s 32ms/step - loss: 0.4494 - accuracy: 0.7619 - val_loss: 0.7138 - val_accuracy: 0.6190\n",
            "Epoch 60/100\n",
            "3/3 [==============================] - 0s 36ms/step - loss: 0.4373 - accuracy: 0.7381 - val_loss: 0.7138 - val_accuracy: 0.6190\n",
            "Epoch 61/100\n",
            "3/3 [==============================] - 0s 37ms/step - loss: 0.4229 - accuracy: 0.7738 - val_loss: 0.7140 - val_accuracy: 0.5714\n",
            "Epoch 62/100\n",
            "3/3 [==============================] - 0s 38ms/step - loss: 0.4114 - accuracy: 0.8095 - val_loss: 0.7153 - val_accuracy: 0.5714\n",
            "Epoch 63/100\n",
            "3/3 [==============================] - 0s 37ms/step - loss: 0.4624 - accuracy: 0.7024 - val_loss: 0.7164 - val_accuracy: 0.5714\n",
            "Epoch 64/100\n",
            "3/3 [==============================] - 0s 29ms/step - loss: 0.4796 - accuracy: 0.7143 - val_loss: 0.7189 - val_accuracy: 0.6190\n",
            "Epoch 65/100\n",
            "3/3 [==============================] - 0s 41ms/step - loss: 0.4080 - accuracy: 0.7857 - val_loss: 0.7229 - val_accuracy: 0.6190\n",
            "Epoch 66/100\n",
            "3/3 [==============================] - 0s 31ms/step - loss: 0.4315 - accuracy: 0.7381 - val_loss: 0.7268 - val_accuracy: 0.6190\n",
            "Epoch 67/100\n",
            "3/3 [==============================] - 0s 38ms/step - loss: 0.4393 - accuracy: 0.7500 - val_loss: 0.7265 - val_accuracy: 0.6190\n",
            "Epoch 68/100\n",
            "3/3 [==============================] - 0s 38ms/step - loss: 0.4074 - accuracy: 0.7976 - val_loss: 0.7225 - val_accuracy: 0.5714\n",
            "Epoch 69/100\n",
            "3/3 [==============================] - 0s 28ms/step - loss: 0.4068 - accuracy: 0.8214 - val_loss: 0.7224 - val_accuracy: 0.5714\n",
            "Epoch 70/100\n",
            "3/3 [==============================] - 0s 38ms/step - loss: 0.3922 - accuracy: 0.7857 - val_loss: 0.7220 - val_accuracy: 0.5714\n",
            "Epoch 71/100\n",
            "3/3 [==============================] - 0s 31ms/step - loss: 0.4063 - accuracy: 0.7857 - val_loss: 0.7221 - val_accuracy: 0.5714\n",
            "Epoch 72/100\n",
            "3/3 [==============================] - 0s 38ms/step - loss: 0.4158 - accuracy: 0.7857 - val_loss: 0.7237 - val_accuracy: 0.5714\n",
            "Epoch 73/100\n",
            "3/3 [==============================] - 0s 40ms/step - loss: 0.4163 - accuracy: 0.7976 - val_loss: 0.7268 - val_accuracy: 0.5714\n",
            "Epoch 74/100\n",
            "3/3 [==============================] - 0s 37ms/step - loss: 0.4302 - accuracy: 0.7500 - val_loss: 0.7301 - val_accuracy: 0.6190\n",
            "Epoch 75/100\n",
            "3/3 [==============================] - 0s 39ms/step - loss: 0.4118 - accuracy: 0.7619 - val_loss: 0.7309 - val_accuracy: 0.6190\n",
            "Epoch 76/100\n",
            "3/3 [==============================] - 0s 37ms/step - loss: 0.3772 - accuracy: 0.8095 - val_loss: 0.7350 - val_accuracy: 0.6190\n",
            "Epoch 77/100\n",
            "3/3 [==============================] - 0s 29ms/step - loss: 0.4111 - accuracy: 0.7738 - val_loss: 0.7383 - val_accuracy: 0.6190\n",
            "Epoch 78/100\n",
            "3/3 [==============================] - 0s 38ms/step - loss: 0.3843 - accuracy: 0.8095 - val_loss: 0.7408 - val_accuracy: 0.6190\n",
            "Epoch 79/100\n",
            "3/3 [==============================] - 0s 28ms/step - loss: 0.3925 - accuracy: 0.7976 - val_loss: 0.7435 - val_accuracy: 0.6190\n",
            "Epoch 80/100\n",
            "3/3 [==============================] - 0s 33ms/step - loss: 0.3850 - accuracy: 0.7857 - val_loss: 0.7464 - val_accuracy: 0.6190\n",
            "Epoch 81/100\n",
            "3/3 [==============================] - 0s 27ms/step - loss: 0.4524 - accuracy: 0.7262 - val_loss: 0.7456 - val_accuracy: 0.6190\n",
            "Epoch 82/100\n",
            "3/3 [==============================] - 0s 35ms/step - loss: 0.3911 - accuracy: 0.7500 - val_loss: 0.7417 - val_accuracy: 0.6190\n",
            "Epoch 83/100\n",
            "3/3 [==============================] - 0s 41ms/step - loss: 0.3726 - accuracy: 0.8452 - val_loss: 0.7389 - val_accuracy: 0.5714\n",
            "Epoch 84/100\n",
            "3/3 [==============================] - 0s 29ms/step - loss: 0.3706 - accuracy: 0.8333 - val_loss: 0.7376 - val_accuracy: 0.5714\n",
            "Epoch 85/100\n",
            "3/3 [==============================] - 0s 37ms/step - loss: 0.3777 - accuracy: 0.8214 - val_loss: 0.7370 - val_accuracy: 0.5714\n",
            "Epoch 86/100\n",
            "3/3 [==============================] - 0s 31ms/step - loss: 0.3748 - accuracy: 0.8095 - val_loss: 0.7418 - val_accuracy: 0.5714\n",
            "Epoch 87/100\n",
            "3/3 [==============================] - 0s 29ms/step - loss: 0.3625 - accuracy: 0.7976 - val_loss: 0.7471 - val_accuracy: 0.6190\n",
            "Epoch 88/100\n",
            "3/3 [==============================] - 0s 28ms/step - loss: 0.3572 - accuracy: 0.8452 - val_loss: 0.7605 - val_accuracy: 0.6190\n",
            "Epoch 89/100\n",
            "3/3 [==============================] - 0s 30ms/step - loss: 0.3706 - accuracy: 0.8333 - val_loss: 0.7707 - val_accuracy: 0.6190\n",
            "Epoch 90/100\n",
            "3/3 [==============================] - 0s 37ms/step - loss: 0.3800 - accuracy: 0.8571 - val_loss: 0.7774 - val_accuracy: 0.6190\n",
            "Epoch 91/100\n",
            "3/3 [==============================] - 0s 36ms/step - loss: 0.4152 - accuracy: 0.7857 - val_loss: 0.7727 - val_accuracy: 0.6190\n",
            "Epoch 92/100\n",
            "3/3 [==============================] - 0s 29ms/step - loss: 0.3885 - accuracy: 0.8333 - val_loss: 0.7713 - val_accuracy: 0.6190\n",
            "Epoch 93/100\n",
            "3/3 [==============================] - 0s 34ms/step - loss: 0.3798 - accuracy: 0.8214 - val_loss: 0.7657 - val_accuracy: 0.6190\n",
            "Epoch 94/100\n",
            "3/3 [==============================] - 0s 35ms/step - loss: 0.3547 - accuracy: 0.8095 - val_loss: 0.7559 - val_accuracy: 0.6190\n",
            "Epoch 95/100\n",
            "3/3 [==============================] - 0s 34ms/step - loss: 0.3563 - accuracy: 0.8095 - val_loss: 0.7462 - val_accuracy: 0.5714\n",
            "Epoch 96/100\n",
            "3/3 [==============================] - 0s 37ms/step - loss: 0.3670 - accuracy: 0.8452 - val_loss: 0.7411 - val_accuracy: 0.5714\n",
            "Epoch 97/100\n",
            "3/3 [==============================] - 0s 41ms/step - loss: 0.3592 - accuracy: 0.8333 - val_loss: 0.7393 - val_accuracy: 0.6190\n",
            "Epoch 98/100\n",
            "3/3 [==============================] - 0s 36ms/step - loss: 0.4111 - accuracy: 0.7857 - val_loss: 0.7397 - val_accuracy: 0.6190\n",
            "Epoch 99/100\n",
            "3/3 [==============================] - 0s 32ms/step - loss: 0.3688 - accuracy: 0.8333 - val_loss: 0.7450 - val_accuracy: 0.5714\n",
            "Epoch 100/100\n",
            "3/3 [==============================] - 0s 37ms/step - loss: 0.3703 - accuracy: 0.8214 - val_loss: 0.7494 - val_accuracy: 0.6190\n"
          ]
        }
      ]
    },
    {
      "cell_type": "code",
      "source": [
        "from sklearn.metrics import classification_report\n",
        "target_names = ['0', '1', '2']\n",
        "pred = model.predict(x_test1)\n",
        "predict_classes = np.argmax(pred,axis=1)\n",
        "expected_classes = np.argmax(y_test,axis=1)\n",
        "print(expected_classes.shape)\n",
        "print(predict_classes.shape)\n",
        "print(classification_report(expected_classes, predict_classes, target_names=target_names))"
      ],
      "metadata": {
        "id": "n_rA4E6NGS3Y",
        "colab": {
          "base_uri": "https://localhost:8080/"
        },
        "outputId": "070392a7-4b5c-4b0f-be38-16fb2182cecd"
      },
      "execution_count": null,
      "outputs": [
        {
          "output_type": "stream",
          "name": "stdout",
          "text": [
            "1/1 [==============================] - 0s 496ms/step\n",
            "(21,)\n",
            "(21,)\n",
            "              precision    recall  f1-score   support\n",
            "\n",
            "           0       1.00      0.22      0.36         9\n",
            "           1       0.42      1.00      0.59         5\n",
            "           2       0.86      0.86      0.86         7\n",
            "\n",
            "    accuracy                           0.62        21\n",
            "   macro avg       0.76      0.69      0.60        21\n",
            "weighted avg       0.81      0.62      0.58        21\n",
            "\n"
          ]
        }
      ]
    },
    {
      "cell_type": "code",
      "source": [
        "from sklearn.metrics import precision_score, recall_score, f1_score, accuracy_score\n",
        "pred = model.predict(x_test1)\n",
        "predict_classes = np.argmax(pred,axis=1)\n",
        "expected_classes = np.argmax(y_test,axis=1)\n",
        "print(expected_classes.shape)\n",
        "print(predict_classes.shape)\n",
        "correct = accuracy_score(expected_classes,predict_classes)\n",
        "correct1 = precision_score(expected_classes,predict_classes,average='macro')\n",
        "correct2 = recall_score(expected_classes,predict_classes,average='macro')\n",
        "correct3 = f1_score(expected_classes,predict_classes,average='macro')\n",
        "print(f\"Training Accuracy: {correct}\")\n",
        "print(f\"Precision: {correct1}\")\n",
        "print(f\"Recall: {correct2}\")\n",
        "print(f\"F1 Score: {correct3}\")"
      ],
      "metadata": {
        "id": "jl1eAIaUIVWy",
        "colab": {
          "base_uri": "https://localhost:8080/"
        },
        "outputId": "0742686a-b6b0-4375-8073-e9c9c977e6f7"
      },
      "execution_count": null,
      "outputs": [
        {
          "output_type": "stream",
          "name": "stdout",
          "text": [
            "1/1 [==============================] - 0s 25ms/step\n",
            "(21,)\n",
            "(21,)\n",
            "Training Accuracy: 0.6190476190476191\n",
            "Precision: 0.7579365079365079\n",
            "Recall: 0.6931216931216931\n",
            "F1 Score: 0.6030048382989559\n"
          ]
        }
      ]
    },
    {
      "cell_type": "code",
      "source": [
        "acc_train = history.history['loss']\n",
        "acc_val = history.history['val_loss']\n",
        "epochs = range(1,101)\n",
        "plt.plot(epochs, acc_train, 'g', label='Training accuracy')\n",
        "plt.plot(epochs, acc_val, 'b', label='Validation accuracy')\n",
        "plt.title('Training and Validation accuracies')\n",
        "plt.xlabel('Epochs')\n",
        "plt.ylabel('Accuracy')\n",
        "\n",
        "plt.legend()\n",
        "#plt.show()\n",
        "plt.savefig(\"Accuracy_plot_LSTM.png\")"
      ],
      "metadata": {
        "id": "KzSBFH54IVaK",
        "colab": {
          "base_uri": "https://localhost:8080/",
          "height": 472
        },
        "outputId": "1e73bef1-22bf-4b46-a178-38e648fdd616"
      },
      "execution_count": null,
      "outputs": [
        {
          "output_type": "display_data",
          "data": {
            "text/plain": [
              "<Figure size 640x480 with 1 Axes>"
            ],
            "image/png": "[encoded data removed]"
          },
          "metadata": {}
        }
      ]
    },
    {
      "cell_type": "code",
      "source": [
        "loss_train = history.history['loss']\n",
        "loss_val = history.history['val_loss']\n",
        "epochs = range(1,101)\n",
        "plt.plot(epochs, loss_train, 'g', label='Training loss')\n",
        "plt.plot(epochs, loss_val, 'b', label='Validation loss')\n",
        "plt.title('Training and Validation loss')\n",
        "plt.xlabel('Epochs')\n",
        "plt.ylabel('Loss')\n",
        "plt.legend()\n",
        "#plt.show()\n",
        "plt.savefig(\"Loss_plot_LSTM.png\")"
      ],
      "metadata": {
        "id": "woHvDepRIWAx",
        "colab": {
          "base_uri": "https://localhost:8080/",
          "height": 472
        },
        "outputId": "0156cea6-0aed-477f-ae1e-51e7edeb665d"
      },
      "execution_count": null,
      "outputs": [
        {
          "output_type": "display_data",
          "data": {
            "text/plain": [
              "<Figure size 640x480 with 1 Axes>"
            ],
            "image/png": "[encoded data removed]"
          },
          "metadata": {}
        }
      ]
    },
    {
      "cell_type": "markdown",
      "source": [
        "# GRU"
      ],
      "metadata": {
        "id": "FWjtvDfDIXDI"
      }
    },
    {
      "cell_type": "code",
      "source": [
        "from __future__ import print_function\n",
        "import pandas as pd\n",
        "import eeglib\n",
        "from eeglib.helpers import EDFHelper\n",
        "import mne\n",
        "from collections import Counter\n",
        "import statistics\n",
        "# import streamlit as st\n",
        "import numpy as np\n",
        "import pandas as pd\n",
        "from sklearn.model_selection import train_test_split\n",
        "from sklearn import svm\n",
        "from sklearn.metrics import accuracy_score\n",
        "import os\n",
        "import time\n",
        "import random\n",
        "import glob\n",
        "import librosa\n",
        "import numpy as np\n",
        "import librosa.display\n",
        "import tensorflow as tf\n",
        "from tensorflow.keras.optimizers import Adam\n",
        "import matplotlib.pyplot as plt\n",
        "import numpy as np\n",
        "from numpy import loadtxt\n",
        "import seaborn as sn\n",
        "import pandas as pd\n",
        "import keras\n",
        "from keras.models import Sequential\n",
        "from keras.wrappers.scikit_learn import KerasClassifier\n",
        "from keras.utils import np_utils\n",
        "from sklearn.model_selection import cross_val_score\n",
        "from sklearn.model_selection import KFold\n",
        "from sklearn.preprocessing import LabelEncoder\n",
        "from tensorflow.keras.layers import Embedding\n",
        "from tensorflow.keras.layers import GRU,LSTM\n",
        "tf.keras.backend.clear_session()\n",
        "from sklearn.pipeline import Pipeline\n",
        "from sklearn.model_selection import train_test_split\n",
        "from tensorflow.keras.callbacks import  ModelCheckpoint\n",
        "from tensorflow.keras.models import Model, load_model\n",
        "from keras.layers.core import Dense, Activation\n",
        "from keras.layers.core import Dropout\n",
        "from keras.layers import BatchNormalization\n",
        "from keras.layers import Dropout\n",
        "\n"
      ],
      "metadata": {
        "id": "pKL6N07PIWD4"
      },
      "execution_count": null,
      "outputs": []
    },
    {
      "cell_type": "code",
      "source": [
        "epilepsy_data = pd.read_csv('/content/drive/MyDrive/Colab Notebooks/Epilepsy_Stages.csv')\n",
        "epilepsy_data =epilepsy_data.drop(['Unnamed: 0'],axis=1)\n",
        "# epilepsy_data.columns."
      ],
      "metadata": {
        "id": "zAq-6KruIZpR"
      },
      "execution_count": null,
      "outputs": []
    },
    {
      "cell_type": "code",
      "source": [
        "\n",
        "x=epilepsy_data[['Mean','Std','Ptp','Var','Minim','Maxim','Argminim','Argmaxim','Mean_square','RMS','Abs_diffs_signal','Skewness','Kurtosis']]\n",
        "y = epilepsy_data.loc[:,'Label'].values"
      ],
      "metadata": {
        "id": "vWyT75RgIZsx"
      },
      "execution_count": null,
      "outputs": []
    },
    {
      "cell_type": "code",
      "source": [
        "from sklearn.preprocessing import StandardScaler\n",
        "scaler = StandardScaler()\n",
        "scaler.fit(x)\n",
        "x = scaler.transform(x)\n",
        "from keras.utils import to_categorical\n",
        "y = to_categorical(y)"
      ],
      "metadata": {
        "id": "aCbZrdWJIZva"
      },
      "execution_count": null,
      "outputs": []
    },
    {
      "cell_type": "code",
      "source": [
        "from sklearn.model_selection import train_test_split\n",
        "x_train, x_test, y_train, y_test = train_test_split(x, y, test_size = 0.2, random_state = 42)\n",
        "x_train1 = np.reshape(x_train, (x_train.shape[0],1,x.shape[1]))\n",
        "x_test1 = np.reshape(x_test, (x_test.shape[0],1,x.shape[1]))"
      ],
      "metadata": {
        "id": "7qdMabEmIZyZ"
      },
      "execution_count": null,
      "outputs": []
    },
    {
      "cell_type": "code",
      "source": [
        "model = Sequential()\n",
        "model.add(GRU(128, input_shape=(1,13),activation=\"relu\",return_sequences=True))\n",
        "model.add(Dropout(0.2))\n",
        "model.add(GRU(64, input_shape=(1,13),activation=\"relu\",return_sequences=True))\n",
        "model.add(Dropout(0.2))\n",
        "model.add(GRU(32,activation=\"relu\"))\n",
        "model.add(Dropout(0.2))\n",
        "model.add(Dense(3, activation='sigmoid'))\n",
        "from keras.optimizers import SGD\n",
        "model.compile(loss = 'categorical_crossentropy', optimizer = \"adam\", metrics = ['accuracy'])\n",
        "history = model.fit(x_train1, y_train, epochs = 100, validation_data= (x_test1, y_test))"
      ],
      "metadata": {
        "id": "LoGcIMeuIZ1Z",
        "colab": {
          "base_uri": "https://localhost:8080/"
        },
        "outputId": "cb4aaa82-d3b8-4af5-c211-d7dba0a98c38"
      },
      "execution_count": null,
      "outputs": [
        {
          "output_type": "stream",
          "name": "stdout",
          "text": [
            "Epoch 1/100\n",
            "3/3 [==============================] - 10s 295ms/step - loss: 1.0998 - accuracy: 0.2976 - val_loss: 1.0936 - val_accuracy: 0.5714\n",
            "Epoch 2/100\n",
            "3/3 [==============================] - 0s 23ms/step - loss: 1.0913 - accuracy: 0.5714 - val_loss: 1.0878 - val_accuracy: 0.6190\n",
            "Epoch 3/100\n",
            "3/3 [==============================] - 0s 31ms/step - loss: 1.0828 - accuracy: 0.6071 - val_loss: 1.0800 - val_accuracy: 0.6667\n",
            "Epoch 4/100\n",
            "3/3 [==============================] - 0s 21ms/step - loss: 1.0753 - accuracy: 0.6429 - val_loss: 1.0715 - val_accuracy: 0.6667\n",
            "Epoch 5/100\n",
            "3/3 [==============================] - 0s 21ms/step - loss: 1.0617 - accuracy: 0.6667 - val_loss: 1.0601 - val_accuracy: 0.7143\n",
            "Epoch 6/100\n",
            "3/3 [==============================] - 0s 30ms/step - loss: 1.0470 - accuracy: 0.7381 - val_loss: 1.0453 - val_accuracy: 0.6190\n",
            "Epoch 7/100\n",
            "3/3 [==============================] - 0s 23ms/step - loss: 1.0249 - accuracy: 0.5952 - val_loss: 1.0254 - val_accuracy: 0.6667\n",
            "Epoch 8/100\n",
            "3/3 [==============================] - 0s 30ms/step - loss: 0.9998 - accuracy: 0.7143 - val_loss: 0.9995 - val_accuracy: 0.6667\n",
            "Epoch 9/100\n",
            "3/3 [==============================] - 0s 23ms/step - loss: 0.9711 - accuracy: 0.6905 - val_loss: 0.9661 - val_accuracy: 0.6667\n",
            "Epoch 10/100\n",
            "3/3 [==============================] - 0s 25ms/step - loss: 0.9137 - accuracy: 0.6786 - val_loss: 0.9230 - val_accuracy: 0.6667\n",
            "Epoch 11/100\n",
            "3/3 [==============================] - 0s 31ms/step - loss: 0.8614 - accuracy: 0.6190 - val_loss: 0.8721 - val_accuracy: 0.6667\n",
            "Epoch 12/100\n",
            "3/3 [==============================] - 0s 26ms/step - loss: 0.8057 - accuracy: 0.6786 - val_loss: 0.8189 - val_accuracy: 0.6667\n",
            "Epoch 13/100\n",
            "3/3 [==============================] - 0s 22ms/step - loss: 0.7429 - accuracy: 0.6310 - val_loss: 0.7712 - val_accuracy: 0.6667\n",
            "Epoch 14/100\n",
            "3/3 [==============================] - 0s 22ms/step - loss: 0.6925 - accuracy: 0.6905 - val_loss: 0.7360 - val_accuracy: 0.6667\n",
            "Epoch 15/100\n",
            "3/3 [==============================] - 0s 21ms/step - loss: 0.6323 - accuracy: 0.6429 - val_loss: 0.7142 - val_accuracy: 0.6667\n",
            "Epoch 16/100\n",
            "3/3 [==============================] - 0s 22ms/step - loss: 0.6119 - accuracy: 0.6429 - val_loss: 0.7072 - val_accuracy: 0.6190\n",
            "Epoch 17/100\n",
            "3/3 [==============================] - 0s 27ms/step - loss: 0.5636 - accuracy: 0.6786 - val_loss: 0.7115 - val_accuracy: 0.6667\n",
            "Epoch 18/100\n",
            "3/3 [==============================] - 0s 22ms/step - loss: 0.5360 - accuracy: 0.6905 - val_loss: 0.7251 - val_accuracy: 0.6190\n",
            "Epoch 19/100\n",
            "3/3 [==============================] - 0s 23ms/step - loss: 0.5192 - accuracy: 0.7143 - val_loss: 0.7518 - val_accuracy: 0.5714\n",
            "Epoch 20/100\n",
            "3/3 [==============================] - 0s 23ms/step - loss: 0.5307 - accuracy: 0.6905 - val_loss: 0.7834 - val_accuracy: 0.5238\n",
            "Epoch 21/100\n",
            "3/3 [==============================] - 0s 24ms/step - loss: 0.4839 - accuracy: 0.7381 - val_loss: 0.7994 - val_accuracy: 0.5714\n",
            "Epoch 22/100\n",
            "3/3 [==============================] - 0s 22ms/step - loss: 0.4664 - accuracy: 0.7500 - val_loss: 0.8068 - val_accuracy: 0.6190\n",
            "Epoch 23/100\n",
            "3/3 [==============================] - 0s 22ms/step - loss: 0.4977 - accuracy: 0.7381 - val_loss: 0.8149 - val_accuracy: 0.6190\n",
            "Epoch 24/100\n",
            "3/3 [==============================] - 0s 31ms/step - loss: 0.5088 - accuracy: 0.6310 - val_loss: 0.8210 - val_accuracy: 0.6190\n",
            "Epoch 25/100\n",
            "3/3 [==============================] - 0s 25ms/step - loss: 0.4871 - accuracy: 0.6667 - val_loss: 0.8319 - val_accuracy: 0.6190\n",
            "Epoch 26/100\n",
            "3/3 [==============================] - 0s 24ms/step - loss: 0.4734 - accuracy: 0.7143 - val_loss: 0.8420 - val_accuracy: 0.6190\n",
            "Epoch 27/100\n",
            "3/3 [==============================] - 0s 30ms/step - loss: 0.4293 - accuracy: 0.8452 - val_loss: 0.8617 - val_accuracy: 0.6190\n",
            "Epoch 28/100\n",
            "3/3 [==============================] - 0s 31ms/step - loss: 0.4245 - accuracy: 0.7738 - val_loss: 0.8756 - val_accuracy: 0.6190\n",
            "Epoch 29/100\n",
            "3/3 [==============================] - 0s 22ms/step - loss: 0.4485 - accuracy: 0.7500 - val_loss: 0.8929 - val_accuracy: 0.6190\n",
            "Epoch 30/100\n",
            "3/3 [==============================] - 0s 26ms/step - loss: 0.4552 - accuracy: 0.7143 - val_loss: 0.9135 - val_accuracy: 0.6190\n",
            "Epoch 31/100\n",
            "3/3 [==============================] - 0s 32ms/step - loss: 0.4079 - accuracy: 0.7857 - val_loss: 0.9277 - val_accuracy: 0.6190\n",
            "Epoch 32/100\n",
            "3/3 [==============================] - 0s 33ms/step - loss: 0.4384 - accuracy: 0.7857 - val_loss: 0.9272 - val_accuracy: 0.6190\n",
            "Epoch 33/100\n",
            "3/3 [==============================] - 0s 22ms/step - loss: 0.4467 - accuracy: 0.7262 - val_loss: 0.9327 - val_accuracy: 0.6190\n",
            "Epoch 34/100\n",
            "3/3 [==============================] - 0s 24ms/step - loss: 0.4211 - accuracy: 0.7381 - val_loss: 0.9292 - val_accuracy: 0.6190\n",
            "Epoch 35/100\n",
            "3/3 [==============================] - 0s 23ms/step - loss: 0.4835 - accuracy: 0.7262 - val_loss: 0.9118 - val_accuracy: 0.6190\n",
            "Epoch 36/100\n",
            "3/3 [==============================] - 0s 22ms/step - loss: 0.4011 - accuracy: 0.7262 - val_loss: 0.9035 - val_accuracy: 0.6667\n",
            "Epoch 37/100\n",
            "3/3 [==============================] - 0s 24ms/step - loss: 0.4421 - accuracy: 0.7976 - val_loss: 0.9090 - val_accuracy: 0.6667\n",
            "Epoch 38/100\n",
            "3/3 [==============================] - 0s 32ms/step - loss: 0.4487 - accuracy: 0.7381 - val_loss: 0.9190 - val_accuracy: 0.6190\n",
            "Epoch 39/100\n",
            "3/3 [==============================] - 0s 28ms/step - loss: 0.4237 - accuracy: 0.7857 - val_loss: 0.9195 - val_accuracy: 0.6190\n",
            "Epoch 40/100\n",
            "3/3 [==============================] - 0s 26ms/step - loss: 0.4035 - accuracy: 0.7738 - val_loss: 0.9287 - val_accuracy: 0.6190\n",
            "Epoch 41/100\n",
            "3/3 [==============================] - 0s 23ms/step - loss: 0.3870 - accuracy: 0.7857 - val_loss: 0.9360 - val_accuracy: 0.6190\n",
            "Epoch 42/100\n",
            "3/3 [==============================] - 0s 31ms/step - loss: 0.3976 - accuracy: 0.7976 - val_loss: 0.9403 - val_accuracy: 0.6190\n",
            "Epoch 43/100\n",
            "3/3 [==============================] - 0s 26ms/step - loss: 0.3866 - accuracy: 0.7857 - val_loss: 0.9523 - val_accuracy: 0.6190\n",
            "Epoch 44/100\n",
            "3/3 [==============================] - 0s 25ms/step - loss: 0.3985 - accuracy: 0.7857 - val_loss: 0.9561 - val_accuracy: 0.6190\n",
            "Epoch 45/100\n",
            "3/3 [==============================] - 0s 33ms/step - loss: 0.4027 - accuracy: 0.7976 - val_loss: 0.9586 - val_accuracy: 0.6190\n",
            "Epoch 46/100\n",
            "3/3 [==============================] - 0s 31ms/step - loss: 0.3764 - accuracy: 0.8095 - val_loss: 0.9658 - val_accuracy: 0.6190\n",
            "Epoch 47/100\n",
            "3/3 [==============================] - 0s 32ms/step - loss: 0.3612 - accuracy: 0.8452 - val_loss: 0.9728 - val_accuracy: 0.6190\n",
            "Epoch 48/100\n",
            "3/3 [==============================] - 0s 31ms/step - loss: 0.3524 - accuracy: 0.8214 - val_loss: 0.9857 - val_accuracy: 0.6190\n",
            "Epoch 49/100\n",
            "3/3 [==============================] - 0s 32ms/step - loss: 0.4210 - accuracy: 0.7500 - val_loss: 0.9944 - val_accuracy: 0.6190\n",
            "Epoch 50/100\n",
            "3/3 [==============================] - 0s 25ms/step - loss: 0.3773 - accuracy: 0.8095 - val_loss: 0.9951 - val_accuracy: 0.6190\n",
            "Epoch 51/100\n",
            "3/3 [==============================] - 0s 25ms/step - loss: 0.3903 - accuracy: 0.7857 - val_loss: 0.9889 - val_accuracy: 0.6190\n",
            "Epoch 52/100\n",
            "3/3 [==============================] - 0s 23ms/step - loss: 0.4089 - accuracy: 0.7857 - val_loss: 0.9790 - val_accuracy: 0.6190\n",
            "Epoch 53/100\n",
            "3/3 [==============================] - 0s 26ms/step - loss: 0.3609 - accuracy: 0.8214 - val_loss: 0.9904 - val_accuracy: 0.6190\n",
            "Epoch 54/100\n",
            "3/3 [==============================] - 0s 31ms/step - loss: 0.3234 - accuracy: 0.8452 - val_loss: 1.0082 - val_accuracy: 0.6190\n",
            "Epoch 55/100\n",
            "3/3 [==============================] - 0s 32ms/step - loss: 0.3613 - accuracy: 0.8095 - val_loss: 1.0211 - val_accuracy: 0.6190\n",
            "Epoch 56/100\n",
            "3/3 [==============================] - 0s 23ms/step - loss: 0.3672 - accuracy: 0.8214 - val_loss: 1.0175 - val_accuracy: 0.6190\n",
            "Epoch 57/100\n",
            "3/3 [==============================] - 0s 23ms/step - loss: 0.3646 - accuracy: 0.8333 - val_loss: 1.0062 - val_accuracy: 0.6190\n",
            "Epoch 58/100\n",
            "3/3 [==============================] - 0s 23ms/step - loss: 0.3157 - accuracy: 0.8571 - val_loss: 0.9925 - val_accuracy: 0.6190\n",
            "Epoch 59/100\n",
            "3/3 [==============================] - 0s 22ms/step - loss: 0.3721 - accuracy: 0.7857 - val_loss: 0.9850 - val_accuracy: 0.6190\n",
            "Epoch 60/100\n",
            "3/3 [==============================] - 0s 25ms/step - loss: 0.3832 - accuracy: 0.7976 - val_loss: 0.9792 - val_accuracy: 0.6190\n",
            "Epoch 61/100\n",
            "3/3 [==============================] - 0s 23ms/step - loss: 0.3497 - accuracy: 0.8095 - val_loss: 0.9791 - val_accuracy: 0.6190\n",
            "Epoch 62/100\n",
            "3/3 [==============================] - 0s 22ms/step - loss: 0.3261 - accuracy: 0.8690 - val_loss: 0.9662 - val_accuracy: 0.6190\n",
            "Epoch 63/100\n",
            "3/3 [==============================] - 0s 23ms/step - loss: 0.3368 - accuracy: 0.8452 - val_loss: 0.9428 - val_accuracy: 0.6667\n",
            "Epoch 64/100\n",
            "3/3 [==============================] - 0s 32ms/step - loss: 0.3247 - accuracy: 0.8214 - val_loss: 0.9422 - val_accuracy: 0.6667\n",
            "Epoch 65/100\n",
            "3/3 [==============================] - 0s 23ms/step - loss: 0.3311 - accuracy: 0.8690 - val_loss: 0.9448 - val_accuracy: 0.6667\n",
            "Epoch 66/100\n",
            "3/3 [==============================] - 0s 31ms/step - loss: 0.3352 - accuracy: 0.8810 - val_loss: 0.9396 - val_accuracy: 0.6667\n",
            "Epoch 67/100\n",
            "3/3 [==============================] - 0s 23ms/step - loss: 0.3087 - accuracy: 0.8690 - val_loss: 0.9355 - val_accuracy: 0.6667\n",
            "Epoch 68/100\n",
            "3/3 [==============================] - 0s 31ms/step - loss: 0.3176 - accuracy: 0.8214 - val_loss: 0.9600 - val_accuracy: 0.6667\n",
            "Epoch 69/100\n",
            "3/3 [==============================] - 0s 31ms/step - loss: 0.3235 - accuracy: 0.8571 - val_loss: 0.9738 - val_accuracy: 0.6667\n",
            "Epoch 70/100\n",
            "3/3 [==============================] - 0s 23ms/step - loss: 0.3336 - accuracy: 0.8333 - val_loss: 0.9650 - val_accuracy: 0.6667\n",
            "Epoch 71/100\n",
            "3/3 [==============================] - 0s 24ms/step - loss: 0.3154 - accuracy: 0.8571 - val_loss: 0.9478 - val_accuracy: 0.6667\n",
            "Epoch 72/100\n",
            "3/3 [==============================] - 0s 31ms/step - loss: 0.2965 - accuracy: 0.8452 - val_loss: 0.9413 - val_accuracy: 0.6667\n",
            "Epoch 73/100\n",
            "3/3 [==============================] - 0s 31ms/step - loss: 0.3155 - accuracy: 0.8095 - val_loss: 0.9440 - val_accuracy: 0.6667\n",
            "Epoch 74/100\n",
            "3/3 [==============================] - 0s 31ms/step - loss: 0.3214 - accuracy: 0.8333 - val_loss: 0.9355 - val_accuracy: 0.6667\n",
            "Epoch 75/100\n",
            "3/3 [==============================] - 0s 22ms/step - loss: 0.2733 - accuracy: 0.8810 - val_loss: 0.9091 - val_accuracy: 0.7143\n",
            "Epoch 76/100\n",
            "3/3 [==============================] - 0s 31ms/step - loss: 0.2953 - accuracy: 0.8690 - val_loss: 0.8993 - val_accuracy: 0.7143\n",
            "Epoch 77/100\n",
            "3/3 [==============================] - 0s 25ms/step - loss: 0.3120 - accuracy: 0.8690 - val_loss: 0.9185 - val_accuracy: 0.7143\n",
            "Epoch 78/100\n",
            "3/3 [==============================] - 0s 26ms/step - loss: 0.2963 - accuracy: 0.8452 - val_loss: 0.9470 - val_accuracy: 0.7143\n",
            "Epoch 79/100\n",
            "3/3 [==============================] - 0s 38ms/step - loss: 0.3129 - accuracy: 0.8571 - val_loss: 0.9971 - val_accuracy: 0.6667\n",
            "Epoch 80/100\n",
            "3/3 [==============================] - 0s 22ms/step - loss: 0.2896 - accuracy: 0.8690 - val_loss: 1.0342 - val_accuracy: 0.6667\n",
            "Epoch 81/100\n",
            "3/3 [==============================] - 0s 24ms/step - loss: 0.2811 - accuracy: 0.8452 - val_loss: 1.0352 - val_accuracy: 0.6667\n",
            "Epoch 82/100\n",
            "3/3 [==============================] - 0s 31ms/step - loss: 0.2801 - accuracy: 0.8690 - val_loss: 1.0152 - val_accuracy: 0.6667\n",
            "Epoch 83/100\n",
            "3/3 [==============================] - 0s 22ms/step - loss: 0.3083 - accuracy: 0.8333 - val_loss: 1.0030 - val_accuracy: 0.7143\n",
            "Epoch 84/100\n",
            "3/3 [==============================] - 0s 23ms/step - loss: 0.2569 - accuracy: 0.9048 - val_loss: 1.0151 - val_accuracy: 0.7143\n",
            "Epoch 85/100\n",
            "3/3 [==============================] - 0s 26ms/step - loss: 0.3039 - accuracy: 0.8214 - val_loss: 1.0138 - val_accuracy: 0.7143\n",
            "Epoch 86/100\n",
            "3/3 [==============================] - 0s 23ms/step - loss: 0.2722 - accuracy: 0.8452 - val_loss: 1.0098 - val_accuracy: 0.7143\n",
            "Epoch 87/100\n",
            "3/3 [==============================] - 0s 32ms/step - loss: 0.2918 - accuracy: 0.8810 - val_loss: 1.0042 - val_accuracy: 0.7143\n",
            "Epoch 88/100\n",
            "3/3 [==============================] - 0s 44ms/step - loss: 0.3186 - accuracy: 0.8452 - val_loss: 0.9904 - val_accuracy: 0.7143\n",
            "Epoch 89/100\n",
            "3/3 [==============================] - 0s 40ms/step - loss: 0.2888 - accuracy: 0.8810 - val_loss: 1.0136 - val_accuracy: 0.7143\n",
            "Epoch 90/100\n",
            "3/3 [==============================] - 0s 37ms/step - loss: 0.2448 - accuracy: 0.8810 - val_loss: 1.0437 - val_accuracy: 0.6667\n",
            "Epoch 91/100\n",
            "3/3 [==============================] - 0s 33ms/step - loss: 0.2407 - accuracy: 0.8690 - val_loss: 1.0743 - val_accuracy: 0.6667\n",
            "Epoch 92/100\n",
            "3/3 [==============================] - 0s 41ms/step - loss: 0.2702 - accuracy: 0.8571 - val_loss: 1.0884 - val_accuracy: 0.6667\n",
            "Epoch 93/100\n",
            "3/3 [==============================] - 0s 38ms/step - loss: 0.2926 - accuracy: 0.8690 - val_loss: 1.1247 - val_accuracy: 0.6667\n",
            "Epoch 94/100\n",
            "3/3 [==============================] - 0s 39ms/step - loss: 0.2572 - accuracy: 0.8690 - val_loss: 1.1300 - val_accuracy: 0.6667\n",
            "Epoch 95/100\n",
            "3/3 [==============================] - 0s 41ms/step - loss: 0.2585 - accuracy: 0.8929 - val_loss: 1.1335 - val_accuracy: 0.6667\n",
            "Epoch 96/100\n",
            "3/3 [==============================] - 0s 31ms/step - loss: 0.2836 - accuracy: 0.8571 - val_loss: 1.1159 - val_accuracy: 0.7619\n",
            "Epoch 97/100\n",
            "3/3 [==============================] - 0s 31ms/step - loss: 0.2378 - accuracy: 0.8929 - val_loss: 1.1107 - val_accuracy: 0.7619\n",
            "Epoch 98/100\n",
            "3/3 [==============================] - 0s 31ms/step - loss: 0.2822 - accuracy: 0.8571 - val_loss: 1.1142 - val_accuracy: 0.7143\n",
            "Epoch 99/100\n",
            "3/3 [==============================] - 0s 34ms/step - loss: 0.2647 - accuracy: 0.8690 - val_loss: 1.1262 - val_accuracy: 0.7143\n",
            "Epoch 100/100\n",
            "3/3 [==============================] - 0s 31ms/step - loss: 0.2625 - accuracy: 0.8810 - val_loss: 1.1364 - val_accuracy: 0.7143\n"
          ]
        }
      ]
    },
    {
      "cell_type": "code",
      "source": [
        "from sklearn.metrics import classification_report\n",
        "target_names = ['0', '1', '2']\n",
        "pred = model.predict(x_test1)\n",
        "predict_classes = np.argmax(pred,axis=1)\n",
        "expected_classes = np.argmax(y_test,axis=1)\n",
        "print(expected_classes.shape)\n",
        "print(predict_classes.shape)\n",
        "print(classification_report(expected_classes, predict_classes, target_names=target_names))"
      ],
      "metadata": {
        "id": "qFlEx0uMIWGt",
        "colab": {
          "base_uri": "https://localhost:8080/"
        },
        "outputId": "f6d16d39-f2f2-49fa-8b22-36bb5e65be5a"
      },
      "execution_count": null,
      "outputs": [
        {
          "output_type": "stream",
          "name": "stdout",
          "text": [
            "1/1 [==============================] - 2s 2s/step\n",
            "(21,)\n",
            "(21,)\n",
            "              precision    recall  f1-score   support\n",
            "\n",
            "           0       1.00      0.33      0.50         9\n",
            "           1       0.50      1.00      0.67         5\n",
            "           2       0.88      1.00      0.93         7\n",
            "\n",
            "    accuracy                           0.71        21\n",
            "   macro avg       0.79      0.78      0.70        21\n",
            "weighted avg       0.84      0.71      0.68        21\n",
            "\n"
          ]
        }
      ]
    },
    {
      "cell_type": "code",
      "source": [
        "from sklearn.metrics import precision_score, recall_score, f1_score, accuracy_score\n",
        "pred = model.predict(x_test1)\n",
        "predict_classes = np.argmax(pred,axis=1)\n",
        "expected_classes = np.argmax(y_test,axis=1)\n",
        "print(expected_classes.shape)\n",
        "print(predict_classes.shape)\n",
        "correct = accuracy_score(expected_classes,predict_classes)\n",
        "correct1 = precision_score(expected_classes,predict_classes,average='macro')\n",
        "correct2 = recall_score(expected_classes,predict_classes,average='macro')\n",
        "correct3 = f1_score(expected_classes,predict_classes,average='macro')\n",
        "print(f\"Training Accuracy: {correct}\")\n",
        "print(f\"Precision: {correct1}\")\n",
        "print(f\"Recall: {correct2}\")\n",
        "print(f\"F1 Score: {correct3}\")"
      ],
      "metadata": {
        "id": "zQFQ1O17IWJj",
        "colab": {
          "base_uri": "https://localhost:8080/"
        },
        "outputId": "d6c9e109-11b8-4ced-ae2c-66dc5ea4a1fa"
      },
      "execution_count": null,
      "outputs": [
        {
          "output_type": "stream",
          "name": "stdout",
          "text": [
            "1/1 [==============================] - 0s 26ms/step\n",
            "(21,)\n",
            "(21,)\n",
            "Training Accuracy: 0.7142857142857143\n",
            "Precision: 0.7916666666666666\n",
            "Recall: 0.7777777777777777\n",
            "F1 Score: 0.6999999999999998\n"
          ]
        }
      ]
    },
    {
      "cell_type": "code",
      "source": [
        "acc_train = history.history['loss']\n",
        "acc_val = history.history['val_loss']\n",
        "epochs = range(1,101)\n",
        "plt.plot(epochs, acc_train, 'g', label='Training accuracy')\n",
        "plt.plot(epochs, acc_val, 'b', label='Validation accuracy')\n",
        "plt.title('Training and Validation accuracies')\n",
        "plt.xlabel('Epochs')\n",
        "plt.ylabel('Accuracy')\n",
        "\n",
        "plt.legend()\n",
        "#plt.show()\n",
        "plt.savefig(\"Accuracy_plot_GRU.png\")"
      ],
      "metadata": {
        "id": "ShDQMVCIIWMg",
        "colab": {
          "base_uri": "https://localhost:8080/",
          "height": 472
        },
        "outputId": "b0871c9f-e730-4b1b-bad0-f00ab9b4eb31"
      },
      "execution_count": null,
      "outputs": [
        {
          "output_type": "display_data",
          "data": {
            "text/plain": [
              "<Figure size 640x480 with 1 Axes>"
            ],
            "image/png": "[encoded data removed]"
          },
          "metadata": {}
        }
      ]
    },
    {
      "cell_type": "code",
      "source": [
        "loss_train = history.history['loss']\n",
        "loss_val = history.history['val_loss']\n",
        "epochs = range(1,101)\n",
        "plt.plot(epochs, loss_train, 'g', label='Training loss')\n",
        "plt.plot(epochs, loss_val, 'b', label='Validation loss')\n",
        "plt.title('Training and Validation loss')\n",
        "plt.xlabel('Epochs')\n",
        "plt.ylabel('Loss')\n",
        "plt.legend()\n",
        "#plt.show()\n",
        "plt.savefig(\"Loss_plot_GRU.png\")"
      ],
      "metadata": {
        "id": "xkvJK6BFIWPj",
        "colab": {
          "base_uri": "https://localhost:8080/",
          "height": 472
        },
        "outputId": "c581c424-367e-415b-d6dd-2f6bcf8f3a07"
      },
      "execution_count": null,
      "outputs": [
        {
          "output_type": "display_data",
          "data": {
            "text/plain": [
              "<Figure size 640x480 with 1 Axes>"
            ],
            "image/png": "[encoded data removed]"
          },
          "metadata": {}
        }
      ]
    },
    {
      "cell_type": "markdown",
      "source": [
        "# DNN"
      ],
      "metadata": {
        "id": "k0rLDrbnIawI"
      }
    },
    {
      "cell_type": "code",
      "source": [
        "!pip install tensorflow\n",
        "from __future__ import print_function\n",
        "import pandas as pd\n",
        "import eeglib\n",
        "from eeglib.helpers import EDFHelper\n",
        "import mne\n",
        "from collections import Counter\n",
        "import statistics\n",
        "# import streamlit as st\n",
        "import numpy as np\n",
        "import pandas as pd\n",
        "from sklearn.model_selection import train_test_split\n",
        "from sklearn import svm\n",
        "from sklearn.metrics import accuracy_score\n",
        "import os\n",
        "import time\n",
        "import random\n",
        "import glob\n",
        "import librosa\n",
        "import numpy as np\n",
        "import librosa.display\n",
        "import tensorflow as tf\n",
        "from tensorflow.keras.optimizers import Adam\n",
        "import matplotlib.pyplot as plt\n",
        "import numpy as np\n",
        "from numpy import loadtxt\n",
        "import seaborn as sn\n",
        "import pandas as pd\n",
        "import keras\n",
        "from keras.models import Sequential\n",
        "from keras.wrappers.scikit_learn import KerasClassifier\n",
        "from keras.utils import np_utils\n",
        "from sklearn.model_selection import cross_val_score\n",
        "from sklearn.model_selection import KFold\n",
        "from sklearn.preprocessing import LabelEncoder\n",
        "from tensorflow.keras.layers import Embedding\n",
        "from tensorflow.keras.layers import GRU,LSTM\n",
        "tf.keras.backend.clear_session()\n",
        "from sklearn.pipeline import Pipeline\n",
        "from sklearn.model_selection import train_test_split\n",
        "from tensorflow.keras.callbacks import  ModelCheckpoint\n",
        "from tensorflow.keras.models import Model, load_model\n",
        "from keras.layers.core import Dense, Activation\n",
        "from keras.layers.core import Dropout\n",
        "from keras.layers import BatchNormalization\n",
        "from keras.layers import Dropout\n",
        "\n"
      ],
      "metadata": {
        "id": "a_sMdPqTIWSx",
        "colab": {
          "base_uri": "https://localhost:8080/"
        },
        "outputId": "fbea5a87-0faf-41af-bf28-e19d7fcc9ebd"
      },
      "execution_count": null,
      "outputs": [
        {
          "output_type": "stream",
          "name": "stdout",
          "text": [
            "Looking in indexes: https://pypi.org/simple, https://us-python.pkg.dev/colab-wheels/public/simple/\n",
            "Requirement already satisfied: tensorflow in /usr/local/lib/python3.10/dist-packages (2.12.0)\n",
            "Requirement already satisfied: h5py>=2.9.0 in /usr/local/lib/python3.10/dist-packages (from tensorflow) (3.8.0)\n",
            "Requirement already satisfied: keras<2.13,>=2.12.0 in /usr/local/lib/python3.10/dist-packages (from tensorflow) (2.12.0)\n",
            "Requirement already satisfied: numpy<1.24,>=1.22 in /usr/local/lib/python3.10/dist-packages (from tensorflow) (1.22.4)\n",
            "Requirement already satisfied: flatbuffers>=2.0 in /usr/local/lib/python3.10/dist-packages (from tensorflow) (23.3.3)\n",
            "Requirement already satisfied: packaging in /usr/local/lib/python3.10/dist-packages (from tensorflow) (23.1)\n",
            "Requirement already satisfied: wrapt<1.15,>=1.11.0 in /usr/local/lib/python3.10/dist-packages (from tensorflow) (1.14.1)\n",
            "Requirement already satisfied: google-pasta>=0.1.1 in /usr/local/lib/python3.10/dist-packages (from tensorflow) (0.2.0)\n",
            "Requirement already satisfied: tensorboard<2.13,>=2.12 in /usr/local/lib/python3.10/dist-packages (from tensorflow) (2.12.2)\n",
            "Requirement already satisfied: grpcio<2.0,>=1.24.3 in /usr/local/lib/python3.10/dist-packages (from tensorflow) (1.54.0)\n",
            "Requirement already satisfied: termcolor>=1.1.0 in /usr/local/lib/python3.10/dist-packages (from tensorflow) (2.3.0)\n",
            "Requirement already satisfied: absl-py>=1.0.0 in /usr/local/lib/python3.10/dist-packages (from tensorflow) (1.4.0)\n",
            "Requirement already satisfied: typing-extensions>=3.6.6 in /usr/local/lib/python3.10/dist-packages (from tensorflow) (4.5.0)\n",
            "Requirement already satisfied: tensorflow-io-gcs-filesystem>=0.23.1 in /usr/local/lib/python3.10/dist-packages (from tensorflow) (0.32.0)\n",
            "Requirement already satisfied: setuptools in /usr/local/lib/python3.10/dist-packages (from tensorflow) (67.7.2)\n",
            "Requirement already satisfied: astunparse>=1.6.0 in /usr/local/lib/python3.10/dist-packages (from tensorflow) (1.6.3)\n",
            "Requirement already satisfied: tensorflow-estimator<2.13,>=2.12.0 in /usr/local/lib/python3.10/dist-packages (from tensorflow) (2.12.0)\n",
            "Requirement already satisfied: gast<=0.4.0,>=0.2.1 in /usr/local/lib/python3.10/dist-packages (from tensorflow) (0.4.0)\n",
            "Requirement already satisfied: jax>=0.3.15 in /usr/local/lib/python3.10/dist-packages (from tensorflow) (0.4.8)\n",
            "Requirement already satisfied: libclang>=13.0.0 in /usr/local/lib/python3.10/dist-packages (from tensorflow) (16.0.0)\n",
            "Requirement already satisfied: six>=1.12.0 in /usr/local/lib/python3.10/dist-packages (from tensorflow) (1.16.0)\n",
            "Requirement already satisfied: protobuf!=4.21.0,!=4.21.1,!=4.21.2,!=4.21.3,!=4.21.4,!=4.21.5,<5.0.0dev,>=3.20.3 in /usr/local/lib/python3.10/dist-packages (from tensorflow) (3.20.3)\n",
            "Requirement already satisfied: opt-einsum>=2.3.2 in /usr/local/lib/python3.10/dist-packages (from tensorflow) (3.3.0)\n",
            "Requirement already satisfied: wheel<1.0,>=0.23.0 in /usr/local/lib/python3.10/dist-packages (from astunparse>=1.6.0->tensorflow) (0.40.0)\n",
            "Requirement already satisfied: ml-dtypes>=0.0.3 in /usr/local/lib/python3.10/dist-packages (from jax>=0.3.15->tensorflow) (0.1.0)\n",
            "Requirement already satisfied: scipy>=1.7 in /usr/local/lib/python3.10/dist-packages (from jax>=0.3.15->tensorflow) (1.10.1)\n",
            "Requirement already satisfied: requests<3,>=2.21.0 in /usr/local/lib/python3.10/dist-packages (from tensorboard<2.13,>=2.12->tensorflow) (2.27.1)\n",
            "Requirement already satisfied: tensorboard-plugin-wit>=1.6.0 in /usr/local/lib/python3.10/dist-packages (from tensorboard<2.13,>=2.12->tensorflow) (1.8.1)\n",
            "Requirement already satisfied: tensorboard-data-server<0.8.0,>=0.7.0 in /usr/local/lib/python3.10/dist-packages (from tensorboard<2.13,>=2.12->tensorflow) (0.7.0)\n",
            "Requirement already satisfied: markdown>=2.6.8 in /usr/local/lib/python3.10/dist-packages (from tensorboard<2.13,>=2.12->tensorflow) (3.4.3)\n",
            "Requirement already satisfied: werkzeug>=1.0.1 in /usr/local/lib/python3.10/dist-packages (from tensorboard<2.13,>=2.12->tensorflow) (2.3.0)\n",
            "Requirement already satisfied: google-auth<3,>=1.6.3 in /usr/local/lib/python3.10/dist-packages (from tensorboard<2.13,>=2.12->tensorflow) (2.17.3)\n",
            "Requirement already satisfied: google-auth-oauthlib<1.1,>=0.5 in /usr/local/lib/python3.10/dist-packages (from tensorboard<2.13,>=2.12->tensorflow) (1.0.0)\n",
            "Requirement already satisfied: cachetools<6.0,>=2.0.0 in /usr/local/lib/python3.10/dist-packages (from google-auth<3,>=1.6.3->tensorboard<2.13,>=2.12->tensorflow) (5.3.0)\n",
            "Requirement already satisfied: rsa<5,>=3.1.4 in /usr/local/lib/python3.10/dist-packages (from google-auth<3,>=1.6.3->tensorboard<2.13,>=2.12->tensorflow) (4.9)\n",
            "Requirement already satisfied: pyasn1-modules>=0.2.1 in /usr/local/lib/python3.10/dist-packages (from google-auth<3,>=1.6.3->tensorboard<2.13,>=2.12->tensorflow) (0.3.0)\n",
            "Requirement already satisfied: requests-oauthlib>=0.7.0 in /usr/local/lib/python3.10/dist-packages (from google-auth-oauthlib<1.1,>=0.5->tensorboard<2.13,>=2.12->tensorflow) (1.3.1)\n",
            "Requirement already satisfied: charset-normalizer~=2.0.0 in /usr/local/lib/python3.10/dist-packages (from requests<3,>=2.21.0->tensorboard<2.13,>=2.12->tensorflow) (2.0.12)\n",
            "Requirement already satisfied: urllib3<1.27,>=1.21.1 in /usr/local/lib/python3.10/dist-packages (from requests<3,>=2.21.0->tensorboard<2.13,>=2.12->tensorflow) (1.26.15)\n",
            "Requirement already satisfied: certifi>=2017.4.17 in /usr/local/lib/python3.10/dist-packages (from requests<3,>=2.21.0->tensorboard<2.13,>=2.12->tensorflow) (2022.12.7)\n",
            "Requirement already satisfied: idna<4,>=2.5 in /usr/local/lib/python3.10/dist-packages (from requests<3,>=2.21.0->tensorboard<2.13,>=2.12->tensorflow) (3.4)\n",
            "Requirement already satisfied: MarkupSafe>=2.1.1 in /usr/local/lib/python3.10/dist-packages (from werkzeug>=1.0.1->tensorboard<2.13,>=2.12->tensorflow) (2.1.2)\n",
            "Requirement already satisfied: pyasn1<0.6.0,>=0.4.6 in /usr/local/lib/python3.10/dist-packages (from pyasn1-modules>=0.2.1->google-auth<3,>=1.6.3->tensorboard<2.13,>=2.12->tensorflow) (0.5.0)\n",
            "Requirement already satisfied: oauthlib>=3.0.0 in /usr/local/lib/python3.10/dist-packages (from requests-oauthlib>=0.7.0->google-auth-oauthlib<1.1,>=0.5->tensorboard<2.13,>=2.12->tensorflow) (3.2.2)\n"
          ]
        }
      ]
    },
    {
      "cell_type": "code",
      "source": [
        "epilepsy_data = pd.read_csv('/content/drive/MyDrive/Colab Notebooks/Epilepsy_Stages.csv')\n",
        "epilepsy_data =epilepsy_data.drop(['Unnamed: 0'],axis=1)\n",
        "epilepsy_data"
      ],
      "metadata": {
        "id": "-DIfy_G9Icqr",
        "colab": {
          "base_uri": "https://localhost:8080/",
          "height": 467
        },
        "outputId": "c6946021-d4a8-48a4-f042-ae88093ff098"
      },
      "execution_count": null,
      "outputs": [
        {
          "output_type": "execute_result",
          "data": {
            "text/plain": [
              "         Mean         Std   Ptp           Var  Minim  Maxim  Argminim  \\\n",
              "0    0.269531   37.901517   305   1436.525009   -175    130       117   \n",
              "1   -0.413086   35.990291   292   1295.301040   -167    125      1002   \n",
              "2   -1.492188   57.817685   592   3342.884705   -345    247       990   \n",
              "3    0.271484   28.710784   216    824.309109   -121     95        31   \n",
              "4    0.205078    9.726882    52     94.612240    -28     24       669   \n",
              "..        ...         ...   ...           ...    ...    ...       ...   \n",
              "100 -2.639648  109.356204   580  11958.779326   -284    296       790   \n",
              "101 -4.240234  193.474580  1080  37432.412991   -537    543       219   \n",
              "102  1.761719  126.438812   615  15986.773300   -306    309       214   \n",
              "103 -4.793945  131.600683   776  17318.739768   -317    459       483   \n",
              "104 -1.134766  165.840730   859  27503.147854   -337    522       969   \n",
              "\n",
              "     Argmaxim  Mean_square        RMS  Abs_diffs_signal  Skewness  Kurtosis  \\\n",
              "0         149  1436.597656  37.902476              3995 -0.093248  2.166872   \n",
              "1         962  1295.471680  35.992661              5158 -0.212175  1.758108   \n",
              "2        1021  1361.111328  36.893242              7557 -0.949835  9.771989   \n",
              "3         624   824.382812  28.712067              6160 -0.085351  1.240576   \n",
              "4         553    94.654297   9.729044              1934 -0.136404 -0.553882   \n",
              "..        ...          ...        ...               ...       ...       ...   \n",
              "100       657  7165.747070  84.650736             16411 -0.026950 -0.686586   \n",
              "101       284  2826.392578  53.163828             29926  0.072345 -0.542419   \n",
              "102       175  4149.876953  64.419539             14182 -0.137555 -0.530104   \n",
              "103        95  4861.721680  69.726047             21227  0.235909  0.052615   \n",
              "104       349  2992.435547  54.703158             27796  0.484722  0.209840   \n",
              "\n",
              "     Label  \n",
              "0        0  \n",
              "1        0  \n",
              "2        0  \n",
              "3        0  \n",
              "4        0  \n",
              "..     ...  \n",
              "100      2  \n",
              "101      2  \n",
              "102      2  \n",
              "103      2  \n",
              "104      2  \n",
              "\n",
              "[105 rows x 14 columns]"
            ],
            "text/html": [
              "\n",
              "  <div id=\"df-134ad1a9-649b-4d0d-9395-4fc09115d8cd\">\n",
              "    <div class=\"colab-df-container\">\n",
              "      <div>\n",
              "<style scoped>\n",
              "    .dataframe tbody tr th:only-of-type {\n",
              "        vertical-align: middle;\n",
              "    }\n",
              "\n",
              "    .dataframe tbody tr th {\n",
              "        vertical-align: top;\n",
              "    }\n",
              "\n",
              "    .dataframe thead th {\n",
              "        text-align: right;\n",
              "    }\n",
              "</style>\n",
              "<table border=\"1\" class=\"dataframe\">\n",
              "  <thead>\n",
              "    <tr style=\"text-align: right;\">\n",
              "      <th></th>\n",
              "      <th>Mean</th>\n",
              "      <th>Std</th>\n",
              "      <th>Ptp</th>\n",
              "      <th>Var</th>\n",
              "      <th>Minim</th>\n",
              "      <th>Maxim</th>\n",
              "      <th>Argminim</th>\n",
              "      <th>Argmaxim</th>\n",
              "      <th>Mean_square</th>\n",
              "      <th>RMS</th>\n",
              "      <th>Abs_diffs_signal</th>\n",
              "      <th>Skewness</th>\n",
              "      <th>Kurtosis</th>\n",
              "      <th>Label</th>\n",
              "    </tr>\n",
              "  </thead>\n",
              "  <tbody>\n",
              "    <tr>\n",
              "      <th>0</th>\n",
              "      <td>0.269531</td>\n",
              "      <td>37.901517</td>\n",
              "      <td>305</td>\n",
              "      <td>1436.525009</td>\n",
              "      <td>-175</td>\n",
              "      <td>130</td>\n",
              "      <td>117</td>\n",
              "      <td>149</td>\n",
              "      <td>1436.597656</td>\n",
              "      <td>37.902476</td>\n",
              "      <td>3995</td>\n",
              "      <td>-0.093248</td>\n",
              "      <td>2.166872</td>\n",
              "      <td>0</td>\n",
              "    </tr>\n",
              "    <tr>\n",
              "      <th>1</th>\n",
              "      <td>-0.413086</td>\n",
              "      <td>35.990291</td>\n",
              "      <td>292</td>\n",
              "      <td>1295.301040</td>\n",
              "      <td>-167</td>\n",
              "      <td>125</td>\n",
              "      <td>1002</td>\n",
              "      <td>962</td>\n",
              "      <td>1295.471680</td>\n",
              "      <td>35.992661</td>\n",
              "      <td>5158</td>\n",
              "      <td>-0.212175</td>\n",
              "      <td>1.758108</td>\n",
              "      <td>0</td>\n",
              "    </tr>\n",
              "    <tr>\n",
              "      <th>2</th>\n",
              "      <td>-1.492188</td>\n",
              "      <td>57.817685</td>\n",
              "      <td>592</td>\n",
              "      <td>3342.884705</td>\n",
              "      <td>-345</td>\n",
              "      <td>247</td>\n",
              "      <td>990</td>\n",
              "      <td>1021</td>\n",
              "      <td>1361.111328</td>\n",
              "      <td>36.893242</td>\n",
              "      <td>7557</td>\n",
              "      <td>-0.949835</td>\n",
              "      <td>9.771989</td>\n",
              "      <td>0</td>\n",
              "    </tr>\n",
              "    <tr>\n",
              "      <th>3</th>\n",
              "      <td>0.271484</td>\n",
              "      <td>28.710784</td>\n",
              "      <td>216</td>\n",
              "      <td>824.309109</td>\n",
              "      <td>-121</td>\n",
              "      <td>95</td>\n",
              "      <td>31</td>\n",
              "      <td>624</td>\n",
              "      <td>824.382812</td>\n",
              "      <td>28.712067</td>\n",
              "      <td>6160</td>\n",
              "      <td>-0.085351</td>\n",
              "      <td>1.240576</td>\n",
              "      <td>0</td>\n",
              "    </tr>\n",
              "    <tr>\n",
              "      <th>4</th>\n",
              "      <td>0.205078</td>\n",
              "      <td>9.726882</td>\n",
              "      <td>52</td>\n",
              "      <td>94.612240</td>\n",
              "      <td>-28</td>\n",
              "      <td>24</td>\n",
              "      <td>669</td>\n",
              "      <td>553</td>\n",
              "      <td>94.654297</td>\n",
              "      <td>9.729044</td>\n",
              "      <td>1934</td>\n",
              "      <td>-0.136404</td>\n",
              "      <td>-0.553882</td>\n",
              "      <td>0</td>\n",
              "    </tr>\n",
              "    <tr>\n",
              "      <th>...</th>\n",
              "      <td>...</td>\n",
              "      <td>...</td>\n",
              "      <td>...</td>\n",
              "      <td>...</td>\n",
              "      <td>...</td>\n",
              "      <td>...</td>\n",
              "      <td>...</td>\n",
              "      <td>...</td>\n",
              "      <td>...</td>\n",
              "      <td>...</td>\n",
              "      <td>...</td>\n",
              "      <td>...</td>\n",
              "      <td>...</td>\n",
              "      <td>...</td>\n",
              "    </tr>\n",
              "    <tr>\n",
              "      <th>100</th>\n",
              "      <td>-2.639648</td>\n",
              "      <td>109.356204</td>\n",
              "      <td>580</td>\n",
              "      <td>11958.779326</td>\n",
              "      <td>-284</td>\n",
              "      <td>296</td>\n",
              "      <td>790</td>\n",
              "      <td>657</td>\n",
              "      <td>7165.747070</td>\n",
              "      <td>84.650736</td>\n",
              "      <td>16411</td>\n",
              "      <td>-0.026950</td>\n",
              "      <td>-0.686586</td>\n",
              "      <td>2</td>\n",
              "    </tr>\n",
              "    <tr>\n",
              "      <th>101</th>\n",
              "      <td>-4.240234</td>\n",
              "      <td>193.474580</td>\n",
              "      <td>1080</td>\n",
              "      <td>37432.412991</td>\n",
              "      <td>-537</td>\n",
              "      <td>543</td>\n",
              "      <td>219</td>\n",
              "      <td>284</td>\n",
              "      <td>2826.392578</td>\n",
              "      <td>53.163828</td>\n",
              "      <td>29926</td>\n",
              "      <td>0.072345</td>\n",
              "      <td>-0.542419</td>\n",
              "      <td>2</td>\n",
              "    </tr>\n",
              "    <tr>\n",
              "      <th>102</th>\n",
              "      <td>1.761719</td>\n",
              "      <td>126.438812</td>\n",
              "      <td>615</td>\n",
              "      <td>15986.773300</td>\n",
              "      <td>-306</td>\n",
              "      <td>309</td>\n",
              "      <td>214</td>\n",
              "      <td>175</td>\n",
              "      <td>4149.876953</td>\n",
              "      <td>64.419539</td>\n",
              "      <td>14182</td>\n",
              "      <td>-0.137555</td>\n",
              "      <td>-0.530104</td>\n",
              "      <td>2</td>\n",
              "    </tr>\n",
              "    <tr>\n",
              "      <th>103</th>\n",
              "      <td>-4.793945</td>\n",
              "      <td>131.600683</td>\n",
              "      <td>776</td>\n",
              "      <td>17318.739768</td>\n",
              "      <td>-317</td>\n",
              "      <td>459</td>\n",
              "      <td>483</td>\n",
              "      <td>95</td>\n",
              "      <td>4861.721680</td>\n",
              "      <td>69.726047</td>\n",
              "      <td>21227</td>\n",
              "      <td>0.235909</td>\n",
              "      <td>0.052615</td>\n",
              "      <td>2</td>\n",
              "    </tr>\n",
              "    <tr>\n",
              "      <th>104</th>\n",
              "      <td>-1.134766</td>\n",
              "      <td>165.840730</td>\n",
              "      <td>859</td>\n",
              "      <td>27503.147854</td>\n",
              "      <td>-337</td>\n",
              "      <td>522</td>\n",
              "      <td>969</td>\n",
              "      <td>349</td>\n",
              "      <td>2992.435547</td>\n",
              "      <td>54.703158</td>\n",
              "      <td>27796</td>\n",
              "      <td>0.484722</td>\n",
              "      <td>0.209840</td>\n",
              "      <td>2</td>\n",
              "    </tr>\n",
              "  </tbody>\n",
              "</table>\n",
              "<p>105 rows × 14 columns</p>\n",
              "</div>\n",
              "      <button class=\"colab-df-convert\" onclick=\"convertToInteractive('df-134ad1a9-649b-4d0d-9395-4fc09115d8cd')\"\n",
              "              title=\"Convert this dataframe to an interactive table.\"\n",
              "              style=\"display:none;\">\n",
              "        \n",
              "  <svg xmlns=\"http://www.w3.org/2000/svg\" height=\"24px\"viewBox=\"0 0 24 24\"\n",
              "       width=\"24px\">\n",
              "    <path d=\"M0 0h24v24H0V0z\" fill=\"none\"/>\n",
              "    <path d=\"M18.56 5.44l.94 2.06.94-2.06 2.06-.94-2.06-.94-.94-2.06-.94 2.06-2.06.94zm-11 1L8.5 8.5l.94-2.06 2.06-.94-2.06-.94L8.5 2.5l-.94 2.06-2.06.94zm10 10l.94 2.06.94-2.06 2.06-.94-2.06-.94-.94-2.06-.94 2.06-2.06.94z\"/><path d=\"M17.41 7.96l-1.37-1.37c-.4-.4-.92-.59-1.43-.59-.52 0-1.04.2-1.43.59L10.3 9.45l-7.72 7.72c-.78.78-.78 2.05 0 2.83L4 21.41c.39.39.9.59 1.41.59.51 0 1.02-.2 1.41-.59l7.78-7.78 2.81-2.81c.8-.78.8-2.07 0-2.86zM5.41 20L4 18.59l7.72-7.72 1.47 1.35L5.41 20z\"/>\n",
              "  </svg>\n",
              "      </button>\n",
              "      \n",
              "  <style>\n",
              "    .colab-df-container {\n",
              "      display:flex;\n",
              "      flex-wrap:wrap;\n",
              "      gap: 12px;\n",
              "    }\n",
              "\n",
              "    .colab-df-convert {\n",
              "      background-color: #E8F0FE;\n",
              "      border: none;\n",
              "      border-radius: 50%;\n",
              "      cursor: pointer;\n",
              "      display: none;\n",
              "      fill: #1967D2;\n",
              "      height: 32px;\n",
              "      padding: 0 0 0 0;\n",
              "      width: 32px;\n",
              "    }\n",
              "\n",
              "    .colab-df-convert:hover {\n",
              "      background-color: #E2EBFA;\n",
              "      box-shadow: 0px 1px 2px rgba(60, 64, 67, 0.3), 0px 1px 3px 1px rgba(60, 64, 67, 0.15);\n",
              "      fill: #174EA6;\n",
              "    }\n",
              "\n",
              "    [theme=dark] .colab-df-convert {\n",
              "      background-color: #3B4455;\n",
              "      fill: #D2E3FC;\n",
              "    }\n",
              "\n",
              "    [theme=dark] .colab-df-convert:hover {\n",
              "      background-color: #434B5C;\n",
              "      box-shadow: 0px 1px 3px 1px rgba(0, 0, 0, 0.15);\n",
              "      filter: drop-shadow(0px 1px 2px rgba(0, 0, 0, 0.3));\n",
              "      fill: #FFFFFF;\n",
              "    }\n",
              "  </style>\n",
              "\n",
              "      <script>\n",
              "        const buttonEl =\n",
              "          document.querySelector('#df-134ad1a9-649b-4d0d-9395-4fc09115d8cd button.colab-df-convert');\n",
              "        buttonEl.style.display =\n",
              "          google.colab.kernel.accessAllowed ? 'block' : 'none';\n",
              "\n",
              "        async function convertToInteractive(key) {\n",
              "          const element = document.querySelector('#df-134ad1a9-649b-4d0d-9395-4fc09115d8cd');\n",
              "          const dataTable =\n",
              "            await google.colab.kernel.invokeFunction('convertToInteractive',\n",
              "                                                     [key], {});\n",
              "          if (!dataTable) return;\n",
              "\n",
              "          const docLinkHtml = 'Like what you see? Visit the ' +\n",
              "            '<a target=\"_blank\" href=https://colab.research.google.com/notebooks/data_table.ipynb>data table notebook</a>'\n",
              "            + ' to learn more about interactive tables.';\n",
              "          element.innerHTML = '';\n",
              "          dataTable['output_type'] = 'display_data';\n",
              "          await google.colab.output.renderOutput(dataTable, element);\n",
              "          const docLink = document.createElement('div');\n",
              "          docLink.innerHTML = docLinkHtml;\n",
              "          element.appendChild(docLink);\n",
              "        }\n",
              "      </script>\n",
              "    </div>\n",
              "  </div>\n",
              "  "
            ]
          },
          "metadata": {},
          "execution_count": 83
        }
      ]
    },
    {
      "cell_type": "code",
      "source": [
        "\n",
        "x=epilepsy_data[['Mean','Std','Ptp','Var','Minim','Maxim','Argminim','Argmaxim','Mean_square','RMS','Abs_diffs_signal','Skewness','Kurtosis']]\n",
        "y = epilepsy_data.loc[:,'Label'].values"
      ],
      "metadata": {
        "id": "zlsOCmQVIctk"
      },
      "execution_count": null,
      "outputs": []
    },
    {
      "cell_type": "code",
      "source": [
        "from sklearn.preprocessing import StandardScaler\n",
        "scaler = StandardScaler()\n",
        "scaler.fit(x)\n",
        "x = scaler.transform(x)\n",
        "from keras.utils import to_categorical\n",
        "y = to_categorical(y)"
      ],
      "metadata": {
        "id": "vmAn4yCuLXwz"
      },
      "execution_count": null,
      "outputs": []
    },
    {
      "cell_type": "code",
      "source": [
        "from sklearn.model_selection import train_test_split\n",
        "x_train, x_test, y_train, y_test = train_test_split(x, y, test_size = 0.2, random_state = 42)\n"
      ],
      "metadata": {
        "id": "V9kABwCKLXzz"
      },
      "execution_count": null,
      "outputs": []
    },
    {
      "cell_type": "code",
      "source": [
        "x_train.shape"
      ],
      "metadata": {
        "colab": {
          "base_uri": "https://localhost:8080/"
        },
        "id": "9YJyKHB-edbI",
        "outputId": "61d32b79-1450-4960-ec58-5561ef498ee0"
      },
      "execution_count": null,
      "outputs": [
        {
          "output_type": "execute_result",
          "data": {
            "text/plain": [
              "(84, 13)"
            ]
          },
          "metadata": {},
          "execution_count": 29
        }
      ]
    },
    {
      "cell_type": "code",
      "source": [
        "def build_model_graph(input_shape=((1,13))):\n",
        "    model = Sequential()\n",
        "    model.add(Dense(512))\n",
        "    model.add(Activation('relu'))\n",
        "    model.add(Dropout(0.5))\n",
        "    model.add(Dense(256))\n",
        "    model.add(Activation('relu'))\n",
        "    model.add(Dropout(0.5))\n",
        "    model.add(Dense(3))\n",
        "    model.add(Activation('softmax'))\n",
        "    # Compile the model\n",
        "    \n",
        "    model.compile(loss='sparse_categorical_crossentropy', metrics=['accuracy'], optimizer='adam')\n",
        "    \n",
        "    return model\n",
        "\n"
      ],
      "metadata": {
        "id": "Wb38-0-PIcy5"
      },
      "execution_count": null,
      "outputs": []
    },
    {
      "cell_type": "code",
      "source": [
        "model = build_model_graph()"
      ],
      "metadata": {
        "id": "6bSeY3i_jIeM"
      },
      "execution_count": null,
      "outputs": []
    },
    {
      "cell_type": "code",
      "source": [
        "from keras.callbacks import ModelCheckpoint \n",
        "from datetime import datetime \n",
        "\n",
        "num_epochs = 100\n",
        "num_batch_size = 32\n",
        "checkpointer = ModelCheckpoint(filepath=\"dnnpred.hdf5\", monitor='val_accuracy', verbose=1, save_best_only=True, mode='max')"
      ],
      "metadata": {
        "id": "ao7fCzf4Ic16"
      },
      "execution_count": null,
      "outputs": []
    },
    {
      "cell_type": "code",
      "source": [
        "x_train.shape"
      ],
      "metadata": {
        "colab": {
          "base_uri": "https://localhost:8080/"
        },
        "id": "jQ_x4NTnebfo",
        "outputId": "1ac4306c-5f6c-4a2f-acd8-20014f41d67b"
      },
      "execution_count": null,
      "outputs": [
        {
          "output_type": "execute_result",
          "data": {
            "text/plain": [
              "(84, 13)"
            ]
          },
          "metadata": {},
          "execution_count": 36
        }
      ]
    },
    {
      "cell_type": "code",
      "source": [
        "y_train.shape"
      ],
      "metadata": {
        "colab": {
          "base_uri": "https://localhost:8080/"
        },
        "id": "FRj0fpSffTCf",
        "outputId": "48a55d2d-b646-4a19-be0e-8fa2db17bf77"
      },
      "execution_count": null,
      "outputs": [
        {
          "output_type": "execute_result",
          "data": {
            "text/plain": [
              "(84, 3)"
            ]
          },
          "metadata": {},
          "execution_count": 38
        }
      ]
    },
    {
      "cell_type": "code",
      "source": [
        "model.fit(x_train, y_train, batch_size=num_batch_size, epochs=num_epochs, validation_split=0.1,callbacks=[checkpointer])"
      ],
      "metadata": {
        "id": "9AkCaaKFIc47",
        "colab": {
          "base_uri": "https://localhost:8080/",
          "height": 1000
        },
        "outputId": "10d219ca-49f0-4659-e16c-2fe07cae85da"
      },
      "execution_count": null,
      "outputs": [
        {
          "output_type": "stream",
          "name": "stdout",
          "text": [
            "Epoch 1/100\n"
          ]
        },
        {
          "output_type": "error",
          "ename": "InvalidArgumentError",
          "evalue": "ignored",
          "traceback": [
            "\u001b[0;31m---------------------------------------------------------------------------\u001b[0m",
            "\u001b[0;31mInvalidArgumentError\u001b[0m                      Traceback (most recent call last)",
            "\u001b[0;32m<ipython-input-62-7667cb830fef>\u001b[0m in \u001b[0;36m<cell line: 1>\u001b[0;34m()\u001b[0m\n\u001b[0;32m----> 1\u001b[0;31m \u001b[0mmodel\u001b[0m\u001b[0;34m.\u001b[0m\u001b[0mfit\u001b[0m\u001b[0;34m(\u001b[0m\u001b[0mx_train\u001b[0m\u001b[0;34m,\u001b[0m \u001b[0my_train\u001b[0m\u001b[0;34m,\u001b[0m \u001b[0mbatch_size\u001b[0m\u001b[0;34m=\u001b[0m\u001b[0mnum_batch_size\u001b[0m\u001b[0;34m,\u001b[0m \u001b[0mepochs\u001b[0m\u001b[0;34m=\u001b[0m\u001b[0mnum_epochs\u001b[0m\u001b[0;34m,\u001b[0m \u001b[0mvalidation_split\u001b[0m\u001b[0;34m=\u001b[0m\u001b[0;36m0.1\u001b[0m\u001b[0;34m,\u001b[0m\u001b[0mcallbacks\u001b[0m\u001b[0;34m=\u001b[0m\u001b[0;34m[\u001b[0m\u001b[0mcheckpointer\u001b[0m\u001b[0;34m]\u001b[0m\u001b[0;34m)\u001b[0m\u001b[0;34m\u001b[0m\u001b[0;34m\u001b[0m\u001b[0m\n\u001b[0m",
            "\u001b[0;32m/usr/local/lib/python3.10/dist-packages/keras/utils/traceback_utils.py\u001b[0m in \u001b[0;36merror_handler\u001b[0;34m(*args, **kwargs)\u001b[0m\n\u001b[1;32m     68\u001b[0m             \u001b[0;31m# To get the full stack trace, call:\u001b[0m\u001b[0;34m\u001b[0m\u001b[0;34m\u001b[0m\u001b[0m\n\u001b[1;32m     69\u001b[0m             \u001b[0;31m# `tf.debugging.disable_traceback_filtering()`\u001b[0m\u001b[0;34m\u001b[0m\u001b[0;34m\u001b[0m\u001b[0m\n\u001b[0;32m---> 70\u001b[0;31m             \u001b[0;32mraise\u001b[0m \u001b[0me\u001b[0m\u001b[0;34m.\u001b[0m\u001b[0mwith_traceback\u001b[0m\u001b[0;34m(\u001b[0m\u001b[0mfiltered_tb\u001b[0m\u001b[0;34m)\u001b[0m \u001b[0;32mfrom\u001b[0m \u001b[0;32mNone\u001b[0m\u001b[0;34m\u001b[0m\u001b[0;34m\u001b[0m\u001b[0m\n\u001b[0m\u001b[1;32m     71\u001b[0m         \u001b[0;32mfinally\u001b[0m\u001b[0;34m:\u001b[0m\u001b[0;34m\u001b[0m\u001b[0;34m\u001b[0m\u001b[0m\n\u001b[1;32m     72\u001b[0m             \u001b[0;32mdel\u001b[0m \u001b[0mfiltered_tb\u001b[0m\u001b[0;34m\u001b[0m\u001b[0;34m\u001b[0m\u001b[0m\n",
            "\u001b[0;32m/usr/local/lib/python3.10/dist-packages/tensorflow/python/eager/execute.py\u001b[0m in \u001b[0;36mquick_execute\u001b[0;34m(op_name, num_outputs, inputs, attrs, ctx, name)\u001b[0m\n\u001b[1;32m     50\u001b[0m   \u001b[0;32mtry\u001b[0m\u001b[0;34m:\u001b[0m\u001b[0;34m\u001b[0m\u001b[0;34m\u001b[0m\u001b[0m\n\u001b[1;32m     51\u001b[0m     \u001b[0mctx\u001b[0m\u001b[0;34m.\u001b[0m\u001b[0mensure_initialized\u001b[0m\u001b[0;34m(\u001b[0m\u001b[0;34m)\u001b[0m\u001b[0;34m\u001b[0m\u001b[0;34m\u001b[0m\u001b[0m\n\u001b[0;32m---> 52\u001b[0;31m     tensors = pywrap_tfe.TFE_Py_Execute(ctx._handle, device_name, op_name,\n\u001b[0m\u001b[1;32m     53\u001b[0m                                         inputs, attrs, num_outputs)\n\u001b[1;32m     54\u001b[0m   \u001b[0;32mexcept\u001b[0m \u001b[0mcore\u001b[0m\u001b[0;34m.\u001b[0m\u001b[0m_NotOkStatusException\u001b[0m \u001b[0;32mas\u001b[0m \u001b[0me\u001b[0m\u001b[0;34m:\u001b[0m\u001b[0;34m\u001b[0m\u001b[0;34m\u001b[0m\u001b[0m\n",
            "\u001b[0;31mInvalidArgumentError\u001b[0m: Graph execution error:\n\nDetected at node 'sparse_categorical_crossentropy/SparseSoftmaxCrossEntropyWithLogits/SparseSoftmaxCrossEntropyWithLogits' defined at (most recent call last):\n    File \"/usr/lib/python3.10/runpy.py\", line 196, in _run_module_as_main\n      return _run_code(code, main_globals, None,\n    File \"/usr/lib/python3.10/runpy.py\", line 86, in _run_code\n      exec(code, run_globals)\n    File \"/usr/local/lib/python3.10/dist-packages/ipykernel_launcher.py\", line 16, in <module>\n      app.launch_new_instance()\n    File \"/usr/local/lib/python3.10/dist-packages/traitlets/config/application.py\", line 992, in launch_instance\n      app.start()\n    File \"/usr/local/lib/python3.10/dist-packages/ipykernel/kernelapp.py\", line 619, in start\n      self.io_loop.start()\n    File \"/usr/local/lib/python3.10/dist-packages/tornado/platform/asyncio.py\", line 215, in start\n      self.asyncio_loop.run_forever()\n    File \"/usr/lib/python3.10/asyncio/base_events.py\", line 603, in run_forever\n      self._run_once()\n    File \"/usr/lib/python3.10/asyncio/base_events.py\", line 1909, in _run_once\n      handle._run()\n    File \"/usr/lib/python3.10/asyncio/events.py\", line 80, in _run\n      self._context.run(self._callback, *self._args)\n    File \"/usr/local/lib/python3.10/dist-packages/tornado/ioloop.py\", line 687, in <lambda>\n      lambda f: self._run_callback(functools.partial(callback, future))\n    File \"/usr/local/lib/python3.10/dist-packages/tornado/ioloop.py\", line 740, in _run_callback\n      ret = callback()\n    File \"/usr/local/lib/python3.10/dist-packages/tornado/gen.py\", line 821, in inner\n      self.ctx_run(self.run)\n    File \"/usr/local/lib/python3.10/dist-packages/tornado/gen.py\", line 782, in run\n      yielded = self.gen.send(value)\n    File \"/usr/local/lib/python3.10/dist-packages/ipykernel/kernelbase.py\", line 361, in process_one\n      yield gen.maybe_future(dispatch(*args))\n    File \"/usr/local/lib/python3.10/dist-packages/tornado/gen.py\", line 234, in wrapper\n      yielded = ctx_run(next, result)\n    File \"/usr/local/lib/python3.10/dist-packages/ipykernel/kernelbase.py\", line 261, in dispatch_shell\n      yield gen.maybe_future(handler(stream, idents, msg))\n    File \"/usr/local/lib/python3.10/dist-packages/tornado/gen.py\", line 234, in wrapper\n      yielded = ctx_run(next, result)\n    File \"/usr/local/lib/python3.10/dist-packages/ipykernel/kernelbase.py\", line 539, in execute_request\n      self.do_execute(\n    File \"/usr/local/lib/python3.10/dist-packages/tornado/gen.py\", line 234, in wrapper\n      yielded = ctx_run(next, result)\n    File \"/usr/local/lib/python3.10/dist-packages/ipykernel/ipkernel.py\", line 302, in do_execute\n      res = shell.run_cell(code, store_history=store_history, silent=silent)\n    File \"/usr/local/lib/python3.10/dist-packages/ipykernel/zmqshell.py\", line 539, in run_cell\n      return super(ZMQInteractiveShell, self).run_cell(*args, **kwargs)\n    File \"/usr/local/lib/python3.10/dist-packages/IPython/core/interactiveshell.py\", line 2975, in run_cell\n      result = self._run_cell(\n    File \"/usr/local/lib/python3.10/dist-packages/IPython/core/interactiveshell.py\", line 3030, in _run_cell\n      return runner(coro)\n    File \"/usr/local/lib/python3.10/dist-packages/IPython/core/async_helpers.py\", line 78, in _pseudo_sync_runner\n      coro.send(None)\n    File \"/usr/local/lib/python3.10/dist-packages/IPython/core/interactiveshell.py\", line 3257, in run_cell_async\n      has_raised = await self.run_ast_nodes(code_ast.body, cell_name,\n    File \"/usr/local/lib/python3.10/dist-packages/IPython/core/interactiveshell.py\", line 3473, in run_ast_nodes\n      if (await self.run_code(code, result,  async_=asy)):\n    File \"/usr/local/lib/python3.10/dist-packages/IPython/core/interactiveshell.py\", line 3553, in run_code\n      exec(code_obj, self.user_global_ns, self.user_ns)\n    File \"<ipython-input-62-7667cb830fef>\", line 1, in <cell line: 1>\n      model.fit(x_train, y_train, batch_size=num_batch_size, epochs=num_epochs, validation_split=0.1,callbacks=[checkpointer])\n    File \"/usr/local/lib/python3.10/dist-packages/keras/utils/traceback_utils.py\", line 65, in error_handler\n      return fn(*args, **kwargs)\n    File \"/usr/local/lib/python3.10/dist-packages/keras/engine/training.py\", line 1685, in fit\n      tmp_logs = self.train_function(iterator)\n    File \"/usr/local/lib/python3.10/dist-packages/keras/engine/training.py\", line 1284, in train_function\n      return step_function(self, iterator)\n    File \"/usr/local/lib/python3.10/dist-packages/keras/engine/training.py\", line 1268, in step_function\n      outputs = model.distribute_strategy.run(run_step, args=(data,))\n    File \"/usr/local/lib/python3.10/dist-packages/keras/engine/training.py\", line 1249, in run_step\n      outputs = model.train_step(data)\n    File \"/usr/local/lib/python3.10/dist-packages/keras/engine/training.py\", line 1051, in train_step\n      loss = self.compute_loss(x, y, y_pred, sample_weight)\n    File \"/usr/local/lib/python3.10/dist-packages/keras/engine/training.py\", line 1109, in compute_loss\n      return self.compiled_loss(\n    File \"/usr/local/lib/python3.10/dist-packages/keras/engine/compile_utils.py\", line 265, in __call__\n      loss_value = loss_obj(y_t, y_p, sample_weight=sw)\n    File \"/usr/local/lib/python3.10/dist-packages/keras/losses.py\", line 142, in __call__\n      losses = call_fn(y_true, y_pred)\n    File \"/usr/local/lib/python3.10/dist-packages/keras/losses.py\", line 268, in call\n      return ag_fn(y_true, y_pred, **self._fn_kwargs)\n    File \"/usr/local/lib/python3.10/dist-packages/keras/losses.py\", line 2078, in sparse_categorical_crossentropy\n      return backend.sparse_categorical_crossentropy(\n    File \"/usr/local/lib/python3.10/dist-packages/keras/backend.py\", line 5660, in sparse_categorical_crossentropy\n      res = tf.nn.sparse_softmax_cross_entropy_with_logits(\nNode: 'sparse_categorical_crossentropy/SparseSoftmaxCrossEntropyWithLogits/SparseSoftmaxCrossEntropyWithLogits'\nlogits and labels must have the same first dimension, got logits shape [32,3] and labels shape [96]\n\t [[{{node sparse_categorical_crossentropy/SparseSoftmaxCrossEntropyWithLogits/SparseSoftmaxCrossEntropyWithLogits}}]] [Op:__inference_train_function_5678]"
          ]
        }
      ]
    },
    {
      "cell_type": "code",
      "source": [
        "from sklearn.metrics import precision_score, recall_score, f1_score, accuracy_score\n",
        "pred = model.predict(x_test)\n",
        "predict_classes = np.argmax(pred,axis=1)\n",
        "expected_classes = np.argmax(y_test,axis=1)\n",
        "print(expected_classes.shape)\n",
        "print(predict_classes.shape)\n",
        "correct = accuracy_score(expected_classes,predict_classes)\n",
        "correct1 = precision_score(expected_classes,predict_classes,average='macro')\n",
        "correct2 = recall_score(expected_classes,predict_classes,average='macro')\n",
        "correct3 = f1_score(expected_classes,predict_classes,average='macro')\n",
        "print(f\"Training Accuracy: {correct}\")\n",
        "print(f\"Precision: {correct1}\")\n",
        "print(f\"Recall: {correct2}\")\n",
        "print(f\"F1 Score: {correct3}\")"
      ],
      "metadata": {
        "id": "8EJew8B1Ic8p"
      },
      "execution_count": null,
      "outputs": []
    },
    {
      "cell_type": "code",
      "source": [
        "acc_train = history.history['loss']\n",
        "acc_val = history.history['val_loss']\n",
        "epochs = range(1,101)\n",
        "plt.plot(epochs, acc_train, 'g', label='Training accuracy')\n",
        "plt.plot(epochs, acc_val, 'b', label='Validation accuracy')\n",
        "plt.title('Training and Validation accuracies')\n",
        "plt.xlabel('Epochs')\n",
        "plt.ylabel('Accuracy')\n",
        "\n",
        "plt.legend()\n",
        "#plt.show()\n",
        "plt.savefig(\"Accuracy_plot_DNN.png\")"
      ],
      "metadata": {
        "id": "WAiJHeRzIdUk"
      },
      "execution_count": null,
      "outputs": []
    },
    {
      "cell_type": "code",
      "source": [
        "loss_train = history.history['loss']\n",
        "loss_val = history.history['val_loss']\n",
        "epochs = range(1,101)\n",
        "plt.plot(epochs, loss_train, 'g', label='Training loss')\n",
        "plt.plot(epochs, loss_val, 'b', label='Validation loss')\n",
        "plt.title('Training and Validation loss')\n",
        "plt.xlabel('Epochs')\n",
        "plt.ylabel('Loss')\n",
        "plt.legend()\n",
        "#plt.show()\n",
        "plt.savefig(\"Loss_plot_DNN.png\")"
      ],
      "metadata": {
        "id": "0a8vySEmIdYB"
      },
      "execution_count": null,
      "outputs": []
    },
    {
      "cell_type": "markdown",
      "source": [
        "# TESTING"
      ],
      "metadata": {
        "id": "CW3eOUKgIfbf"
      }
    },
    {
      "cell_type": "code",
      "source": [
        "dataframe = pd.read_csv(\"/content/drive/MyDrive/Colab Notebooks/Early_prediction/testpre.csv\")\n",
        "\n",
        "dataframe = dataframe.drop(dataframe.columns[0],axis=1)\n",
        "dataframe = dataframe.drop(dataframe.columns[1],axis=1)\n",
        "# dataframe\n",
        "# dataframe = dataframe.drop([dataframe.columns[-1],dataframe.columns[0]],axis=1)\n",
        "# dataframe\n",
        "dataframe.columns=[['Mean','Std','Ptp','Var','Minim','Maxim','Argminim','Argmaxim','Mean_square','RMS','Abs_diffs_signal','Skewness','Kurtosis']]\n",
        "\n",
        "from sklearn.preprocessing import StandardScaler\n",
        "scaler = StandardScaler()\n",
        "scaler.fit(dataframe)\n",
        "dataframe = scaler.transform(dataframe)\n",
        "\n",
        "dataframe1 = np.reshape(dataframe, (dataframe.shape[0],1,dataframe.shape[1]))\n",
        "dataframe1.shape\n",
        "rr = model.predict(dataframe1)"
      ],
      "metadata": {
        "id": "RMYwIH42Idhp",
        "colab": {
          "base_uri": "https://localhost:8080/"
        },
        "outputId": "14445324-975b-4466-c057-4fc3a679ef75"
      },
      "execution_count": null,
      "outputs": [
        {
          "output_type": "stream",
          "name": "stdout",
          "text": [
            "193/193 [==============================] - 1s 2ms/step\n"
          ]
        }
      ]
    },
    {
      "cell_type": "code",
      "source": [
        "predict_classes = np.argmax(rr,axis=1)\n",
        "# expected_classes = np.argmax(y_test,axis=1)\n",
        "# print(expected_classes.shape)\n",
        "print(predict_classes)\n",
        "# correct = accuracy_score(expected_classes,predict_classes)"
      ],
      "metadata": {
        "id": "ZSXYJh7vKZl0",
        "colab": {
          "base_uri": "https://localhost:8080/"
        },
        "outputId": "ad8d1d57-ba4f-4277-e7ec-c609435fcb47"
      },
      "execution_count": null,
      "outputs": [
        {
          "output_type": "stream",
          "name": "stdout",
          "text": [
            "[[0 0 0]\n",
            " [0 0 0]\n",
            " [0 0 0]\n",
            " ...\n",
            " [0 0 0]\n",
            " [0 0 0]\n",
            " [0 0 0]]\n"
          ]
        }
      ]
    },
    {
      "cell_type": "code",
      "source": [
        "d={}\n",
        "for i in predict_classes:\n",
        "  if i not in d:\n",
        "    d[i]=1\n",
        "  else:\n",
        "    d[i]+=1\n",
        "print(d)"
      ],
      "metadata": {
        "id": "-4xt1J0-KZos",
        "colab": {
          "base_uri": "https://localhost:8080/",
          "height": 235
        },
        "outputId": "efb513e7-5da2-4d68-df6a-d8a9fdb3736d"
      },
      "execution_count": null,
      "outputs": [
        {
          "output_type": "error",
          "ename": "TypeError",
          "evalue": "ignored",
          "traceback": [
            "\u001b[0;31m---------------------------------------------------------------------------\u001b[0m",
            "\u001b[0;31mTypeError\u001b[0m                                 Traceback (most recent call last)",
            "\u001b[0;32m<ipython-input-88-f27a5457ca05>\u001b[0m in \u001b[0;36m<cell line: 2>\u001b[0;34m()\u001b[0m\n\u001b[1;32m      1\u001b[0m \u001b[0md\u001b[0m\u001b[0;34m=\u001b[0m\u001b[0;34m{\u001b[0m\u001b[0;34m}\u001b[0m\u001b[0;34m\u001b[0m\u001b[0;34m\u001b[0m\u001b[0m\n\u001b[1;32m      2\u001b[0m \u001b[0;32mfor\u001b[0m \u001b[0mi\u001b[0m \u001b[0;32min\u001b[0m \u001b[0mpredict_classes\u001b[0m\u001b[0;34m:\u001b[0m\u001b[0;34m\u001b[0m\u001b[0;34m\u001b[0m\u001b[0m\n\u001b[0;32m----> 3\u001b[0;31m   \u001b[0;32mif\u001b[0m \u001b[0mi\u001b[0m \u001b[0;32mnot\u001b[0m \u001b[0;32min\u001b[0m \u001b[0md\u001b[0m\u001b[0;34m:\u001b[0m\u001b[0;34m\u001b[0m\u001b[0;34m\u001b[0m\u001b[0m\n\u001b[0m\u001b[1;32m      4\u001b[0m     \u001b[0md\u001b[0m\u001b[0;34m[\u001b[0m\u001b[0mi\u001b[0m\u001b[0;34m]\u001b[0m\u001b[0;34m=\u001b[0m\u001b[0;36m1\u001b[0m\u001b[0;34m\u001b[0m\u001b[0;34m\u001b[0m\u001b[0m\n\u001b[1;32m      5\u001b[0m   \u001b[0;32melse\u001b[0m\u001b[0;34m:\u001b[0m\u001b[0;34m\u001b[0m\u001b[0;34m\u001b[0m\u001b[0m\n",
            "\u001b[0;31mTypeError\u001b[0m: unhashable type: 'numpy.ndarray'"
          ]
        }
      ]
    },
    {
      "cell_type": "markdown",
      "source": [
        "# WEB APP"
      ],
      "metadata": {
        "id": "HP1E0L86NFLC"
      }
    },
    {
      "cell_type": "code",
      "source": [
        "!pip install -q pyngrok\n",
        "\n",
        "!pip install -q streamlit\n",
        "\n",
        "!pip install -q streamlit_ace"
      ],
      "metadata": {
        "id": "U6p3cB9zNE0S"
      },
      "execution_count": null,
      "outputs": []
    },
    {
      "cell_type": "code",
      "source": [
        "!pip install pandas\n",
        "!pip install mne\n",
        "!pip install eeglib\n",
        "!pip install EDFlib-Python"
      ],
      "metadata": {
        "id": "eJLyrXZ_NhBq"
      },
      "execution_count": null,
      "outputs": []
    },
    {
      "cell_type": "code",
      "source": [
        "%%writefile app1.py\n",
        "\n",
        "from __future__ import print_function\n",
        "import pandas as pd\n",
        "import eeglib\n",
        "from eeglib.helpers import EDFHelper\n",
        "import mne\n",
        "from collections import Counter\n",
        "import statistics\n",
        "import streamlit as st\n",
        "import numpy as np\n",
        "import pandas as pd\n",
        "from sklearn.model_selection import train_test_split\n",
        "from sklearn import svm\n",
        "from sklearn.metrics import accuracy_score\n",
        "import os\n",
        "import time\n",
        "import random\n",
        "import glob\n",
        "import librosa\n",
        "import numpy as np\n",
        "import librosa.display\n",
        "import tensorflow as tf\n",
        "from tensorflow.keras.optimizers import Adam\n",
        "import matplotlib.pyplot as plt\n",
        "import numpy as np\n",
        "from numpy import loadtxt\n",
        "import seaborn as sn\n",
        "import pandas as pd\n",
        "import keras\n",
        "from keras.models import Sequential\n",
        "from keras.wrappers.scikit_learn import KerasClassifier\n",
        "from keras.utils import np_utils\n",
        "from sklearn.model_selection import cross_val_score\n",
        "from sklearn.model_selection import KFold\n",
        "from sklearn.preprocessing import LabelEncoder\n",
        "from sklearn.pipeline import Pipeline\n",
        "from sklearn.model_selection import train_test_split\n",
        "from tensorflow.keras.callbacks import  ModelCheckpoint\n",
        "from tensorflow.keras.models import Model, load_model\n",
        "from keras.layers.core import Dense, Activation\n",
        "from keras.layers.core import Dropout\n",
        "from keras.layers import BatchNormalization\n",
        "from keras.layers import Dropout\n",
        "\n",
        "\n",
        "epilepsy_data = pd.read_csv('/content/original_epilepsy_types_new.csv')\n",
        "epilepsy_data =epilepsy_data.drop(['Unnamed: 0'],axis=1)\n",
        "x=epilepsy_data[['PFD0', 'PFD1', 'PFD2', 'PFD3', 'PFD4', 'PFD5', 'PFD6', 'PFD7', 'PFD8',\n",
        "       'PFD9', 'PFD10', 'PFD11', 'PFD12', 'PFD13', 'PFD14', 'PFD15', 'PFD16',\n",
        "       'PFD17', 'PFD18', 'PFD19', 'PFD20', 'PFD21', 'PFD22', 'DTW',\n",
        "       'hjorthActivity0', 'hjorthActivity1', 'hjorthActivity2',\n",
        "       'hjorthActivity3', 'hjorthActivity4', 'hjorthActivity5',\n",
        "       'hjorthActivity6', 'hjorthActivity7', 'hjorthActivity8',\n",
        "       'hjorthActivity9', 'hjorthActivity10', 'hjorthActivity11',\n",
        "       'hjorthActivity12', 'hjorthActivity13', 'hjorthActivity14',\n",
        "       'hjorthActivity15', 'hjorthActivity16', 'hjorthActivity17',\n",
        "       'hjorthActivity18', 'hjorthActivity19', 'hjorthActivity20',\n",
        "       'hjorthActivity21', 'hjorthActivity22']]\n",
        "y = epilepsy_data['Label']\n",
        "from sklearn.model_selection import train_test_split\n",
        "x_train, x_test, y_train, y_test = train_test_split(x, y, test_size = 0.2, random_state = 42)\n",
        "from sklearn.ensemble import RandomForestClassifier \n",
        "model = RandomForestClassifier() \n",
        "model.fit(x_train, y_train)\n",
        "#pickle_in = open('/content/classifier (3).pkl', 'rb') \n",
        "#classifier = pickle.load(pickle_in)\n",
        " \n",
        "st.cache_data()\n",
        "\n",
        "# defining the function which will make the prediction using the data which the user inputs \n",
        "def prediction(dataframe):   \n",
        " \n",
        "    # Making predictions \n",
        "\n",
        "    prediction = model.predict(dataframe)\n",
        "    \n",
        "    prediction2 = statistics.mode(prediction)\n",
        "   \n",
        "     \n",
        "    if (prediction2 == 0):\n",
        "        pred = 'Dis1 Generalised Epilepsy'\n",
        "    elif (prediction2 == 1):\n",
        "        pred = 'Dis3 Generalised Epilepsy'\n",
        "    elif (prediction2 == 2):\n",
        "        pred = 'Delta Generalised Epilepsy'\n",
        "    elif (prediction2 == 3):\n",
        "        pred = 'Single burst Generalised Epilepsy'\n",
        "    elif (prediction2 == 4):\n",
        "        pred = 'Temporal Epilepsy'\n",
        "    elif (prediction2 == 5):\n",
        "        pred = 'Frontocentral Epilepsy'\n",
        "    else:\n",
        "        pred = 'Frontopolar Epilepsy'\n",
        "    return pred\n",
        "      \n",
        "  \n",
        "# this is the main function in which we define our webpage  \n",
        "def main():       \n",
        "    # front end elements of the web page \n",
        "    html_temp = \"\"\" \n",
        "    <div style =\"background-color:yellow;padding:13px\"> \n",
        "    <h1 style =\"color:black;text-align:center;\">Streamlit Epilepsy Prediction App</h1> \n",
        "    </div> \n",
        "    \"\"\"\n",
        "      \n",
        "    # display the front end aspect\n",
        "    st.markdown(html_temp, unsafe_allow_html = True) \n",
        "      \n",
        "    # following lines create boxes in which user can enter data required to make prediction \n",
        "    uploaded_file = st.file_uploader(\"Upload the eeg (EDF)\")\n",
        "    if uploaded_file is not None :\n",
        "        with open(os.path.join(\"/content/uploaded_file\",\"patient.edf\"),\"wb\") as f: \n",
        "              f.write(uploaded_file.getbuffer())       \n",
        "\n",
        "        #dataframe = mne.io.read_raw_edf(uploaded_file)\n",
        "        \n",
        "    # when 'Predict' is clicked, make the prediction and store it \n",
        "    if st.button(\"Predict\"):\n",
        "        st.write(\"Processing Please Wait\") \n",
        "        s1= mne.io.read_raw_edf('/content/uploaded_file/patient.edf',include=['C3',\n",
        "        'C4',\n",
        "        'Cz',\n",
        "        'F3',\n",
        "        'F4',\n",
        "        'F7',\n",
        "        'F8',\n",
        "        'Fz',\n",
        "        'Fp1',\n",
        "        'Fp2',\n",
        "        'A1',\n",
        "        'A2',\n",
        "        'O1',\n",
        "        'O2',\n",
        "        'P3',\n",
        "        'P4',\n",
        "        'T5',\n",
        "        'T6',\n",
        "        'Pz',\n",
        "        'T3',\n",
        "        'T4',\n",
        "        'ECG-LA',\n",
        "        'ECG-RA'])\n",
        "        s2 = mne.export.export_raw('/content/patient1.edf',s1,overwrite=True)\n",
        "        helper= EDFHelper(\"/content/patient1.edf\",lowpass=70, highpass=1, normalize=True, ICA=True)\n",
        "        wrapper=eeglib.wrapper.Wrapper(helper)\n",
        "        wrapper.addFeature.PFD()\n",
        "        wrapper.addFeature.DTW((0,1))\n",
        "        wrapper.addFeature.hjorthActivity()\n",
        "        data=wrapper.getAllFeatures()\n",
        "        data.to_csv('patient.csv')\n",
        "        dataframe1 = pd.read_csv('patient.csv')\n",
        "        dataframe1 = dataframe1.drop(dataframe1.columns[0],axis=1)\n",
        "        dataframe1.columns = ['PFD0', 'PFD1', 'PFD2', 'PFD3', 'PFD4', 'PFD5', 'PFD6', 'PFD7', 'PFD8',\n",
        "       'PFD9', 'PFD10', 'PFD11', 'PFD12', 'PFD13', 'PFD14', 'PFD15', 'PFD16',\n",
        "       'PFD17', 'PFD18', 'PFD19', 'PFD20', 'PFD21', 'PFD22', 'DTW',\n",
        "       'hjorthActivity0', 'hjorthActivity1', 'hjorthActivity2',\n",
        "       'hjorthActivity3', 'hjorthActivity4', 'hjorthActivity5',\n",
        "       'hjorthActivity6', 'hjorthActivity7', 'hjorthActivity8',\n",
        "       'hjorthActivity9', 'hjorthActivity10', 'hjorthActivity11',\n",
        "       'hjorthActivity12', 'hjorthActivity13', 'hjorthActivity14',\n",
        "       'hjorthActivity15', 'hjorthActivity16', 'hjorthActivity17',\n",
        "       'hjorthActivity18', 'hjorthActivity19', 'hjorthActivity20',\n",
        "       'hjorthActivity21', 'hjorthActivity22']\n",
        "        dataframe1.to_csv(\"patient_app.csv\")\n",
        "        dataframe = pd.read_csv('patient_app.csv')\n",
        "        dataframe = dataframe.drop(dataframe.columns[0],axis=1)\n",
        "        result = prediction(dataframe) \n",
        "        \n",
        "        st.success('Patient disease is {}'.format(result))\n",
        "        print(result)\n",
        "     \n",
        "\n",
        "if __name__=='__main__': \n",
        "    main()\n",
        "      "
      ],
      "metadata": {
        "id": "dBhvtyhKNEK0"
      },
      "execution_count": null,
      "outputs": []
    },
    {
      "cell_type": "code",
      "source": [
        "!streamlit run app1.py & npx localtunnel --port 8501"
      ],
      "metadata": {
        "id": "7bdIVkj5NEOL"
      },
      "execution_count": null,
      "outputs": []
    },
    {
      "cell_type": "code",
      "source": [],
      "metadata": {
        "id": "atL37RpFNERe"
      },
      "execution_count": null,
      "outputs": []
    },
    {
      "cell_type": "code",
      "source": [],
      "metadata": {
        "id": "s2g5MLQiNEUb"
      },
      "execution_count": null,
      "outputs": []
    },
    {
      "cell_type": "code",
      "source": [],
      "metadata": {
        "id": "Qz47kqG1NEX_"
      },
      "execution_count": null,
      "outputs": []
    },
    {
      "cell_type": "code",
      "source": [],
      "metadata": {
        "id": "fKf606g-NEbL"
      },
      "execution_count": null,
      "outputs": []
    },
    {
      "cell_type": "code",
      "source": [],
      "metadata": {
        "id": "3TGbaujrNEey"
      },
      "execution_count": null,
      "outputs": []
    }
  ]
}