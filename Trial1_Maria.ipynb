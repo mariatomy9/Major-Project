{
  "cells": [
    {
      "cell_type": "markdown",
      "metadata": {
        "id": "view-in-github",
        "colab_type": "text"
      },
      "source": [
        "<a href=\"https://colab.research.google.com/github/mariatomy9/Major-Project/blob/maria/Trial1_Maria.ipynb\" target=\"_parent\"><img src=\"https://colab.research.google.com/assets/colab-badge.svg\" alt=\"Open In Colab\"/></a>"
      ]
    },
    {
      "cell_type": "code",
      "execution_count": null,
      "metadata": {
        "id": "764ncEXtDbxc"
      },
      "outputs": [],
      "source": [
        "!pip install eeglib\n",
        "!pip install mne\n",
        "!pip install pyEDFlib\n",
        "!pip install EDFlib-Python"
      ]
    },
    {
      "cell_type": "code",
      "execution_count": null,
      "metadata": {
        "colab": {
          "base_uri": "https://localhost:8080/"
        },
        "id": "cpJwR1e1kwlc",
        "outputId": "efd734da-3f0f-4377-b0a9-54862a0ab9b7"
      },
      "outputs": [
        {
          "name": "stdout",
          "output_type": "stream",
          "text": [
            "Extracting EDF parameters from /content/drive/MyDrive/MajorProject/Trial/High/S01-01-25.09.2016.10.21.24.edf...\n",
            "EDF file detected\n",
            "Setting channel info structure...\n",
            "Creating raw.info structure...\n",
            "Overwriting existing file.\n",
            "Reading 0 ... 23551  =      0.000 ...   183.992 secs...\n"
          ]
        },
        {
          "name": "stderr",
          "output_type": "stream",
          "text": [
            "<ipython-input-21-8c6631aee9d4>:7: RuntimeWarning: Channel names are not unique, found duplicates for: {''}. Applying running numbers for duplicates.\n",
            "  s7= mne.io.read_raw_edf(name)\n"
          ]
        },
        {
          "name": "stdout",
          "output_type": "stream",
          "text": [
            "Extracting EDF parameters from /content/drive/MyDrive/MajorProject/Trial/High/S02-01-25.09.2016.11.25.53.edf...\n",
            "EDF file detected\n",
            "Setting channel info structure...\n",
            "Creating raw.info structure...\n",
            "Overwriting existing file.\n",
            "Reading 0 ... 23679  =      0.000 ...   184.992 secs...\n"
          ]
        },
        {
          "name": "stderr",
          "output_type": "stream",
          "text": [
            "<ipython-input-21-8c6631aee9d4>:7: RuntimeWarning: Channel names are not unique, found duplicates for: {''}. Applying running numbers for duplicates.\n",
            "  s7= mne.io.read_raw_edf(name)\n"
          ]
        },
        {
          "name": "stdout",
          "output_type": "stream",
          "text": [
            "Extracting EDF parameters from /content/drive/MyDrive/MajorProject/Trial/High/S03-01-25.09.2016.12.18.39.edf...\n",
            "EDF file detected\n",
            "Setting channel info structure...\n",
            "Creating raw.info structure...\n",
            "Overwriting existing file.\n",
            "Reading 0 ... 24447  =      0.000 ...   190.992 secs...\n"
          ]
        },
        {
          "name": "stderr",
          "output_type": "stream",
          "text": [
            "<ipython-input-21-8c6631aee9d4>:7: RuntimeWarning: Channel names are not unique, found duplicates for: {''}. Applying running numbers for duplicates.\n",
            "  s7= mne.io.read_raw_edf(name)\n"
          ]
        },
        {
          "name": "stdout",
          "output_type": "stream",
          "text": [
            "/content/drive/MyDrive/MajorProject/Trial/High/New/S01-01-25.09.2016.10.21.24.edf\n",
            "/content/drive/MyDrive/MajorProject/Trial/High/New/S02-01-25.09.2016.11.25.53.edf\n",
            "/content/drive/MyDrive/MajorProject/Trial/High/New/S03-01-25.09.2016.12.18.39.edf\n"
          ]
        }
      ],
      "source": [
        "import mne\n",
        "import glob\n",
        "mypath = '/content/drive/MyDrive/MajorProject/Trial/High/'\n",
        "mypath1 = '/content/drive/MyDrive/MajorProject/Trial/High/New/'\n",
        "for name in glob.glob('/content/drive/MyDrive/MajorProject/Trial/High/*'):\n",
        "  if name.endswith(\".edf\"):\n",
        "    s7= mne.io.read_raw_edf(name)\n",
        "    s=mypath1+name.split('/')[7]\n",
        "    s8 = mne.export.export_raw(s,s7,overwrite=True)\n",
        "\n",
        "for name in glob.glob(mypath1+'*'):\n",
        "  print(name)\n"
      ]
    },
    {
      "cell_type": "code",
      "execution_count": null,
      "metadata": {
        "colab": {
          "base_uri": "https://localhost:8080/"
        },
        "id": "dbFX_YoSnGWn",
        "outputId": "6b44fb7f-b6a4-4ff0-87c0-37aa13341bae"
      },
      "outputs": [
        {
          "name": "stdout",
          "output_type": "stream",
          "text": [
            "Extracting EDF parameters from /content/drive/MyDrive/MajorProject/Trial/Low/S01-01-25.09.2016.10.52.46.edf...\n",
            "EDF file detected\n",
            "Setting channel info structure...\n",
            "Creating raw.info structure...\n",
            "Reading 0 ... 24191  =      0.000 ...   188.992 secs...\n"
          ]
        },
        {
          "name": "stderr",
          "output_type": "stream",
          "text": [
            "<ipython-input-22-98c2300aedbd>:7: RuntimeWarning: Channel names are not unique, found duplicates for: {''}. Applying running numbers for duplicates.\n",
            "  s7= mne.io.read_raw_edf(name)\n"
          ]
        },
        {
          "name": "stdout",
          "output_type": "stream",
          "text": [
            "Extracting EDF parameters from /content/drive/MyDrive/MajorProject/Trial/Low/S02-01-25.09.2016.11.12.43.edf...\n",
            "EDF file detected\n",
            "Setting channel info structure...\n",
            "Creating raw.info structure...\n",
            "Reading 0 ... 24191  =      0.000 ...   188.992 secs...\n"
          ]
        },
        {
          "name": "stderr",
          "output_type": "stream",
          "text": [
            "<ipython-input-22-98c2300aedbd>:7: RuntimeWarning: Channel names are not unique, found duplicates for: {''}. Applying running numbers for duplicates.\n",
            "  s7= mne.io.read_raw_edf(name)\n"
          ]
        },
        {
          "name": "stdout",
          "output_type": "stream",
          "text": [
            "Extracting EDF parameters from /content/drive/MyDrive/MajorProject/Trial/Low/S03-01-25.09.2016.12.37.32.edf...\n",
            "EDF file detected\n",
            "Setting channel info structure...\n",
            "Creating raw.info structure...\n",
            "Reading 0 ... 24319  =      0.000 ...   189.992 secs...\n"
          ]
        },
        {
          "name": "stderr",
          "output_type": "stream",
          "text": [
            "<ipython-input-22-98c2300aedbd>:7: RuntimeWarning: Channel names are not unique, found duplicates for: {''}. Applying running numbers for duplicates.\n",
            "  s7= mne.io.read_raw_edf(name)\n"
          ]
        },
        {
          "name": "stdout",
          "output_type": "stream",
          "text": [
            "/content/drive/MyDrive/MajorProject/Trial/Low/New/S01-01-25.09.2016.10.52.46.edf\n",
            "/content/drive/MyDrive/MajorProject/Trial/Low/New/S02-01-25.09.2016.11.12.43.edf\n",
            "/content/drive/MyDrive/MajorProject/Trial/Low/New/S03-01-25.09.2016.12.37.32.edf\n"
          ]
        }
      ],
      "source": [
        "import mne\n",
        "import glob\n",
        "mypath = '/content/drive/MyDrive/MajorProject/Trial/Low/'\n",
        "mypath1 = '/content/drive/MyDrive/MajorProject/Trial/Low/New/'\n",
        "for name in glob.glob('/content/drive/MyDrive/MajorProject/Trial/Low/*'):\n",
        "  if name.endswith(\".edf\"):\n",
        "    s7= mne.io.read_raw_edf(name)\n",
        "    s=mypath1+name.split('/')[7]\n",
        "    s8 = mne.export.export_raw(s,s7,overwrite=True)\n",
        "\n",
        "for name in glob.glob(mypath1+'*'):\n",
        "  print(name)"
      ]
    },
    {
      "cell_type": "code",
      "execution_count": 3,
      "metadata": {
        "colab": {
          "base_uri": "https://localhost:8080/"
        },
        "id": "sqx2Qs_8Dfnc",
        "outputId": "d0a2c0d1-d193-4543-99e6-2b3319854106"
      },
      "outputs": [
        {
          "output_type": "stream",
          "name": "stdout",
          "text": [
            "Extracting EDF parameters from /content/ADERSHBALU~ AD_646ad5ed-cfc7-45a0-b2ac-274a1cc8cf29.edf...\n",
            "EDF file detected\n",
            "Setting channel info structure...\n",
            "Creating raw.info structure...\n",
            "Reading 0 ... 522239  =      0.000 ...  2039.996 secs...\n"
          ]
        },
        {
          "output_type": "stream",
          "name": "stderr",
          "text": [
            "<ipython-input-3-3c6a41875688>:2: RuntimeWarning: Omitted 8 annotation(s) that were outside data range.\n",
            "  s1= mne.io.read_raw_edf('/content/ADERSHBALU~ AD_646ad5ed-cfc7-45a0-b2ac-274a1cc8cf29.edf')\n",
            "<ipython-input-3-3c6a41875688>:2: RuntimeWarning: Limited 1 annotation(s) that were expanding outside the data range.\n",
            "  s1= mne.io.read_raw_edf('/content/ADERSHBALU~ AD_646ad5ed-cfc7-45a0-b2ac-274a1cc8cf29.edf')\n"
          ]
        }
      ],
      "source": [
        "import mne\n",
        "s1= mne.io.read_raw_edf('/content/ADERSHBALU~ AD_646ad5ed-cfc7-45a0-b2ac-274a1cc8cf29.edf')\n",
        "s2 = mne.export.export_raw('/content/ADERSHBALU.edf',s1)"
      ]
    },
    {
      "cell_type": "code",
      "execution_count": 4,
      "metadata": {
        "colab": {
          "base_uri": "https://localhost:8080/",
          "height": 297
        },
        "id": "Dm6vyZV_GgDC",
        "outputId": "451fa9e9-fa3a-43a9-90fe-fd1bc3f58cbc"
      },
      "outputs": [
        {
          "output_type": "execute_result",
          "data": {
            "text/plain": [
              "<RawEDF | ADERSHBALU~ AD_646ad5ed-cfc7-45a0-b2ac-274a1cc8cf29.edf, 26 x 522240 (2040.0 s), ~103.6 MB, data loaded>"
            ],
            "text/html": [
              "<table class=\"table table-hover table-striped table-sm table-responsive small\">\n",
              "    <tr>\n",
              "        <th>Measurement date</th>\n",
              "        \n",
              "        <td>February 02, 2023  11:09:30 GMT</td>\n",
              "        \n",
              "    </tr>\n",
              "    <tr>\n",
              "        <th>Experimenter</th>\n",
              "        \n",
              "        <td>Unknown</td>\n",
              "        \n",
              "    </tr>\n",
              "        <th>Participant</th>\n",
              "        \n",
              "        <td>Unknown</td>\n",
              "        \n",
              "    </tr>\n",
              "    <tr>\n",
              "        <th>Digitized points</th>\n",
              "        \n",
              "        <td>Not available</td>\n",
              "        \n",
              "    </tr>\n",
              "    <tr>\n",
              "        <th>Good channels</th>\n",
              "        <td>26 EEG</td>\n",
              "    </tr>\n",
              "    <tr>\n",
              "        <th>Bad channels</th>\n",
              "        <td>None</td>\n",
              "    </tr>\n",
              "    <tr>\n",
              "        <th>EOG channels</th>\n",
              "        <td>Not available</td>\n",
              "    </tr>\n",
              "    <tr>\n",
              "        <th>ECG channels</th>\n",
              "        <td>Not available</td>\n",
              "    \n",
              "    <tr>\n",
              "        <th>Sampling frequency</th>\n",
              "        <td>256.00 Hz</td>\n",
              "    </tr>\n",
              "    \n",
              "    \n",
              "    <tr>\n",
              "        <th>Highpass</th>\n",
              "        <td>0.00 Hz</td>\n",
              "    </tr>\n",
              "    \n",
              "    \n",
              "    <tr>\n",
              "        <th>Lowpass</th>\n",
              "        <td>128.00 Hz</td>\n",
              "    </tr>\n",
              "    \n",
              "    \n",
              "    \n",
              "    <tr>\n",
              "        <th>Filenames</th>\n",
              "        <td>ADERSHBALU~ AD_646ad5ed-cfc7-45a0-b2ac-274a1cc8cf29.edf</td>\n",
              "    </tr>\n",
              "    \n",
              "    <tr>\n",
              "        <th>Duration</th>\n",
              "        <td>00:33:60 (HH:MM:SS)</td>\n",
              "    </tr>\n",
              "</table>"
            ]
          },
          "metadata": {},
          "execution_count": 4
        }
      ],
      "source": [
        "s1"
      ]
    },
    {
      "cell_type": "code",
      "execution_count": null,
      "metadata": {
        "colab": {
          "base_uri": "https://localhost:8080/"
        },
        "id": "0MbnIdsmGiDB",
        "outputId": "2427dcb1-b07b-451c-f4a4-0f7d73a9ad04"
      },
      "outputs": [
        {
          "name": "stdout",
          "output_type": "stream",
          "text": [
            "Extracting EDF parameters from /content/ADERSHBALU.edf...\n",
            "EDF file detected\n",
            "Setting channel info structure...\n",
            "Creating raw.info structure...\n"
          ]
        }
      ],
      "source": [
        "s3=mne.io.read_raw_edf('/content/ADERSHBALU.edf')"
      ]
    },
    {
      "cell_type": "code",
      "execution_count": null,
      "metadata": {
        "colab": {
          "base_uri": "https://localhost:8080/",
          "height": 297
        },
        "id": "trQGEhVNGva1",
        "outputId": "8d7a972a-ea1f-489c-88e0-44d2b4198a68"
      },
      "outputs": [
        {
          "data": {
            "text/html": [
              "<table class=\"table table-hover table-striped table-sm table-responsive small\">\n",
              "    <tr>\n",
              "        <th>Measurement date</th>\n",
              "        \n",
              "        <td>February 02, 2023  11:09:30 GMT</td>\n",
              "        \n",
              "    </tr>\n",
              "    <tr>\n",
              "        <th>Experimenter</th>\n",
              "        \n",
              "        <td>Unknown</td>\n",
              "        \n",
              "    </tr>\n",
              "        <th>Participant</th>\n",
              "        \n",
              "        <td>Unknown</td>\n",
              "        \n",
              "    </tr>\n",
              "    <tr>\n",
              "        <th>Digitized points</th>\n",
              "        \n",
              "        <td>Not available</td>\n",
              "        \n",
              "    </tr>\n",
              "    <tr>\n",
              "        <th>Good channels</th>\n",
              "        <td>26 EEG</td>\n",
              "    </tr>\n",
              "    <tr>\n",
              "        <th>Bad channels</th>\n",
              "        <td>None</td>\n",
              "    </tr>\n",
              "    <tr>\n",
              "        <th>EOG channels</th>\n",
              "        <td>Not available</td>\n",
              "    </tr>\n",
              "    <tr>\n",
              "        <th>ECG channels</th>\n",
              "        <td>Not available</td>\n",
              "    \n",
              "    <tr>\n",
              "        <th>Sampling frequency</th>\n",
              "        <td>256.00 Hz</td>\n",
              "    </tr>\n",
              "    \n",
              "    \n",
              "    <tr>\n",
              "        <th>Highpass</th>\n",
              "        <td>0.00 Hz</td>\n",
              "    </tr>\n",
              "    \n",
              "    \n",
              "    <tr>\n",
              "        <th>Lowpass</th>\n",
              "        <td>128.00 Hz</td>\n",
              "    </tr>\n",
              "    \n",
              "    \n",
              "    \n",
              "    <tr>\n",
              "        <th>Filenames</th>\n",
              "        <td>ADERSHBALU.edf</td>\n",
              "    </tr>\n",
              "    \n",
              "    <tr>\n",
              "        <th>Duration</th>\n",
              "        <td>00:33:60 (HH:MM:SS)</td>\n",
              "    </tr>\n",
              "</table>"
            ],
            "text/plain": [
              "<RawEDF | ADERSHBALU.edf, 26 x 522240 (2040.0 s), ~29 kB, data not loaded>"
            ]
          },
          "execution_count": 5,
          "metadata": {},
          "output_type": "execute_result"
        }
      ],
      "source": [
        "s3"
      ]
    },
    {
      "cell_type": "code",
      "execution_count": null,
      "metadata": {
        "id": "ebf7NysMDfqa"
      },
      "outputs": [],
      "source": [
        "import pyedflib\n",
        "f = pyedflib.EdfReader('/content/ADERSHBALU.edf')"
      ]
    },
    {
      "cell_type": "code",
      "execution_count": 5,
      "metadata": {
        "colab": {
          "base_uri": "https://localhost:8080/"
        },
        "id": "2TYpdof4DftS",
        "outputId": "da4e7cf2-3362-4020-d85c-8bdd3b0ca6e2"
      },
      "outputs": [
        {
          "output_type": "stream",
          "name": "stderr",
          "text": [
            "/usr/local/lib/python3.9/dist-packages/sklearn/decomposition/_fastica.py:542: FutureWarning: Starting in v1.3, whiten='unit-variance' will be used by default.\n",
            "  warnings.warn(\n"
          ]
        }
      ],
      "source": [
        "import eeglib\n",
        "from eeglib.helpers import EDFHelper\n",
        "\n",
        "helper= EDFHelper(\"/content/ADERSHBALU.edf\",lowpass=70, highpass=1, normalize=True, ICA=True)\n",
        "\n",
        "# for eeg in helper:\n",
        "#     print(eeg.PFD())"
      ]
    },
    {
      "cell_type": "code",
      "execution_count": null,
      "metadata": {
        "id": "nXm8td10DfwI"
      },
      "outputs": [],
      "source": [
        "# from keras.models import Model\n",
        "# from keras.layers import Conv2D, Dense, Input, Embedding, multiply, Reshape, concatenate\n",
        "\n",
        "# img = Input(shape=(64, 64, 3))\n",
        "# features = Input(shape=(14,))\n",
        "# embedded = Embedding(input_dim=14, output_dim=60*32)(features)\n",
        "# embedded = Reshape(target_shape=(14, 60,32))(embedded)\n",
        "\n",
        "# encoded = Conv2D(32, (3, 3), activation='relu')(img)\n",
        "# encoded = Conv2D(32, (3, 3), activation='relu')(encoded)\n",
        "\n",
        "# x = concatenate([embedded, encoded], axis=1)\n",
        "# x = Dense(64, activation='relu')(x)\n",
        "# x = Dense(64, activation='relu')(x)\n",
        "# main_output = Dense(1, activation='sigmoid', name='main_output')(x)\n",
        "\n",
        "# model = Model([img, features], [main_output])"
      ]
    },
    {
      "cell_type": "code",
      "execution_count": 6,
      "metadata": {
        "id": "jWGD1jhRDfy7"
      },
      "outputs": [],
      "source": [
        "wrapper=eeglib.wrapper.Wrapper(helper)"
      ]
    },
    {
      "cell_type": "code",
      "execution_count": 7,
      "metadata": {
        "id": "QMHXPcLKDf1r"
      },
      "outputs": [],
      "source": [
        "wrapper.addFeature.PFD()"
      ]
    },
    {
      "cell_type": "code",
      "execution_count": 8,
      "metadata": {
        "id": "C2lEdt9XDf4q"
      },
      "outputs": [],
      "source": [
        "wrapper.addFeature.DTW((0,1))"
      ]
    },
    {
      "cell_type": "code",
      "execution_count": null,
      "metadata": {
        "id": "Ybyh2fLn6U_N"
      },
      "outputs": [],
      "source": [
        "# wrapper.addFeature.HFD()\n",
        "# wrapper.addFeature.DFT()\n",
        "# wrapper.addFeature.synchronizationLikelihood()\n"
      ]
    },
    {
      "cell_type": "code",
      "execution_count": 9,
      "metadata": {
        "id": "jTAcQVS-5rJR"
      },
      "outputs": [],
      "source": [
        "data=wrapper.getAllFeatures()"
      ]
    },
    {
      "cell_type": "code",
      "execution_count": 10,
      "metadata": {
        "colab": {
          "base_uri": "https://localhost:8080/",
          "height": 536
        },
        "id": "DFEMPB7u5u4G",
        "outputId": "8a857062-86c0-4b04-8349-d1a000ec18e5"
      },
      "outputs": [
        {
          "output_type": "execute_result",
          "data": {
            "text/plain": [
              "           PFD(){}_0  PFD(){}_1  PFD(){}_2  PFD(){}_3  PFD(){}_4  PFD(){}_5  \\\n",
              "window_id                                                                     \n",
              "0           1.027142   1.026628   1.027912   1.026886   1.027656   1.026628   \n",
              "1           1.027912   1.026628   1.026886   1.026886   1.027912   1.026371   \n",
              "2           1.027142   1.026886   1.026628   1.026886   1.028168   1.026886   \n",
              "3           1.026114   1.026886   1.027142   1.026628   1.028168   1.026114   \n",
              "4           1.027142   1.026886   1.025598   1.026628   1.027399   1.026114   \n",
              "...              ...        ...        ...        ...        ...        ...   \n",
              "2035        1.026628   1.028168   1.026886   1.026628   1.025340   1.026628   \n",
              "2036        1.026371   1.028934   1.027656   1.026628   1.025340   1.028424   \n",
              "2037        1.026628   1.027912   1.026628   1.026628   1.027142   1.027142   \n",
              "2038        1.026628   1.027656   1.026628   1.026628   1.025598   1.027656   \n",
              "2039        1.025856   1.025856   1.026371   1.025856   1.026628   1.027912   \n",
              "\n",
              "           PFD(){}_6  PFD(){}_7  PFD(){}_8  PFD(){}_9  ...  PFD(){}_17  \\\n",
              "window_id                                              ...               \n",
              "0           1.026628   1.028168   1.027399   1.026886  ...    1.026886   \n",
              "1           1.026628   1.025598   1.026628   1.026886  ...    1.026371   \n",
              "2           1.026628   1.028424   1.026886   1.026628  ...    1.026628   \n",
              "3           1.026628   1.027399   1.026886   1.026628  ...    1.026886   \n",
              "4           1.026628   1.026886   1.026628   1.026628  ...    1.026628   \n",
              "...              ...        ...        ...        ...  ...         ...   \n",
              "2035        1.026628   1.027656   1.026628   1.026628  ...    1.026628   \n",
              "2036        1.026628   1.028679   1.026628   1.026628  ...    1.026628   \n",
              "2037        1.026628   1.027399   1.026628   1.026628  ...    1.026628   \n",
              "2038        1.026628   1.028679   1.026628   1.026628  ...    1.026628   \n",
              "2039        1.025856   1.025856   1.025598   1.025598  ...    1.025598   \n",
              "\n",
              "           PFD(){}_18  PFD(){}_19  PFD(){}_20  PFD(){}_21  PFD(){}_22  \\\n",
              "window_id                                                               \n",
              "0            1.026886    1.026628    1.026628    1.029190    1.026114   \n",
              "1            1.026886    1.026628    1.026886    1.026114    1.026114   \n",
              "2            1.026886    1.026628    1.026886    1.027912    1.025856   \n",
              "3            1.026886    1.026628    1.026628    1.026886    1.025856   \n",
              "4            1.026628    1.026114    1.026628    1.028934    1.026371   \n",
              "...               ...         ...         ...         ...         ...   \n",
              "2035         1.026628    1.026628    1.029954    1.026886    1.026628   \n",
              "2036         1.026628    1.026371    1.029699    1.026886    1.026628   \n",
              "2037         1.026628    1.026628    1.027656    1.026886    1.026628   \n",
              "2038         1.026628    1.026628    1.027912    1.026628    1.026628   \n",
              "2039         1.025856    1.025598    1.026371    1.025598    1.026114   \n",
              "\n",
              "           PFD(){}_23  PFD(){}_24  PFD(){}_25  DTW((0, 1),){}  \n",
              "window_id                                                      \n",
              "0            1.026886    1.026114    1.025598       10.004238  \n",
              "1            1.026886    1.026886    1.026371        9.082098  \n",
              "2            1.026886    1.026886    1.026886        8.480788  \n",
              "3            1.026628    1.026886    1.025856        8.310317  \n",
              "4            1.026628    1.026886    1.026114        9.209896  \n",
              "...               ...         ...         ...             ...  \n",
              "2035         1.026628    1.027142    1.026628       71.081409  \n",
              "2036         1.027142    1.028168    1.026628       75.381101  \n",
              "2037         1.026628    1.028168    1.026628       65.850253  \n",
              "2038         1.026628    1.027142    1.026628       64.249178  \n",
              "2039         1.025856    1.026114    1.026371       61.299546  \n",
              "\n",
              "[2040 rows x 27 columns]"
            ],
            "text/html": [
              "\n",
              "  <div id=\"df-d58bd56d-10f2-46f4-9f41-ef6336b4ed44\">\n",
              "    <div class=\"colab-df-container\">\n",
              "      <div>\n",
              "<style scoped>\n",
              "    .dataframe tbody tr th:only-of-type {\n",
              "        vertical-align: middle;\n",
              "    }\n",
              "\n",
              "    .dataframe tbody tr th {\n",
              "        vertical-align: top;\n",
              "    }\n",
              "\n",
              "    .dataframe thead th {\n",
              "        text-align: right;\n",
              "    }\n",
              "</style>\n",
              "<table border=\"1\" class=\"dataframe\">\n",
              "  <thead>\n",
              "    <tr style=\"text-align: right;\">\n",
              "      <th></th>\n",
              "      <th>PFD(){}_0</th>\n",
              "      <th>PFD(){}_1</th>\n",
              "      <th>PFD(){}_2</th>\n",
              "      <th>PFD(){}_3</th>\n",
              "      <th>PFD(){}_4</th>\n",
              "      <th>PFD(){}_5</th>\n",
              "      <th>PFD(){}_6</th>\n",
              "      <th>PFD(){}_7</th>\n",
              "      <th>PFD(){}_8</th>\n",
              "      <th>PFD(){}_9</th>\n",
              "      <th>...</th>\n",
              "      <th>PFD(){}_17</th>\n",
              "      <th>PFD(){}_18</th>\n",
              "      <th>PFD(){}_19</th>\n",
              "      <th>PFD(){}_20</th>\n",
              "      <th>PFD(){}_21</th>\n",
              "      <th>PFD(){}_22</th>\n",
              "      <th>PFD(){}_23</th>\n",
              "      <th>PFD(){}_24</th>\n",
              "      <th>PFD(){}_25</th>\n",
              "      <th>DTW((0, 1),){}</th>\n",
              "    </tr>\n",
              "    <tr>\n",
              "      <th>window_id</th>\n",
              "      <th></th>\n",
              "      <th></th>\n",
              "      <th></th>\n",
              "      <th></th>\n",
              "      <th></th>\n",
              "      <th></th>\n",
              "      <th></th>\n",
              "      <th></th>\n",
              "      <th></th>\n",
              "      <th></th>\n",
              "      <th></th>\n",
              "      <th></th>\n",
              "      <th></th>\n",
              "      <th></th>\n",
              "      <th></th>\n",
              "      <th></th>\n",
              "      <th></th>\n",
              "      <th></th>\n",
              "      <th></th>\n",
              "      <th></th>\n",
              "      <th></th>\n",
              "    </tr>\n",
              "  </thead>\n",
              "  <tbody>\n",
              "    <tr>\n",
              "      <th>0</th>\n",
              "      <td>1.027142</td>\n",
              "      <td>1.026628</td>\n",
              "      <td>1.027912</td>\n",
              "      <td>1.026886</td>\n",
              "      <td>1.027656</td>\n",
              "      <td>1.026628</td>\n",
              "      <td>1.026628</td>\n",
              "      <td>1.028168</td>\n",
              "      <td>1.027399</td>\n",
              "      <td>1.026886</td>\n",
              "      <td>...</td>\n",
              "      <td>1.026886</td>\n",
              "      <td>1.026886</td>\n",
              "      <td>1.026628</td>\n",
              "      <td>1.026628</td>\n",
              "      <td>1.029190</td>\n",
              "      <td>1.026114</td>\n",
              "      <td>1.026886</td>\n",
              "      <td>1.026114</td>\n",
              "      <td>1.025598</td>\n",
              "      <td>10.004238</td>\n",
              "    </tr>\n",
              "    <tr>\n",
              "      <th>1</th>\n",
              "      <td>1.027912</td>\n",
              "      <td>1.026628</td>\n",
              "      <td>1.026886</td>\n",
              "      <td>1.026886</td>\n",
              "      <td>1.027912</td>\n",
              "      <td>1.026371</td>\n",
              "      <td>1.026628</td>\n",
              "      <td>1.025598</td>\n",
              "      <td>1.026628</td>\n",
              "      <td>1.026886</td>\n",
              "      <td>...</td>\n",
              "      <td>1.026371</td>\n",
              "      <td>1.026886</td>\n",
              "      <td>1.026628</td>\n",
              "      <td>1.026886</td>\n",
              "      <td>1.026114</td>\n",
              "      <td>1.026114</td>\n",
              "      <td>1.026886</td>\n",
              "      <td>1.026886</td>\n",
              "      <td>1.026371</td>\n",
              "      <td>9.082098</td>\n",
              "    </tr>\n",
              "    <tr>\n",
              "      <th>2</th>\n",
              "      <td>1.027142</td>\n",
              "      <td>1.026886</td>\n",
              "      <td>1.026628</td>\n",
              "      <td>1.026886</td>\n",
              "      <td>1.028168</td>\n",
              "      <td>1.026886</td>\n",
              "      <td>1.026628</td>\n",
              "      <td>1.028424</td>\n",
              "      <td>1.026886</td>\n",
              "      <td>1.026628</td>\n",
              "      <td>...</td>\n",
              "      <td>1.026628</td>\n",
              "      <td>1.026886</td>\n",
              "      <td>1.026628</td>\n",
              "      <td>1.026886</td>\n",
              "      <td>1.027912</td>\n",
              "      <td>1.025856</td>\n",
              "      <td>1.026886</td>\n",
              "      <td>1.026886</td>\n",
              "      <td>1.026886</td>\n",
              "      <td>8.480788</td>\n",
              "    </tr>\n",
              "    <tr>\n",
              "      <th>3</th>\n",
              "      <td>1.026114</td>\n",
              "      <td>1.026886</td>\n",
              "      <td>1.027142</td>\n",
              "      <td>1.026628</td>\n",
              "      <td>1.028168</td>\n",
              "      <td>1.026114</td>\n",
              "      <td>1.026628</td>\n",
              "      <td>1.027399</td>\n",
              "      <td>1.026886</td>\n",
              "      <td>1.026628</td>\n",
              "      <td>...</td>\n",
              "      <td>1.026886</td>\n",
              "      <td>1.026886</td>\n",
              "      <td>1.026628</td>\n",
              "      <td>1.026628</td>\n",
              "      <td>1.026886</td>\n",
              "      <td>1.025856</td>\n",
              "      <td>1.026628</td>\n",
              "      <td>1.026886</td>\n",
              "      <td>1.025856</td>\n",
              "      <td>8.310317</td>\n",
              "    </tr>\n",
              "    <tr>\n",
              "      <th>4</th>\n",
              "      <td>1.027142</td>\n",
              "      <td>1.026886</td>\n",
              "      <td>1.025598</td>\n",
              "      <td>1.026628</td>\n",
              "      <td>1.027399</td>\n",
              "      <td>1.026114</td>\n",
              "      <td>1.026628</td>\n",
              "      <td>1.026886</td>\n",
              "      <td>1.026628</td>\n",
              "      <td>1.026628</td>\n",
              "      <td>...</td>\n",
              "      <td>1.026628</td>\n",
              "      <td>1.026628</td>\n",
              "      <td>1.026114</td>\n",
              "      <td>1.026628</td>\n",
              "      <td>1.028934</td>\n",
              "      <td>1.026371</td>\n",
              "      <td>1.026628</td>\n",
              "      <td>1.026886</td>\n",
              "      <td>1.026114</td>\n",
              "      <td>9.209896</td>\n",
              "    </tr>\n",
              "    <tr>\n",
              "      <th>...</th>\n",
              "      <td>...</td>\n",
              "      <td>...</td>\n",
              "      <td>...</td>\n",
              "      <td>...</td>\n",
              "      <td>...</td>\n",
              "      <td>...</td>\n",
              "      <td>...</td>\n",
              "      <td>...</td>\n",
              "      <td>...</td>\n",
              "      <td>...</td>\n",
              "      <td>...</td>\n",
              "      <td>...</td>\n",
              "      <td>...</td>\n",
              "      <td>...</td>\n",
              "      <td>...</td>\n",
              "      <td>...</td>\n",
              "      <td>...</td>\n",
              "      <td>...</td>\n",
              "      <td>...</td>\n",
              "      <td>...</td>\n",
              "      <td>...</td>\n",
              "    </tr>\n",
              "    <tr>\n",
              "      <th>2035</th>\n",
              "      <td>1.026628</td>\n",
              "      <td>1.028168</td>\n",
              "      <td>1.026886</td>\n",
              "      <td>1.026628</td>\n",
              "      <td>1.025340</td>\n",
              "      <td>1.026628</td>\n",
              "      <td>1.026628</td>\n",
              "      <td>1.027656</td>\n",
              "      <td>1.026628</td>\n",
              "      <td>1.026628</td>\n",
              "      <td>...</td>\n",
              "      <td>1.026628</td>\n",
              "      <td>1.026628</td>\n",
              "      <td>1.026628</td>\n",
              "      <td>1.029954</td>\n",
              "      <td>1.026886</td>\n",
              "      <td>1.026628</td>\n",
              "      <td>1.026628</td>\n",
              "      <td>1.027142</td>\n",
              "      <td>1.026628</td>\n",
              "      <td>71.081409</td>\n",
              "    </tr>\n",
              "    <tr>\n",
              "      <th>2036</th>\n",
              "      <td>1.026371</td>\n",
              "      <td>1.028934</td>\n",
              "      <td>1.027656</td>\n",
              "      <td>1.026628</td>\n",
              "      <td>1.025340</td>\n",
              "      <td>1.028424</td>\n",
              "      <td>1.026628</td>\n",
              "      <td>1.028679</td>\n",
              "      <td>1.026628</td>\n",
              "      <td>1.026628</td>\n",
              "      <td>...</td>\n",
              "      <td>1.026628</td>\n",
              "      <td>1.026628</td>\n",
              "      <td>1.026371</td>\n",
              "      <td>1.029699</td>\n",
              "      <td>1.026886</td>\n",
              "      <td>1.026628</td>\n",
              "      <td>1.027142</td>\n",
              "      <td>1.028168</td>\n",
              "      <td>1.026628</td>\n",
              "      <td>75.381101</td>\n",
              "    </tr>\n",
              "    <tr>\n",
              "      <th>2037</th>\n",
              "      <td>1.026628</td>\n",
              "      <td>1.027912</td>\n",
              "      <td>1.026628</td>\n",
              "      <td>1.026628</td>\n",
              "      <td>1.027142</td>\n",
              "      <td>1.027142</td>\n",
              "      <td>1.026628</td>\n",
              "      <td>1.027399</td>\n",
              "      <td>1.026628</td>\n",
              "      <td>1.026628</td>\n",
              "      <td>...</td>\n",
              "      <td>1.026628</td>\n",
              "      <td>1.026628</td>\n",
              "      <td>1.026628</td>\n",
              "      <td>1.027656</td>\n",
              "      <td>1.026886</td>\n",
              "      <td>1.026628</td>\n",
              "      <td>1.026628</td>\n",
              "      <td>1.028168</td>\n",
              "      <td>1.026628</td>\n",
              "      <td>65.850253</td>\n",
              "    </tr>\n",
              "    <tr>\n",
              "      <th>2038</th>\n",
              "      <td>1.026628</td>\n",
              "      <td>1.027656</td>\n",
              "      <td>1.026628</td>\n",
              "      <td>1.026628</td>\n",
              "      <td>1.025598</td>\n",
              "      <td>1.027656</td>\n",
              "      <td>1.026628</td>\n",
              "      <td>1.028679</td>\n",
              "      <td>1.026628</td>\n",
              "      <td>1.026628</td>\n",
              "      <td>...</td>\n",
              "      <td>1.026628</td>\n",
              "      <td>1.026628</td>\n",
              "      <td>1.026628</td>\n",
              "      <td>1.027912</td>\n",
              "      <td>1.026628</td>\n",
              "      <td>1.026628</td>\n",
              "      <td>1.026628</td>\n",
              "      <td>1.027142</td>\n",
              "      <td>1.026628</td>\n",
              "      <td>64.249178</td>\n",
              "    </tr>\n",
              "    <tr>\n",
              "      <th>2039</th>\n",
              "      <td>1.025856</td>\n",
              "      <td>1.025856</td>\n",
              "      <td>1.026371</td>\n",
              "      <td>1.025856</td>\n",
              "      <td>1.026628</td>\n",
              "      <td>1.027912</td>\n",
              "      <td>1.025856</td>\n",
              "      <td>1.025856</td>\n",
              "      <td>1.025598</td>\n",
              "      <td>1.025598</td>\n",
              "      <td>...</td>\n",
              "      <td>1.025598</td>\n",
              "      <td>1.025856</td>\n",
              "      <td>1.025598</td>\n",
              "      <td>1.026371</td>\n",
              "      <td>1.025598</td>\n",
              "      <td>1.026114</td>\n",
              "      <td>1.025856</td>\n",
              "      <td>1.026114</td>\n",
              "      <td>1.026371</td>\n",
              "      <td>61.299546</td>\n",
              "    </tr>\n",
              "  </tbody>\n",
              "</table>\n",
              "<p>2040 rows × 27 columns</p>\n",
              "</div>\n",
              "      <button class=\"colab-df-convert\" onclick=\"convertToInteractive('df-d58bd56d-10f2-46f4-9f41-ef6336b4ed44')\"\n",
              "              title=\"Convert this dataframe to an interactive table.\"\n",
              "              style=\"display:none;\">\n",
              "        \n",
              "  <svg xmlns=\"http://www.w3.org/2000/svg\" height=\"24px\"viewBox=\"0 0 24 24\"\n",
              "       width=\"24px\">\n",
              "    <path d=\"M0 0h24v24H0V0z\" fill=\"none\"/>\n",
              "    <path d=\"M18.56 5.44l.94 2.06.94-2.06 2.06-.94-2.06-.94-.94-2.06-.94 2.06-2.06.94zm-11 1L8.5 8.5l.94-2.06 2.06-.94-2.06-.94L8.5 2.5l-.94 2.06-2.06.94zm10 10l.94 2.06.94-2.06 2.06-.94-2.06-.94-.94-2.06-.94 2.06-2.06.94z\"/><path d=\"M17.41 7.96l-1.37-1.37c-.4-.4-.92-.59-1.43-.59-.52 0-1.04.2-1.43.59L10.3 9.45l-7.72 7.72c-.78.78-.78 2.05 0 2.83L4 21.41c.39.39.9.59 1.41.59.51 0 1.02-.2 1.41-.59l7.78-7.78 2.81-2.81c.8-.78.8-2.07 0-2.86zM5.41 20L4 18.59l7.72-7.72 1.47 1.35L5.41 20z\"/>\n",
              "  </svg>\n",
              "      </button>\n",
              "      \n",
              "  <style>\n",
              "    .colab-df-container {\n",
              "      display:flex;\n",
              "      flex-wrap:wrap;\n",
              "      gap: 12px;\n",
              "    }\n",
              "\n",
              "    .colab-df-convert {\n",
              "      background-color: #E8F0FE;\n",
              "      border: none;\n",
              "      border-radius: 50%;\n",
              "      cursor: pointer;\n",
              "      display: none;\n",
              "      fill: #1967D2;\n",
              "      height: 32px;\n",
              "      padding: 0 0 0 0;\n",
              "      width: 32px;\n",
              "    }\n",
              "\n",
              "    .colab-df-convert:hover {\n",
              "      background-color: #E2EBFA;\n",
              "      box-shadow: 0px 1px 2px rgba(60, 64, 67, 0.3), 0px 1px 3px 1px rgba(60, 64, 67, 0.15);\n",
              "      fill: #174EA6;\n",
              "    }\n",
              "\n",
              "    [theme=dark] .colab-df-convert {\n",
              "      background-color: #3B4455;\n",
              "      fill: #D2E3FC;\n",
              "    }\n",
              "\n",
              "    [theme=dark] .colab-df-convert:hover {\n",
              "      background-color: #434B5C;\n",
              "      box-shadow: 0px 1px 3px 1px rgba(0, 0, 0, 0.15);\n",
              "      filter: drop-shadow(0px 1px 2px rgba(0, 0, 0, 0.3));\n",
              "      fill: #FFFFFF;\n",
              "    }\n",
              "  </style>\n",
              "\n",
              "      <script>\n",
              "        const buttonEl =\n",
              "          document.querySelector('#df-d58bd56d-10f2-46f4-9f41-ef6336b4ed44 button.colab-df-convert');\n",
              "        buttonEl.style.display =\n",
              "          google.colab.kernel.accessAllowed ? 'block' : 'none';\n",
              "\n",
              "        async function convertToInteractive(key) {\n",
              "          const element = document.querySelector('#df-d58bd56d-10f2-46f4-9f41-ef6336b4ed44');\n",
              "          const dataTable =\n",
              "            await google.colab.kernel.invokeFunction('convertToInteractive',\n",
              "                                                     [key], {});\n",
              "          if (!dataTable) return;\n",
              "\n",
              "          const docLinkHtml = 'Like what you see? Visit the ' +\n",
              "            '<a target=\"_blank\" href=https://colab.research.google.com/notebooks/data_table.ipynb>data table notebook</a>'\n",
              "            + ' to learn more about interactive tables.';\n",
              "          element.innerHTML = '';\n",
              "          dataTable['output_type'] = 'display_data';\n",
              "          await google.colab.output.renderOutput(dataTable, element);\n",
              "          const docLink = document.createElement('div');\n",
              "          docLink.innerHTML = docLinkHtml;\n",
              "          element.appendChild(docLink);\n",
              "        }\n",
              "      </script>\n",
              "    </div>\n",
              "  </div>\n",
              "  "
            ]
          },
          "metadata": {},
          "execution_count": 10
        }
      ],
      "source": [
        "data"
      ]
    },
    {
      "cell_type": "code",
      "source": [
        "l=[0 for i in range(2040)]"
      ],
      "metadata": {
        "id": "ys7lwHGat0eS"
      },
      "execution_count": 13,
      "outputs": []
    },
    {
      "cell_type": "code",
      "source": [
        "data.insert(27, \"Label\", l, True)"
      ],
      "metadata": {
        "id": "muRX40OTtrzK"
      },
      "execution_count": 16,
      "outputs": []
    },
    {
      "cell_type": "code",
      "source": [
        "data"
      ],
      "metadata": {
        "id": "k8iNPu7NvKu_"
      },
      "execution_count": null,
      "outputs": []
    },
    {
      "cell_type": "code",
      "source": [
        "data.drop(['DTW((0, 1),){}'], axis=1)"
      ],
      "metadata": {
        "id": "l708RXGVvUtm"
      },
      "execution_count": null,
      "outputs": []
    },
    {
      "cell_type": "code",
      "source": [
        "import eeglib\n",
        "from eeglib.helpers import EDFHelper\n",
        "\n",
        "helper1= EDFHelper(\"/content/SANGEETHA~ SAN_2bd862ae-3fb3-4549-a19f-80f1f653ab4f.edf\",lowpass=70, highpass=1, normalize=True, ICA=True)\n",
        "\n",
        "# for eeg in helper:\n",
        "#     print(eeg.PFD())"
      ],
      "metadata": {
        "colab": {
          "base_uri": "https://localhost:8080/"
        },
        "id": "F0K1nFZ82Tpm",
        "outputId": "272ea498-040f-4818-b7e3-dec294b52bb3"
      },
      "execution_count": 43,
      "outputs": [
        {
          "output_type": "stream",
          "name": "stderr",
          "text": [
            "/usr/local/lib/python3.9/dist-packages/sklearn/decomposition/_fastica.py:542: FutureWarning: Starting in v1.3, whiten='unit-variance' will be used by default.\n",
            "  warnings.warn(\n"
          ]
        }
      ]
    },
    {
      "cell_type": "code",
      "source": [
        "wrapper1=eeglib.wrapper.Wrapper(helper1)"
      ],
      "metadata": {
        "id": "NUuxigOgw6Cf"
      },
      "execution_count": 44,
      "outputs": []
    },
    {
      "cell_type": "code",
      "source": [
        "wrapper1.addFeature.PFD()"
      ],
      "metadata": {
        "id": "KKVAcMW9w59j"
      },
      "execution_count": 45,
      "outputs": []
    },
    {
      "cell_type": "code",
      "source": [
        "data2=wrapper1.getAllFeatures()"
      ],
      "metadata": {
        "id": "-D9LPzpTxDLj"
      },
      "execution_count": 46,
      "outputs": []
    },
    {
      "cell_type": "code",
      "source": [
        "data2"
      ],
      "metadata": {
        "colab": {
          "base_uri": "https://localhost:8080/",
          "height": 536
        },
        "id": "idLgzybHxDDW",
        "outputId": "b4671d94-07ff-4681-ce64-9d79125e58cc"
      },
      "execution_count": 47,
      "outputs": [
        {
          "output_type": "execute_result",
          "data": {
            "text/plain": [
              "           PFD(){}_0  PFD(){}_1  PFD(){}_2  PFD(){}_3  PFD(){}_4  PFD(){}_5  \\\n",
              "window_id                                                                     \n",
              "0           1.002314   1.003000   1.002745   1.002667   1.002589   1.003098   \n",
              "1           1.002432   1.002432   1.002549   1.002608   1.002510   1.003098   \n",
              "2           1.002353   1.002137   1.002843   1.002530   1.002432   1.003059   \n",
              "3           1.002471   1.002392   1.002569   1.002451   1.002471   1.002980   \n",
              "4           1.002255   1.002471   1.002687   1.002549   1.002412   1.002726   \n",
              "...              ...        ...        ...        ...        ...        ...   \n",
              "179         1.002353   1.002745   1.002804   1.002333   1.002471   1.003039   \n",
              "180         1.002137   1.002941   1.002706   1.002667   1.001980   1.002628   \n",
              "181         1.001980   1.002549   1.002628   1.002510   1.002235   1.003078   \n",
              "182         1.002235   1.002549   1.002785   1.002589   1.002078   1.002902   \n",
              "183         1.000119   1.000060   1.000100   1.000100   1.000119   1.000080   \n",
              "\n",
              "           PFD(){}_6  PFD(){}_7  PFD(){}_8  PFD(){}_9  PFD(){}_10  \n",
              "window_id                                                          \n",
              "0           1.002549   1.003586   1.004248   1.002589    1.001960  \n",
              "1           1.002549   1.003078   1.004383   1.003176    1.002157  \n",
              "2           1.002608   1.003488   1.004228   1.002569    1.002157  \n",
              "3           1.002667   1.003215   1.004383   1.002765    1.002117  \n",
              "4           1.002392   1.003235   1.004500   1.002647    1.002117  \n",
              "...              ...        ...        ...        ...         ...  \n",
              "179         1.002392   1.002824   1.004383   1.002530    1.002117  \n",
              "180         1.002549   1.002824   1.004442   1.002843    1.001802  \n",
              "181         1.002294   1.003215   1.004810   1.002687    1.001920  \n",
              "182         1.002392   1.003059   1.004616   1.002824    1.001960  \n",
              "183         1.000119   1.000100   1.000100   1.000080    1.000060  \n",
              "\n",
              "[184 rows x 11 columns]"
            ],
            "text/html": [
              "\n",
              "  <div id=\"df-d2096d00-50c0-4224-b44b-cc96966a0122\">\n",
              "    <div class=\"colab-df-container\">\n",
              "      <div>\n",
              "<style scoped>\n",
              "    .dataframe tbody tr th:only-of-type {\n",
              "        vertical-align: middle;\n",
              "    }\n",
              "\n",
              "    .dataframe tbody tr th {\n",
              "        vertical-align: top;\n",
              "    }\n",
              "\n",
              "    .dataframe thead th {\n",
              "        text-align: right;\n",
              "    }\n",
              "</style>\n",
              "<table border=\"1\" class=\"dataframe\">\n",
              "  <thead>\n",
              "    <tr style=\"text-align: right;\">\n",
              "      <th></th>\n",
              "      <th>PFD(){}_0</th>\n",
              "      <th>PFD(){}_1</th>\n",
              "      <th>PFD(){}_2</th>\n",
              "      <th>PFD(){}_3</th>\n",
              "      <th>PFD(){}_4</th>\n",
              "      <th>PFD(){}_5</th>\n",
              "      <th>PFD(){}_6</th>\n",
              "      <th>PFD(){}_7</th>\n",
              "      <th>PFD(){}_8</th>\n",
              "      <th>PFD(){}_9</th>\n",
              "      <th>PFD(){}_10</th>\n",
              "    </tr>\n",
              "    <tr>\n",
              "      <th>window_id</th>\n",
              "      <th></th>\n",
              "      <th></th>\n",
              "      <th></th>\n",
              "      <th></th>\n",
              "      <th></th>\n",
              "      <th></th>\n",
              "      <th></th>\n",
              "      <th></th>\n",
              "      <th></th>\n",
              "      <th></th>\n",
              "      <th></th>\n",
              "    </tr>\n",
              "  </thead>\n",
              "  <tbody>\n",
              "    <tr>\n",
              "      <th>0</th>\n",
              "      <td>1.002314</td>\n",
              "      <td>1.003000</td>\n",
              "      <td>1.002745</td>\n",
              "      <td>1.002667</td>\n",
              "      <td>1.002589</td>\n",
              "      <td>1.003098</td>\n",
              "      <td>1.002549</td>\n",
              "      <td>1.003586</td>\n",
              "      <td>1.004248</td>\n",
              "      <td>1.002589</td>\n",
              "      <td>1.001960</td>\n",
              "    </tr>\n",
              "    <tr>\n",
              "      <th>1</th>\n",
              "      <td>1.002432</td>\n",
              "      <td>1.002432</td>\n",
              "      <td>1.002549</td>\n",
              "      <td>1.002608</td>\n",
              "      <td>1.002510</td>\n",
              "      <td>1.003098</td>\n",
              "      <td>1.002549</td>\n",
              "      <td>1.003078</td>\n",
              "      <td>1.004383</td>\n",
              "      <td>1.003176</td>\n",
              "      <td>1.002157</td>\n",
              "    </tr>\n",
              "    <tr>\n",
              "      <th>2</th>\n",
              "      <td>1.002353</td>\n",
              "      <td>1.002137</td>\n",
              "      <td>1.002843</td>\n",
              "      <td>1.002530</td>\n",
              "      <td>1.002432</td>\n",
              "      <td>1.003059</td>\n",
              "      <td>1.002608</td>\n",
              "      <td>1.003488</td>\n",
              "      <td>1.004228</td>\n",
              "      <td>1.002569</td>\n",
              "      <td>1.002157</td>\n",
              "    </tr>\n",
              "    <tr>\n",
              "      <th>3</th>\n",
              "      <td>1.002471</td>\n",
              "      <td>1.002392</td>\n",
              "      <td>1.002569</td>\n",
              "      <td>1.002451</td>\n",
              "      <td>1.002471</td>\n",
              "      <td>1.002980</td>\n",
              "      <td>1.002667</td>\n",
              "      <td>1.003215</td>\n",
              "      <td>1.004383</td>\n",
              "      <td>1.002765</td>\n",
              "      <td>1.002117</td>\n",
              "    </tr>\n",
              "    <tr>\n",
              "      <th>4</th>\n",
              "      <td>1.002255</td>\n",
              "      <td>1.002471</td>\n",
              "      <td>1.002687</td>\n",
              "      <td>1.002549</td>\n",
              "      <td>1.002412</td>\n",
              "      <td>1.002726</td>\n",
              "      <td>1.002392</td>\n",
              "      <td>1.003235</td>\n",
              "      <td>1.004500</td>\n",
              "      <td>1.002647</td>\n",
              "      <td>1.002117</td>\n",
              "    </tr>\n",
              "    <tr>\n",
              "      <th>...</th>\n",
              "      <td>...</td>\n",
              "      <td>...</td>\n",
              "      <td>...</td>\n",
              "      <td>...</td>\n",
              "      <td>...</td>\n",
              "      <td>...</td>\n",
              "      <td>...</td>\n",
              "      <td>...</td>\n",
              "      <td>...</td>\n",
              "      <td>...</td>\n",
              "      <td>...</td>\n",
              "    </tr>\n",
              "    <tr>\n",
              "      <th>179</th>\n",
              "      <td>1.002353</td>\n",
              "      <td>1.002745</td>\n",
              "      <td>1.002804</td>\n",
              "      <td>1.002333</td>\n",
              "      <td>1.002471</td>\n",
              "      <td>1.003039</td>\n",
              "      <td>1.002392</td>\n",
              "      <td>1.002824</td>\n",
              "      <td>1.004383</td>\n",
              "      <td>1.002530</td>\n",
              "      <td>1.002117</td>\n",
              "    </tr>\n",
              "    <tr>\n",
              "      <th>180</th>\n",
              "      <td>1.002137</td>\n",
              "      <td>1.002941</td>\n",
              "      <td>1.002706</td>\n",
              "      <td>1.002667</td>\n",
              "      <td>1.001980</td>\n",
              "      <td>1.002628</td>\n",
              "      <td>1.002549</td>\n",
              "      <td>1.002824</td>\n",
              "      <td>1.004442</td>\n",
              "      <td>1.002843</td>\n",
              "      <td>1.001802</td>\n",
              "    </tr>\n",
              "    <tr>\n",
              "      <th>181</th>\n",
              "      <td>1.001980</td>\n",
              "      <td>1.002549</td>\n",
              "      <td>1.002628</td>\n",
              "      <td>1.002510</td>\n",
              "      <td>1.002235</td>\n",
              "      <td>1.003078</td>\n",
              "      <td>1.002294</td>\n",
              "      <td>1.003215</td>\n",
              "      <td>1.004810</td>\n",
              "      <td>1.002687</td>\n",
              "      <td>1.001920</td>\n",
              "    </tr>\n",
              "    <tr>\n",
              "      <th>182</th>\n",
              "      <td>1.002235</td>\n",
              "      <td>1.002549</td>\n",
              "      <td>1.002785</td>\n",
              "      <td>1.002589</td>\n",
              "      <td>1.002078</td>\n",
              "      <td>1.002902</td>\n",
              "      <td>1.002392</td>\n",
              "      <td>1.003059</td>\n",
              "      <td>1.004616</td>\n",
              "      <td>1.002824</td>\n",
              "      <td>1.001960</td>\n",
              "    </tr>\n",
              "    <tr>\n",
              "      <th>183</th>\n",
              "      <td>1.000119</td>\n",
              "      <td>1.000060</td>\n",
              "      <td>1.000100</td>\n",
              "      <td>1.000100</td>\n",
              "      <td>1.000119</td>\n",
              "      <td>1.000080</td>\n",
              "      <td>1.000119</td>\n",
              "      <td>1.000100</td>\n",
              "      <td>1.000100</td>\n",
              "      <td>1.000080</td>\n",
              "      <td>1.000060</td>\n",
              "    </tr>\n",
              "  </tbody>\n",
              "</table>\n",
              "<p>184 rows × 11 columns</p>\n",
              "</div>\n",
              "      <button class=\"colab-df-convert\" onclick=\"convertToInteractive('df-d2096d00-50c0-4224-b44b-cc96966a0122')\"\n",
              "              title=\"Convert this dataframe to an interactive table.\"\n",
              "              style=\"display:none;\">\n",
              "        \n",
              "  <svg xmlns=\"http://www.w3.org/2000/svg\" height=\"24px\"viewBox=\"0 0 24 24\"\n",
              "       width=\"24px\">\n",
              "    <path d=\"M0 0h24v24H0V0z\" fill=\"none\"/>\n",
              "    <path d=\"M18.56 5.44l.94 2.06.94-2.06 2.06-.94-2.06-.94-.94-2.06-.94 2.06-2.06.94zm-11 1L8.5 8.5l.94-2.06 2.06-.94-2.06-.94L8.5 2.5l-.94 2.06-2.06.94zm10 10l.94 2.06.94-2.06 2.06-.94-2.06-.94-.94-2.06-.94 2.06-2.06.94z\"/><path d=\"M17.41 7.96l-1.37-1.37c-.4-.4-.92-.59-1.43-.59-.52 0-1.04.2-1.43.59L10.3 9.45l-7.72 7.72c-.78.78-.78 2.05 0 2.83L4 21.41c.39.39.9.59 1.41.59.51 0 1.02-.2 1.41-.59l7.78-7.78 2.81-2.81c.8-.78.8-2.07 0-2.86zM5.41 20L4 18.59l7.72-7.72 1.47 1.35L5.41 20z\"/>\n",
              "  </svg>\n",
              "      </button>\n",
              "      \n",
              "  <style>\n",
              "    .colab-df-container {\n",
              "      display:flex;\n",
              "      flex-wrap:wrap;\n",
              "      gap: 12px;\n",
              "    }\n",
              "\n",
              "    .colab-df-convert {\n",
              "      background-color: #E8F0FE;\n",
              "      border: none;\n",
              "      border-radius: 50%;\n",
              "      cursor: pointer;\n",
              "      display: none;\n",
              "      fill: #1967D2;\n",
              "      height: 32px;\n",
              "      padding: 0 0 0 0;\n",
              "      width: 32px;\n",
              "    }\n",
              "\n",
              "    .colab-df-convert:hover {\n",
              "      background-color: #E2EBFA;\n",
              "      box-shadow: 0px 1px 2px rgba(60, 64, 67, 0.3), 0px 1px 3px 1px rgba(60, 64, 67, 0.15);\n",
              "      fill: #174EA6;\n",
              "    }\n",
              "\n",
              "    [theme=dark] .colab-df-convert {\n",
              "      background-color: #3B4455;\n",
              "      fill: #D2E3FC;\n",
              "    }\n",
              "\n",
              "    [theme=dark] .colab-df-convert:hover {\n",
              "      background-color: #434B5C;\n",
              "      box-shadow: 0px 1px 3px 1px rgba(0, 0, 0, 0.15);\n",
              "      filter: drop-shadow(0px 1px 2px rgba(0, 0, 0, 0.3));\n",
              "      fill: #FFFFFF;\n",
              "    }\n",
              "  </style>\n",
              "\n",
              "      <script>\n",
              "        const buttonEl =\n",
              "          document.querySelector('#df-d2096d00-50c0-4224-b44b-cc96966a0122 button.colab-df-convert');\n",
              "        buttonEl.style.display =\n",
              "          google.colab.kernel.accessAllowed ? 'block' : 'none';\n",
              "\n",
              "        async function convertToInteractive(key) {\n",
              "          const element = document.querySelector('#df-d2096d00-50c0-4224-b44b-cc96966a0122');\n",
              "          const dataTable =\n",
              "            await google.colab.kernel.invokeFunction('convertToInteractive',\n",
              "                                                     [key], {});\n",
              "          if (!dataTable) return;\n",
              "\n",
              "          const docLinkHtml = 'Like what you see? Visit the ' +\n",
              "            '<a target=\"_blank\" href=https://colab.research.google.com/notebooks/data_table.ipynb>data table notebook</a>'\n",
              "            + ' to learn more about interactive tables.';\n",
              "          element.innerHTML = '';\n",
              "          dataTable['output_type'] = 'display_data';\n",
              "          await google.colab.output.renderOutput(dataTable, element);\n",
              "          const docLink = document.createElement('div');\n",
              "          docLink.innerHTML = docLinkHtml;\n",
              "          element.appendChild(docLink);\n",
              "        }\n",
              "      </script>\n",
              "    </div>\n",
              "  </div>\n",
              "  "
            ]
          },
          "metadata": {},
          "execution_count": 47
        }
      ]
    },
    {
      "cell_type": "code",
      "source": [
        "data['Mean']=data.mean(axis=1)"
      ],
      "metadata": {
        "id": "rnZZS62hxC-e"
      },
      "execution_count": 26,
      "outputs": []
    },
    {
      "cell_type": "code",
      "source": [
        "data2['Mean']=data2.mean(axis=1)"
      ],
      "metadata": {
        "id": "G98uBUBKxC5_"
      },
      "execution_count": 48,
      "outputs": []
    },
    {
      "cell_type": "code",
      "source": [
        "l=[1 for i in range(184)]"
      ],
      "metadata": {
        "id": "2m_zjiT1z9CF"
      },
      "execution_count": 30,
      "outputs": []
    },
    {
      "cell_type": "code",
      "source": [
        "data2.insert(11, \"Label\", l, True)"
      ],
      "metadata": {
        "id": "uYDTObbwzyj6"
      },
      "execution_count": 49,
      "outputs": []
    },
    {
      "cell_type": "code",
      "source": [
        "data.drop(data.iloc[:, 0:27], inplace=True, axis=1)"
      ],
      "metadata": {
        "id": "mI_u_HzO3A4Q"
      },
      "execution_count": 51,
      "outputs": []
    },
    {
      "cell_type": "code",
      "source": [
        "data2.drop(data2.iloc[:, 0:11], inplace=True, axis=1)"
      ],
      "metadata": {
        "id": "oj28A2mZ3hGX"
      },
      "execution_count": 53,
      "outputs": []
    },
    {
      "cell_type": "code",
      "source": [
        "col_list = list(data2.columns)\n",
        "x, y = col_list.index('Label'), col_list.index('Mean')\n",
        "col_list[y], col_list[x] = col_list[x], col_list[y]\n",
        "data2 = data2[col_list]"
      ],
      "metadata": {
        "id": "xA0tRxNI40wc"
      },
      "execution_count": 58,
      "outputs": []
    },
    {
      "cell_type": "code",
      "source": [
        "df=data.set_index(['Mean','Label']).join(data2.set_index(['Mean','Label']))\n",
        "\n"
      ],
      "metadata": {
        "id": "IZTACMD33sJX"
      },
      "execution_count": 61,
      "outputs": []
    },
    {
      "cell_type": "code",
      "source": [
        "df=[data,data2]"
      ],
      "metadata": {
        "id": "m-n1yaGf6P-K"
      },
      "execution_count": 63,
      "outputs": []
    },
    {
      "cell_type": "code",
      "source": [
        "import pandas as pd"
      ],
      "metadata": {
        "id": "5RKPuaV86xUc"
      },
      "execution_count": 65,
      "outputs": []
    },
    {
      "cell_type": "code",
      "source": [
        "result = pd.concat(df)\n",
        "result"
      ],
      "metadata": {
        "colab": {
          "base_uri": "https://localhost:8080/",
          "height": 455
        },
        "id": "W-qpkZ6x6sJ7",
        "outputId": "66a38d56-33fe-459e-f76d-07d405cbdb4b"
      },
      "execution_count": 66,
      "outputs": [
        {
          "output_type": "execute_result",
          "data": {
            "text/plain": [
              "               Mean  Label\n",
              "window_id                 \n",
              "0          1.310949      0\n",
              "1          1.277832      0\n",
              "2          1.256477      0\n",
              "3          1.250122      0\n",
              "4          1.282351      0\n",
              "...             ...    ...\n",
              "179        1.002727      1\n",
              "180        1.002684      1\n",
              "181        1.002719      1\n",
              "182        1.002726      1\n",
              "183        1.000094      1\n",
              "\n",
              "[2224 rows x 2 columns]"
            ],
            "text/html": [
              "\n",
              "  <div id=\"df-fc9cfbc2-353b-4119-9af9-c625d78ba1ec\">\n",
              "    <div class=\"colab-df-container\">\n",
              "      <div>\n",
              "<style scoped>\n",
              "    .dataframe tbody tr th:only-of-type {\n",
              "        vertical-align: middle;\n",
              "    }\n",
              "\n",
              "    .dataframe tbody tr th {\n",
              "        vertical-align: top;\n",
              "    }\n",
              "\n",
              "    .dataframe thead th {\n",
              "        text-align: right;\n",
              "    }\n",
              "</style>\n",
              "<table border=\"1\" class=\"dataframe\">\n",
              "  <thead>\n",
              "    <tr style=\"text-align: right;\">\n",
              "      <th></th>\n",
              "      <th>Mean</th>\n",
              "      <th>Label</th>\n",
              "    </tr>\n",
              "    <tr>\n",
              "      <th>window_id</th>\n",
              "      <th></th>\n",
              "      <th></th>\n",
              "    </tr>\n",
              "  </thead>\n",
              "  <tbody>\n",
              "    <tr>\n",
              "      <th>0</th>\n",
              "      <td>1.310949</td>\n",
              "      <td>0</td>\n",
              "    </tr>\n",
              "    <tr>\n",
              "      <th>1</th>\n",
              "      <td>1.277832</td>\n",
              "      <td>0</td>\n",
              "    </tr>\n",
              "    <tr>\n",
              "      <th>2</th>\n",
              "      <td>1.256477</td>\n",
              "      <td>0</td>\n",
              "    </tr>\n",
              "    <tr>\n",
              "      <th>3</th>\n",
              "      <td>1.250122</td>\n",
              "      <td>0</td>\n",
              "    </tr>\n",
              "    <tr>\n",
              "      <th>4</th>\n",
              "      <td>1.282351</td>\n",
              "      <td>0</td>\n",
              "    </tr>\n",
              "    <tr>\n",
              "      <th>...</th>\n",
              "      <td>...</td>\n",
              "      <td>...</td>\n",
              "    </tr>\n",
              "    <tr>\n",
              "      <th>179</th>\n",
              "      <td>1.002727</td>\n",
              "      <td>1</td>\n",
              "    </tr>\n",
              "    <tr>\n",
              "      <th>180</th>\n",
              "      <td>1.002684</td>\n",
              "      <td>1</td>\n",
              "    </tr>\n",
              "    <tr>\n",
              "      <th>181</th>\n",
              "      <td>1.002719</td>\n",
              "      <td>1</td>\n",
              "    </tr>\n",
              "    <tr>\n",
              "      <th>182</th>\n",
              "      <td>1.002726</td>\n",
              "      <td>1</td>\n",
              "    </tr>\n",
              "    <tr>\n",
              "      <th>183</th>\n",
              "      <td>1.000094</td>\n",
              "      <td>1</td>\n",
              "    </tr>\n",
              "  </tbody>\n",
              "</table>\n",
              "<p>2224 rows × 2 columns</p>\n",
              "</div>\n",
              "      <button class=\"colab-df-convert\" onclick=\"convertToInteractive('df-fc9cfbc2-353b-4119-9af9-c625d78ba1ec')\"\n",
              "              title=\"Convert this dataframe to an interactive table.\"\n",
              "              style=\"display:none;\">\n",
              "        \n",
              "  <svg xmlns=\"http://www.w3.org/2000/svg\" height=\"24px\"viewBox=\"0 0 24 24\"\n",
              "       width=\"24px\">\n",
              "    <path d=\"M0 0h24v24H0V0z\" fill=\"none\"/>\n",
              "    <path d=\"M18.56 5.44l.94 2.06.94-2.06 2.06-.94-2.06-.94-.94-2.06-.94 2.06-2.06.94zm-11 1L8.5 8.5l.94-2.06 2.06-.94-2.06-.94L8.5 2.5l-.94 2.06-2.06.94zm10 10l.94 2.06.94-2.06 2.06-.94-2.06-.94-.94-2.06-.94 2.06-2.06.94z\"/><path d=\"M17.41 7.96l-1.37-1.37c-.4-.4-.92-.59-1.43-.59-.52 0-1.04.2-1.43.59L10.3 9.45l-7.72 7.72c-.78.78-.78 2.05 0 2.83L4 21.41c.39.39.9.59 1.41.59.51 0 1.02-.2 1.41-.59l7.78-7.78 2.81-2.81c.8-.78.8-2.07 0-2.86zM5.41 20L4 18.59l7.72-7.72 1.47 1.35L5.41 20z\"/>\n",
              "  </svg>\n",
              "      </button>\n",
              "      \n",
              "  <style>\n",
              "    .colab-df-container {\n",
              "      display:flex;\n",
              "      flex-wrap:wrap;\n",
              "      gap: 12px;\n",
              "    }\n",
              "\n",
              "    .colab-df-convert {\n",
              "      background-color: #E8F0FE;\n",
              "      border: none;\n",
              "      border-radius: 50%;\n",
              "      cursor: pointer;\n",
              "      display: none;\n",
              "      fill: #1967D2;\n",
              "      height: 32px;\n",
              "      padding: 0 0 0 0;\n",
              "      width: 32px;\n",
              "    }\n",
              "\n",
              "    .colab-df-convert:hover {\n",
              "      background-color: #E2EBFA;\n",
              "      box-shadow: 0px 1px 2px rgba(60, 64, 67, 0.3), 0px 1px 3px 1px rgba(60, 64, 67, 0.15);\n",
              "      fill: #174EA6;\n",
              "    }\n",
              "\n",
              "    [theme=dark] .colab-df-convert {\n",
              "      background-color: #3B4455;\n",
              "      fill: #D2E3FC;\n",
              "    }\n",
              "\n",
              "    [theme=dark] .colab-df-convert:hover {\n",
              "      background-color: #434B5C;\n",
              "      box-shadow: 0px 1px 3px 1px rgba(0, 0, 0, 0.15);\n",
              "      filter: drop-shadow(0px 1px 2px rgba(0, 0, 0, 0.3));\n",
              "      fill: #FFFFFF;\n",
              "    }\n",
              "  </style>\n",
              "\n",
              "      <script>\n",
              "        const buttonEl =\n",
              "          document.querySelector('#df-fc9cfbc2-353b-4119-9af9-c625d78ba1ec button.colab-df-convert');\n",
              "        buttonEl.style.display =\n",
              "          google.colab.kernel.accessAllowed ? 'block' : 'none';\n",
              "\n",
              "        async function convertToInteractive(key) {\n",
              "          const element = document.querySelector('#df-fc9cfbc2-353b-4119-9af9-c625d78ba1ec');\n",
              "          const dataTable =\n",
              "            await google.colab.kernel.invokeFunction('convertToInteractive',\n",
              "                                                     [key], {});\n",
              "          if (!dataTable) return;\n",
              "\n",
              "          const docLinkHtml = 'Like what you see? Visit the ' +\n",
              "            '<a target=\"_blank\" href=https://colab.research.google.com/notebooks/data_table.ipynb>data table notebook</a>'\n",
              "            + ' to learn more about interactive tables.';\n",
              "          element.innerHTML = '';\n",
              "          dataTable['output_type'] = 'display_data';\n",
              "          await google.colab.output.renderOutput(dataTable, element);\n",
              "          const docLink = document.createElement('div');\n",
              "          docLink.innerHTML = docLinkHtml;\n",
              "          element.appendChild(docLink);\n",
              "        }\n",
              "      </script>\n",
              "    </div>\n",
              "  </div>\n",
              "  "
            ]
          },
          "metadata": {},
          "execution_count": 66
        }
      ]
    },
    {
      "cell_type": "code",
      "execution_count": 67,
      "metadata": {
        "id": "uu5WQ_027gBJ"
      },
      "outputs": [],
      "source": [
        "result.to_csv('training.csv')"
      ]
    },
    {
      "cell_type": "code",
      "source": [
        "import numpy as np"
      ],
      "metadata": {
        "id": "ceT7uAQv7VsU"
      },
      "execution_count": 69,
      "outputs": []
    },
    {
      "cell_type": "code",
      "source": [
        "from sklearn.preprocessing import StandardScaler\n",
        "fit=StandardScaler()\n",
        "X=fit.fit_transform(np.array(result.iloc[:,:-1],dtype=float))"
      ],
      "metadata": {
        "id": "syLKZ7xc7Q1L"
      },
      "execution_count": 84,
      "outputs": []
    },
    {
      "cell_type": "code",
      "source": [
        "y=np.array(result.iloc[:,-1])"
      ],
      "metadata": {
        "id": "uGcFSRQ7-sQj"
      },
      "execution_count": 100,
      "outputs": []
    },
    {
      "cell_type": "code",
      "source": [
        "y.shape"
      ],
      "metadata": {
        "colab": {
          "base_uri": "https://localhost:8080/"
        },
        "id": "NqbT_mmlANjm",
        "outputId": "f788d029-f86b-4735-e05b-023d9c19b5b4"
      },
      "execution_count": 102,
      "outputs": [
        {
          "output_type": "execute_result",
          "data": {
            "text/plain": [
              "(2224,)"
            ]
          },
          "metadata": {},
          "execution_count": 102
        }
      ]
    },
    {
      "cell_type": "code",
      "source": [
        "from sklearn.model_selection import train_test_split\n",
        "from sklearn.preprocessing import LabelEncoder\n",
        "import tensorflow as tf\n",
        "from tensorflow import keras"
      ],
      "metadata": {
        "id": "QBpaB4kN7ojy"
      },
      "execution_count": 72,
      "outputs": []
    },
    {
      "cell_type": "code",
      "source": [
        "X_train,X_test,Y_train,Y_test=train_test_split(X,y,test_size=0.25,random_state = 42)"
      ],
      "metadata": {
        "id": "KsgqqqU6-zRo"
      },
      "execution_count": 104,
      "outputs": []
    },
    {
      "cell_type": "code",
      "source": [
        "len(Y_test)"
      ],
      "metadata": {
        "colab": {
          "base_uri": "https://localhost:8080/"
        },
        "id": "NCVziIox_M6r",
        "outputId": "d249ede7-987f-43b0-d1de-37ac6962e68a"
      },
      "execution_count": 105,
      "outputs": [
        {
          "output_type": "execute_result",
          "data": {
            "text/plain": [
              "556"
            ]
          },
          "metadata": {},
          "execution_count": 105
        }
      ]
    },
    {
      "cell_type": "code",
      "source": [
        "#X_train,X_test=train_test_split(result,test_size=0.25,random_state = 42, stratify = result['Label'])"
      ],
      "metadata": {
        "id": "s0akHxOg7d3n"
      },
      "execution_count": 83,
      "outputs": []
    },
    {
      "cell_type": "code",
      "execution_count": 91,
      "metadata": {
        "id": "HqO_iYK0Ut8u"
      },
      "outputs": [],
      "source": [
        "\n",
        "from tensorflow.keras.models import Sequential"
      ]
    },
    {
      "cell_type": "code",
      "execution_count": 95,
      "metadata": {
        "id": "l-IkUG-l9iOg"
      },
      "outputs": [],
      "source": [
        "def trainModel(model,epochs,optimizer):\n",
        "    batch_size=128\n",
        "    model.compile(optimizer=optimizer,loss='sparse_categorical_crossentropy',metrics='accuracy')\n",
        "    return model.fit(X_train,Y_train,validation_data=(X_test,Y_test),epochs=epochs,batch_size=batch_size)"
      ]
    },
    {
      "cell_type": "code",
      "source": [
        "\n",
        "def plotValidate(history):\n",
        "    print(\"Validation Accuracy\",max(history.history[\"val_accuracy\"]))\n",
        "    pd.DataFrame(history.history).plot(figsize=(12,6))\n",
        "    plt.show()"
      ],
      "metadata": {
        "id": "KsbZzQAR_h73"
      },
      "execution_count": 96,
      "outputs": []
    },
    {
      "cell_type": "code",
      "source": [
        "import tensorflow as tf"
      ],
      "metadata": {
        "id": "Vh2uhtRa_iN0"
      },
      "execution_count": 93,
      "outputs": []
    },
    {
      "cell_type": "code",
      "source": [
        "model=tf.keras.models.Sequential([\n",
        "    tf.keras.layers.Dense(512,activation='relu',input_shape=(X_train.shape[1],)),\n",
        "    tf.keras.layers.Dropout(0.2),\n",
        "    \n",
        "    tf.keras.layers.Dense(256,activation='relu'),\n",
        "    keras.layers.Dropout(0.2),\n",
        "    \n",
        "    tf.keras.layers.Dense(128,activation='relu'),\n",
        "    tf.keras.layers.Dropout(0.2),\n",
        "    \n",
        "    tf.keras.layers.Dense(64,activation='relu'),\n",
        "    tf.keras.layers.Dropout(0.2),\n",
        "    \n",
        "    tf.keras.layers.Dense(10,activation='softmax'),\n",
        "])\n",
        "print(model.summary())\n",
        "model_history=trainModel(model=model,epochs=30,optimizer='adam')"
      ],
      "metadata": {
        "colab": {
          "base_uri": "https://localhost:8080/"
        },
        "id": "exaun4w3_o80",
        "outputId": "73743249-663b-48d8-83de-531680199f28"
      },
      "execution_count": 111,
      "outputs": [
        {
          "output_type": "stream",
          "name": "stdout",
          "text": [
            "Model: \"sequential_5\"\n",
            "_________________________________________________________________\n",
            " Layer (type)                Output Shape              Param #   \n",
            "=================================================================\n",
            " dense_25 (Dense)            (None, 512)               1024      \n",
            "                                                                 \n",
            " dropout_20 (Dropout)        (None, 512)               0         \n",
            "                                                                 \n",
            " dense_26 (Dense)            (None, 256)               131328    \n",
            "                                                                 \n",
            " dropout_21 (Dropout)        (None, 256)               0         \n",
            "                                                                 \n",
            " dense_27 (Dense)            (None, 128)               32896     \n",
            "                                                                 \n",
            " dropout_22 (Dropout)        (None, 128)               0         \n",
            "                                                                 \n",
            " dense_28 (Dense)            (None, 64)                8256      \n",
            "                                                                 \n",
            " dropout_23 (Dropout)        (None, 64)                0         \n",
            "                                                                 \n",
            " dense_29 (Dense)            (None, 10)                650       \n",
            "                                                                 \n",
            "=================================================================\n",
            "Total params: 174,154\n",
            "Trainable params: 174,154\n",
            "Non-trainable params: 0\n",
            "_________________________________________________________________\n",
            "None\n",
            "Epoch 1/30\n",
            "14/14 [==============================] - 4s 45ms/step - loss: 2.0678 - accuracy: 0.8411 - val_loss: 1.3162 - val_accuracy: 0.9173\n",
            "Epoch 2/30\n",
            "14/14 [==============================] - 0s 18ms/step - loss: 0.6466 - accuracy: 0.9173 - val_loss: 0.4945 - val_accuracy: 0.9173\n",
            "Epoch 3/30\n",
            "14/14 [==============================] - 0s 22ms/step - loss: 0.3957 - accuracy: 0.9173 - val_loss: 0.3030 - val_accuracy: 0.9173\n",
            "Epoch 4/30\n",
            "14/14 [==============================] - 0s 20ms/step - loss: 0.3250 - accuracy: 0.9131 - val_loss: 0.2972 - val_accuracy: 0.9173\n",
            "Epoch 5/30\n",
            "14/14 [==============================] - 0s 19ms/step - loss: 0.3193 - accuracy: 0.9173 - val_loss: 0.2791 - val_accuracy: 0.9173\n",
            "Epoch 6/30\n",
            "14/14 [==============================] - 0s 20ms/step - loss: 0.2895 - accuracy: 0.9173 - val_loss: 0.2726 - val_accuracy: 0.9173\n",
            "Epoch 7/30\n",
            "14/14 [==============================] - 0s 23ms/step - loss: 0.2871 - accuracy: 0.9173 - val_loss: 0.2629 - val_accuracy: 0.9173\n",
            "Epoch 8/30\n",
            "14/14 [==============================] - 0s 26ms/step - loss: 0.2781 - accuracy: 0.9167 - val_loss: 0.2645 - val_accuracy: 0.9173\n",
            "Epoch 9/30\n",
            "14/14 [==============================] - 0s 21ms/step - loss: 0.2601 - accuracy: 0.9173 - val_loss: 0.2297 - val_accuracy: 0.9173\n",
            "Epoch 10/30\n",
            "14/14 [==============================] - 0s 21ms/step - loss: 0.2425 - accuracy: 0.9173 - val_loss: 0.2151 - val_accuracy: 0.9173\n",
            "Epoch 11/30\n",
            "14/14 [==============================] - 0s 21ms/step - loss: 0.2136 - accuracy: 0.9173 - val_loss: 0.1834 - val_accuracy: 0.9173\n",
            "Epoch 12/30\n",
            "14/14 [==============================] - 1s 38ms/step - loss: 0.1681 - accuracy: 0.9173 - val_loss: 0.1223 - val_accuracy: 0.9173\n",
            "Epoch 13/30\n",
            "14/14 [==============================] - 0s 31ms/step - loss: 0.1342 - accuracy: 0.9197 - val_loss: 0.1042 - val_accuracy: 0.9173\n",
            "Epoch 14/30\n",
            "14/14 [==============================] - 0s 28ms/step - loss: 0.0832 - accuracy: 0.9562 - val_loss: 0.0555 - val_accuracy: 0.9946\n",
            "Epoch 15/30\n",
            "14/14 [==============================] - 0s 15ms/step - loss: 0.0504 - accuracy: 0.9898 - val_loss: 0.0480 - val_accuracy: 0.9946\n",
            "Epoch 16/30\n",
            "14/14 [==============================] - 0s 12ms/step - loss: 0.0356 - accuracy: 0.9904 - val_loss: 0.0453 - val_accuracy: 0.9946\n",
            "Epoch 17/30\n",
            "14/14 [==============================] - 0s 13ms/step - loss: 0.0336 - accuracy: 0.9916 - val_loss: 0.0218 - val_accuracy: 0.9946\n",
            "Epoch 18/30\n",
            "14/14 [==============================] - 0s 13ms/step - loss: 0.0193 - accuracy: 0.9958 - val_loss: 0.0223 - val_accuracy: 0.9946\n",
            "Epoch 19/30\n",
            "14/14 [==============================] - 0s 11ms/step - loss: 0.0175 - accuracy: 0.9964 - val_loss: 0.0225 - val_accuracy: 0.9946\n",
            "Epoch 20/30\n",
            "14/14 [==============================] - 0s 12ms/step - loss: 0.0183 - accuracy: 0.9964 - val_loss: 0.0229 - val_accuracy: 0.9946\n",
            "Epoch 21/30\n",
            "14/14 [==============================] - 0s 12ms/step - loss: 0.0198 - accuracy: 0.9964 - val_loss: 0.0224 - val_accuracy: 0.9946\n",
            "Epoch 22/30\n",
            "14/14 [==============================] - 0s 13ms/step - loss: 0.0181 - accuracy: 0.9964 - val_loss: 0.0223 - val_accuracy: 0.9946\n",
            "Epoch 23/30\n",
            "14/14 [==============================] - 0s 12ms/step - loss: 0.0175 - accuracy: 0.9964 - val_loss: 0.0225 - val_accuracy: 0.9946\n",
            "Epoch 24/30\n",
            "14/14 [==============================] - 0s 13ms/step - loss: 0.0194 - accuracy: 0.9964 - val_loss: 0.0228 - val_accuracy: 0.9946\n",
            "Epoch 25/30\n",
            "14/14 [==============================] - 0s 12ms/step - loss: 0.0204 - accuracy: 0.9964 - val_loss: 0.0222 - val_accuracy: 0.9946\n",
            "Epoch 26/30\n",
            "14/14 [==============================] - 0s 13ms/step - loss: 0.0202 - accuracy: 0.9964 - val_loss: 0.0222 - val_accuracy: 0.9946\n",
            "Epoch 27/30\n",
            "14/14 [==============================] - 0s 12ms/step - loss: 0.0178 - accuracy: 0.9964 - val_loss: 0.0221 - val_accuracy: 0.9946\n",
            "Epoch 28/30\n",
            "14/14 [==============================] - 0s 12ms/step - loss: 0.0165 - accuracy: 0.9964 - val_loss: 0.0224 - val_accuracy: 0.9946\n",
            "Epoch 29/30\n",
            "14/14 [==============================] - 0s 15ms/step - loss: 0.0175 - accuracy: 0.9958 - val_loss: 0.0230 - val_accuracy: 0.9946\n",
            "Epoch 30/30\n",
            "14/14 [==============================] - 0s 29ms/step - loss: 0.0197 - accuracy: 0.9964 - val_loss: 0.0222 - val_accuracy: 0.9946\n"
          ]
        }
      ]
    },
    {
      "cell_type": "code",
      "source": [
        "test_loss,test_acc=model.evaluate(X_test,Y_test,batch_size=128)\n",
        "print(\"The test loss is \",test_loss)\n",
        "print(\"The best accuracy is: \",test_acc*100)"
      ],
      "metadata": {
        "colab": {
          "base_uri": "https://localhost:8080/"
        },
        "id": "-ddTvKCr_o_U",
        "outputId": "e3ba4a89-7280-4df9-d274-d50698d4e945"
      },
      "execution_count": 112,
      "outputs": [
        {
          "output_type": "stream",
          "name": "stdout",
          "text": [
            "5/5 [==============================] - 0s 4ms/step - loss: 0.0222 - accuracy: 0.9946\n",
            "The test loss is  0.02219550311565399\n",
            "The best accuracy is:  99.46042895317078\n"
          ]
        }
      ]
    },
    {
      "cell_type": "code",
      "source": [],
      "metadata": {
        "id": "TfdtHMjW_pCC"
      },
      "execution_count": null,
      "outputs": []
    },
    {
      "cell_type": "code",
      "source": [],
      "metadata": {
        "id": "Pf0_VMaf_pFK"
      },
      "execution_count": null,
      "outputs": []
    },
    {
      "cell_type": "code",
      "source": [],
      "metadata": {
        "id": "XZ_XT9ZN_pHk"
      },
      "execution_count": null,
      "outputs": []
    },
    {
      "cell_type": "code",
      "source": [],
      "metadata": {
        "id": "EuABwjkG_pLH"
      },
      "execution_count": null,
      "outputs": []
    },
    {
      "cell_type": "code",
      "source": [],
      "metadata": {
        "id": "OFVe-FB7_pOF"
      },
      "execution_count": null,
      "outputs": []
    },
    {
      "cell_type": "code",
      "execution_count": null,
      "metadata": {
        "id": "X1svDE7i-VlO"
      },
      "outputs": [],
      "source": [
        "import glob"
      ]
    },
    {
      "cell_type": "code",
      "execution_count": null,
      "metadata": {
        "id": "6i8-Hznc4xPQ"
      },
      "outputs": [],
      "source": [
        "healthy_file_path=[i for i in glob.glob(all_files_path_h) if i.endswith(\".edf\")]\n",
        "patient_file_path=[i for i in glob.glob(all_files_path_s) if i.endswith(\".edf\")]"
      ]
    },
    {
      "cell_type": "code",
      "execution_count": null,
      "metadata": {
        "id": "1W9_1rEX4xVg"
      },
      "outputs": [],
      "source": [
        "def read_data(file_path):\n",
        "    datax=mne.io.read_raw_edf(file_path,preload=True)\n",
        "    datax.set_eeg_reference()\n",
        "    datax.filter(l_freq=1,h_freq=45)\n",
        "    epochs=mne.make_fixed_length_epochs(datax,duration=25,overlap=0)\n",
        "    epochs=epochs.get_data()\n",
        "    return epochs #trials,channel,length"
      ]
    },
    {
      "cell_type": "code",
      "execution_count": null,
      "metadata": {
        "id": "P5RRMUNK4xYf"
      },
      "outputs": [],
      "source": [
        "data=read_data(healthy_file_path[0])"
      ]
    },
    {
      "cell_type": "code",
      "execution_count": null,
      "metadata": {
        "colab": {
          "base_uri": "https://localhost:8080/"
        },
        "id": "Ul1vJjaz4xbB",
        "outputId": "6224c2cd-9062-4fd2-9b03-ac25d7ff864a"
      },
      "outputs": [
        {
          "data": {
            "text/plain": [
              "(7, 37, 3200)"
            ]
          },
          "execution_count": 10,
          "metadata": {},
          "output_type": "execute_result"
        }
      ],
      "source": [
        "data.shape"
      ]
    },
    {
      "cell_type": "code",
      "execution_count": null,
      "metadata": {
        "id": "tF70-pmM4xep"
      },
      "outputs": [],
      "source": [
        "control_epochs_array=[read_data(subject) for subject in healthy_file_path]\n",
        "patients_epochs_array=[read_data(subject) for subject in patient_file_path]"
      ]
    },
    {
      "cell_type": "code",
      "execution_count": null,
      "metadata": {
        "colab": {
          "base_uri": "https://localhost:8080/"
        },
        "id": "nWh7Mm5HBFX9",
        "outputId": "5ccaa0b7-dac5-4ce1-8066-dc9d8ef488fe"
      },
      "outputs": [
        {
          "name": "stdout",
          "output_type": "stream",
          "text": [
            "3 3\n"
          ]
        }
      ],
      "source": [
        "control_epochs_labels=[len(i)*[0] for i in control_epochs_array]\n",
        "patients_epochs_labels=[len(i)*[1] for i in patients_epochs_array]\n",
        "print(len(control_epochs_labels),len(patients_epochs_labels))"
      ]
    },
    {
      "cell_type": "code",
      "execution_count": null,
      "metadata": {
        "colab": {
          "base_uri": "https://localhost:8080/"
        },
        "id": "7QmN-1iYBFeJ",
        "outputId": "4ec81258-8160-4e12-aa60-20971749eab9"
      },
      "outputs": [
        {
          "name": "stdout",
          "output_type": "stream",
          "text": [
            "6 6\n"
          ]
        }
      ],
      "source": [
        "data_list=control_epochs_array+patients_epochs_array\n",
        "label_list=control_epochs_labels+patients_epochs_labels\n",
        "print(len(data_list),len(label_list))"
      ]
    },
    {
      "cell_type": "code",
      "execution_count": null,
      "metadata": {
        "colab": {
          "base_uri": "https://localhost:8080/"
        },
        "id": "M5NXzFlLBt5S",
        "outputId": "c4b0eca5-a3a6-4606-87bd-d29756d81997"
      },
      "outputs": [
        {
          "name": "stdout",
          "output_type": "stream",
          "text": [
            "[1, 9, 0, 0, 7, 6]\n"
          ]
        }
      ],
      "source": [
        "l=[1,9,0]\n",
        "m=[0,7,6]\n",
        "print(l+m)"
      ]
    },
    {
      "cell_type": "code",
      "execution_count": null,
      "metadata": {
        "id": "daz_vFdIBFkk"
      },
      "outputs": [],
      "source": [
        "groups_list=[[i]*len(j) for i, j in enumerate(data_list)]"
      ]
    },
    {
      "cell_type": "code",
      "execution_count": null,
      "metadata": {
        "id": "4DFAGhrTCRdd"
      },
      "outputs": [],
      "source": [
        "import numpy as np\n"
      ]
    },
    {
      "cell_type": "code",
      "execution_count": null,
      "metadata": {
        "colab": {
          "base_uri": "https://localhost:8080/"
        },
        "id": "7g-oJ6TyB58G",
        "outputId": "d2b95c99-a86a-43ce-b262-8e2bf8b23656"
      },
      "outputs": [
        {
          "name": "stdout",
          "output_type": "stream",
          "text": [
            "(42, 3200, 37) (42,) (42,)\n"
          ]
        }
      ],
      "source": [
        "data_array=np.vstack(data_list)\n",
        "label_array=np.hstack(label_list)\n",
        "group_array=np.hstack(groups_list)\n",
        "data_array=np.moveaxis(data_array,1,2)\n",
        "\n",
        "print(data_array.shape,label_array.shape,group_array.shape)"
      ]
    },
    {
      "cell_type": "code",
      "execution_count": null,
      "metadata": {
        "id": "XzqwWqszB5_c"
      },
      "outputs": [],
      "source": [
        "from tensorflow.keras.layers import Conv1D,BatchNormalization,LeakyReLU,MaxPool1D,\\\n",
        "GlobalAveragePooling1D,Dense,Dropout,AveragePooling1D\n",
        "from tensorflow.keras.models import Sequential\n",
        "from tensorflow.keras.backend import clear_session\n",
        "def cnnmodel():\n",
        "    clear_session()\n",
        "    model=Sequential()\n",
        "    model.add(Conv1D(filters=5,kernel_size=3,strides=1,input_shape=(3200, 37)))#1\n",
        "    model.add(BatchNormalization())\n",
        "    model.add(LeakyReLU())\n",
        "    model.add(MaxPool1D(pool_size=2,strides=2))#2\n",
        "    model.add(Conv1D(filters=5,kernel_size=3,strides=1))#3\n",
        "    model.add(LeakyReLU())\n",
        "    model.add(MaxPool1D(pool_size=2,strides=2))#4\n",
        "    model.add(Dropout(0.5))\n",
        "    model.add(Conv1D(filters=5,kernel_size=3,strides=1))#5\n",
        "    model.add(LeakyReLU())\n",
        "    model.add(AveragePooling1D(pool_size=2,strides=2))#6\n",
        "    model.add(Dropout(0.5))\n",
        "    model.add(Conv1D(filters=5,kernel_size=3,strides=1))#7\n",
        "    model.add(LeakyReLU())\n",
        "    model.add(AveragePooling1D(pool_size=2,strides=2))#8\n",
        "    model.add(Conv1D(filters=5,kernel_size=3,strides=1))#9\n",
        "    model.add(LeakyReLU())\n",
        "    model.add(GlobalAveragePooling1D())#10\n",
        "    model.add(Dense(1,activation='sigmoid'))#11\n",
        "    model.compile('adam',loss='binary_crossentropy',metrics=['accuracy'])\n",
        "    return model\n",
        "\n",
        "model=cnnmodel()\n",
        "model.summary()\n"
      ]
    },
    {
      "cell_type": "code",
      "execution_count": null,
      "metadata": {
        "id": "LuhdvNiOB6Be"
      },
      "outputs": [],
      "source": [
        "from sklearn.model_selection import GroupKFold,LeaveOneGroupOut\n",
        "from sklearn.preprocessing import StandardScaler\n",
        "gkf=GroupKFold()"
      ]
    },
    {
      "cell_type": "code",
      "execution_count": null,
      "metadata": {
        "colab": {
          "base_uri": "https://localhost:8080/"
        },
        "id": "iDM-gSJzB6Fi",
        "outputId": "426ee1c5-fd2f-4548-a8f3-ec206b6eb339"
      },
      "outputs": [
        {
          "name": "stdout",
          "output_type": "stream",
          "text": [
            "Epoch 1/10\n",
            "1/1 [==============================] - 2s 2s/step - loss: 0.7057 - accuracy: 0.5000 - val_loss: 0.6933 - val_accuracy: 0.5000\n",
            "Epoch 2/10\n",
            "1/1 [==============================] - 0s 287ms/step - loss: 0.6965 - accuracy: 0.5714 - val_loss: 0.6932 - val_accuracy: 0.5000\n",
            "Epoch 3/10\n",
            "1/1 [==============================] - 0s 287ms/step - loss: 0.6963 - accuracy: 0.5357 - val_loss: 0.6932 - val_accuracy: 0.5000\n",
            "Epoch 4/10\n",
            "1/1 [==============================] - 0s 268ms/step - loss: 0.6980 - accuracy: 0.4643 - val_loss: 0.6932 - val_accuracy: 0.5000\n",
            "Epoch 5/10\n",
            "1/1 [==============================] - 0s 298ms/step - loss: 0.6975 - accuracy: 0.4643 - val_loss: 0.6932 - val_accuracy: 0.5000\n",
            "Epoch 6/10\n",
            "1/1 [==============================] - 0s 244ms/step - loss: 0.6963 - accuracy: 0.4643 - val_loss: 0.6933 - val_accuracy: 0.5000\n",
            "Epoch 7/10\n",
            "1/1 [==============================] - 0s 261ms/step - loss: 0.6997 - accuracy: 0.4643 - val_loss: 0.6933 - val_accuracy: 0.5000\n",
            "Epoch 8/10\n",
            "1/1 [==============================] - 0s 267ms/step - loss: 0.6897 - accuracy: 0.5000 - val_loss: 0.6933 - val_accuracy: 0.5000\n",
            "Epoch 9/10\n",
            "1/1 [==============================] - 0s 282ms/step - loss: 0.6872 - accuracy: 0.5000 - val_loss: 0.6933 - val_accuracy: 0.5000\n",
            "Epoch 10/10\n",
            "1/1 [==============================] - 0s 270ms/step - loss: 0.6933 - accuracy: 0.4643 - val_loss: 0.6933 - val_accuracy: 0.5000\n",
            "1/1 [==============================] - 0s 56ms/step - loss: 0.6933 - accuracy: 0.5000\n",
            "Epoch 1/10\n",
            "2/2 [==============================] - 2s 334ms/step - loss: 0.7130 - accuracy: 0.4000 - val_loss: 0.6741 - val_accuracy: 1.0000\n",
            "Epoch 2/10\n",
            "2/2 [==============================] - 0s 68ms/step - loss: 0.7242 - accuracy: 0.4000 - val_loss: 0.6822 - val_accuracy: 1.0000\n",
            "Epoch 3/10\n",
            "2/2 [==============================] - 0s 69ms/step - loss: 0.7687 - accuracy: 0.4000 - val_loss: 0.6889 - val_accuracy: 1.0000\n",
            "Epoch 4/10\n",
            "2/2 [==============================] - 0s 68ms/step - loss: 0.7209 - accuracy: 0.4000 - val_loss: 0.6938 - val_accuracy: 0.0000e+00\n",
            "Epoch 5/10\n",
            "2/2 [==============================] - 0s 90ms/step - loss: 0.7343 - accuracy: 0.4000 - val_loss: 0.6986 - val_accuracy: 0.0000e+00\n",
            "Epoch 6/10\n",
            "2/2 [==============================] - 0s 66ms/step - loss: 0.7172 - accuracy: 0.4571 - val_loss: 0.7024 - val_accuracy: 0.0000e+00\n",
            "Epoch 7/10\n",
            "2/2 [==============================] - 0s 66ms/step - loss: 0.7074 - accuracy: 0.5143 - val_loss: 0.7055 - val_accuracy: 0.0000e+00\n",
            "Epoch 8/10\n",
            "2/2 [==============================] - 0s 77ms/step - loss: 0.7033 - accuracy: 0.6000 - val_loss: 0.7081 - val_accuracy: 0.0000e+00\n",
            "Epoch 9/10\n",
            "2/2 [==============================] - 0s 99ms/step - loss: 0.6969 - accuracy: 0.6571 - val_loss: 0.7099 - val_accuracy: 0.0000e+00\n",
            "Epoch 10/10\n",
            "2/2 [==============================] - 0s 74ms/step - loss: 0.6966 - accuracy: 0.5429 - val_loss: 0.7115 - val_accuracy: 0.0000e+00\n",
            "1/1 [==============================] - 0s 39ms/step - loss: 0.7115 - accuracy: 0.0000e+00\n",
            "Epoch 1/10\n",
            "2/2 [==============================] - 2s 323ms/step - loss: 0.6928 - accuracy: 0.5143 - val_loss: 0.7099 - val_accuracy: 0.0000e+00\n",
            "Epoch 2/10\n",
            "2/2 [==============================] - 0s 79ms/step - loss: 0.6791 - accuracy: 0.6000 - val_loss: 0.7044 - val_accuracy: 0.0000e+00\n",
            "Epoch 3/10\n",
            "2/2 [==============================] - 0s 68ms/step - loss: 0.6812 - accuracy: 0.6000 - val_loss: 0.7019 - val_accuracy: 0.0000e+00\n",
            "Epoch 4/10\n",
            "2/2 [==============================] - 0s 68ms/step - loss: 0.6819 - accuracy: 0.6000 - val_loss: 0.7025 - val_accuracy: 0.0000e+00\n",
            "Epoch 5/10\n",
            "2/2 [==============================] - 0s 120ms/step - loss: 0.6814 - accuracy: 0.6000 - val_loss: 0.7056 - val_accuracy: 0.0000e+00\n",
            "Epoch 6/10\n",
            "2/2 [==============================] - 0s 70ms/step - loss: 0.6811 - accuracy: 0.6000 - val_loss: 0.7097 - val_accuracy: 0.0000e+00\n",
            "Epoch 7/10\n",
            "2/2 [==============================] - 0s 93ms/step - loss: 0.6818 - accuracy: 0.6000 - val_loss: 0.7141 - val_accuracy: 0.0000e+00\n",
            "Epoch 8/10\n",
            "2/2 [==============================] - 0s 74ms/step - loss: 0.6840 - accuracy: 0.6000 - val_loss: 0.7179 - val_accuracy: 0.0000e+00\n",
            "Epoch 9/10\n",
            "2/2 [==============================] - 0s 66ms/step - loss: 0.6757 - accuracy: 0.6000 - val_loss: 0.7225 - val_accuracy: 0.0000e+00\n",
            "Epoch 10/10\n",
            "2/2 [==============================] - 0s 70ms/step - loss: 0.6801 - accuracy: 0.6000 - val_loss: 0.7292 - val_accuracy: 0.0000e+00\n",
            "1/1 [==============================] - 0s 85ms/step - loss: 0.7292 - accuracy: 0.0000e+00\n",
            "Epoch 1/10\n",
            "2/2 [==============================] - 3s 490ms/step - loss: 0.6896 - accuracy: 0.6000 - val_loss: 0.8865 - val_accuracy: 0.0000e+00\n",
            "Epoch 2/10\n",
            "2/2 [==============================] - 0s 81ms/step - loss: 0.6824 - accuracy: 0.6000 - val_loss: 0.9492 - val_accuracy: 0.0000e+00\n",
            "Epoch 3/10\n",
            "2/2 [==============================] - 0s 80ms/step - loss: 0.6792 - accuracy: 0.6000 - val_loss: 1.0119 - val_accuracy: 0.0000e+00\n",
            "Epoch 4/10\n",
            "2/2 [==============================] - 0s 78ms/step - loss: 0.6783 - accuracy: 0.6000 - val_loss: 1.0760 - val_accuracy: 0.0000e+00\n",
            "Epoch 5/10\n",
            "2/2 [==============================] - 0s 67ms/step - loss: 0.6768 - accuracy: 0.6000 - val_loss: 1.1209 - val_accuracy: 0.0000e+00\n",
            "Epoch 6/10\n",
            "2/2 [==============================] - 0s 65ms/step - loss: 0.6757 - accuracy: 0.6000 - val_loss: 1.1441 - val_accuracy: 0.0000e+00\n",
            "Epoch 7/10\n",
            "2/2 [==============================] - 0s 78ms/step - loss: 0.6771 - accuracy: 0.6000 - val_loss: 1.1703 - val_accuracy: 0.0000e+00\n",
            "Epoch 8/10\n",
            "2/2 [==============================] - 0s 74ms/step - loss: 0.6751 - accuracy: 0.6000 - val_loss: 1.2019 - val_accuracy: 0.0000e+00\n",
            "Epoch 9/10\n",
            "2/2 [==============================] - 0s 74ms/step - loss: 0.6743 - accuracy: 0.6000 - val_loss: 1.2434 - val_accuracy: 0.0000e+00\n",
            "Epoch 10/10\n",
            "2/2 [==============================] - 0s 68ms/step - loss: 0.6741 - accuracy: 0.6000 - val_loss: 1.2848 - val_accuracy: 0.0000e+00\n",
            "1/1 [==============================] - 0s 42ms/step - loss: 1.2848 - accuracy: 0.0000e+00\n",
            "Epoch 1/10\n",
            "2/2 [==============================] - 3s 350ms/step - loss: 0.6946 - accuracy: 0.4000 - val_loss: 0.6926 - val_accuracy: 1.0000\n",
            "Epoch 2/10\n",
            "2/2 [==============================] - 0s 80ms/step - loss: 0.6930 - accuracy: 0.6286 - val_loss: 0.6936 - val_accuracy: 0.0000e+00\n",
            "Epoch 3/10\n",
            "2/2 [==============================] - 0s 72ms/step - loss: 0.6923 - accuracy: 0.6000 - val_loss: 0.6949 - val_accuracy: 0.0000e+00\n",
            "Epoch 4/10\n",
            "2/2 [==============================] - 0s 74ms/step - loss: 0.6918 - accuracy: 0.6000 - val_loss: 0.6963 - val_accuracy: 0.0000e+00\n",
            "Epoch 5/10\n",
            "2/2 [==============================] - 0s 69ms/step - loss: 0.6915 - accuracy: 0.6000 - val_loss: 0.6974 - val_accuracy: 0.0000e+00\n",
            "Epoch 6/10\n",
            "2/2 [==============================] - 0s 85ms/step - loss: 0.6913 - accuracy: 0.6286 - val_loss: 0.6990 - val_accuracy: 0.0000e+00\n",
            "Epoch 7/10\n",
            "2/2 [==============================] - 0s 76ms/step - loss: 0.6901 - accuracy: 0.6286 - val_loss: 0.7006 - val_accuracy: 0.0000e+00\n",
            "Epoch 8/10\n",
            "2/2 [==============================] - 0s 116ms/step - loss: 0.6892 - accuracy: 0.6286 - val_loss: 0.7018 - val_accuracy: 0.0000e+00\n",
            "Epoch 9/10\n",
            "2/2 [==============================] - 0s 66ms/step - loss: 0.6921 - accuracy: 0.6000 - val_loss: 0.7029 - val_accuracy: 0.0000e+00\n",
            "Epoch 10/10\n",
            "2/2 [==============================] - 0s 73ms/step - loss: 0.6912 - accuracy: 0.6286 - val_loss: 0.7037 - val_accuracy: 0.0000e+00\n",
            "1/1 [==============================] - 0s 41ms/step - loss: 0.7037 - accuracy: 0.0000e+00\n"
          ]
        }
      ],
      "source": [
        "accuracy=[]\n",
        "for train_index, val_index in gkf.split(data_array, label_array, groups=group_array):\n",
        "    train_features,train_labels=data_array[train_index],label_array[train_index]\n",
        "    val_features,val_labels=data_array[val_index],label_array[val_index]\n",
        "    scaler=StandardScaler()\n",
        "    train_features = scaler.fit_transform(train_features.reshape(-1, train_features.shape[-1])).reshape(train_features.shape)\n",
        "    val_features = scaler.transform(val_features.reshape(-1, val_features.shape[-1])).reshape(val_features.shape)\n",
        "    model=cnnmodel()\n",
        "    model.fit(train_features,train_labels,epochs=10,batch_size=30,validation_data=(val_features,val_labels))\n",
        "    accuracy.append(model.evaluate(val_features,val_labels)[1])"
      ]
    },
    {
      "cell_type": "code",
      "execution_count": 1,
      "metadata": {
        "colab": {
          "base_uri": "https://localhost:8080/"
        },
        "id": "xVvK4OcBpfuV",
        "outputId": "902fae0b-481e-401b-bef9-c26195a9f156"
      },
      "outputs": [
        {
          "output_type": "stream",
          "name": "stdout",
          "text": [
            "Drive already mounted at /content/drive; to attempt to forcibly remount, call drive.mount(\"/content/drive\", force_remount=True).\n"
          ]
        }
      ],
      "source": [
        "from google.colab import drive\n",
        "drive.mount('/content/drive')"
      ]
    },
    {
      "cell_type": "code",
      "execution_count": null,
      "metadata": {
        "colab": {
          "base_uri": "https://localhost:8080/"
        },
        "id": "O-qIZv7_Fkg9",
        "outputId": "14fb8337-b263-434b-e199-1c0950acb17c"
      },
      "outputs": [
        {
          "data": {
            "text/plain": [
              "0.1"
            ]
          },
          "execution_count": 27,
          "metadata": {},
          "output_type": "execute_result"
        }
      ],
      "source": [
        "np.mean(accuracy)"
      ]
    },
    {
      "cell_type": "code",
      "execution_count": null,
      "metadata": {
        "id": "6VopbRQoufzp"
      },
      "outputs": [],
      "source": [
        "Epilepsy_group=np.concatenate([[i]*len(Epilepsy[i]) for i in range(len(Epilepsy))])#create a list of list where each sub list corresponds to subject_no\n",
        "Control_group=np.concatenate([[i]*len(Control[i]) for i in range(len(Control))])#create a list of list where each sub list corresponds to subject_no\n",
        "\n",
        "Epilepsy_label=np.concatenate([[0]*len(Epilepsy[i]) for i in range(len(Epilepsy))])\n",
        "Control_label=np.concatenate([[1]*len(Control[i]) for i in range(len(Control))])"
      ]
    },
    {
      "cell_type": "code",
      "execution_count": null,
      "metadata": {
        "id": "808trEzquf37"
      },
      "outputs": [],
      "source": [
        "import pyedflib\n",
        "g = pyedflib.EdfReader('/content/ADERSHBALU.edf')"
      ]
    },
    {
      "cell_type": "code",
      "execution_count": null,
      "metadata": {
        "id": "f7SbkyOIcpIF"
      },
      "outputs": [],
      "source": [
        "!pip install spectrum\n",
        "!pip install nitime"
      ]
    },
    {
      "cell_type": "code",
      "execution_count": null,
      "metadata": {
        "id": "Ybx-th_ONPn8"
      },
      "outputs": [],
      "source": [
        "import numpy as np\n",
        "import pyedflib\n",
        "from matplotlib import pyplot as plt\n",
        "from nitime import utils\n",
        "from nitime import algorithms as alg\n",
        "from nitime.timeseries import TimeSeries\n",
        "from nitime.viz import plot_tseries\n",
        "import csv\n",
        "import pywt\n",
        "import scipy.stats as sp\n",
        "from spectrum import *\n",
        "from os import listdir\n",
        "from os.path import isfile, join"
      ]
    },
    {
      "cell_type": "code",
      "execution_count": null,
      "metadata": {
        "id": "NPsHXBgbuf7U"
      },
      "outputs": [],
      "source": [
        "n = g.signals_in_file\n",
        "signal_labels = f.getSignalLabels()\n",
        "sigbufs = np.zeros((3, f.getNSamples()[3]))\n",
        "for i in np.arange(3):\n",
        "    sigbufs[i,:] = f.readSignal(i+2)\n",
        "for i in np.arange(5,185,3):\n",
        "    features = []\n",
        "    epoch = sigbufs[:,i*256:(i+3)*256]\n",
        "    if len(epoch[0]) == 0:\n",
        "        break\n",
        "\n",
        "    feature_list = hjorth(epoch)\n",
        "    for feat in feature_list:\n",
        "        features.append(feat)\n",
        "\n",
        "    # #Kurtosis , 2nd Diff Mean, 2nd Diff Max\n",
        "    # feature_list = wrapper1(epoch)\n",
        "    # for feat in feature_list:\n",
        "    #     features.append(feat)"
      ]
    },
    {
      "cell_type": "code",
      "execution_count": null,
      "metadata": {
        "colab": {
          "base_uri": "https://localhost:8080/"
        },
        "id": "d0dtkhxrOUVe",
        "outputId": "1236de36-7dbe-4613-e962-178498c4bd21"
      },
      "outputs": [
        {
          "data": {
            "text/plain": [
              "[505.0914855540748, 1.0885038274380783, 1.4508016289749142]"
            ]
          },
          "execution_count": 52,
          "metadata": {},
          "output_type": "execute_result"
        }
      ],
      "source": [
        "features"
      ]
    },
    {
      "cell_type": "code",
      "execution_count": null,
      "metadata": {
        "colab": {
          "base_uri": "https://localhost:8080/",
          "height": 700
        },
        "id": "WOADu0X7fBWc",
        "outputId": "6ca6b858-1152-45a5-f7f1-5656ae4f41f3"
      },
      "outputs": [
        {
          "data": {
            "image/png": "[encoded data removed]",
            "text/plain": [
              "<Figure size 864x864 with 1 Axes>"
            ]
          },
          "metadata": {},
          "output_type": "display_data"
        }
      ],
      "source": [
        "plt.figure(figsize=(12, 12))\n",
        "for i in range(3):\n",
        "    plt.plot(np.arange(1, sigbufs.shape[1]+1), sigbufs[i])"
      ]
    },
    {
      "cell_type": "code",
      "execution_count": null,
      "metadata": {
        "id": "ispVJYyzuf9D"
      },
      "outputs": [],
      "source": [
        "def hjorth(input):                                             # function for hjorth \n",
        "    realinput = input\n",
        "    hjorth_activity = np.zeros(len(realinput))\n",
        "    hjorth_mobility = np.zeros(len(realinput))\n",
        "    hjorth_diffmobility = np.zeros(len(realinput))\n",
        "    hjorth_complexity = np.zeros(len(realinput))\n",
        "    diff_input = np.diff(realinput)\n",
        "    diff_diffinput = np.diff(diff_input)\n",
        "    k = 0\n",
        "    for j in realinput:\n",
        "        hjorth_activity[k] = np.var(j)\n",
        "        hjorth_mobility[k] = np.sqrt(np.var(diff_input[k])/hjorth_activity[k])\n",
        "        hjorth_diffmobility[k] = np.sqrt(np.var(diff_diffinput[k])/np.var(diff_input[k]))\n",
        "        hjorth_complexity[k] = hjorth_diffmobility[k]/hjorth_mobility[k]\n",
        "        k = k+1\n",
        "    return np.sum(hjorth_activity)/3, np.sum(hjorth_mobility)/3, np.sum(hjorth_complexity)/3                      #returning hjorth activity, hjorth mobil"
      ]
    },
    {
      "cell_type": "code",
      "execution_count": null,
      "metadata": {
        "id": "F5nJUc4FdKSr"
      },
      "outputs": [],
      "source": [
        "def my_kurtosis(a):\n",
        "    b = a # Extracting the data from the 14 channels\n",
        "    output = np.zeros(len(b)) # Initializing the output array with zeros (length = 14)\n",
        "    k = 0; # For counting the current row no.\n",
        "    for i in b:\n",
        "        mean_i = np.mean(i) # Saving the mean of array i\n",
        "        std_i = np.std(i) # Saving the standard deviation of array i\n",
        "        t = 0.0\n",
        "        for j in i:\n",
        "            t += (pow((j-mean_i)/std_i,4)-3)\n",
        "        kurtosis_i = t/len(i) # Formula: (1/N)*(summation(x_i-mean)/standard_deviation)^4-3\n",
        "        output[k] = kurtosis_i # Saving the kurtosis in the array created\n",
        "        k +=1 # Updating the current row no.\n",
        "    return np.sum(output)/3\n",
        "\n",
        "##----------------------------------------- End Kurtosis Function ----------------------------##\n",
        "\n",
        "\n",
        "##------------------------------------- Begin 2ndDiffMean(Absolute difference) Function ------##\n",
        "##-------------------------- [ Input: 2D array (row: Channels, column: Data)] --------------- ##\n",
        "##-------------------  -- [ Output: 1D array (2ndDiffMean values for each channel)] ----------##\n",
        "\n",
        "def secDiffMean(a):\n",
        "    b = a # Extracting the data of the 14 channels\n",
        "    output = np.zeros(len(b)) # Initializing the output array with zeros (length = 14)\n",
        "    temp1 = np.zeros(len(b[0])-1) # To store the 1st Diffs\n",
        "    k = 0; # For counting the current row no.\n",
        "    for i in b:\n",
        "      t = 0.0\n",
        "      for j in range(len(i)-1):\n",
        "        temp1[j] = abs(i[j+1]-i[j]) # Obtaining the 1st Diffs\n",
        "        for j in range(len(i)-2):\n",
        "            t += abs(temp1[j+1]-temp1[j]) # Summing the 2nd Diffs\n",
        "      output[k] = t/(len(i)-2) # Calculating the mean of the 2nd Diffs\n",
        "      k +=1 # Updating the current row no.\n",
        "    return np.sum(output)/3\n",
        "\n",
        "##------------------------------------- End 2ndDiffMean Function----- -------------------------##\n",
        "\n",
        "\n",
        "##------------------------------------- Begin 2ndDiffMax Function(Absolute difference) --------##\n",
        "##-------------------------- [ Input: 2D array (row: Channels, column: Data)] -----------------##\n",
        "##--------------------- [ Output: 1D array (2ndDiffMax values for each channel)] --------------##\n",
        "def secDiffMax(a):\n",
        "    b = a # Extracting the data from the 14 channels\n",
        "    output = np.zeros(len(b)) # Initializing the output array with zeros (length = 14)\n",
        "    temp1 = np.zeros(len(b[0])-1) # To store the 1st Diffs\n",
        "    k = 0; # For counting the current row no.\n",
        "    t = 0.0\n",
        "    for i in b:\n",
        "        for j in range(len(i)-1):\n",
        "          temp1[j] = abs(i[j+1]-i[j])\n",
        "        t = temp1[1] - temp1[0]\n",
        "        for j in range(len(i)-2):\n",
        "          if abs(temp1[j+1]-temp1[j]) > t :\n",
        "            t = temp1[j+1]-temp1[j]\n",
        "        output[k] = t # Storing the 2nd Diff Max for channel k\n",
        "        k +=1 # Updating the current row no.\n",
        "    return np.sum(output)/3\n",
        "\n",
        "\n",
        "\n",
        "def wrapper1(a):\n",
        "    kurtosis =  my_kurtosis(a)\n",
        "    sec_diff_mean = secDiffMean(a)\n",
        "    sec_diff_max  = secDiffMax(a)\n",
        "    return kurtosis,sec_diff_mean,sec_diff_max"
      ]
    },
    {
      "cell_type": "code",
      "execution_count": null,
      "metadata": {
        "id": "_Sz0E2z2dV-E"
      },
      "outputs": [],
      "source": [
        "feature_list = hjorth(epoch)"
      ]
    },
    {
      "cell_type": "code",
      "execution_count": null,
      "metadata": {
        "id": "K_h4YVl3hNrd"
      },
      "outputs": [],
      "source": [
        "h = pyedflib.EdfReader('/content/drive/MyDrive/MajorProject/Trial/Low/S01-01-25.09.2016.10.52.46.edf')"
      ]
    },
    {
      "cell_type": "code",
      "execution_count": null,
      "metadata": {
        "id": "2Ds2_vzkugAS"
      },
      "outputs": [],
      "source": [
        "\n",
        "n = h.signals_in_file\n",
        "signal_labels = h.getSignalLabels()\n",
        "sigbufs = np.zeros((14, h.getNSamples()[3]))\n",
        "for i in np.arange(14):\n",
        "    sigbufs[i,:] = h.readSignal(i+2)\n",
        "for i in np.arange(5,185,3):\n",
        "    features = []\n",
        "    epoch = sigbufs[:,i*128:(i+3)*128]\n",
        "    if len(epoch[0]) == 0:\n",
        "        break"
      ]
    },
    {
      "cell_type": "code",
      "execution_count": null,
      "metadata": {
        "colab": {
          "base_uri": "https://localhost:8080/",
          "height": 700
        },
        "id": "H3d2tkjoFkke",
        "outputId": "ce39eb42-ab82-4808-ec33-c1aebe12c003"
      },
      "outputs": [
        {
          "data": {
            "image/png": "[encoded data removed]",
            "text/plain": [
              "<Figure size 864x864 with 1 Axes>"
            ]
          },
          "metadata": {},
          "output_type": "display_data"
        }
      ],
      "source": [
        "plt.figure(figsize=(12, 12))\n",
        "for i in range(14):\n",
        "    plt.plot(np.arange(1, sigbufs.shape[1]+1), sigbufs[i])"
      ]
    },
    {
      "cell_type": "code",
      "execution_count": null,
      "metadata": {
        "id": "Bp7wxcrOnn-1"
      },
      "outputs": [],
      "source": []
    }
  ],
  "metadata": {
    "colab": {
      "provenance": [],
      "mount_file_id": "1BT0bMakOWABHZ1ZBNZuZ5_Lciq_-30Fb",
      "authorship_tag": "ABX9TyNXz8iAZEznrv0hgFfaLtxt",
      "include_colab_link": true
    },
    "gpuClass": "standard",
    "kernelspec": {
      "display_name": "Python 3",
      "name": "python3"
    },
    "language_info": {
      "name": "python"
    }
  },
  "nbformat": 4,
  "nbformat_minor": 0
}