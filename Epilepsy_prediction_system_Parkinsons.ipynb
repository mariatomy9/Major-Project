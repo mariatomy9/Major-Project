{
  "nbformat": 4,
  "nbformat_minor": 0,
  "metadata": {
    "colab": {
      "provenance": [],
      "include_colab_link": true
    },
    "kernelspec": {
      "name": "python3",
      "display_name": "Python 3"
    },
    "language_info": {
      "name": "python"
    }
  },
  "cells": [
    {
      "cell_type": "markdown",
      "metadata": {
        "id": "view-in-github",
        "colab_type": "text"
      },
      "source": [
        "<a href=\"https://colab.research.google.com/github/mariatomy9/Major-Project/blob/hisana/Epilepsy_prediction_system_Parkinsons.ipynb\" target=\"_parent\"><img src=\"https://colab.research.google.com/assets/colab-badge.svg\" alt=\"Open In Colab\"/></a>"
      ]
    },
    {
      "cell_type": "markdown",
      "metadata": {
        "id": "9B5Zl1UOBMAJ"
      },
      "source": [
        "Importing the Dependencies"
      ]
    },
    {
      "cell_type": "code",
      "metadata": {
        "id": "YOCpZ1Vm6cfW"
      },
      "source": [
        "import numpy as np\n",
        "import pandas as pd\n",
        "from sklearn.model_selection import train_test_split\n",
        "from sklearn import svm\n",
        "from sklearn.metrics import accuracy_score"
      ],
      "execution_count": 86,
      "outputs": []
    },
    {
      "cell_type": "code",
      "source": [
        "from google.colab import drive\n",
        "drive.mount('/content/drive')"
      ],
      "metadata": {
        "id": "vpmXT1wp0Qjz",
        "colab": {
          "base_uri": "https://localhost:8080/"
        },
        "outputId": "169882aa-5f5a-4c09-a9f8-200f2c65f9f0"
      },
      "execution_count": 87,
      "outputs": [
        {
          "output_type": "stream",
          "name": "stdout",
          "text": [
            "Drive already mounted at /content/drive; to attempt to forcibly remount, call drive.mount(\"/content/drive\", force_remount=True).\n"
          ]
        }
      ]
    },
    {
      "cell_type": "markdown",
      "metadata": {
        "id": "PZm-USrtB_q4"
      },
      "source": [
        "Data Collection & Analysis"
      ]
    },
    {
      "cell_type": "code",
      "metadata": {
        "id": "5YC2lGuVBiZA"
      },
      "source": [
        "# loading the data from csv file to a Pandas DataFrame\n",
        "epilepsy_data = pd.read_csv('/content/drive/MyDrive/Colab Notebooks/dataset_epil.csv')"
      ],
      "execution_count": 88,
      "outputs": []
    },
    {
      "cell_type": "code",
      "metadata": {
        "id": "Iw8z6w60Djd2",
        "colab": {
          "base_uri": "https://localhost:8080/",
          "height": 317
        },
        "outputId": "f30f11ae-ae76-4ff6-a1d8-84f949eb0f44"
      },
      "source": [
        "# printing the first 5 rows of the dataframe\n",
        "epilepsy_data.head()"
      ],
      "execution_count": 89,
      "outputs": [
        {
          "output_type": "execute_result",
          "data": {
            "text/plain": [
              "   Unnamed: 0  PFD(){}_0  PFD(){}_1  PFD(){}_2  PFD(){}_3  PFD(){}_4  \\\n",
              "0           0   1.026628   1.026628   1.026114   1.026628   1.026628   \n",
              "1           1   1.026628   1.026628   1.026628   1.026628   1.026886   \n",
              "2           2   1.026628   1.026628   1.025598   1.026628   1.027142   \n",
              "3           3   1.026628   1.026628   1.024823   1.026628   1.026886   \n",
              "4           4   1.026628   1.026628   1.023526   1.026628   1.026114   \n",
              "\n",
              "   PFD(){}_5  PFD(){}_6  PFD(){}_7  PFD(){}_8  ...  hjorthActivity(){}_14  \\\n",
              "0   1.024564   1.025340   1.024045   1.026628  ...               0.465618   \n",
              "1   1.026114   1.025081   1.024823   1.026628  ...               0.310774   \n",
              "2   1.026114   1.025081   1.027142   1.026628  ...               0.329698   \n",
              "3   1.025598   1.023006   1.025081   1.025856  ...               3.803939   \n",
              "4   1.026114   1.025598   1.024564   1.027142  ...               4.826091   \n",
              "\n",
              "   hjorthActivity(){}_15  hjorthActivity(){}_16  hjorthActivity(){}_17  \\\n",
              "0               0.427841               1.078657               0.102130   \n",
              "1               0.304385               0.948840               0.092594   \n",
              "2               0.342481               1.094572               0.082353   \n",
              "3               1.429145               1.223469               0.141066   \n",
              "4               1.286788               1.074185               0.146749   \n",
              "\n",
              "   hjorthActivity(){}_18  hjorthActivity(){}_19  hjorthActivity(){}_20  \\\n",
              "0               0.267037               0.330682               0.287038   \n",
              "1               0.223569               0.242099               0.359904   \n",
              "2               0.207086               0.195659               0.304122   \n",
              "3               0.582976               0.190388               0.458770   \n",
              "4               1.779844               0.390236               0.327588   \n",
              "\n",
              "   hjorthActivity(){}_21  hjorthActivity(){}_22  Label  \n",
              "0               0.236045               0.219049      0  \n",
              "1               0.224586               0.241306      0  \n",
              "2               0.247518               0.245281      0  \n",
              "3               0.199284               0.329741      0  \n",
              "4               0.293795               1.008775      0  \n",
              "\n",
              "[5 rows x 49 columns]"
            ],
            "text/html": [
              "\n",
              "  <div id=\"df-f02cfba8-b590-45de-97b6-e07c7ea2f0cf\">\n",
              "    <div class=\"colab-df-container\">\n",
              "      <div>\n",
              "<style scoped>\n",
              "    .dataframe tbody tr th:only-of-type {\n",
              "        vertical-align: middle;\n",
              "    }\n",
              "\n",
              "    .dataframe tbody tr th {\n",
              "        vertical-align: top;\n",
              "    }\n",
              "\n",
              "    .dataframe thead th {\n",
              "        text-align: right;\n",
              "    }\n",
              "</style>\n",
              "<table border=\"1\" class=\"dataframe\">\n",
              "  <thead>\n",
              "    <tr style=\"text-align: right;\">\n",
              "      <th></th>\n",
              "      <th>Unnamed: 0</th>\n",
              "      <th>PFD(){}_0</th>\n",
              "      <th>PFD(){}_1</th>\n",
              "      <th>PFD(){}_2</th>\n",
              "      <th>PFD(){}_3</th>\n",
              "      <th>PFD(){}_4</th>\n",
              "      <th>PFD(){}_5</th>\n",
              "      <th>PFD(){}_6</th>\n",
              "      <th>PFD(){}_7</th>\n",
              "      <th>PFD(){}_8</th>\n",
              "      <th>...</th>\n",
              "      <th>hjorthActivity(){}_14</th>\n",
              "      <th>hjorthActivity(){}_15</th>\n",
              "      <th>hjorthActivity(){}_16</th>\n",
              "      <th>hjorthActivity(){}_17</th>\n",
              "      <th>hjorthActivity(){}_18</th>\n",
              "      <th>hjorthActivity(){}_19</th>\n",
              "      <th>hjorthActivity(){}_20</th>\n",
              "      <th>hjorthActivity(){}_21</th>\n",
              "      <th>hjorthActivity(){}_22</th>\n",
              "      <th>Label</th>\n",
              "    </tr>\n",
              "  </thead>\n",
              "  <tbody>\n",
              "    <tr>\n",
              "      <th>0</th>\n",
              "      <td>0</td>\n",
              "      <td>1.026628</td>\n",
              "      <td>1.026628</td>\n",
              "      <td>1.026114</td>\n",
              "      <td>1.026628</td>\n",
              "      <td>1.026628</td>\n",
              "      <td>1.024564</td>\n",
              "      <td>1.025340</td>\n",
              "      <td>1.024045</td>\n",
              "      <td>1.026628</td>\n",
              "      <td>...</td>\n",
              "      <td>0.465618</td>\n",
              "      <td>0.427841</td>\n",
              "      <td>1.078657</td>\n",
              "      <td>0.102130</td>\n",
              "      <td>0.267037</td>\n",
              "      <td>0.330682</td>\n",
              "      <td>0.287038</td>\n",
              "      <td>0.236045</td>\n",
              "      <td>0.219049</td>\n",
              "      <td>0</td>\n",
              "    </tr>\n",
              "    <tr>\n",
              "      <th>1</th>\n",
              "      <td>1</td>\n",
              "      <td>1.026628</td>\n",
              "      <td>1.026628</td>\n",
              "      <td>1.026628</td>\n",
              "      <td>1.026628</td>\n",
              "      <td>1.026886</td>\n",
              "      <td>1.026114</td>\n",
              "      <td>1.025081</td>\n",
              "      <td>1.024823</td>\n",
              "      <td>1.026628</td>\n",
              "      <td>...</td>\n",
              "      <td>0.310774</td>\n",
              "      <td>0.304385</td>\n",
              "      <td>0.948840</td>\n",
              "      <td>0.092594</td>\n",
              "      <td>0.223569</td>\n",
              "      <td>0.242099</td>\n",
              "      <td>0.359904</td>\n",
              "      <td>0.224586</td>\n",
              "      <td>0.241306</td>\n",
              "      <td>0</td>\n",
              "    </tr>\n",
              "    <tr>\n",
              "      <th>2</th>\n",
              "      <td>2</td>\n",
              "      <td>1.026628</td>\n",
              "      <td>1.026628</td>\n",
              "      <td>1.025598</td>\n",
              "      <td>1.026628</td>\n",
              "      <td>1.027142</td>\n",
              "      <td>1.026114</td>\n",
              "      <td>1.025081</td>\n",
              "      <td>1.027142</td>\n",
              "      <td>1.026628</td>\n",
              "      <td>...</td>\n",
              "      <td>0.329698</td>\n",
              "      <td>0.342481</td>\n",
              "      <td>1.094572</td>\n",
              "      <td>0.082353</td>\n",
              "      <td>0.207086</td>\n",
              "      <td>0.195659</td>\n",
              "      <td>0.304122</td>\n",
              "      <td>0.247518</td>\n",
              "      <td>0.245281</td>\n",
              "      <td>0</td>\n",
              "    </tr>\n",
              "    <tr>\n",
              "      <th>3</th>\n",
              "      <td>3</td>\n",
              "      <td>1.026628</td>\n",
              "      <td>1.026628</td>\n",
              "      <td>1.024823</td>\n",
              "      <td>1.026628</td>\n",
              "      <td>1.026886</td>\n",
              "      <td>1.025598</td>\n",
              "      <td>1.023006</td>\n",
              "      <td>1.025081</td>\n",
              "      <td>1.025856</td>\n",
              "      <td>...</td>\n",
              "      <td>3.803939</td>\n",
              "      <td>1.429145</td>\n",
              "      <td>1.223469</td>\n",
              "      <td>0.141066</td>\n",
              "      <td>0.582976</td>\n",
              "      <td>0.190388</td>\n",
              "      <td>0.458770</td>\n",
              "      <td>0.199284</td>\n",
              "      <td>0.329741</td>\n",
              "      <td>0</td>\n",
              "    </tr>\n",
              "    <tr>\n",
              "      <th>4</th>\n",
              "      <td>4</td>\n",
              "      <td>1.026628</td>\n",
              "      <td>1.026628</td>\n",
              "      <td>1.023526</td>\n",
              "      <td>1.026628</td>\n",
              "      <td>1.026114</td>\n",
              "      <td>1.026114</td>\n",
              "      <td>1.025598</td>\n",
              "      <td>1.024564</td>\n",
              "      <td>1.027142</td>\n",
              "      <td>...</td>\n",
              "      <td>4.826091</td>\n",
              "      <td>1.286788</td>\n",
              "      <td>1.074185</td>\n",
              "      <td>0.146749</td>\n",
              "      <td>1.779844</td>\n",
              "      <td>0.390236</td>\n",
              "      <td>0.327588</td>\n",
              "      <td>0.293795</td>\n",
              "      <td>1.008775</td>\n",
              "      <td>0</td>\n",
              "    </tr>\n",
              "  </tbody>\n",
              "</table>\n",
              "<p>5 rows × 49 columns</p>\n",
              "</div>\n",
              "      <button class=\"colab-df-convert\" onclick=\"convertToInteractive('df-f02cfba8-b590-45de-97b6-e07c7ea2f0cf')\"\n",
              "              title=\"Convert this dataframe to an interactive table.\"\n",
              "              style=\"display:none;\">\n",
              "        \n",
              "  <svg xmlns=\"http://www.w3.org/2000/svg\" height=\"24px\"viewBox=\"0 0 24 24\"\n",
              "       width=\"24px\">\n",
              "    <path d=\"M0 0h24v24H0V0z\" fill=\"none\"/>\n",
              "    <path d=\"M18.56 5.44l.94 2.06.94-2.06 2.06-.94-2.06-.94-.94-2.06-.94 2.06-2.06.94zm-11 1L8.5 8.5l.94-2.06 2.06-.94-2.06-.94L8.5 2.5l-.94 2.06-2.06.94zm10 10l.94 2.06.94-2.06 2.06-.94-2.06-.94-.94-2.06-.94 2.06-2.06.94z\"/><path d=\"M17.41 7.96l-1.37-1.37c-.4-.4-.92-.59-1.43-.59-.52 0-1.04.2-1.43.59L10.3 9.45l-7.72 7.72c-.78.78-.78 2.05 0 2.83L4 21.41c.39.39.9.59 1.41.59.51 0 1.02-.2 1.41-.59l7.78-7.78 2.81-2.81c.8-.78.8-2.07 0-2.86zM5.41 20L4 18.59l7.72-7.72 1.47 1.35L5.41 20z\"/>\n",
              "  </svg>\n",
              "      </button>\n",
              "      \n",
              "  <style>\n",
              "    .colab-df-container {\n",
              "      display:flex;\n",
              "      flex-wrap:wrap;\n",
              "      gap: 12px;\n",
              "    }\n",
              "\n",
              "    .colab-df-convert {\n",
              "      background-color: #E8F0FE;\n",
              "      border: none;\n",
              "      border-radius: 50%;\n",
              "      cursor: pointer;\n",
              "      display: none;\n",
              "      fill: #1967D2;\n",
              "      height: 32px;\n",
              "      padding: 0 0 0 0;\n",
              "      width: 32px;\n",
              "    }\n",
              "\n",
              "    .colab-df-convert:hover {\n",
              "      background-color: #E2EBFA;\n",
              "      box-shadow: 0px 1px 2px rgba(60, 64, 67, 0.3), 0px 1px 3px 1px rgba(60, 64, 67, 0.15);\n",
              "      fill: #174EA6;\n",
              "    }\n",
              "\n",
              "    [theme=dark] .colab-df-convert {\n",
              "      background-color: #3B4455;\n",
              "      fill: #D2E3FC;\n",
              "    }\n",
              "\n",
              "    [theme=dark] .colab-df-convert:hover {\n",
              "      background-color: #434B5C;\n",
              "      box-shadow: 0px 1px 3px 1px rgba(0, 0, 0, 0.15);\n",
              "      filter: drop-shadow(0px 1px 2px rgba(0, 0, 0, 0.3));\n",
              "      fill: #FFFFFF;\n",
              "    }\n",
              "  </style>\n",
              "\n",
              "      <script>\n",
              "        const buttonEl =\n",
              "          document.querySelector('#df-f02cfba8-b590-45de-97b6-e07c7ea2f0cf button.colab-df-convert');\n",
              "        buttonEl.style.display =\n",
              "          google.colab.kernel.accessAllowed ? 'block' : 'none';\n",
              "\n",
              "        async function convertToInteractive(key) {\n",
              "          const element = document.querySelector('#df-f02cfba8-b590-45de-97b6-e07c7ea2f0cf');\n",
              "          const dataTable =\n",
              "            await google.colab.kernel.invokeFunction('convertToInteractive',\n",
              "                                                     [key], {});\n",
              "          if (!dataTable) return;\n",
              "\n",
              "          const docLinkHtml = 'Like what you see? Visit the ' +\n",
              "            '<a target=\"_blank\" href=https://colab.research.google.com/notebooks/data_table.ipynb>data table notebook</a>'\n",
              "            + ' to learn more about interactive tables.';\n",
              "          element.innerHTML = '';\n",
              "          dataTable['output_type'] = 'display_data';\n",
              "          await google.colab.output.renderOutput(dataTable, element);\n",
              "          const docLink = document.createElement('div');\n",
              "          docLink.innerHTML = docLinkHtml;\n",
              "          element.appendChild(docLink);\n",
              "        }\n",
              "      </script>\n",
              "    </div>\n",
              "  </div>\n",
              "  "
            ]
          },
          "metadata": {},
          "execution_count": 89
        }
      ]
    },
    {
      "cell_type": "code",
      "metadata": {
        "id": "cK7L_o2TDuZb",
        "colab": {
          "base_uri": "https://localhost:8080/"
        },
        "outputId": "3d803787-c929-405e-bf4e-330d696ece10"
      },
      "source": [
        "# number of rows and columns in the dataframe\n",
        "epilepsy_data.shape"
      ],
      "execution_count": 90,
      "outputs": [
        {
          "output_type": "execute_result",
          "data": {
            "text/plain": [
              "(12699, 49)"
            ]
          },
          "metadata": {},
          "execution_count": 90
        }
      ]
    },
    {
      "cell_type": "code",
      "metadata": {
        "id": "NLmzHIgnEGi4",
        "colab": {
          "base_uri": "https://localhost:8080/"
        },
        "outputId": "bc38d6bf-0c68-4e62-9dbd-926190cdfa1e"
      },
      "source": [
        "# getting more information about the dataset\n",
        "epilepsy_data.info()"
      ],
      "execution_count": 91,
      "outputs": [
        {
          "output_type": "stream",
          "name": "stdout",
          "text": [
            "<class 'pandas.core.frame.DataFrame'>\n",
            "RangeIndex: 12699 entries, 0 to 12698\n",
            "Data columns (total 49 columns):\n",
            " #   Column                 Non-Null Count  Dtype  \n",
            "---  ------                 --------------  -----  \n",
            " 0   Unnamed: 0             12699 non-null  int64  \n",
            " 1   PFD(){}_0              12699 non-null  float64\n",
            " 2   PFD(){}_1              12699 non-null  float64\n",
            " 3   PFD(){}_2              12699 non-null  float64\n",
            " 4   PFD(){}_3              12699 non-null  float64\n",
            " 5   PFD(){}_4              12699 non-null  float64\n",
            " 6   PFD(){}_5              12699 non-null  float64\n",
            " 7   PFD(){}_6              12699 non-null  float64\n",
            " 8   PFD(){}_7              12699 non-null  float64\n",
            " 9   PFD(){}_8              12699 non-null  float64\n",
            " 10  PFD(){}_9              12699 non-null  float64\n",
            " 11  PFD(){}_10             12699 non-null  float64\n",
            " 12  PFD(){}_11             12699 non-null  float64\n",
            " 13  PFD(){}_12             12699 non-null  float64\n",
            " 14  PFD(){}_13             12699 non-null  float64\n",
            " 15  PFD(){}_14             12699 non-null  float64\n",
            " 16  PFD(){}_15             12699 non-null  float64\n",
            " 17  PFD(){}_16             12699 non-null  float64\n",
            " 18  PFD(){}_17             12699 non-null  float64\n",
            " 19  PFD(){}_18             12699 non-null  float64\n",
            " 20  PFD(){}_19             12699 non-null  float64\n",
            " 21  PFD(){}_20             12699 non-null  float64\n",
            " 22  PFD(){}_21             12699 non-null  float64\n",
            " 23  PFD(){}_22             12699 non-null  float64\n",
            " 24  DTW((0, 1),){}         12699 non-null  float64\n",
            " 25  hjorthActivity(){}_0   12699 non-null  float64\n",
            " 26  hjorthActivity(){}_1   12699 non-null  float64\n",
            " 27  hjorthActivity(){}_2   12699 non-null  float64\n",
            " 28  hjorthActivity(){}_3   12699 non-null  float64\n",
            " 29  hjorthActivity(){}_4   12699 non-null  float64\n",
            " 30  hjorthActivity(){}_5   12699 non-null  float64\n",
            " 31  hjorthActivity(){}_6   12699 non-null  float64\n",
            " 32  hjorthActivity(){}_7   12699 non-null  float64\n",
            " 33  hjorthActivity(){}_8   12699 non-null  float64\n",
            " 34  hjorthActivity(){}_9   12699 non-null  float64\n",
            " 35  hjorthActivity(){}_10  12699 non-null  float64\n",
            " 36  hjorthActivity(){}_11  12699 non-null  float64\n",
            " 37  hjorthActivity(){}_12  12699 non-null  float64\n",
            " 38  hjorthActivity(){}_13  12699 non-null  float64\n",
            " 39  hjorthActivity(){}_14  12699 non-null  float64\n",
            " 40  hjorthActivity(){}_15  12699 non-null  float64\n",
            " 41  hjorthActivity(){}_16  12699 non-null  float64\n",
            " 42  hjorthActivity(){}_17  12699 non-null  float64\n",
            " 43  hjorthActivity(){}_18  12699 non-null  float64\n",
            " 44  hjorthActivity(){}_19  12699 non-null  float64\n",
            " 45  hjorthActivity(){}_20  12699 non-null  float64\n",
            " 46  hjorthActivity(){}_21  12699 non-null  float64\n",
            " 47  hjorthActivity(){}_22  12699 non-null  float64\n",
            " 48  Label                  12699 non-null  int64  \n",
            "dtypes: float64(47), int64(2)\n",
            "memory usage: 4.7 MB\n"
          ]
        }
      ]
    },
    {
      "cell_type": "code",
      "metadata": {
        "id": "70rgu_k4ET9F",
        "colab": {
          "base_uri": "https://localhost:8080/"
        },
        "outputId": "3b26368b-ffbb-4cc0-98e1-f5085341c053"
      },
      "source": [
        "# checking for missing values in each column\n",
        "epilepsy_data.isnull().sum()"
      ],
      "execution_count": 92,
      "outputs": [
        {
          "output_type": "execute_result",
          "data": {
            "text/plain": [
              "Unnamed: 0               0\n",
              "PFD(){}_0                0\n",
              "PFD(){}_1                0\n",
              "PFD(){}_2                0\n",
              "PFD(){}_3                0\n",
              "PFD(){}_4                0\n",
              "PFD(){}_5                0\n",
              "PFD(){}_6                0\n",
              "PFD(){}_7                0\n",
              "PFD(){}_8                0\n",
              "PFD(){}_9                0\n",
              "PFD(){}_10               0\n",
              "PFD(){}_11               0\n",
              "PFD(){}_12               0\n",
              "PFD(){}_13               0\n",
              "PFD(){}_14               0\n",
              "PFD(){}_15               0\n",
              "PFD(){}_16               0\n",
              "PFD(){}_17               0\n",
              "PFD(){}_18               0\n",
              "PFD(){}_19               0\n",
              "PFD(){}_20               0\n",
              "PFD(){}_21               0\n",
              "PFD(){}_22               0\n",
              "DTW((0, 1),){}           0\n",
              "hjorthActivity(){}_0     0\n",
              "hjorthActivity(){}_1     0\n",
              "hjorthActivity(){}_2     0\n",
              "hjorthActivity(){}_3     0\n",
              "hjorthActivity(){}_4     0\n",
              "hjorthActivity(){}_5     0\n",
              "hjorthActivity(){}_6     0\n",
              "hjorthActivity(){}_7     0\n",
              "hjorthActivity(){}_8     0\n",
              "hjorthActivity(){}_9     0\n",
              "hjorthActivity(){}_10    0\n",
              "hjorthActivity(){}_11    0\n",
              "hjorthActivity(){}_12    0\n",
              "hjorthActivity(){}_13    0\n",
              "hjorthActivity(){}_14    0\n",
              "hjorthActivity(){}_15    0\n",
              "hjorthActivity(){}_16    0\n",
              "hjorthActivity(){}_17    0\n",
              "hjorthActivity(){}_18    0\n",
              "hjorthActivity(){}_19    0\n",
              "hjorthActivity(){}_20    0\n",
              "hjorthActivity(){}_21    0\n",
              "hjorthActivity(){}_22    0\n",
              "Label                    0\n",
              "dtype: int64"
            ]
          },
          "metadata": {},
          "execution_count": 92
        }
      ]
    },
    {
      "cell_type": "code",
      "metadata": {
        "id": "1AxFu0-nEhSA",
        "colab": {
          "base_uri": "https://localhost:8080/",
          "height": 411
        },
        "outputId": "26cf07b5-ce0a-4726-e00a-443e2be43f78"
      },
      "source": [
        "# getting some statistical measures about the data\n",
        "epilepsy_data.describe()"
      ],
      "execution_count": 93,
      "outputs": [
        {
          "output_type": "execute_result",
          "data": {
            "text/plain": [
              "         Unnamed: 0     PFD(){}_0     PFD(){}_1     PFD(){}_2     PFD(){}_3  \\\n",
              "count  12699.000000  12699.000000  12699.000000  12699.000000  12699.000000   \n",
              "mean    2065.601622      1.024217      1.025449      1.024611      1.025228   \n",
              "std     2024.912589      0.003335      0.002123      0.003005      0.002613   \n",
              "min        0.000000      1.001966      1.003083      1.002804      1.002804   \n",
              "25%      615.000000      1.022746      1.024823      1.023786      1.024564   \n",
              "50%     1217.000000      1.025598      1.026114      1.025598      1.026628   \n",
              "75%     3038.500000      1.026628      1.026628      1.026628      1.026628   \n",
              "max     8004.000000      1.032991      1.031476      1.031982      1.032487   \n",
              "\n",
              "          PFD(){}_4     PFD(){}_5     PFD(){}_6     PFD(){}_7     PFD(){}_8  \\\n",
              "count  12699.000000  12699.000000  12699.000000  12699.000000  12699.000000   \n",
              "mean       1.024593      1.024197      1.024606      1.025140      1.024737   \n",
              "std        0.003263      0.003184      0.002657      0.001994      0.002876   \n",
              "min        1.001405      1.002245      1.002245      1.002525      1.002245   \n",
              "25%        1.023526      1.022224      1.023006      1.024045      1.023786   \n",
              "50%        1.026371      1.025340      1.025598      1.025856      1.025598   \n",
              "75%        1.026628      1.026628      1.026628      1.026628      1.026628   \n",
              "max        1.031476      1.031476      1.032739      1.030716      1.031476   \n",
              "\n",
              "       ...  hjorthActivity(){}_14  hjorthActivity(){}_15  \\\n",
              "count  ...           12699.000000           12699.000000   \n",
              "mean   ...               0.861601               0.913711   \n",
              "std    ...              10.795094               1.709690   \n",
              "min    ...               0.003010               0.004608   \n",
              "25%    ...               0.100489               0.259995   \n",
              "50%    ...               0.280677               0.726048   \n",
              "75%    ...               0.597844               1.007272   \n",
              "max    ...             742.738824             104.208060   \n",
              "\n",
              "       hjorthActivity(){}_16  hjorthActivity(){}_17  hjorthActivity(){}_18  \\\n",
              "count           12699.000000           12699.000000           12699.000000   \n",
              "mean                0.872874               0.976057               0.968966   \n",
              "std                 8.739974              16.577027              10.334128   \n",
              "min                 0.000112               0.003832               0.002241   \n",
              "25%                 0.076285               0.075466               0.242267   \n",
              "50%                 0.262125               0.516428               0.543534   \n",
              "75%                 0.829225               0.910670               0.853424   \n",
              "max               700.341923            1590.851772            1002.847564   \n",
              "\n",
              "       hjorthActivity(){}_19  hjorthActivity(){}_20  hjorthActivity(){}_21  \\\n",
              "count           12699.000000           12699.000000           12699.000000   \n",
              "mean                0.862775               1.000395               0.810612   \n",
              "std                 7.582906              18.465899              13.519443   \n",
              "min                 0.000450               0.000635               0.000686   \n",
              "25%                 0.270931               0.132490               0.042358   \n",
              "50%                 0.486271               0.375737               0.329504   \n",
              "75%                 0.737272               0.629639               0.639546   \n",
              "max               521.547086            1687.046575            1162.132798   \n",
              "\n",
              "       hjorthActivity(){}_22         Label  \n",
              "count           12699.000000  12699.000000  \n",
              "mean                0.962737      4.092369  \n",
              "std                12.157763      1.999777  \n",
              "min                 0.000464      0.000000  \n",
              "25%                 0.086096      2.000000  \n",
              "50%                 0.287960      5.000000  \n",
              "75%                 0.977758      6.000000  \n",
              "max               824.194088      6.000000  \n",
              "\n",
              "[8 rows x 49 columns]"
            ],
            "text/html": [
              "\n",
              "  <div id=\"df-462bc1fa-03c0-4e82-9303-e0295fda2693\">\n",
              "    <div class=\"colab-df-container\">\n",
              "      <div>\n",
              "<style scoped>\n",
              "    .dataframe tbody tr th:only-of-type {\n",
              "        vertical-align: middle;\n",
              "    }\n",
              "\n",
              "    .dataframe tbody tr th {\n",
              "        vertical-align: top;\n",
              "    }\n",
              "\n",
              "    .dataframe thead th {\n",
              "        text-align: right;\n",
              "    }\n",
              "</style>\n",
              "<table border=\"1\" class=\"dataframe\">\n",
              "  <thead>\n",
              "    <tr style=\"text-align: right;\">\n",
              "      <th></th>\n",
              "      <th>Unnamed: 0</th>\n",
              "      <th>PFD(){}_0</th>\n",
              "      <th>PFD(){}_1</th>\n",
              "      <th>PFD(){}_2</th>\n",
              "      <th>PFD(){}_3</th>\n",
              "      <th>PFD(){}_4</th>\n",
              "      <th>PFD(){}_5</th>\n",
              "      <th>PFD(){}_6</th>\n",
              "      <th>PFD(){}_7</th>\n",
              "      <th>PFD(){}_8</th>\n",
              "      <th>...</th>\n",
              "      <th>hjorthActivity(){}_14</th>\n",
              "      <th>hjorthActivity(){}_15</th>\n",
              "      <th>hjorthActivity(){}_16</th>\n",
              "      <th>hjorthActivity(){}_17</th>\n",
              "      <th>hjorthActivity(){}_18</th>\n",
              "      <th>hjorthActivity(){}_19</th>\n",
              "      <th>hjorthActivity(){}_20</th>\n",
              "      <th>hjorthActivity(){}_21</th>\n",
              "      <th>hjorthActivity(){}_22</th>\n",
              "      <th>Label</th>\n",
              "    </tr>\n",
              "  </thead>\n",
              "  <tbody>\n",
              "    <tr>\n",
              "      <th>count</th>\n",
              "      <td>12699.000000</td>\n",
              "      <td>12699.000000</td>\n",
              "      <td>12699.000000</td>\n",
              "      <td>12699.000000</td>\n",
              "      <td>12699.000000</td>\n",
              "      <td>12699.000000</td>\n",
              "      <td>12699.000000</td>\n",
              "      <td>12699.000000</td>\n",
              "      <td>12699.000000</td>\n",
              "      <td>12699.000000</td>\n",
              "      <td>...</td>\n",
              "      <td>12699.000000</td>\n",
              "      <td>12699.000000</td>\n",
              "      <td>12699.000000</td>\n",
              "      <td>12699.000000</td>\n",
              "      <td>12699.000000</td>\n",
              "      <td>12699.000000</td>\n",
              "      <td>12699.000000</td>\n",
              "      <td>12699.000000</td>\n",
              "      <td>12699.000000</td>\n",
              "      <td>12699.000000</td>\n",
              "    </tr>\n",
              "    <tr>\n",
              "      <th>mean</th>\n",
              "      <td>2065.601622</td>\n",
              "      <td>1.024217</td>\n",
              "      <td>1.025449</td>\n",
              "      <td>1.024611</td>\n",
              "      <td>1.025228</td>\n",
              "      <td>1.024593</td>\n",
              "      <td>1.024197</td>\n",
              "      <td>1.024606</td>\n",
              "      <td>1.025140</td>\n",
              "      <td>1.024737</td>\n",
              "      <td>...</td>\n",
              "      <td>0.861601</td>\n",
              "      <td>0.913711</td>\n",
              "      <td>0.872874</td>\n",
              "      <td>0.976057</td>\n",
              "      <td>0.968966</td>\n",
              "      <td>0.862775</td>\n",
              "      <td>1.000395</td>\n",
              "      <td>0.810612</td>\n",
              "      <td>0.962737</td>\n",
              "      <td>4.092369</td>\n",
              "    </tr>\n",
              "    <tr>\n",
              "      <th>std</th>\n",
              "      <td>2024.912589</td>\n",
              "      <td>0.003335</td>\n",
              "      <td>0.002123</td>\n",
              "      <td>0.003005</td>\n",
              "      <td>0.002613</td>\n",
              "      <td>0.003263</td>\n",
              "      <td>0.003184</td>\n",
              "      <td>0.002657</td>\n",
              "      <td>0.001994</td>\n",
              "      <td>0.002876</td>\n",
              "      <td>...</td>\n",
              "      <td>10.795094</td>\n",
              "      <td>1.709690</td>\n",
              "      <td>8.739974</td>\n",
              "      <td>16.577027</td>\n",
              "      <td>10.334128</td>\n",
              "      <td>7.582906</td>\n",
              "      <td>18.465899</td>\n",
              "      <td>13.519443</td>\n",
              "      <td>12.157763</td>\n",
              "      <td>1.999777</td>\n",
              "    </tr>\n",
              "    <tr>\n",
              "      <th>min</th>\n",
              "      <td>0.000000</td>\n",
              "      <td>1.001966</td>\n",
              "      <td>1.003083</td>\n",
              "      <td>1.002804</td>\n",
              "      <td>1.002804</td>\n",
              "      <td>1.001405</td>\n",
              "      <td>1.002245</td>\n",
              "      <td>1.002245</td>\n",
              "      <td>1.002525</td>\n",
              "      <td>1.002245</td>\n",
              "      <td>...</td>\n",
              "      <td>0.003010</td>\n",
              "      <td>0.004608</td>\n",
              "      <td>0.000112</td>\n",
              "      <td>0.003832</td>\n",
              "      <td>0.002241</td>\n",
              "      <td>0.000450</td>\n",
              "      <td>0.000635</td>\n",
              "      <td>0.000686</td>\n",
              "      <td>0.000464</td>\n",
              "      <td>0.000000</td>\n",
              "    </tr>\n",
              "    <tr>\n",
              "      <th>25%</th>\n",
              "      <td>615.000000</td>\n",
              "      <td>1.022746</td>\n",
              "      <td>1.024823</td>\n",
              "      <td>1.023786</td>\n",
              "      <td>1.024564</td>\n",
              "      <td>1.023526</td>\n",
              "      <td>1.022224</td>\n",
              "      <td>1.023006</td>\n",
              "      <td>1.024045</td>\n",
              "      <td>1.023786</td>\n",
              "      <td>...</td>\n",
              "      <td>0.100489</td>\n",
              "      <td>0.259995</td>\n",
              "      <td>0.076285</td>\n",
              "      <td>0.075466</td>\n",
              "      <td>0.242267</td>\n",
              "      <td>0.270931</td>\n",
              "      <td>0.132490</td>\n",
              "      <td>0.042358</td>\n",
              "      <td>0.086096</td>\n",
              "      <td>2.000000</td>\n",
              "    </tr>\n",
              "    <tr>\n",
              "      <th>50%</th>\n",
              "      <td>1217.000000</td>\n",
              "      <td>1.025598</td>\n",
              "      <td>1.026114</td>\n",
              "      <td>1.025598</td>\n",
              "      <td>1.026628</td>\n",
              "      <td>1.026371</td>\n",
              "      <td>1.025340</td>\n",
              "      <td>1.025598</td>\n",
              "      <td>1.025856</td>\n",
              "      <td>1.025598</td>\n",
              "      <td>...</td>\n",
              "      <td>0.280677</td>\n",
              "      <td>0.726048</td>\n",
              "      <td>0.262125</td>\n",
              "      <td>0.516428</td>\n",
              "      <td>0.543534</td>\n",
              "      <td>0.486271</td>\n",
              "      <td>0.375737</td>\n",
              "      <td>0.329504</td>\n",
              "      <td>0.287960</td>\n",
              "      <td>5.000000</td>\n",
              "    </tr>\n",
              "    <tr>\n",
              "      <th>75%</th>\n",
              "      <td>3038.500000</td>\n",
              "      <td>1.026628</td>\n",
              "      <td>1.026628</td>\n",
              "      <td>1.026628</td>\n",
              "      <td>1.026628</td>\n",
              "      <td>1.026628</td>\n",
              "      <td>1.026628</td>\n",
              "      <td>1.026628</td>\n",
              "      <td>1.026628</td>\n",
              "      <td>1.026628</td>\n",
              "      <td>...</td>\n",
              "      <td>0.597844</td>\n",
              "      <td>1.007272</td>\n",
              "      <td>0.829225</td>\n",
              "      <td>0.910670</td>\n",
              "      <td>0.853424</td>\n",
              "      <td>0.737272</td>\n",
              "      <td>0.629639</td>\n",
              "      <td>0.639546</td>\n",
              "      <td>0.977758</td>\n",
              "      <td>6.000000</td>\n",
              "    </tr>\n",
              "    <tr>\n",
              "      <th>max</th>\n",
              "      <td>8004.000000</td>\n",
              "      <td>1.032991</td>\n",
              "      <td>1.031476</td>\n",
              "      <td>1.031982</td>\n",
              "      <td>1.032487</td>\n",
              "      <td>1.031476</td>\n",
              "      <td>1.031476</td>\n",
              "      <td>1.032739</td>\n",
              "      <td>1.030716</td>\n",
              "      <td>1.031476</td>\n",
              "      <td>...</td>\n",
              "      <td>742.738824</td>\n",
              "      <td>104.208060</td>\n",
              "      <td>700.341923</td>\n",
              "      <td>1590.851772</td>\n",
              "      <td>1002.847564</td>\n",
              "      <td>521.547086</td>\n",
              "      <td>1687.046575</td>\n",
              "      <td>1162.132798</td>\n",
              "      <td>824.194088</td>\n",
              "      <td>6.000000</td>\n",
              "    </tr>\n",
              "  </tbody>\n",
              "</table>\n",
              "<p>8 rows × 49 columns</p>\n",
              "</div>\n",
              "      <button class=\"colab-df-convert\" onclick=\"convertToInteractive('df-462bc1fa-03c0-4e82-9303-e0295fda2693')\"\n",
              "              title=\"Convert this dataframe to an interactive table.\"\n",
              "              style=\"display:none;\">\n",
              "        \n",
              "  <svg xmlns=\"http://www.w3.org/2000/svg\" height=\"24px\"viewBox=\"0 0 24 24\"\n",
              "       width=\"24px\">\n",
              "    <path d=\"M0 0h24v24H0V0z\" fill=\"none\"/>\n",
              "    <path d=\"M18.56 5.44l.94 2.06.94-2.06 2.06-.94-2.06-.94-.94-2.06-.94 2.06-2.06.94zm-11 1L8.5 8.5l.94-2.06 2.06-.94-2.06-.94L8.5 2.5l-.94 2.06-2.06.94zm10 10l.94 2.06.94-2.06 2.06-.94-2.06-.94-.94-2.06-.94 2.06-2.06.94z\"/><path d=\"M17.41 7.96l-1.37-1.37c-.4-.4-.92-.59-1.43-.59-.52 0-1.04.2-1.43.59L10.3 9.45l-7.72 7.72c-.78.78-.78 2.05 0 2.83L4 21.41c.39.39.9.59 1.41.59.51 0 1.02-.2 1.41-.59l7.78-7.78 2.81-2.81c.8-.78.8-2.07 0-2.86zM5.41 20L4 18.59l7.72-7.72 1.47 1.35L5.41 20z\"/>\n",
              "  </svg>\n",
              "      </button>\n",
              "      \n",
              "  <style>\n",
              "    .colab-df-container {\n",
              "      display:flex;\n",
              "      flex-wrap:wrap;\n",
              "      gap: 12px;\n",
              "    }\n",
              "\n",
              "    .colab-df-convert {\n",
              "      background-color: #E8F0FE;\n",
              "      border: none;\n",
              "      border-radius: 50%;\n",
              "      cursor: pointer;\n",
              "      display: none;\n",
              "      fill: #1967D2;\n",
              "      height: 32px;\n",
              "      padding: 0 0 0 0;\n",
              "      width: 32px;\n",
              "    }\n",
              "\n",
              "    .colab-df-convert:hover {\n",
              "      background-color: #E2EBFA;\n",
              "      box-shadow: 0px 1px 2px rgba(60, 64, 67, 0.3), 0px 1px 3px 1px rgba(60, 64, 67, 0.15);\n",
              "      fill: #174EA6;\n",
              "    }\n",
              "\n",
              "    [theme=dark] .colab-df-convert {\n",
              "      background-color: #3B4455;\n",
              "      fill: #D2E3FC;\n",
              "    }\n",
              "\n",
              "    [theme=dark] .colab-df-convert:hover {\n",
              "      background-color: #434B5C;\n",
              "      box-shadow: 0px 1px 3px 1px rgba(0, 0, 0, 0.15);\n",
              "      filter: drop-shadow(0px 1px 2px rgba(0, 0, 0, 0.3));\n",
              "      fill: #FFFFFF;\n",
              "    }\n",
              "  </style>\n",
              "\n",
              "      <script>\n",
              "        const buttonEl =\n",
              "          document.querySelector('#df-462bc1fa-03c0-4e82-9303-e0295fda2693 button.colab-df-convert');\n",
              "        buttonEl.style.display =\n",
              "          google.colab.kernel.accessAllowed ? 'block' : 'none';\n",
              "\n",
              "        async function convertToInteractive(key) {\n",
              "          const element = document.querySelector('#df-462bc1fa-03c0-4e82-9303-e0295fda2693');\n",
              "          const dataTable =\n",
              "            await google.colab.kernel.invokeFunction('convertToInteractive',\n",
              "                                                     [key], {});\n",
              "          if (!dataTable) return;\n",
              "\n",
              "          const docLinkHtml = 'Like what you see? Visit the ' +\n",
              "            '<a target=\"_blank\" href=https://colab.research.google.com/notebooks/data_table.ipynb>data table notebook</a>'\n",
              "            + ' to learn more about interactive tables.';\n",
              "          element.innerHTML = '';\n",
              "          dataTable['output_type'] = 'display_data';\n",
              "          await google.colab.output.renderOutput(dataTable, element);\n",
              "          const docLink = document.createElement('div');\n",
              "          docLink.innerHTML = docLinkHtml;\n",
              "          element.appendChild(docLink);\n",
              "        }\n",
              "      </script>\n",
              "    </div>\n",
              "  </div>\n",
              "  "
            ]
          },
          "metadata": {},
          "execution_count": 93
        }
      ]
    },
    {
      "cell_type": "markdown",
      "source": [
        "Implementation"
      ],
      "metadata": {
        "id": "E-WjSEh1l5T5"
      }
    },
    {
      "cell_type": "code",
      "source": [
        "from __future__ import print_function\n",
        "import os\n",
        "import time\n",
        "import random\n",
        "import glob\n",
        "import librosa\n",
        "import numpy as np\n",
        "import librosa.display\n",
        "import tensorflow as tf\n",
        "from tensorflow.keras.optimizers import Adam\n",
        "import matplotlib.pyplot as plt\n",
        "import numpy as np\n",
        "from numpy import loadtxt\n",
        "import seaborn as sn\n",
        "import pandas as pd"
      ],
      "metadata": {
        "id": "qomeA6VMl63i"
      },
      "execution_count": 94,
      "outputs": []
    },
    {
      "cell_type": "code",
      "source": [
        "import keras\n",
        "from keras.models import Sequential\n",
        "from keras.wrappers.scikit_learn import KerasClassifier\n",
        "from keras.utils import np_utils\n",
        "from sklearn.model_selection import cross_val_score\n",
        "from sklearn.model_selection import KFold\n",
        "from sklearn.preprocessing import LabelEncoder\n",
        "from sklearn.pipeline import Pipeline\n",
        "from sklearn.model_selection import train_test_split\n",
        "from tensorflow.keras.callbacks import  ModelCheckpoint\n",
        "from tensorflow.keras.models import Model, load_model\n",
        "from keras.layers.core import Dense, Activation\n",
        "from keras.layers.core import Dropout\n",
        "from keras.layers import BatchNormalization\n",
        "from keras.layers import Dropout"
      ],
      "metadata": {
        "id": "uu8A5chBl-9m"
      },
      "execution_count": 95,
      "outputs": []
    },
    {
      "cell_type": "code",
      "source": [
        "\n",
        "#epilepsy_data =epilepsy_data.drop(['Unnamed: 0'],axis=1)\n",
        "epilepsy_data"
      ],
      "metadata": {
        "id": "ACOerGO7l_BW",
        "colab": {
          "base_uri": "https://localhost:8080/",
          "height": 505
        },
        "outputId": "55f9d65b-0ef5-4720-c59c-4adc74f8fecd"
      },
      "execution_count": 126,
      "outputs": [
        {
          "output_type": "execute_result",
          "data": {
            "text/plain": [
              "       PFD(){}_0  PFD(){}_1  PFD(){}_2  PFD(){}_3  PFD(){}_4  PFD(){}_5  \\\n",
              "0       1.026628   1.026628   1.026114   1.026628   1.026628   1.024564   \n",
              "1       1.026628   1.026628   1.026628   1.026628   1.026886   1.026114   \n",
              "2       1.026628   1.026628   1.025598   1.026628   1.027142   1.026114   \n",
              "3       1.026628   1.026628   1.024823   1.026628   1.026886   1.025598   \n",
              "4       1.026628   1.026628   1.023526   1.026628   1.026114   1.026114   \n",
              "...          ...        ...        ...        ...        ...        ...   \n",
              "12694   1.015893   1.024564   1.026628   1.024045   1.026371   1.026628   \n",
              "12695   1.020916   1.026371   1.026628   1.025081   1.024823   1.026628   \n",
              "12696   1.019339   1.023786   1.026628   1.024045   1.026114   1.026628   \n",
              "12697   1.019075   1.026371   1.026886   1.026628   1.026886   1.026628   \n",
              "12698   1.020916   1.026628   1.026886   1.025598   1.028424   1.026628   \n",
              "\n",
              "       PFD(){}_6  PFD(){}_7  PFD(){}_8  PFD(){}_9  ...  hjorthActivity(){}_14  \\\n",
              "0       1.025340   1.024045   1.026628   1.023526  ...               0.465618   \n",
              "1       1.025081   1.024823   1.026628   1.024305  ...               0.310774   \n",
              "2       1.025081   1.027142   1.026628   1.023266  ...               0.329698   \n",
              "3       1.023006   1.025081   1.025856   1.021440  ...               3.803939   \n",
              "4       1.025598   1.024564   1.027142   1.023526  ...               4.826091   \n",
              "...          ...        ...        ...        ...  ...                    ...   \n",
              "12694   1.020916   1.026886   1.020391   1.026628  ...               0.446341   \n",
              "12695   1.020391   1.026371   1.017489   1.026628  ...               0.442123   \n",
              "12696   1.023006   1.024823   1.021178   1.026628  ...               0.427248   \n",
              "12697   1.024305   1.028934   1.021178   1.026628  ...               0.423870   \n",
              "12698   1.024564   1.027399   1.021178   1.026628  ...               0.400520   \n",
              "\n",
              "       hjorthActivity(){}_15  hjorthActivity(){}_16  hjorthActivity(){}_17  \\\n",
              "0                   0.427841               1.078657               0.102130   \n",
              "1                   0.304385               0.948840               0.092594   \n",
              "2                   0.342481               1.094572               0.082353   \n",
              "3                   1.429145               1.223469               0.141066   \n",
              "4                   1.286788               1.074185               0.146749   \n",
              "...                      ...                    ...                    ...   \n",
              "12694               0.774349               0.844436               0.799153   \n",
              "12695               0.688490               0.822147               0.792710   \n",
              "12696               0.667052               1.593559               0.916766   \n",
              "12697               0.902538               0.897646               0.921051   \n",
              "12698               0.960448               0.924189               0.996748   \n",
              "\n",
              "       hjorthActivity(){}_18  hjorthActivity(){}_19  hjorthActivity(){}_20  \\\n",
              "0                   0.267037               0.330682               0.287038   \n",
              "1                   0.223569               0.242099               0.359904   \n",
              "2                   0.207086               0.195659               0.304122   \n",
              "3                   0.582976               0.190388               0.458770   \n",
              "4                   1.779844               0.390236               0.327588   \n",
              "...                      ...                    ...                    ...   \n",
              "12694               0.611870               1.106704               0.374820   \n",
              "12695               1.072197               1.108208               0.588603   \n",
              "12696               0.634947               1.190402               9.156488   \n",
              "12697               1.523667               0.519850               0.648398   \n",
              "12698               1.365286               1.233982               4.575667   \n",
              "\n",
              "       hjorthActivity(){}_21  hjorthActivity(){}_22  Label  \n",
              "0                   0.236045               0.219049      0  \n",
              "1                   0.224586               0.241306      0  \n",
              "2                   0.247518               0.245281      0  \n",
              "3                   0.199284               0.329741      0  \n",
              "4                   0.293795               1.008775      0  \n",
              "...                      ...                    ...    ...  \n",
              "12694               0.568831               0.804100      6  \n",
              "12695               0.584333               0.774103      6  \n",
              "12696               1.342515               1.213014      6  \n",
              "12697               3.630889               0.996639      6  \n",
              "12698               3.111257               1.084713      6  \n",
              "\n",
              "[12699 rows x 48 columns]"
            ],
            "text/html": [
              "\n",
              "  <div id=\"df-dcd0e86e-5168-4b80-8a58-f27dc562663c\">\n",
              "    <div class=\"colab-df-container\">\n",
              "      <div>\n",
              "<style scoped>\n",
              "    .dataframe tbody tr th:only-of-type {\n",
              "        vertical-align: middle;\n",
              "    }\n",
              "\n",
              "    .dataframe tbody tr th {\n",
              "        vertical-align: top;\n",
              "    }\n",
              "\n",
              "    .dataframe thead th {\n",
              "        text-align: right;\n",
              "    }\n",
              "</style>\n",
              "<table border=\"1\" class=\"dataframe\">\n",
              "  <thead>\n",
              "    <tr style=\"text-align: right;\">\n",
              "      <th></th>\n",
              "      <th>PFD(){}_0</th>\n",
              "      <th>PFD(){}_1</th>\n",
              "      <th>PFD(){}_2</th>\n",
              "      <th>PFD(){}_3</th>\n",
              "      <th>PFD(){}_4</th>\n",
              "      <th>PFD(){}_5</th>\n",
              "      <th>PFD(){}_6</th>\n",
              "      <th>PFD(){}_7</th>\n",
              "      <th>PFD(){}_8</th>\n",
              "      <th>PFD(){}_9</th>\n",
              "      <th>...</th>\n",
              "      <th>hjorthActivity(){}_14</th>\n",
              "      <th>hjorthActivity(){}_15</th>\n",
              "      <th>hjorthActivity(){}_16</th>\n",
              "      <th>hjorthActivity(){}_17</th>\n",
              "      <th>hjorthActivity(){}_18</th>\n",
              "      <th>hjorthActivity(){}_19</th>\n",
              "      <th>hjorthActivity(){}_20</th>\n",
              "      <th>hjorthActivity(){}_21</th>\n",
              "      <th>hjorthActivity(){}_22</th>\n",
              "      <th>Label</th>\n",
              "    </tr>\n",
              "  </thead>\n",
              "  <tbody>\n",
              "    <tr>\n",
              "      <th>0</th>\n",
              "      <td>1.026628</td>\n",
              "      <td>1.026628</td>\n",
              "      <td>1.026114</td>\n",
              "      <td>1.026628</td>\n",
              "      <td>1.026628</td>\n",
              "      <td>1.024564</td>\n",
              "      <td>1.025340</td>\n",
              "      <td>1.024045</td>\n",
              "      <td>1.026628</td>\n",
              "      <td>1.023526</td>\n",
              "      <td>...</td>\n",
              "      <td>0.465618</td>\n",
              "      <td>0.427841</td>\n",
              "      <td>1.078657</td>\n",
              "      <td>0.102130</td>\n",
              "      <td>0.267037</td>\n",
              "      <td>0.330682</td>\n",
              "      <td>0.287038</td>\n",
              "      <td>0.236045</td>\n",
              "      <td>0.219049</td>\n",
              "      <td>0</td>\n",
              "    </tr>\n",
              "    <tr>\n",
              "      <th>1</th>\n",
              "      <td>1.026628</td>\n",
              "      <td>1.026628</td>\n",
              "      <td>1.026628</td>\n",
              "      <td>1.026628</td>\n",
              "      <td>1.026886</td>\n",
              "      <td>1.026114</td>\n",
              "      <td>1.025081</td>\n",
              "      <td>1.024823</td>\n",
              "      <td>1.026628</td>\n",
              "      <td>1.024305</td>\n",
              "      <td>...</td>\n",
              "      <td>0.310774</td>\n",
              "      <td>0.304385</td>\n",
              "      <td>0.948840</td>\n",
              "      <td>0.092594</td>\n",
              "      <td>0.223569</td>\n",
              "      <td>0.242099</td>\n",
              "      <td>0.359904</td>\n",
              "      <td>0.224586</td>\n",
              "      <td>0.241306</td>\n",
              "      <td>0</td>\n",
              "    </tr>\n",
              "    <tr>\n",
              "      <th>2</th>\n",
              "      <td>1.026628</td>\n",
              "      <td>1.026628</td>\n",
              "      <td>1.025598</td>\n",
              "      <td>1.026628</td>\n",
              "      <td>1.027142</td>\n",
              "      <td>1.026114</td>\n",
              "      <td>1.025081</td>\n",
              "      <td>1.027142</td>\n",
              "      <td>1.026628</td>\n",
              "      <td>1.023266</td>\n",
              "      <td>...</td>\n",
              "      <td>0.329698</td>\n",
              "      <td>0.342481</td>\n",
              "      <td>1.094572</td>\n",
              "      <td>0.082353</td>\n",
              "      <td>0.207086</td>\n",
              "      <td>0.195659</td>\n",
              "      <td>0.304122</td>\n",
              "      <td>0.247518</td>\n",
              "      <td>0.245281</td>\n",
              "      <td>0</td>\n",
              "    </tr>\n",
              "    <tr>\n",
              "      <th>3</th>\n",
              "      <td>1.026628</td>\n",
              "      <td>1.026628</td>\n",
              "      <td>1.024823</td>\n",
              "      <td>1.026628</td>\n",
              "      <td>1.026886</td>\n",
              "      <td>1.025598</td>\n",
              "      <td>1.023006</td>\n",
              "      <td>1.025081</td>\n",
              "      <td>1.025856</td>\n",
              "      <td>1.021440</td>\n",
              "      <td>...</td>\n",
              "      <td>3.803939</td>\n",
              "      <td>1.429145</td>\n",
              "      <td>1.223469</td>\n",
              "      <td>0.141066</td>\n",
              "      <td>0.582976</td>\n",
              "      <td>0.190388</td>\n",
              "      <td>0.458770</td>\n",
              "      <td>0.199284</td>\n",
              "      <td>0.329741</td>\n",
              "      <td>0</td>\n",
              "    </tr>\n",
              "    <tr>\n",
              "      <th>4</th>\n",
              "      <td>1.026628</td>\n",
              "      <td>1.026628</td>\n",
              "      <td>1.023526</td>\n",
              "      <td>1.026628</td>\n",
              "      <td>1.026114</td>\n",
              "      <td>1.026114</td>\n",
              "      <td>1.025598</td>\n",
              "      <td>1.024564</td>\n",
              "      <td>1.027142</td>\n",
              "      <td>1.023526</td>\n",
              "      <td>...</td>\n",
              "      <td>4.826091</td>\n",
              "      <td>1.286788</td>\n",
              "      <td>1.074185</td>\n",
              "      <td>0.146749</td>\n",
              "      <td>1.779844</td>\n",
              "      <td>0.390236</td>\n",
              "      <td>0.327588</td>\n",
              "      <td>0.293795</td>\n",
              "      <td>1.008775</td>\n",
              "      <td>0</td>\n",
              "    </tr>\n",
              "    <tr>\n",
              "      <th>...</th>\n",
              "      <td>...</td>\n",
              "      <td>...</td>\n",
              "      <td>...</td>\n",
              "      <td>...</td>\n",
              "      <td>...</td>\n",
              "      <td>...</td>\n",
              "      <td>...</td>\n",
              "      <td>...</td>\n",
              "      <td>...</td>\n",
              "      <td>...</td>\n",
              "      <td>...</td>\n",
              "      <td>...</td>\n",
              "      <td>...</td>\n",
              "      <td>...</td>\n",
              "      <td>...</td>\n",
              "      <td>...</td>\n",
              "      <td>...</td>\n",
              "      <td>...</td>\n",
              "      <td>...</td>\n",
              "      <td>...</td>\n",
              "      <td>...</td>\n",
              "    </tr>\n",
              "    <tr>\n",
              "      <th>12694</th>\n",
              "      <td>1.015893</td>\n",
              "      <td>1.024564</td>\n",
              "      <td>1.026628</td>\n",
              "      <td>1.024045</td>\n",
              "      <td>1.026371</td>\n",
              "      <td>1.026628</td>\n",
              "      <td>1.020916</td>\n",
              "      <td>1.026886</td>\n",
              "      <td>1.020391</td>\n",
              "      <td>1.026628</td>\n",
              "      <td>...</td>\n",
              "      <td>0.446341</td>\n",
              "      <td>0.774349</td>\n",
              "      <td>0.844436</td>\n",
              "      <td>0.799153</td>\n",
              "      <td>0.611870</td>\n",
              "      <td>1.106704</td>\n",
              "      <td>0.374820</td>\n",
              "      <td>0.568831</td>\n",
              "      <td>0.804100</td>\n",
              "      <td>6</td>\n",
              "    </tr>\n",
              "    <tr>\n",
              "      <th>12695</th>\n",
              "      <td>1.020916</td>\n",
              "      <td>1.026371</td>\n",
              "      <td>1.026628</td>\n",
              "      <td>1.025081</td>\n",
              "      <td>1.024823</td>\n",
              "      <td>1.026628</td>\n",
              "      <td>1.020391</td>\n",
              "      <td>1.026371</td>\n",
              "      <td>1.017489</td>\n",
              "      <td>1.026628</td>\n",
              "      <td>...</td>\n",
              "      <td>0.442123</td>\n",
              "      <td>0.688490</td>\n",
              "      <td>0.822147</td>\n",
              "      <td>0.792710</td>\n",
              "      <td>1.072197</td>\n",
              "      <td>1.108208</td>\n",
              "      <td>0.588603</td>\n",
              "      <td>0.584333</td>\n",
              "      <td>0.774103</td>\n",
              "      <td>6</td>\n",
              "    </tr>\n",
              "    <tr>\n",
              "      <th>12696</th>\n",
              "      <td>1.019339</td>\n",
              "      <td>1.023786</td>\n",
              "      <td>1.026628</td>\n",
              "      <td>1.024045</td>\n",
              "      <td>1.026114</td>\n",
              "      <td>1.026628</td>\n",
              "      <td>1.023006</td>\n",
              "      <td>1.024823</td>\n",
              "      <td>1.021178</td>\n",
              "      <td>1.026628</td>\n",
              "      <td>...</td>\n",
              "      <td>0.427248</td>\n",
              "      <td>0.667052</td>\n",
              "      <td>1.593559</td>\n",
              "      <td>0.916766</td>\n",
              "      <td>0.634947</td>\n",
              "      <td>1.190402</td>\n",
              "      <td>9.156488</td>\n",
              "      <td>1.342515</td>\n",
              "      <td>1.213014</td>\n",
              "      <td>6</td>\n",
              "    </tr>\n",
              "    <tr>\n",
              "      <th>12697</th>\n",
              "      <td>1.019075</td>\n",
              "      <td>1.026371</td>\n",
              "      <td>1.026886</td>\n",
              "      <td>1.026628</td>\n",
              "      <td>1.026886</td>\n",
              "      <td>1.026628</td>\n",
              "      <td>1.024305</td>\n",
              "      <td>1.028934</td>\n",
              "      <td>1.021178</td>\n",
              "      <td>1.026628</td>\n",
              "      <td>...</td>\n",
              "      <td>0.423870</td>\n",
              "      <td>0.902538</td>\n",
              "      <td>0.897646</td>\n",
              "      <td>0.921051</td>\n",
              "      <td>1.523667</td>\n",
              "      <td>0.519850</td>\n",
              "      <td>0.648398</td>\n",
              "      <td>3.630889</td>\n",
              "      <td>0.996639</td>\n",
              "      <td>6</td>\n",
              "    </tr>\n",
              "    <tr>\n",
              "      <th>12698</th>\n",
              "      <td>1.020916</td>\n",
              "      <td>1.026628</td>\n",
              "      <td>1.026886</td>\n",
              "      <td>1.025598</td>\n",
              "      <td>1.028424</td>\n",
              "      <td>1.026628</td>\n",
              "      <td>1.024564</td>\n",
              "      <td>1.027399</td>\n",
              "      <td>1.021178</td>\n",
              "      <td>1.026628</td>\n",
              "      <td>...</td>\n",
              "      <td>0.400520</td>\n",
              "      <td>0.960448</td>\n",
              "      <td>0.924189</td>\n",
              "      <td>0.996748</td>\n",
              "      <td>1.365286</td>\n",
              "      <td>1.233982</td>\n",
              "      <td>4.575667</td>\n",
              "      <td>3.111257</td>\n",
              "      <td>1.084713</td>\n",
              "      <td>6</td>\n",
              "    </tr>\n",
              "  </tbody>\n",
              "</table>\n",
              "<p>12699 rows × 48 columns</p>\n",
              "</div>\n",
              "      <button class=\"colab-df-convert\" onclick=\"convertToInteractive('df-dcd0e86e-5168-4b80-8a58-f27dc562663c')\"\n",
              "              title=\"Convert this dataframe to an interactive table.\"\n",
              "              style=\"display:none;\">\n",
              "        \n",
              "  <svg xmlns=\"http://www.w3.org/2000/svg\" height=\"24px\"viewBox=\"0 0 24 24\"\n",
              "       width=\"24px\">\n",
              "    <path d=\"M0 0h24v24H0V0z\" fill=\"none\"/>\n",
              "    <path d=\"M18.56 5.44l.94 2.06.94-2.06 2.06-.94-2.06-.94-.94-2.06-.94 2.06-2.06.94zm-11 1L8.5 8.5l.94-2.06 2.06-.94-2.06-.94L8.5 2.5l-.94 2.06-2.06.94zm10 10l.94 2.06.94-2.06 2.06-.94-2.06-.94-.94-2.06-.94 2.06-2.06.94z\"/><path d=\"M17.41 7.96l-1.37-1.37c-.4-.4-.92-.59-1.43-.59-.52 0-1.04.2-1.43.59L10.3 9.45l-7.72 7.72c-.78.78-.78 2.05 0 2.83L4 21.41c.39.39.9.59 1.41.59.51 0 1.02-.2 1.41-.59l7.78-7.78 2.81-2.81c.8-.78.8-2.07 0-2.86zM5.41 20L4 18.59l7.72-7.72 1.47 1.35L5.41 20z\"/>\n",
              "  </svg>\n",
              "      </button>\n",
              "      \n",
              "  <style>\n",
              "    .colab-df-container {\n",
              "      display:flex;\n",
              "      flex-wrap:wrap;\n",
              "      gap: 12px;\n",
              "    }\n",
              "\n",
              "    .colab-df-convert {\n",
              "      background-color: #E8F0FE;\n",
              "      border: none;\n",
              "      border-radius: 50%;\n",
              "      cursor: pointer;\n",
              "      display: none;\n",
              "      fill: #1967D2;\n",
              "      height: 32px;\n",
              "      padding: 0 0 0 0;\n",
              "      width: 32px;\n",
              "    }\n",
              "\n",
              "    .colab-df-convert:hover {\n",
              "      background-color: #E2EBFA;\n",
              "      box-shadow: 0px 1px 2px rgba(60, 64, 67, 0.3), 0px 1px 3px 1px rgba(60, 64, 67, 0.15);\n",
              "      fill: #174EA6;\n",
              "    }\n",
              "\n",
              "    [theme=dark] .colab-df-convert {\n",
              "      background-color: #3B4455;\n",
              "      fill: #D2E3FC;\n",
              "    }\n",
              "\n",
              "    [theme=dark] .colab-df-convert:hover {\n",
              "      background-color: #434B5C;\n",
              "      box-shadow: 0px 1px 3px 1px rgba(0, 0, 0, 0.15);\n",
              "      filter: drop-shadow(0px 1px 2px rgba(0, 0, 0, 0.3));\n",
              "      fill: #FFFFFF;\n",
              "    }\n",
              "  </style>\n",
              "\n",
              "      <script>\n",
              "        const buttonEl =\n",
              "          document.querySelector('#df-dcd0e86e-5168-4b80-8a58-f27dc562663c button.colab-df-convert');\n",
              "        buttonEl.style.display =\n",
              "          google.colab.kernel.accessAllowed ? 'block' : 'none';\n",
              "\n",
              "        async function convertToInteractive(key) {\n",
              "          const element = document.querySelector('#df-dcd0e86e-5168-4b80-8a58-f27dc562663c');\n",
              "          const dataTable =\n",
              "            await google.colab.kernel.invokeFunction('convertToInteractive',\n",
              "                                                     [key], {});\n",
              "          if (!dataTable) return;\n",
              "\n",
              "          const docLinkHtml = 'Like what you see? Visit the ' +\n",
              "            '<a target=\"_blank\" href=https://colab.research.google.com/notebooks/data_table.ipynb>data table notebook</a>'\n",
              "            + ' to learn more about interactive tables.';\n",
              "          element.innerHTML = '';\n",
              "          dataTable['output_type'] = 'display_data';\n",
              "          await google.colab.output.renderOutput(dataTable, element);\n",
              "          const docLink = document.createElement('div');\n",
              "          docLink.innerHTML = docLinkHtml;\n",
              "          element.appendChild(docLink);\n",
              "        }\n",
              "      </script>\n",
              "    </div>\n",
              "  </div>\n",
              "  "
            ]
          },
          "metadata": {},
          "execution_count": 126
        }
      ]
    },
    {
      "cell_type": "code",
      "source": [
        "sn.countplot(x='Label', data=epilepsy_data)"
      ],
      "metadata": {
        "id": "5QWQTlWamTRE",
        "colab": {
          "base_uri": "https://localhost:8080/",
          "height": 466
        },
        "outputId": "e6309f11-d222-4eb2-d057-42a2fcc6b855"
      },
      "execution_count": 97,
      "outputs": [
        {
          "output_type": "execute_result",
          "data": {
            "text/plain": [
              "<Axes: xlabel='Label', ylabel='count'>"
            ]
          },
          "metadata": {},
          "execution_count": 97
        },
        {
          "output_type": "display_data",
          "data": {
            "text/plain": [
              "<Figure size 640x480 with 1 Axes>"
            ],
            "image/png": "[encoded data removed]"
          },
          "metadata": {}
        }
      ]
    },
    {
      "cell_type": "code",
      "source": [
        "epilepsy_data.isnull().sum()"
      ],
      "metadata": {
        "id": "LGZmt2GimTVf",
        "colab": {
          "base_uri": "https://localhost:8080/"
        },
        "outputId": "cf36f739-17e9-41be-c97a-4bfc4f177507"
      },
      "execution_count": 98,
      "outputs": [
        {
          "output_type": "execute_result",
          "data": {
            "text/plain": [
              "PFD(){}_0                0\n",
              "PFD(){}_1                0\n",
              "PFD(){}_2                0\n",
              "PFD(){}_3                0\n",
              "PFD(){}_4                0\n",
              "PFD(){}_5                0\n",
              "PFD(){}_6                0\n",
              "PFD(){}_7                0\n",
              "PFD(){}_8                0\n",
              "PFD(){}_9                0\n",
              "PFD(){}_10               0\n",
              "PFD(){}_11               0\n",
              "PFD(){}_12               0\n",
              "PFD(){}_13               0\n",
              "PFD(){}_14               0\n",
              "PFD(){}_15               0\n",
              "PFD(){}_16               0\n",
              "PFD(){}_17               0\n",
              "PFD(){}_18               0\n",
              "PFD(){}_19               0\n",
              "PFD(){}_20               0\n",
              "PFD(){}_21               0\n",
              "PFD(){}_22               0\n",
              "DTW((0, 1),){}           0\n",
              "hjorthActivity(){}_0     0\n",
              "hjorthActivity(){}_1     0\n",
              "hjorthActivity(){}_2     0\n",
              "hjorthActivity(){}_3     0\n",
              "hjorthActivity(){}_4     0\n",
              "hjorthActivity(){}_5     0\n",
              "hjorthActivity(){}_6     0\n",
              "hjorthActivity(){}_7     0\n",
              "hjorthActivity(){}_8     0\n",
              "hjorthActivity(){}_9     0\n",
              "hjorthActivity(){}_10    0\n",
              "hjorthActivity(){}_11    0\n",
              "hjorthActivity(){}_12    0\n",
              "hjorthActivity(){}_13    0\n",
              "hjorthActivity(){}_14    0\n",
              "hjorthActivity(){}_15    0\n",
              "hjorthActivity(){}_16    0\n",
              "hjorthActivity(){}_17    0\n",
              "hjorthActivity(){}_18    0\n",
              "hjorthActivity(){}_19    0\n",
              "hjorthActivity(){}_20    0\n",
              "hjorthActivity(){}_21    0\n",
              "hjorthActivity(){}_22    0\n",
              "Label                    0\n",
              "dtype: int64"
            ]
          },
          "metadata": {},
          "execution_count": 98
        }
      ]
    },
    {
      "cell_type": "code",
      "source": [
        "epilepsy_data.columns"
      ],
      "metadata": {
        "id": "2c9kB6GlmTcC",
        "colab": {
          "base_uri": "https://localhost:8080/"
        },
        "outputId": "c0006b29-c567-4589-e52f-079fd4d3137c"
      },
      "execution_count": 99,
      "outputs": [
        {
          "output_type": "execute_result",
          "data": {
            "text/plain": [
              "Index(['PFD(){}_0', 'PFD(){}_1', 'PFD(){}_2', 'PFD(){}_3', 'PFD(){}_4',\n",
              "       'PFD(){}_5', 'PFD(){}_6', 'PFD(){}_7', 'PFD(){}_8', 'PFD(){}_9',\n",
              "       'PFD(){}_10', 'PFD(){}_11', 'PFD(){}_12', 'PFD(){}_13', 'PFD(){}_14',\n",
              "       'PFD(){}_15', 'PFD(){}_16', 'PFD(){}_17', 'PFD(){}_18', 'PFD(){}_19',\n",
              "       'PFD(){}_20', 'PFD(){}_21', 'PFD(){}_22', 'DTW((0, 1),){}',\n",
              "       'hjorthActivity(){}_0', 'hjorthActivity(){}_1', 'hjorthActivity(){}_2',\n",
              "       'hjorthActivity(){}_3', 'hjorthActivity(){}_4', 'hjorthActivity(){}_5',\n",
              "       'hjorthActivity(){}_6', 'hjorthActivity(){}_7', 'hjorthActivity(){}_8',\n",
              "       'hjorthActivity(){}_9', 'hjorthActivity(){}_10',\n",
              "       'hjorthActivity(){}_11', 'hjorthActivity(){}_12',\n",
              "       'hjorthActivity(){}_13', 'hjorthActivity(){}_14',\n",
              "       'hjorthActivity(){}_15', 'hjorthActivity(){}_16',\n",
              "       'hjorthActivity(){}_17', 'hjorthActivity(){}_18',\n",
              "       'hjorthActivity(){}_19', 'hjorthActivity(){}_20',\n",
              "       'hjorthActivity(){}_21', 'hjorthActivity(){}_22', 'Label'],\n",
              "      dtype='object')"
            ]
          },
          "metadata": {},
          "execution_count": 99
        }
      ]
    },
    {
      "cell_type": "code",
      "source": [
        "x=epilepsy_data[['PFD(){}_0', 'PFD(){}_1', 'PFD(){}_2', 'PFD(){}_3', 'PFD(){}_4',\n",
        "       'PFD(){}_5', 'PFD(){}_6', 'PFD(){}_7', 'PFD(){}_8', 'PFD(){}_9',\n",
        "       'PFD(){}_10', 'PFD(){}_11', 'PFD(){}_12', 'PFD(){}_13', 'PFD(){}_14',\n",
        "       'PFD(){}_15', 'PFD(){}_16', 'PFD(){}_17', 'PFD(){}_18', 'PFD(){}_19',\n",
        "       'PFD(){}_20', 'PFD(){}_21', 'PFD(){}_22', 'DTW((0, 1),){}',\n",
        "       'hjorthActivity(){}_0', 'hjorthActivity(){}_1', 'hjorthActivity(){}_2',\n",
        "       'hjorthActivity(){}_3', 'hjorthActivity(){}_4', 'hjorthActivity(){}_5',\n",
        "       'hjorthActivity(){}_6', 'hjorthActivity(){}_7', 'hjorthActivity(){}_8',\n",
        "       'hjorthActivity(){}_9', 'hjorthActivity(){}_10',\n",
        "       'hjorthActivity(){}_11', 'hjorthActivity(){}_12',\n",
        "       'hjorthActivity(){}_13', 'hjorthActivity(){}_14',\n",
        "       'hjorthActivity(){}_15', 'hjorthActivity(){}_16',\n",
        "       'hjorthActivity(){}_17', 'hjorthActivity(){}_18',\n",
        "       'hjorthActivity(){}_19', 'hjorthActivity(){}_20',\n",
        "       'hjorthActivity(){}_21', 'hjorthActivity(){}_22']]\n",
        "x.shape"
      ],
      "metadata": {
        "id": "uKPcb4-Sl_FZ",
        "colab": {
          "base_uri": "https://localhost:8080/"
        },
        "outputId": "1979b64a-18a3-46a8-e5ec-30960b4eb7b0"
      },
      "execution_count": 129,
      "outputs": [
        {
          "output_type": "execute_result",
          "data": {
            "text/plain": [
              "(12699, 47)"
            ]
          },
          "metadata": {},
          "execution_count": 129
        }
      ]
    },
    {
      "cell_type": "code",
      "source": [
        "y = epilepsy_data.loc[:,'Label'].values\n",
        "y.shape"
      ],
      "metadata": {
        "id": "sr5LWgCtnEI8",
        "colab": {
          "base_uri": "https://localhost:8080/"
        },
        "outputId": "b8fc3741-dd33-4699-936b-113b1fa0fb90"
      },
      "execution_count": 130,
      "outputs": [
        {
          "output_type": "execute_result",
          "data": {
            "text/plain": [
              "(12699,)"
            ]
          },
          "metadata": {},
          "execution_count": 130
        }
      ]
    },
    {
      "cell_type": "markdown",
      "metadata": {
        "id": "QIOAtx35JUMg"
      },
      "source": [
        "Model Training"
      ]
    },
    {
      "cell_type": "code",
      "source": [
        "from sklearn.preprocessing import StandardScaler\n",
        "scaler = StandardScaler()\n",
        "scaler.fit(x)\n",
        "x = scaler.transform(x)\n",
        "from keras.utils import to_categorical\n",
        "y = to_categorical(y)\n",
        "y"
      ],
      "metadata": {
        "id": "EMXsU4NSnEOH",
        "colab": {
          "base_uri": "https://localhost:8080/"
        },
        "outputId": "d3b99293-cc91-4cbe-b016-dc4d7bc26dcf"
      },
      "execution_count": 131,
      "outputs": [
        {
          "output_type": "execute_result",
          "data": {
            "text/plain": [
              "array([[1., 0., 0., ..., 0., 0., 0.],\n",
              "       [1., 0., 0., ..., 0., 0., 0.],\n",
              "       [1., 0., 0., ..., 0., 0., 0.],\n",
              "       ...,\n",
              "       [0., 0., 0., ..., 0., 0., 1.],\n",
              "       [0., 0., 0., ..., 0., 0., 1.],\n",
              "       [0., 0., 0., ..., 0., 0., 1.]], dtype=float32)"
            ]
          },
          "metadata": {},
          "execution_count": 131
        }
      ]
    },
    {
      "cell_type": "code",
      "source": [
        "from sklearn.model_selection import train_test_split\n",
        "x_train, x_test, y_train, y_test = train_test_split(x, y, test_size = 0.2, random_state = 42)"
      ],
      "metadata": {
        "id": "OF2N5dCFnUS2"
      },
      "execution_count": 132,
      "outputs": []
    },
    {
      "cell_type": "code",
      "source": [
        "x_train = np.reshape(x_train, (x_train.shape[0],x.shape[1]))\n",
        "x_test = np.reshape(x_test, (x_test.shape[0],x.shape[1]))"
      ],
      "metadata": {
        "id": "G5cGyHwMnUVF"
      },
      "execution_count": 128,
      "outputs": []
    },
    {
      "cell_type": "code",
      "source": [
        "y_train = np.reshape(y_train, (y_train.shape[0],y.shape[1]))\n",
        "y_test = np.reshape(y_test, (y_test.shape[0],y.shape[1]))"
      ],
      "metadata": {
        "id": "pLSRUDRRvSkJ"
      },
      "execution_count": 138,
      "outputs": []
    },
    {
      "cell_type": "code",
      "source": [
        "X_train, X_test, Y_train, Y_test = train_test_split(X, Y, test_size=0.2, random_state=2)"
      ],
      "metadata": {
        "id": "g5UMX0-E217-",
        "colab": {
          "base_uri": "https://localhost:8080/",
          "height": 166
        },
        "outputId": "9c8906e3-7c89-41e2-a305-a9e90208b846"
      },
      "execution_count": 105,
      "outputs": [
        {
          "output_type": "error",
          "ename": "NameError",
          "evalue": "ignored",
          "traceback": [
            "\u001b[0;31m---------------------------------------------------------------------------\u001b[0m",
            "\u001b[0;31mNameError\u001b[0m                                 Traceback (most recent call last)",
            "\u001b[0;32m<ipython-input-105-8069cc9837ba>\u001b[0m in \u001b[0;36m<cell line: 1>\u001b[0;34m()\u001b[0m\n\u001b[0;32m----> 1\u001b[0;31m \u001b[0mX_train\u001b[0m\u001b[0;34m,\u001b[0m \u001b[0mX_test\u001b[0m\u001b[0;34m,\u001b[0m \u001b[0mY_train\u001b[0m\u001b[0;34m,\u001b[0m \u001b[0mY_test\u001b[0m \u001b[0;34m=\u001b[0m \u001b[0mtrain_test_split\u001b[0m\u001b[0;34m(\u001b[0m\u001b[0mX\u001b[0m\u001b[0;34m,\u001b[0m \u001b[0mY\u001b[0m\u001b[0;34m,\u001b[0m \u001b[0mtest_size\u001b[0m\u001b[0;34m=\u001b[0m\u001b[0;36m0.2\u001b[0m\u001b[0;34m,\u001b[0m \u001b[0mrandom_state\u001b[0m\u001b[0;34m=\u001b[0m\u001b[0;36m2\u001b[0m\u001b[0;34m)\u001b[0m\u001b[0;34m\u001b[0m\u001b[0;34m\u001b[0m\u001b[0m\n\u001b[0m",
            "\u001b[0;31mNameError\u001b[0m: name 'X' is not defined"
          ]
        }
      ]
    },
    {
      "cell_type": "code",
      "source": [
        "print(x.shape, x_train.shape, x_test.shape)"
      ],
      "metadata": {
        "id": "RORH9oSw2LT3",
        "colab": {
          "base_uri": "https://localhost:8080/"
        },
        "outputId": "e55bea55-341e-4c8a-a3bc-2dd8b4cc98e3"
      },
      "execution_count": 133,
      "outputs": [
        {
          "output_type": "stream",
          "name": "stdout",
          "text": [
            "(12699, 47) (10159, 47) (2540, 47)\n"
          ]
        }
      ]
    },
    {
      "cell_type": "code",
      "source": [
        "y_test.shape"
      ],
      "metadata": {
        "colab": {
          "base_uri": "https://localhost:8080/"
        },
        "id": "iDNelVFmvE2m",
        "outputId": "5540b026-bbd0-4999-be7d-34acb007072d"
      },
      "execution_count": 139,
      "outputs": [
        {
          "output_type": "execute_result",
          "data": {
            "text/plain": [
              "(2540, 7)"
            ]
          },
          "metadata": {},
          "execution_count": 139
        }
      ]
    },
    {
      "cell_type": "code",
      "source": [
        "model = svm.SVC(kernel='linear')"
      ],
      "metadata": {
        "id": "4o8xKJADyZLU"
      },
      "execution_count": 134,
      "outputs": []
    },
    {
      "cell_type": "code",
      "source": [
        "model.fit(x_train, y_train)"
      ],
      "metadata": {
        "colab": {
          "base_uri": "https://localhost:8080/",
          "height": 311
        },
        "id": "v3HNKSJS-ShP",
        "outputId": "f57e339b-460e-489b-975c-f7a313771fbf"
      },
      "execution_count": 135,
      "outputs": [
        {
          "output_type": "error",
          "ename": "ValueError",
          "evalue": "ignored",
          "traceback": [
            "\u001b[0;31m---------------------------------------------------------------------------\u001b[0m",
            "\u001b[0;31mValueError\u001b[0m                                Traceback (most recent call last)",
            "\u001b[0;32m<ipython-input-135-139fa7af76d2>\u001b[0m in \u001b[0;36m<cell line: 1>\u001b[0;34m()\u001b[0m\n\u001b[0;32m----> 1\u001b[0;31m \u001b[0mmodel\u001b[0m\u001b[0;34m.\u001b[0m\u001b[0mfit\u001b[0m\u001b[0;34m(\u001b[0m\u001b[0mx_train\u001b[0m\u001b[0;34m,\u001b[0m \u001b[0my_train\u001b[0m\u001b[0;34m)\u001b[0m\u001b[0;34m\u001b[0m\u001b[0;34m\u001b[0m\u001b[0m\n\u001b[0m",
            "\u001b[0;32m/usr/local/lib/python3.9/dist-packages/sklearn/svm/_base.py\u001b[0m in \u001b[0;36mfit\u001b[0;34m(self, X, y, sample_weight)\u001b[0m\n\u001b[1;32m    190\u001b[0m             \u001b[0mcheck_consistent_length\u001b[0m\u001b[0;34m(\u001b[0m\u001b[0mX\u001b[0m\u001b[0;34m,\u001b[0m \u001b[0my\u001b[0m\u001b[0;34m)\u001b[0m\u001b[0;34m\u001b[0m\u001b[0;34m\u001b[0m\u001b[0m\n\u001b[1;32m    191\u001b[0m         \u001b[0;32melse\u001b[0m\u001b[0;34m:\u001b[0m\u001b[0;34m\u001b[0m\u001b[0;34m\u001b[0m\u001b[0m\n\u001b[0;32m--> 192\u001b[0;31m             X, y = self._validate_data(\n\u001b[0m\u001b[1;32m    193\u001b[0m                 \u001b[0mX\u001b[0m\u001b[0;34m,\u001b[0m\u001b[0;34m\u001b[0m\u001b[0;34m\u001b[0m\u001b[0m\n\u001b[1;32m    194\u001b[0m                 \u001b[0my\u001b[0m\u001b[0;34m,\u001b[0m\u001b[0;34m\u001b[0m\u001b[0;34m\u001b[0m\u001b[0m\n",
            "\u001b[0;32m/usr/local/lib/python3.9/dist-packages/sklearn/base.py\u001b[0m in \u001b[0;36m_validate_data\u001b[0;34m(self, X, y, reset, validate_separately, **check_params)\u001b[0m\n\u001b[1;32m    582\u001b[0m                 \u001b[0my\u001b[0m \u001b[0;34m=\u001b[0m \u001b[0mcheck_array\u001b[0m\u001b[0;34m(\u001b[0m\u001b[0my\u001b[0m\u001b[0;34m,\u001b[0m \u001b[0minput_name\u001b[0m\u001b[0;34m=\u001b[0m\u001b[0;34m\"y\"\u001b[0m\u001b[0;34m,\u001b[0m \u001b[0;34m**\u001b[0m\u001b[0mcheck_y_params\u001b[0m\u001b[0;34m)\u001b[0m\u001b[0;34m\u001b[0m\u001b[0;34m\u001b[0m\u001b[0m\n\u001b[1;32m    583\u001b[0m             \u001b[0;32melse\u001b[0m\u001b[0;34m:\u001b[0m\u001b[0;34m\u001b[0m\u001b[0;34m\u001b[0m\u001b[0m\n\u001b[0;32m--> 584\u001b[0;31m                 \u001b[0mX\u001b[0m\u001b[0;34m,\u001b[0m \u001b[0my\u001b[0m \u001b[0;34m=\u001b[0m \u001b[0mcheck_X_y\u001b[0m\u001b[0;34m(\u001b[0m\u001b[0mX\u001b[0m\u001b[0;34m,\u001b[0m \u001b[0my\u001b[0m\u001b[0;34m,\u001b[0m \u001b[0;34m**\u001b[0m\u001b[0mcheck_params\u001b[0m\u001b[0;34m)\u001b[0m\u001b[0;34m\u001b[0m\u001b[0;34m\u001b[0m\u001b[0m\n\u001b[0m\u001b[1;32m    585\u001b[0m             \u001b[0mout\u001b[0m \u001b[0;34m=\u001b[0m \u001b[0mX\u001b[0m\u001b[0;34m,\u001b[0m \u001b[0my\u001b[0m\u001b[0;34m\u001b[0m\u001b[0;34m\u001b[0m\u001b[0m\n\u001b[1;32m    586\u001b[0m \u001b[0;34m\u001b[0m\u001b[0m\n",
            "\u001b[0;32m/usr/local/lib/python3.9/dist-packages/sklearn/utils/validation.py\u001b[0m in \u001b[0;36mcheck_X_y\u001b[0;34m(X, y, accept_sparse, accept_large_sparse, dtype, order, copy, force_all_finite, ensure_2d, allow_nd, multi_output, ensure_min_samples, ensure_min_features, y_numeric, estimator)\u001b[0m\n\u001b[1;32m   1120\u001b[0m     )\n\u001b[1;32m   1121\u001b[0m \u001b[0;34m\u001b[0m\u001b[0m\n\u001b[0;32m-> 1122\u001b[0;31m     \u001b[0my\u001b[0m \u001b[0;34m=\u001b[0m \u001b[0m_check_y\u001b[0m\u001b[0;34m(\u001b[0m\u001b[0my\u001b[0m\u001b[0;34m,\u001b[0m \u001b[0mmulti_output\u001b[0m\u001b[0;34m=\u001b[0m\u001b[0mmulti_output\u001b[0m\u001b[0;34m,\u001b[0m \u001b[0my_numeric\u001b[0m\u001b[0;34m=\u001b[0m\u001b[0my_numeric\u001b[0m\u001b[0;34m,\u001b[0m \u001b[0mestimator\u001b[0m\u001b[0;34m=\u001b[0m\u001b[0mestimator\u001b[0m\u001b[0;34m)\u001b[0m\u001b[0;34m\u001b[0m\u001b[0;34m\u001b[0m\u001b[0m\n\u001b[0m\u001b[1;32m   1123\u001b[0m \u001b[0;34m\u001b[0m\u001b[0m\n\u001b[1;32m   1124\u001b[0m     \u001b[0mcheck_consistent_length\u001b[0m\u001b[0;34m(\u001b[0m\u001b[0mX\u001b[0m\u001b[0;34m,\u001b[0m \u001b[0my\u001b[0m\u001b[0;34m)\u001b[0m\u001b[0;34m\u001b[0m\u001b[0;34m\u001b[0m\u001b[0m\n",
            "\u001b[0;32m/usr/local/lib/python3.9/dist-packages/sklearn/utils/validation.py\u001b[0m in \u001b[0;36m_check_y\u001b[0;34m(y, multi_output, y_numeric, estimator)\u001b[0m\n\u001b[1;32m   1141\u001b[0m     \u001b[0;32melse\u001b[0m\u001b[0;34m:\u001b[0m\u001b[0;34m\u001b[0m\u001b[0;34m\u001b[0m\u001b[0m\n\u001b[1;32m   1142\u001b[0m         \u001b[0mestimator_name\u001b[0m \u001b[0;34m=\u001b[0m \u001b[0m_check_estimator_name\u001b[0m\u001b[0;34m(\u001b[0m\u001b[0mestimator\u001b[0m\u001b[0;34m)\u001b[0m\u001b[0;34m\u001b[0m\u001b[0;34m\u001b[0m\u001b[0m\n\u001b[0;32m-> 1143\u001b[0;31m         \u001b[0my\u001b[0m \u001b[0;34m=\u001b[0m \u001b[0mcolumn_or_1d\u001b[0m\u001b[0;34m(\u001b[0m\u001b[0my\u001b[0m\u001b[0;34m,\u001b[0m \u001b[0mwarn\u001b[0m\u001b[0;34m=\u001b[0m\u001b[0;32mTrue\u001b[0m\u001b[0;34m)\u001b[0m\u001b[0;34m\u001b[0m\u001b[0;34m\u001b[0m\u001b[0m\n\u001b[0m\u001b[1;32m   1144\u001b[0m         \u001b[0m_assert_all_finite\u001b[0m\u001b[0;34m(\u001b[0m\u001b[0my\u001b[0m\u001b[0;34m,\u001b[0m \u001b[0minput_name\u001b[0m\u001b[0;34m=\u001b[0m\u001b[0;34m\"y\"\u001b[0m\u001b[0;34m,\u001b[0m \u001b[0mestimator_name\u001b[0m\u001b[0;34m=\u001b[0m\u001b[0mestimator_name\u001b[0m\u001b[0;34m)\u001b[0m\u001b[0;34m\u001b[0m\u001b[0;34m\u001b[0m\u001b[0m\n\u001b[1;32m   1145\u001b[0m         \u001b[0m_ensure_no_complex_data\u001b[0m\u001b[0;34m(\u001b[0m\u001b[0my\u001b[0m\u001b[0;34m)\u001b[0m\u001b[0;34m\u001b[0m\u001b[0;34m\u001b[0m\u001b[0m\n",
            "\u001b[0;32m/usr/local/lib/python3.9/dist-packages/sklearn/utils/validation.py\u001b[0m in \u001b[0;36mcolumn_or_1d\u001b[0;34m(y, dtype, warn)\u001b[0m\n\u001b[1;32m   1200\u001b[0m         \u001b[0;32mreturn\u001b[0m \u001b[0m_asarray_with_order\u001b[0m\u001b[0;34m(\u001b[0m\u001b[0mxp\u001b[0m\u001b[0;34m.\u001b[0m\u001b[0mreshape\u001b[0m\u001b[0;34m(\u001b[0m\u001b[0my\u001b[0m\u001b[0;34m,\u001b[0m \u001b[0;34m-\u001b[0m\u001b[0;36m1\u001b[0m\u001b[0;34m)\u001b[0m\u001b[0;34m,\u001b[0m \u001b[0morder\u001b[0m\u001b[0;34m=\u001b[0m\u001b[0;34m\"C\"\u001b[0m\u001b[0;34m,\u001b[0m \u001b[0mxp\u001b[0m\u001b[0;34m=\u001b[0m\u001b[0mxp\u001b[0m\u001b[0;34m)\u001b[0m\u001b[0;34m\u001b[0m\u001b[0;34m\u001b[0m\u001b[0m\n\u001b[1;32m   1201\u001b[0m \u001b[0;34m\u001b[0m\u001b[0m\n\u001b[0;32m-> 1202\u001b[0;31m     raise ValueError(\n\u001b[0m\u001b[1;32m   1203\u001b[0m         \u001b[0;34m\"y should be a 1d array, got an array of shape {} instead.\"\u001b[0m\u001b[0;34m.\u001b[0m\u001b[0mformat\u001b[0m\u001b[0;34m(\u001b[0m\u001b[0mshape\u001b[0m\u001b[0;34m)\u001b[0m\u001b[0;34m\u001b[0m\u001b[0;34m\u001b[0m\u001b[0m\n\u001b[1;32m   1204\u001b[0m     )\n",
            "\u001b[0;31mValueError\u001b[0m: y should be a 1d array, got an array of shape (10159, 7) instead."
          ]
        }
      ]
    },
    {
      "cell_type": "code",
      "source": [
        "# import tensorflow as tf\n",
        "# from tensorflow.keras import Sequential\n",
        "\n",
        "# from tensorflow.keras.layers import Dense, Dropout\n",
        "# from tensorflow.keras.layers import Embedding\n",
        "# from tensorflow.keras.layers import GRU,LSTM\n",
        "# tf.keras.backend.clear_session()\n",
        "\n",
        "# model = Sequential()\n",
        "# model.add(LSTM(64, input_shape=(None,47),activation=\"relu\",return_sequences=True))\n",
        "# model.add(Dropout(0.2))\n",
        "# model.add(LSTM(32,activation=\"sigmoid\"))\n",
        "# model.add(Dropout(0.2))\n",
        "# #model.add(LSTM(100,return_sequences=True))\n",
        "# #model.add(Dropout(0.2))\n",
        "# #model.add(LSTM(50))\n",
        "# #model.add(Dropout(0.2))\n",
        "# model.add(Dense(7, activation='sigmoid'))\n",
        "# from keras.optimizers import SGD\n",
        "# model.compile(loss = 'categorical_crossentropy', optimizer = \"adam\", metrics = ['accuracy'])\n",
        "# model.summary()"
      ],
      "metadata": {
        "id": "CaLzldqhncaw",
        "colab": {
          "base_uri": "https://localhost:8080/"
        },
        "outputId": "aa621a7f-49e4-4b0c-d3ac-3055b04ebe58"
      },
      "execution_count": 143,
      "outputs": [
        {
          "output_type": "stream",
          "name": "stdout",
          "text": [
            "Model: \"sequential\"\n",
            "_________________________________________________________________\n",
            " Layer (type)                Output Shape              Param #   \n",
            "=================================================================\n",
            " lstm (LSTM)                 (None, None, 64)          28672     \n",
            "                                                                 \n",
            " dropout (Dropout)           (None, None, 64)          0         \n",
            "                                                                 \n",
            " lstm_1 (LSTM)               (None, 32)                12416     \n",
            "                                                                 \n",
            " dropout_1 (Dropout)         (None, 32)                0         \n",
            "                                                                 \n",
            " dense (Dense)               (None, 7)                 231       \n",
            "                                                                 \n",
            "=================================================================\n",
            "Total params: 41,319\n",
            "Trainable params: 41,319\n",
            "Non-trainable params: 0\n",
            "_________________________________________________________________\n"
          ]
        }
      ]
    },
    {
      "cell_type": "code",
      "source": [
        "history = model.fit(x_train, y_train, epochs = 10, validation_data= (x_test, y_test))\n",
        "score, acc = model.evaluate(x_test, y_test)"
      ],
      "metadata": {
        "id": "g3tBpaduncgF",
        "colab": {
          "base_uri": "https://localhost:8080/",
          "height": 780
        },
        "outputId": "54b55c63-b38c-4a9f-ec00-ed0b78a81548"
      },
      "execution_count": 144,
      "outputs": [
        {
          "output_type": "stream",
          "name": "stdout",
          "text": [
            "Epoch 1/10\n"
          ]
        },
        {
          "output_type": "error",
          "ename": "ValueError",
          "evalue": "ignored",
          "traceback": [
            "\u001b[0;31m---------------------------------------------------------------------------\u001b[0m",
            "\u001b[0;31mValueError\u001b[0m                                Traceback (most recent call last)",
            "\u001b[0;32m<ipython-input-144-459101b815f4>\u001b[0m in \u001b[0;36m<cell line: 1>\u001b[0;34m()\u001b[0m\n\u001b[0;32m----> 1\u001b[0;31m \u001b[0mhistory\u001b[0m \u001b[0;34m=\u001b[0m \u001b[0mmodel\u001b[0m\u001b[0;34m.\u001b[0m\u001b[0mfit\u001b[0m\u001b[0;34m(\u001b[0m\u001b[0mx_train\u001b[0m\u001b[0;34m,\u001b[0m \u001b[0my_train\u001b[0m\u001b[0;34m,\u001b[0m \u001b[0mepochs\u001b[0m \u001b[0;34m=\u001b[0m \u001b[0;36m10\u001b[0m\u001b[0;34m,\u001b[0m \u001b[0mvalidation_data\u001b[0m\u001b[0;34m=\u001b[0m \u001b[0;34m(\u001b[0m\u001b[0mx_test\u001b[0m\u001b[0;34m,\u001b[0m \u001b[0my_test\u001b[0m\u001b[0;34m)\u001b[0m\u001b[0;34m)\u001b[0m\u001b[0;34m\u001b[0m\u001b[0;34m\u001b[0m\u001b[0m\n\u001b[0m\u001b[1;32m      2\u001b[0m \u001b[0mscore\u001b[0m\u001b[0;34m,\u001b[0m \u001b[0macc\u001b[0m \u001b[0;34m=\u001b[0m \u001b[0mmodel\u001b[0m\u001b[0;34m.\u001b[0m\u001b[0mevaluate\u001b[0m\u001b[0;34m(\u001b[0m\u001b[0mx_test\u001b[0m\u001b[0;34m,\u001b[0m \u001b[0my_test\u001b[0m\u001b[0;34m)\u001b[0m\u001b[0;34m\u001b[0m\u001b[0;34m\u001b[0m\u001b[0m\n",
            "\u001b[0;32m/usr/local/lib/python3.9/dist-packages/keras/utils/traceback_utils.py\u001b[0m in \u001b[0;36merror_handler\u001b[0;34m(*args, **kwargs)\u001b[0m\n\u001b[1;32m     68\u001b[0m             \u001b[0;31m# To get the full stack trace, call:\u001b[0m\u001b[0;34m\u001b[0m\u001b[0;34m\u001b[0m\u001b[0m\n\u001b[1;32m     69\u001b[0m             \u001b[0;31m# `tf.debugging.disable_traceback_filtering()`\u001b[0m\u001b[0;34m\u001b[0m\u001b[0;34m\u001b[0m\u001b[0m\n\u001b[0;32m---> 70\u001b[0;31m             \u001b[0;32mraise\u001b[0m \u001b[0me\u001b[0m\u001b[0;34m.\u001b[0m\u001b[0mwith_traceback\u001b[0m\u001b[0;34m(\u001b[0m\u001b[0mfiltered_tb\u001b[0m\u001b[0;34m)\u001b[0m \u001b[0;32mfrom\u001b[0m \u001b[0;32mNone\u001b[0m\u001b[0;34m\u001b[0m\u001b[0;34m\u001b[0m\u001b[0m\n\u001b[0m\u001b[1;32m     71\u001b[0m         \u001b[0;32mfinally\u001b[0m\u001b[0;34m:\u001b[0m\u001b[0;34m\u001b[0m\u001b[0;34m\u001b[0m\u001b[0m\n\u001b[1;32m     72\u001b[0m             \u001b[0;32mdel\u001b[0m \u001b[0mfiltered_tb\u001b[0m\u001b[0;34m\u001b[0m\u001b[0;34m\u001b[0m\u001b[0m\n",
            "\u001b[0;32m/usr/local/lib/python3.9/dist-packages/keras/engine/training.py\u001b[0m in \u001b[0;36mtf__train_function\u001b[0;34m(iterator)\u001b[0m\n\u001b[1;32m     13\u001b[0m                 \u001b[0;32mtry\u001b[0m\u001b[0;34m:\u001b[0m\u001b[0;34m\u001b[0m\u001b[0;34m\u001b[0m\u001b[0m\n\u001b[1;32m     14\u001b[0m                     \u001b[0mdo_return\u001b[0m \u001b[0;34m=\u001b[0m \u001b[0;32mTrue\u001b[0m\u001b[0;34m\u001b[0m\u001b[0;34m\u001b[0m\u001b[0m\n\u001b[0;32m---> 15\u001b[0;31m                     \u001b[0mretval_\u001b[0m \u001b[0;34m=\u001b[0m \u001b[0mag__\u001b[0m\u001b[0;34m.\u001b[0m\u001b[0mconverted_call\u001b[0m\u001b[0;34m(\u001b[0m\u001b[0mag__\u001b[0m\u001b[0;34m.\u001b[0m\u001b[0mld\u001b[0m\u001b[0;34m(\u001b[0m\u001b[0mstep_function\u001b[0m\u001b[0;34m)\u001b[0m\u001b[0;34m,\u001b[0m \u001b[0;34m(\u001b[0m\u001b[0mag__\u001b[0m\u001b[0;34m.\u001b[0m\u001b[0mld\u001b[0m\u001b[0;34m(\u001b[0m\u001b[0mself\u001b[0m\u001b[0;34m)\u001b[0m\u001b[0;34m,\u001b[0m \u001b[0mag__\u001b[0m\u001b[0;34m.\u001b[0m\u001b[0mld\u001b[0m\u001b[0;34m(\u001b[0m\u001b[0miterator\u001b[0m\u001b[0;34m)\u001b[0m\u001b[0;34m)\u001b[0m\u001b[0;34m,\u001b[0m \u001b[0;32mNone\u001b[0m\u001b[0;34m,\u001b[0m \u001b[0mfscope\u001b[0m\u001b[0;34m)\u001b[0m\u001b[0;34m\u001b[0m\u001b[0;34m\u001b[0m\u001b[0m\n\u001b[0m\u001b[1;32m     16\u001b[0m                 \u001b[0;32mexcept\u001b[0m\u001b[0;34m:\u001b[0m\u001b[0;34m\u001b[0m\u001b[0;34m\u001b[0m\u001b[0m\n\u001b[1;32m     17\u001b[0m                     \u001b[0mdo_return\u001b[0m \u001b[0;34m=\u001b[0m \u001b[0;32mFalse\u001b[0m\u001b[0;34m\u001b[0m\u001b[0;34m\u001b[0m\u001b[0m\n",
            "\u001b[0;31mValueError\u001b[0m: in user code:\n\n    File \"/usr/local/lib/python3.9/dist-packages/keras/engine/training.py\", line 1284, in train_function  *\n        return step_function(self, iterator)\n    File \"/usr/local/lib/python3.9/dist-packages/keras/engine/training.py\", line 1268, in step_function  **\n        outputs = model.distribute_strategy.run(run_step, args=(data,))\n    File \"/usr/local/lib/python3.9/dist-packages/keras/engine/training.py\", line 1249, in run_step  **\n        outputs = model.train_step(data)\n    File \"/usr/local/lib/python3.9/dist-packages/keras/engine/training.py\", line 1050, in train_step\n        y_pred = self(x, training=True)\n    File \"/usr/local/lib/python3.9/dist-packages/keras/utils/traceback_utils.py\", line 70, in error_handler\n        raise e.with_traceback(filtered_tb) from None\n    File \"/usr/local/lib/python3.9/dist-packages/keras/engine/input_spec.py\", line 235, in assert_input_compatibility\n        raise ValueError(\n\n    ValueError: Exception encountered when calling layer 'sequential' (type Sequential).\n    \n    Input 0 of layer \"lstm\" is incompatible with the layer: expected ndim=3, found ndim=2. Full shape received: (None, 47)\n    \n    Call arguments received by layer 'sequential' (type Sequential):\n      • inputs=tf.Tensor(shape=(None, 47), dtype=float32)\n      • training=True\n      • mask=None\n"
          ]
        }
      ]
    },
    {
      "cell_type": "markdown",
      "metadata": {
        "id": "1z_-nZfuLJrH"
      },
      "source": [
        "Model Evaluation"
      ]
    },
    {
      "cell_type": "code",
      "source": [
        "# from sklearn.metrics import accuracy_score\n",
        "# pred = model.predict(x_test)\n",
        "# predict_classes = np.argmax(pred,axis=1)\n",
        "# expected_classes = np.argmax(y_test,axis=1)\n",
        "# print(expected_classes.shape)\n",
        "# print(predict_classes.shape)\n",
        "# correct = accuracy_score(expected_classes,predict_classes)\n",
        "# print(f\"Training Accuracy: {correct}\")"
      ],
      "metadata": {
        "id": "fVP0a81mncjD"
      },
      "execution_count": null,
      "outputs": []
    },
    {
      "cell_type": "markdown",
      "metadata": {
        "id": "Rj3XAnF8LMF4"
      },
      "source": [
        "Accuracy Score"
      ]
    },
    {
      "cell_type": "code",
      "source": [
        "# accuracy score on training data\n",
        "x_train_prediction = model.predict(x_train)\n",
        "training_data_accuracy = accuracy_score(y_train, x_train_prediction)"
      ],
      "metadata": {
        "id": "eXNXFzy8yktA",
        "colab": {
          "base_uri": "https://localhost:8080/",
          "height": 381
        },
        "outputId": "703dea7c-894a-4af1-df37-7ec9bfc39ac0"
      },
      "execution_count": 111,
      "outputs": [
        {
          "output_type": "error",
          "ename": "NotFittedError",
          "evalue": "ignored",
          "traceback": [
            "\u001b[0;31m---------------------------------------------------------------------------\u001b[0m",
            "\u001b[0;31mNotFittedError\u001b[0m                            Traceback (most recent call last)",
            "\u001b[0;32m<ipython-input-111-82c552332262>\u001b[0m in \u001b[0;36m<cell line: 2>\u001b[0;34m()\u001b[0m\n\u001b[1;32m      1\u001b[0m \u001b[0;31m# accuracy score on training data\u001b[0m\u001b[0;34m\u001b[0m\u001b[0;34m\u001b[0m\u001b[0m\n\u001b[0;32m----> 2\u001b[0;31m \u001b[0mx_train_prediction\u001b[0m \u001b[0;34m=\u001b[0m \u001b[0mmodel\u001b[0m\u001b[0;34m.\u001b[0m\u001b[0mpredict\u001b[0m\u001b[0;34m(\u001b[0m\u001b[0mx_train\u001b[0m\u001b[0;34m)\u001b[0m\u001b[0;34m\u001b[0m\u001b[0;34m\u001b[0m\u001b[0m\n\u001b[0m\u001b[1;32m      3\u001b[0m \u001b[0mtraining_data_accuracy\u001b[0m \u001b[0;34m=\u001b[0m \u001b[0maccuracy_score\u001b[0m\u001b[0;34m(\u001b[0m\u001b[0my_train\u001b[0m\u001b[0;34m,\u001b[0m \u001b[0mx_train_prediction\u001b[0m\u001b[0;34m)\u001b[0m\u001b[0;34m\u001b[0m\u001b[0;34m\u001b[0m\u001b[0m\n",
            "\u001b[0;32m/usr/local/lib/python3.9/dist-packages/sklearn/svm/_base.py\u001b[0m in \u001b[0;36mpredict\u001b[0;34m(self, X)\u001b[0m\n\u001b[1;32m    805\u001b[0m             \u001b[0mClass\u001b[0m \u001b[0mlabels\u001b[0m \u001b[0;32mfor\u001b[0m \u001b[0msamples\u001b[0m \u001b[0;32min\u001b[0m \u001b[0mX\u001b[0m\u001b[0;34m.\u001b[0m\u001b[0;34m\u001b[0m\u001b[0;34m\u001b[0m\u001b[0m\n\u001b[1;32m    806\u001b[0m         \"\"\"\n\u001b[0;32m--> 807\u001b[0;31m         \u001b[0mcheck_is_fitted\u001b[0m\u001b[0;34m(\u001b[0m\u001b[0mself\u001b[0m\u001b[0;34m)\u001b[0m\u001b[0;34m\u001b[0m\u001b[0;34m\u001b[0m\u001b[0m\n\u001b[0m\u001b[1;32m    808\u001b[0m         \u001b[0;32mif\u001b[0m \u001b[0mself\u001b[0m\u001b[0;34m.\u001b[0m\u001b[0mbreak_ties\u001b[0m \u001b[0;32mand\u001b[0m \u001b[0mself\u001b[0m\u001b[0;34m.\u001b[0m\u001b[0mdecision_function_shape\u001b[0m \u001b[0;34m==\u001b[0m \u001b[0;34m\"ovo\"\u001b[0m\u001b[0;34m:\u001b[0m\u001b[0;34m\u001b[0m\u001b[0;34m\u001b[0m\u001b[0m\n\u001b[1;32m    809\u001b[0m             raise ValueError(\n",
            "\u001b[0;32m/usr/local/lib/python3.9/dist-packages/sklearn/utils/validation.py\u001b[0m in \u001b[0;36mcheck_is_fitted\u001b[0;34m(estimator, attributes, msg, all_or_any)\u001b[0m\n\u001b[1;32m   1388\u001b[0m \u001b[0;34m\u001b[0m\u001b[0m\n\u001b[1;32m   1389\u001b[0m     \u001b[0;32mif\u001b[0m \u001b[0;32mnot\u001b[0m \u001b[0mfitted\u001b[0m\u001b[0;34m:\u001b[0m\u001b[0;34m\u001b[0m\u001b[0;34m\u001b[0m\u001b[0m\n\u001b[0;32m-> 1390\u001b[0;31m         \u001b[0;32mraise\u001b[0m \u001b[0mNotFittedError\u001b[0m\u001b[0;34m(\u001b[0m\u001b[0mmsg\u001b[0m \u001b[0;34m%\u001b[0m \u001b[0;34m{\u001b[0m\u001b[0;34m\"name\"\u001b[0m\u001b[0;34m:\u001b[0m \u001b[0mtype\u001b[0m\u001b[0;34m(\u001b[0m\u001b[0mestimator\u001b[0m\u001b[0;34m)\u001b[0m\u001b[0;34m.\u001b[0m\u001b[0m__name__\u001b[0m\u001b[0;34m}\u001b[0m\u001b[0;34m)\u001b[0m\u001b[0;34m\u001b[0m\u001b[0;34m\u001b[0m\u001b[0m\n\u001b[0m\u001b[1;32m   1391\u001b[0m \u001b[0;34m\u001b[0m\u001b[0m\n\u001b[1;32m   1392\u001b[0m \u001b[0;34m\u001b[0m\u001b[0m\n",
            "\u001b[0;31mNotFittedError\u001b[0m: This SVC instance is not fitted yet. Call 'fit' with appropriate arguments before using this estimator."
          ]
        }
      ]
    },
    {
      "cell_type": "code",
      "source": [
        "print('Accuracy score of training data : ', training_data_accuracy)"
      ],
      "metadata": {
        "id": "9mB-q8_4yz7q"
      },
      "execution_count": null,
      "outputs": []
    },
    {
      "cell_type": "code",
      "source": [
        "# score = model.evaluate(x_test, y_test, verbose=0)\n",
        "# print(\"Testing Accuracy: {0:.2%}\".format(score[1]))"
      ],
      "metadata": {
        "id": "U9qfiahDncpM"
      },
      "execution_count": null,
      "outputs": []
    },
    {
      "cell_type": "code",
      "source": [
        "# from sklearn.metrics import classification_report\n",
        "# print(classification_report(pred,y_test))\n",
        "# from sklearn.metrics import confusion_matrix\n",
        "# cm = confusion_matrix(expected_classes, predict_classes)\n",
        "# cm"
      ],
      "metadata": {
        "id": "-TAeniEtncsF"
      },
      "execution_count": null,
      "outputs": []
    },
    {
      "cell_type": "code",
      "source": [
        "# import pickle \n",
        "# pickle_out = open(\"classifier.pkl\", mode = \"wb\") \n",
        "# pickle.dump(model, pickle_out) \n",
        "# pickle_out.close()"
      ],
      "metadata": {
        "id": "r5UrzHOpoKM7"
      },
      "execution_count": null,
      "outputs": []
    },
    {
      "cell_type": "code",
      "source": [],
      "metadata": {
        "id": "c1bQeL8joKQk"
      },
      "execution_count": null,
      "outputs": []
    },
    {
      "cell_type": "markdown",
      "metadata": {
        "id": "L1srlxtEFYfN"
      },
      "source": [
        "1  --> Parkinson's Positive\n",
        "\n",
        "0 --> Healthy\n"
      ]
    },
    {
      "cell_type": "markdown",
      "metadata": {
        "id": "QlR4JG4YMfOR"
      },
      "source": [
        "Building a Predictive System"
      ]
    },
    {
      "cell_type": "code",
      "metadata": {
        "id": "w0FjSoO1MGBU",
        "colab": {
          "base_uri": "https://localhost:8080/",
          "height": 470
        },
        "outputId": "8a2ad7bc-2c40-4a54-e22b-cf130cdabcbd"
      },
      "source": [
        "input_data = (1.026628492,1.026628492,1.026113658,1.026628492,1.026628492,1.024563855,1.02533975,1.024045472,1.026628492,1.023526192,1.025597943,1.020128691,1.021178207,1.021178207,1.019339112,1.02300601,1.026628492,1.026628492,1.024045472,1.022745579,1.026628492,1.018811556,1.022224036,152.0038579,1.025264976,0.759845903,0.183128998,1.153967963,0.419584096,0.134302621,0.228645503,0.170863757,0.147601768,0.062241007,0.069706451,0.241647033,1.013806055,0.509672013,0.465618441,0.427841446,1.078657497,0.102130334,0.26703667,0.330681914,0.287037865,0.236045474,0.219048731)\n",
        "\n",
        "# changing input data to a numpy array\n",
        "input_data_as_numpy_array = np.asarray(input_data)\n",
        "\n",
        "# reshape the numpy array\n",
        "input_data_reshaped = input_data_as_numpy_array.reshape(1,-1)\n",
        "\n",
        "std_data = scaler.transform(input_data_reshaped)\n",
        "prediction = model.predict(std_data)\n",
        "print(prediction)\n",
        "\n",
        "# if (prediction[0] == 0):\n",
        "#   print(\"The Person does not have Parkinsons Disease\")\n",
        "\n",
        "# else:\n",
        "#   print(\"The Person has Parkinsons\")\n",
        "\n",
        "if (prediction[0] == 0):\n",
        "  print(\"dis1 generalized\")\n",
        "elif (prediction[0] == 1):\n",
        "  print(\"dis3 generalized\")\n",
        "elif (prediction[0] == 2):\n",
        "  print(\" delta generalized\")\n",
        "elif (prediction[0] == 3):\n",
        "  print(\"single burst generalized\")\n",
        "elif (prediction[0] == 4):\n",
        "  print(\"temporal\")\n",
        "elif (prediction[0] == 5):\n",
        "  print(\"frontocentral\")\n",
        "elif (prediction[0] == 6):\n",
        "  print(\"frontopolar\")\n",
        "else:\n",
        "  print(\"The Person doesnot have epilepsy\")\n"
      ],
      "execution_count": 112,
      "outputs": [
        {
          "output_type": "stream",
          "name": "stderr",
          "text": [
            "/usr/local/lib/python3.9/dist-packages/sklearn/base.py:439: UserWarning: X does not have valid feature names, but StandardScaler was fitted with feature names\n",
            "  warnings.warn(\n"
          ]
        },
        {
          "output_type": "error",
          "ename": "NotFittedError",
          "evalue": "ignored",
          "traceback": [
            "\u001b[0;31m---------------------------------------------------------------------------\u001b[0m",
            "\u001b[0;31mNotFittedError\u001b[0m                            Traceback (most recent call last)",
            "\u001b[0;32m<ipython-input-112-78f08f569c89>\u001b[0m in \u001b[0;36m<cell line: 10>\u001b[0;34m()\u001b[0m\n\u001b[1;32m      8\u001b[0m \u001b[0;34m\u001b[0m\u001b[0m\n\u001b[1;32m      9\u001b[0m \u001b[0mstd_data\u001b[0m \u001b[0;34m=\u001b[0m \u001b[0mscaler\u001b[0m\u001b[0;34m.\u001b[0m\u001b[0mtransform\u001b[0m\u001b[0;34m(\u001b[0m\u001b[0minput_data_reshaped\u001b[0m\u001b[0;34m)\u001b[0m\u001b[0;34m\u001b[0m\u001b[0;34m\u001b[0m\u001b[0m\n\u001b[0;32m---> 10\u001b[0;31m \u001b[0mprediction\u001b[0m \u001b[0;34m=\u001b[0m \u001b[0mmodel\u001b[0m\u001b[0;34m.\u001b[0m\u001b[0mpredict\u001b[0m\u001b[0;34m(\u001b[0m\u001b[0mstd_data\u001b[0m\u001b[0;34m)\u001b[0m\u001b[0;34m\u001b[0m\u001b[0;34m\u001b[0m\u001b[0m\n\u001b[0m\u001b[1;32m     11\u001b[0m \u001b[0mprint\u001b[0m\u001b[0;34m(\u001b[0m\u001b[0mprediction\u001b[0m\u001b[0;34m)\u001b[0m\u001b[0;34m\u001b[0m\u001b[0;34m\u001b[0m\u001b[0m\n\u001b[1;32m     12\u001b[0m \u001b[0;34m\u001b[0m\u001b[0m\n",
            "\u001b[0;32m/usr/local/lib/python3.9/dist-packages/sklearn/svm/_base.py\u001b[0m in \u001b[0;36mpredict\u001b[0;34m(self, X)\u001b[0m\n\u001b[1;32m    805\u001b[0m             \u001b[0mClass\u001b[0m \u001b[0mlabels\u001b[0m \u001b[0;32mfor\u001b[0m \u001b[0msamples\u001b[0m \u001b[0;32min\u001b[0m \u001b[0mX\u001b[0m\u001b[0;34m.\u001b[0m\u001b[0;34m\u001b[0m\u001b[0;34m\u001b[0m\u001b[0m\n\u001b[1;32m    806\u001b[0m         \"\"\"\n\u001b[0;32m--> 807\u001b[0;31m         \u001b[0mcheck_is_fitted\u001b[0m\u001b[0;34m(\u001b[0m\u001b[0mself\u001b[0m\u001b[0;34m)\u001b[0m\u001b[0;34m\u001b[0m\u001b[0;34m\u001b[0m\u001b[0m\n\u001b[0m\u001b[1;32m    808\u001b[0m         \u001b[0;32mif\u001b[0m \u001b[0mself\u001b[0m\u001b[0;34m.\u001b[0m\u001b[0mbreak_ties\u001b[0m \u001b[0;32mand\u001b[0m \u001b[0mself\u001b[0m\u001b[0;34m.\u001b[0m\u001b[0mdecision_function_shape\u001b[0m \u001b[0;34m==\u001b[0m \u001b[0;34m\"ovo\"\u001b[0m\u001b[0;34m:\u001b[0m\u001b[0;34m\u001b[0m\u001b[0;34m\u001b[0m\u001b[0m\n\u001b[1;32m    809\u001b[0m             raise ValueError(\n",
            "\u001b[0;32m/usr/local/lib/python3.9/dist-packages/sklearn/utils/validation.py\u001b[0m in \u001b[0;36mcheck_is_fitted\u001b[0;34m(estimator, attributes, msg, all_or_any)\u001b[0m\n\u001b[1;32m   1388\u001b[0m \u001b[0;34m\u001b[0m\u001b[0m\n\u001b[1;32m   1389\u001b[0m     \u001b[0;32mif\u001b[0m \u001b[0;32mnot\u001b[0m \u001b[0mfitted\u001b[0m\u001b[0;34m:\u001b[0m\u001b[0;34m\u001b[0m\u001b[0;34m\u001b[0m\u001b[0m\n\u001b[0;32m-> 1390\u001b[0;31m         \u001b[0;32mraise\u001b[0m \u001b[0mNotFittedError\u001b[0m\u001b[0;34m(\u001b[0m\u001b[0mmsg\u001b[0m \u001b[0;34m%\u001b[0m \u001b[0;34m{\u001b[0m\u001b[0;34m\"name\"\u001b[0m\u001b[0;34m:\u001b[0m \u001b[0mtype\u001b[0m\u001b[0;34m(\u001b[0m\u001b[0mestimator\u001b[0m\u001b[0;34m)\u001b[0m\u001b[0;34m.\u001b[0m\u001b[0m__name__\u001b[0m\u001b[0;34m}\u001b[0m\u001b[0;34m)\u001b[0m\u001b[0;34m\u001b[0m\u001b[0;34m\u001b[0m\u001b[0m\n\u001b[0m\u001b[1;32m   1391\u001b[0m \u001b[0;34m\u001b[0m\u001b[0m\n\u001b[1;32m   1392\u001b[0m \u001b[0;34m\u001b[0m\u001b[0m\n",
            "\u001b[0;31mNotFittedError\u001b[0m: This SVC instance is not fitted yet. Call 'fit' with appropriate arguments before using this estimator."
          ]
        }
      ]
    },
    {
      "cell_type": "markdown",
      "metadata": {
        "id": "FCHCMHpshHU4"
      },
      "source": [
        "Saving the trained model"
      ]
    },
    {
      "cell_type": "code",
      "metadata": {
        "id": "cdmTOR4MhHCB"
      },
      "source": [
        "import pickle"
      ],
      "execution_count": null,
      "outputs": []
    },
    {
      "cell_type": "code",
      "metadata": {
        "id": "4gN09lokhKuZ"
      },
      "source": [
        "filename = 'epilepsy_model.sav'\n",
        "pickle.dump(model, open(filename, 'wb'))"
      ],
      "execution_count": 113,
      "outputs": []
    },
    {
      "cell_type": "code",
      "metadata": {
        "id": "IKW4D5CqhP5X"
      },
      "source": [
        "# loading the saved model\n",
        "epilepsy_model = pickle.load(open('epilepsy_model.sav', 'rb'))"
      ],
      "execution_count": 114,
      "outputs": []
    },
    {
      "cell_type": "code",
      "source": [
        "for column in x.columns:\n",
        "  print(column)"
      ],
      "metadata": {
        "id": "m8FO1U8hRVm_",
        "colab": {
          "base_uri": "https://localhost:8080/",
          "height": 183
        },
        "outputId": "4aced172-900c-40e7-f425-66183108f0a3"
      },
      "execution_count": 115,
      "outputs": [
        {
          "output_type": "error",
          "ename": "AttributeError",
          "evalue": "ignored",
          "traceback": [
            "\u001b[0;31m---------------------------------------------------------------------------\u001b[0m",
            "\u001b[0;31mAttributeError\u001b[0m                            Traceback (most recent call last)",
            "\u001b[0;32m<ipython-input-115-8fe13e948aa9>\u001b[0m in \u001b[0;36m<cell line: 1>\u001b[0;34m()\u001b[0m\n\u001b[0;32m----> 1\u001b[0;31m \u001b[0;32mfor\u001b[0m \u001b[0mcolumn\u001b[0m \u001b[0;32min\u001b[0m \u001b[0mx\u001b[0m\u001b[0;34m.\u001b[0m\u001b[0mcolumns\u001b[0m\u001b[0;34m:\u001b[0m\u001b[0;34m\u001b[0m\u001b[0;34m\u001b[0m\u001b[0m\n\u001b[0m\u001b[1;32m      2\u001b[0m   \u001b[0mprint\u001b[0m\u001b[0;34m(\u001b[0m\u001b[0mcolumn\u001b[0m\u001b[0;34m)\u001b[0m\u001b[0;34m\u001b[0m\u001b[0;34m\u001b[0m\u001b[0m\n",
            "\u001b[0;31mAttributeError\u001b[0m: 'numpy.ndarray' object has no attribute 'columns'"
          ]
        }
      ]
    },
    {
      "cell_type": "code",
      "source": [
        "pip install jedi"
      ],
      "metadata": {
        "id": "JPyuHFeDRXZU",
        "colab": {
          "base_uri": "https://localhost:8080/"
        },
        "outputId": "ac53e7a2-862c-4233-d0b4-4a5d00c67071"
      },
      "execution_count": 116,
      "outputs": [
        {
          "output_type": "stream",
          "name": "stdout",
          "text": [
            "Looking in indexes: https://pypi.org/simple, https://us-python.pkg.dev/colab-wheels/public/simple/\n",
            "Requirement already satisfied: jedi in /usr/local/lib/python3.9/dist-packages (0.18.2)\n",
            "Requirement already satisfied: parso<0.9.0,>=0.8.0 in /usr/local/lib/python3.9/dist-packages (from jedi) (0.8.3)\n"
          ]
        }
      ]
    },
    {
      "cell_type": "code",
      "source": [
        "pip install streamlit -q"
      ],
      "metadata": {
        "id": "qh85LitM13Vo"
      },
      "execution_count": 117,
      "outputs": []
    },
    {
      "cell_type": "code",
      "source": [
        "pip install streamlit-option-menu"
      ],
      "metadata": {
        "id": "6TJBdP-n-h2A",
        "colab": {
          "base_uri": "https://localhost:8080/"
        },
        "outputId": "caf7ad50-f57c-4e21-bbfd-29112390c22d"
      },
      "execution_count": 118,
      "outputs": [
        {
          "output_type": "stream",
          "name": "stdout",
          "text": [
            "Looking in indexes: https://pypi.org/simple, https://us-python.pkg.dev/colab-wheels/public/simple/\n",
            "Requirement already satisfied: streamlit-option-menu in /usr/local/lib/python3.9/dist-packages (0.3.2)\n",
            "Requirement already satisfied: streamlit>=0.63 in /usr/local/lib/python3.9/dist-packages (from streamlit-option-menu) (1.21.0)\n",
            "Requirement already satisfied: pydeck>=0.1.dev5 in /usr/local/lib/python3.9/dist-packages (from streamlit>=0.63->streamlit-option-menu) (0.8.0)\n",
            "Requirement already satisfied: pyarrow>=4.0 in /usr/local/lib/python3.9/dist-packages (from streamlit>=0.63->streamlit-option-menu) (9.0.0)\n",
            "Requirement already satisfied: blinker>=1.0.0 in /usr/local/lib/python3.9/dist-packages (from streamlit>=0.63->streamlit-option-menu) (1.6.1)\n",
            "Requirement already satisfied: python-dateutil in /usr/local/lib/python3.9/dist-packages (from streamlit>=0.63->streamlit-option-menu) (2.8.2)\n",
            "Requirement already satisfied: pympler>=0.9 in /usr/local/lib/python3.9/dist-packages (from streamlit>=0.63->streamlit-option-menu) (1.0.1)\n",
            "Requirement already satisfied: protobuf<4,>=3.12 in /usr/local/lib/python3.9/dist-packages (from streamlit>=0.63->streamlit-option-menu) (3.20.3)\n",
            "Requirement already satisfied: requests>=2.4 in /usr/local/lib/python3.9/dist-packages (from streamlit>=0.63->streamlit-option-menu) (2.27.1)\n",
            "Requirement already satisfied: typing-extensions>=3.10.0.0 in /usr/local/lib/python3.9/dist-packages (from streamlit>=0.63->streamlit-option-menu) (4.5.0)\n",
            "Requirement already satisfied: gitpython!=3.1.19 in /usr/local/lib/python3.9/dist-packages (from streamlit>=0.63->streamlit-option-menu) (3.1.31)\n",
            "Requirement already satisfied: rich>=10.11.0 in /usr/local/lib/python3.9/dist-packages (from streamlit>=0.63->streamlit-option-menu) (13.3.3)\n",
            "Requirement already satisfied: pillow>=6.2.0 in /usr/local/lib/python3.9/dist-packages (from streamlit>=0.63->streamlit-option-menu) (8.4.0)\n",
            "Requirement already satisfied: validators>=0.2 in /usr/local/lib/python3.9/dist-packages (from streamlit>=0.63->streamlit-option-menu) (0.20.0)\n",
            "Requirement already satisfied: tornado>=6.0.3 in /usr/local/lib/python3.9/dist-packages (from streamlit>=0.63->streamlit-option-menu) (6.2)\n",
            "Requirement already satisfied: cachetools>=4.0 in /usr/local/lib/python3.9/dist-packages (from streamlit>=0.63->streamlit-option-menu) (5.3.0)\n",
            "Requirement already satisfied: toml in /usr/local/lib/python3.9/dist-packages (from streamlit>=0.63->streamlit-option-menu) (0.10.2)\n",
            "Requirement already satisfied: tzlocal>=1.1 in /usr/local/lib/python3.9/dist-packages (from streamlit>=0.63->streamlit-option-menu) (4.3)\n",
            "Requirement already satisfied: importlib-metadata>=1.4 in /usr/local/lib/python3.9/dist-packages (from streamlit>=0.63->streamlit-option-menu) (6.1.0)\n",
            "Requirement already satisfied: numpy in /usr/local/lib/python3.9/dist-packages (from streamlit>=0.63->streamlit-option-menu) (1.22.4)\n",
            "Requirement already satisfied: packaging>=14.1 in /usr/local/lib/python3.9/dist-packages (from streamlit>=0.63->streamlit-option-menu) (23.0)\n",
            "Requirement already satisfied: altair<5,>=3.2.0 in /usr/local/lib/python3.9/dist-packages (from streamlit>=0.63->streamlit-option-menu) (4.2.2)\n",
            "Requirement already satisfied: pandas<2,>=0.25 in /usr/local/lib/python3.9/dist-packages (from streamlit>=0.63->streamlit-option-menu) (1.4.4)\n",
            "Requirement already satisfied: click>=7.0 in /usr/local/lib/python3.9/dist-packages (from streamlit>=0.63->streamlit-option-menu) (8.1.3)\n",
            "Requirement already satisfied: watchdog in /usr/local/lib/python3.9/dist-packages (from streamlit>=0.63->streamlit-option-menu) (3.0.0)\n",
            "Requirement already satisfied: jinja2 in /usr/local/lib/python3.9/dist-packages (from altair<5,>=3.2.0->streamlit>=0.63->streamlit-option-menu) (3.1.2)\n",
            "Requirement already satisfied: jsonschema>=3.0 in /usr/local/lib/python3.9/dist-packages (from altair<5,>=3.2.0->streamlit>=0.63->streamlit-option-menu) (4.3.3)\n",
            "Requirement already satisfied: toolz in /usr/local/lib/python3.9/dist-packages (from altair<5,>=3.2.0->streamlit>=0.63->streamlit-option-menu) (0.12.0)\n",
            "Requirement already satisfied: entrypoints in /usr/local/lib/python3.9/dist-packages (from altair<5,>=3.2.0->streamlit>=0.63->streamlit-option-menu) (0.4)\n",
            "Requirement already satisfied: gitdb<5,>=4.0.1 in /usr/local/lib/python3.9/dist-packages (from gitpython!=3.1.19->streamlit>=0.63->streamlit-option-menu) (4.0.10)\n",
            "Requirement already satisfied: zipp>=0.5 in /usr/local/lib/python3.9/dist-packages (from importlib-metadata>=1.4->streamlit>=0.63->streamlit-option-menu) (3.15.0)\n",
            "Requirement already satisfied: pytz>=2020.1 in /usr/local/lib/python3.9/dist-packages (from pandas<2,>=0.25->streamlit>=0.63->streamlit-option-menu) (2022.7.1)\n",
            "Requirement already satisfied: six>=1.5 in /usr/local/lib/python3.9/dist-packages (from python-dateutil->streamlit>=0.63->streamlit-option-menu) (1.16.0)\n",
            "Requirement already satisfied: urllib3<1.27,>=1.21.1 in /usr/local/lib/python3.9/dist-packages (from requests>=2.4->streamlit>=0.63->streamlit-option-menu) (1.26.15)\n",
            "Requirement already satisfied: certifi>=2017.4.17 in /usr/local/lib/python3.9/dist-packages (from requests>=2.4->streamlit>=0.63->streamlit-option-menu) (2022.12.7)\n",
            "Requirement already satisfied: idna<4,>=2.5 in /usr/local/lib/python3.9/dist-packages (from requests>=2.4->streamlit>=0.63->streamlit-option-menu) (3.4)\n",
            "Requirement already satisfied: charset-normalizer~=2.0.0 in /usr/local/lib/python3.9/dist-packages (from requests>=2.4->streamlit>=0.63->streamlit-option-menu) (2.0.12)\n",
            "Requirement already satisfied: markdown-it-py<3.0.0,>=2.2.0 in /usr/local/lib/python3.9/dist-packages (from rich>=10.11.0->streamlit>=0.63->streamlit-option-menu) (2.2.0)\n",
            "Requirement already satisfied: pygments<3.0.0,>=2.13.0 in /usr/local/lib/python3.9/dist-packages (from rich>=10.11.0->streamlit>=0.63->streamlit-option-menu) (2.14.0)\n",
            "Requirement already satisfied: pytz-deprecation-shim in /usr/local/lib/python3.9/dist-packages (from tzlocal>=1.1->streamlit>=0.63->streamlit-option-menu) (0.1.0.post0)\n",
            "Requirement already satisfied: decorator>=3.4.0 in /usr/local/lib/python3.9/dist-packages (from validators>=0.2->streamlit>=0.63->streamlit-option-menu) (4.4.2)\n",
            "Requirement already satisfied: smmap<6,>=3.0.1 in /usr/local/lib/python3.9/dist-packages (from gitdb<5,>=4.0.1->gitpython!=3.1.19->streamlit>=0.63->streamlit-option-menu) (5.0.0)\n",
            "Requirement already satisfied: MarkupSafe>=2.0 in /usr/local/lib/python3.9/dist-packages (from jinja2->altair<5,>=3.2.0->streamlit>=0.63->streamlit-option-menu) (2.1.2)\n",
            "Requirement already satisfied: attrs>=17.4.0 in /usr/local/lib/python3.9/dist-packages (from jsonschema>=3.0->altair<5,>=3.2.0->streamlit>=0.63->streamlit-option-menu) (22.2.0)\n",
            "Requirement already satisfied: pyrsistent!=0.17.0,!=0.17.1,!=0.17.2,>=0.14.0 in /usr/local/lib/python3.9/dist-packages (from jsonschema>=3.0->altair<5,>=3.2.0->streamlit>=0.63->streamlit-option-menu) (0.19.3)\n",
            "Requirement already satisfied: mdurl~=0.1 in /usr/local/lib/python3.9/dist-packages (from markdown-it-py<3.0.0,>=2.2.0->rich>=10.11.0->streamlit>=0.63->streamlit-option-menu) (0.1.2)\n",
            "Requirement already satisfied: tzdata in /usr/local/lib/python3.9/dist-packages (from pytz-deprecation-shim->tzlocal>=1.1->streamlit>=0.63->streamlit-option-menu) (2023.3)\n"
          ]
        }
      ]
    },
    {
      "cell_type": "code",
      "source": [
        "\n",
        "%%writefile app.py\n",
        "\n",
        "# -*- coding: utf-8 -*-\n",
        "\n",
        "import pickle\n",
        "import streamlit as st\n",
        "\n",
        "from streamlit_option_menu import option_menu\n",
        "\n",
        "\n",
        "\n",
        "# loading the saved models\n",
        "\n",
        "epilepsy_model = pickle.load(open('/content/epilepsy_model.sav', 'rb'))\n",
        "\n",
        "\n",
        "\n",
        "# sidebar for navigation\n",
        "with st.sidebar:\n",
        "    \n",
        "    selected = option_menu('Multiple Disease Prediction System',\n",
        "                          \n",
        "                          ['Epilepsy Classification',\n",
        "                            'Disease Classification',\n",
        "                           'Early Detection',],\n",
        "                          icons=['activity','heart','person'],\n",
        "                          default_index=0)\n",
        "    \n",
        "    \n",
        "# Diabetes Prediction Page\n",
        "if (selected == 'Diabetes Prediction'):\n",
        "    \n",
        "    # page title\n",
        "    st.title('Diabetes Prediction using ML')\n",
        "    \n",
        "    \n",
        "    # getting the input data from the user\n",
        "    col1, col2, col3 = st.columns(3)\n",
        "    \n",
        "    with col1:\n",
        "        Pregnancies = st.text_input('Number of Pregnancies')\n",
        "        \n",
        "    with col2:\n",
        "        Glucose = st.text_input('Glucose Level')\n",
        "    \n",
        "    with col3:\n",
        "        BloodPressure = st.text_input('Blood Pressure value')\n",
        "    \n",
        "    with col1:\n",
        "        SkinThickness = st.text_input('Skin Thickness value')\n",
        "    \n",
        "    with col2:\n",
        "        Insulin = st.text_input('Insulin Level')\n",
        "    \n",
        "    with col3:\n",
        "        BMI = st.text_input('BMI value')\n",
        "    \n",
        "    with col1:\n",
        "        DiabetesPedigreeFunction = st.text_input('Diabetes Pedigree Function value')\n",
        "    \n",
        "    with col2:\n",
        "        Age = st.text_input('Age of the Person')\n",
        "    \n",
        "    \n",
        "    # code for Prediction\n",
        "    diab_diagnosis = ''\n",
        "    \n",
        "    # creating a button for Prediction\n",
        "    \n",
        "    if st.button('Diabetes Test Result'):\n",
        "        diab_prediction = diabetes_model.predict([[Pregnancies, Glucose, BloodPressure, SkinThickness, Insulin, BMI, DiabetesPedigreeFunction, Age]])\n",
        "        \n",
        "        if (diab_prediction[0] == 1):\n",
        "          diab_diagnosis = 'The person is diabetic'\n",
        "        else:\n",
        "          diab_diagnosis = 'The person is not diabetic'\n",
        "        \n",
        "    st.success(diab_diagnosis)\n",
        "\n",
        "\n",
        "\n",
        "\n",
        "# Heart Disease Prediction Page\n",
        "if (selected == 'Heart Disease Prediction'):\n",
        "    \n",
        "    # page title\n",
        "    st.title('Heart Disease Prediction using ML')\n",
        "    \n",
        "    col1, col2, col3 = st.columns(3)\n",
        "    \n",
        "    with col1:\n",
        "        age = st.text_input('Age')\n",
        "        \n",
        "    with col2:\n",
        "        sex = st.text_input('Sex')\n",
        "        \n",
        "    with col3:\n",
        "        cp = st.text_input('Chest Pain types')\n",
        "        \n",
        "    with col1:\n",
        "        trestbps = st.text_input('Resting Blood Pressure')\n",
        "        \n",
        "    with col2:\n",
        "        chol = st.text_input('Serum Cholestoral in mg/dl')\n",
        "        \n",
        "    with col3:\n",
        "        fbs = st.text_input('Fasting Blood Sugar > 120 mg/dl')\n",
        "        \n",
        "    with col1:\n",
        "        restecg = st.text_input('Resting Electrocardiographic results')\n",
        "        \n",
        "    with col2:\n",
        "        thalach = st.text_input('Maximum Heart Rate achieved')\n",
        "        \n",
        "    with col3:\n",
        "        exang = st.text_input('Exercise Induced Angina')\n",
        "        \n",
        "    with col1:\n",
        "        oldpeak = st.text_input('ST depression induced by exercise')\n",
        "        \n",
        "    with col2:\n",
        "        slope = st.text_input('Slope of the peak exercise ST segment')\n",
        "        \n",
        "    with col3:\n",
        "        ca = st.text_input('Major vessels colored by flourosopy')\n",
        "        \n",
        "    with col1:\n",
        "        thal = st.text_input('thal: 0 = normal; 1 = fixed defect; 2 = reversable defect')\n",
        "        \n",
        "        \n",
        "     \n",
        "     \n",
        "    # code for Prediction\n",
        "    heart_diagnosis = ''\n",
        "    \n",
        "    # creating a button for Prediction\n",
        "    \n",
        "    if st.button('Heart Disease Test Result'):\n",
        "        heart_prediction = heart_disease_model.predict([[age, sex, cp, trestbps, chol, fbs, restecg,thalach,exang,oldpeak,slope,ca,thal]])                          \n",
        "        \n",
        "        if (heart_prediction[0] == 1):\n",
        "          heart_diagnosis = 'The person is having heart disease'\n",
        "        else:\n",
        "          heart_diagnosis = 'The person does not have any heart disease'\n",
        "        \n",
        "    st.success(heart_diagnosis)\n",
        "        \n",
        "    \n",
        "\n",
        "# Epilepsy Classification\n",
        "if (selected == \"Epilepsy Classification\"):\n",
        "    \n",
        "    # page title\n",
        "    st.title(\"Epilepsy Classification using Deep Learning\")\n",
        "    \n",
        "    col1, col2, col3, col4, col5 = st.columns(5)  \n",
        "    \n",
        "    with col1:\n",
        "        PFD0 = st.text_input('PFD0')\n",
        "        \n",
        "    with col2:\n",
        "        PFD1 = st.text_input('PFD1')\n",
        "        \n",
        "    with col3:\n",
        "        PFD2 = st.text_input('PFD2')\n",
        "        \n",
        "    with col4:\n",
        "        PFD3 = st.text_input('PFD3')\n",
        "        \n",
        "    with col5:\n",
        "        PFD4 = st.text_input('PFD4')\n",
        "        \n",
        "    with col1:\n",
        "        PFD5 = st.text_input('PFD5')\n",
        "        \n",
        "    with col2:\n",
        "        PFD6 = st.text_input('PFD6')\n",
        "        \n",
        "    with col3:\n",
        "        PFD7 = st.text_input('PFD7')\n",
        "        \n",
        "    with col4:\n",
        "        PFD8 = st.text_input('PFD8')\n",
        "        \n",
        "    with col5:\n",
        "        PFD9 = st.text_input('PFD9')\n",
        "        \n",
        "    with col1:\n",
        "        PFD10 = st.text_input('PFD10')\n",
        "        \n",
        "    with col2:\n",
        "        PFD11 = st.text_input('PFD11')\n",
        "        \n",
        "    with col4:\n",
        "        PFD12 = st.text_input('PFD12')\n",
        "        \n",
        "    with col5:\n",
        "        PFD13 = st.text_input('PFD13')\n",
        "        \n",
        "    with col1:\n",
        "        PFD14 = st.text_input('PFD14')\n",
        "        \n",
        "    with col2:\n",
        "        PFD15 = st.text_input('PFD15')\n",
        "        \n",
        "    with col3:\n",
        "        PFD16 = st.text_input('PFD16')\n",
        "        \n",
        "    with col4:\n",
        "        PFD17 = st.text_input('PFD17')\n",
        "        \n",
        "    with col5:\n",
        "        PFD18 = st.text_input('PFD18')\n",
        "        \n",
        "    with col1:\n",
        "        PFD19 = st.text_input('PFD19')\n",
        "        \n",
        "    with col2:\n",
        "        PFD20 = st.text_input('PFD20')\n",
        "\n",
        "    with col3:\n",
        "        PFD21 = st.text_input('PFD21')\n",
        "        \n",
        "    with col4:\n",
        "        PFD22 = st.text_input('PFD22')\n",
        "        \n",
        "    with col5:\n",
        "         DTW = st.text_input(' DTW')\n",
        "\n",
        "    with col1:\n",
        "        hjorthActivity0 = st.text_input('hjorthActivity0')\n",
        "        \n",
        "    with col2:\n",
        "        hjorthActivity1 = st.text_input('hjorthActivity1')\n",
        "\n",
        "    with col3:\n",
        "        hjorthActivity2 = st.text_input('hjorthActivity2')\n",
        "        \n",
        "    with col4:\n",
        "        hjorthActivity3 = st.text_input('hjorthActivity3')\n",
        "        \n",
        "    with col5:\n",
        "        hjorthActivity4 = st.text_input('hjorthActivity4')\n",
        "      \n",
        "    with col1:\n",
        "        hjorthActivity5 = st.text_input('hjorthActivity5')\n",
        "        \n",
        "    with col2:\n",
        "        hjorthActivity6 = st.text_input('hjorthActivity6')\n",
        "\n",
        "    with col3:\n",
        "        hjorthActivity7 = st.text_input('hjorthActivity7')\n",
        "        \n",
        "    with col4:\n",
        "        hjorthActivity8 = st.text_input('hjorthActivity8')\n",
        "        \n",
        "    with col5:\n",
        "        hjorthActivity9 = st.text_input('hjorthActivity9')\n",
        "    \n",
        "    with col1:\n",
        "        hjorthActivity10 = st.text_input('hjorthActivity10')\n",
        "        \n",
        "    with col2:\n",
        "        hjorthActivity11 = st.text_input('hjorthActivity11')\n",
        "\n",
        "    with col3:\n",
        "        hjorthActivity12 = st.text_input('hjorthActivity12')\n",
        "        \n",
        "    with col4:\n",
        "        hjorthActivity13 = st.text_input('hjorthActivity13')\n",
        "        \n",
        "    with col5:\n",
        "        hjorthActivity14 = st.text_input('hjorthActivity14')\n",
        "      \n",
        "    with col1:\n",
        "        hjorthActivity15 = st.text_input('hjorthActivity15')\n",
        "        \n",
        "    with col2:\n",
        "        hjorthActivity16 = st.text_input('hjorthActivity16')\n",
        "\n",
        "    with col3:\n",
        "        hjorthActivity17 = st.text_input('hjorthActivity17')\n",
        "        \n",
        "    with col4:\n",
        "        hjorthActivity18 = st.text_input('hjorthActivity18')\n",
        "        \n",
        "    with col5:\n",
        "        hjorthActivity19 = st.text_input('hjorthActivity19')\n",
        "    \n",
        "    with col1:\n",
        "        hjorthActivity20 = st.text_input('hjorthActivity20')\n",
        "        \n",
        "    with col2:\n",
        "        hjorthActivity21 = st.text_input('hjorthActivity21')\n",
        "\n",
        "    with col3:\n",
        "        hjorthActivity22 = st.text_input('hjorthActivity22')\n",
        "        \n",
        "    \n",
        "    \n",
        "    \n",
        "    # code for Prediction\n",
        "    epilepsy_diagnosis = ''\n",
        "    \n",
        "    # creating a button for Prediction    \n",
        "    if st.button(\"Epilepsy Classification\"):\n",
        "        epilepsy_prediction = epilepsy_model.predict([[PFD0,PFD1,PFD2,PFD3,PFD4,PFD5,PFD6,PFD7,PFD8,PFD9,PFD10,PFD11,PFD12,PFD13,PFD14,PFD15,PFD16,PFD17,PFD18,PFD19,PFD20,PFD21,PFD22,DTW,hjorthActivity0,hjorthActivity1,hjorthActivity2,hjorthActivity3,hjorthActivity4,hjorthActivity5,hjorthActivity6,hjorthActivity7,hjorthActivity8,hjorthActivity9,hjorthActivity10,hjorthActivity11,hjorthActivity12,hjorthActivity13,hjorthActivity14,hjorthActivity15,hjorthActivity16,hjorthActivity17,hjorthActivity18,hjorthActivity19,hjorthActivity20,hjorthActivity21,hjorthActivity22]])                          \n",
        "        \n",
        "\n",
        "\n",
        "\n",
        "        if (epilepsy_prediction[0] == 0):\n",
        "          epilepsy_diagnosis = \"dis1 generalized\"\n",
        "        elif (epilepsy_prediction[0] == 1):\n",
        "          epilepsy_diagnosis = \"dis3 generalized\"\n",
        "        elif (epilepsy_prediction[0] == 2):\n",
        "          epilepsy_diagnosis = \"delta generalized\"\n",
        "        elif (epilepsy_prediction[0] == 3):\n",
        "          epilepsy_diagnosis = \"single burst generalized\"\n",
        "        elif (epilepsy_prediction[0] == 4):\n",
        "          epilepsy_diagnosis = \"temporal\"\n",
        "        elif (epilepsy_prediction[0] == 5):\n",
        "          epilepsy_diagnosis = \"frontocentral\"\n",
        "        elif (epilepsy_prediction[0] == 6):\n",
        "          epilepsy_diagnosis = \"frontopolar\"\n",
        "        \n",
        "        else:\n",
        "          epilepsy_diagnosis = \"The person does not have Epilepsy\"\n",
        "        \n",
        "    st.success(epilepsy_diagnosis)\n",
        "\n",
        "\n",
        "\n",
        "\n"
      ],
      "metadata": {
        "id": "ZZo8BCnY13Yv",
        "colab": {
          "base_uri": "https://localhost:8080/"
        },
        "outputId": "92e41062-f605-4b4f-b2b6-ebec64467fcc"
      },
      "execution_count": 119,
      "outputs": [
        {
          "output_type": "stream",
          "name": "stdout",
          "text": [
            "Overwriting app.py\n"
          ]
        }
      ]
    },
    {
      "cell_type": "code",
      "source": [
        "! pip install pyngrok"
      ],
      "metadata": {
        "id": "jI7t-1pn13bm"
      },
      "execution_count": null,
      "outputs": []
    },
    {
      "cell_type": "code",
      "source": [
        "from pyngrok import ngrok"
      ],
      "metadata": {
        "id": "B9HsICMd13d8"
      },
      "execution_count": 120,
      "outputs": []
    },
    {
      "cell_type": "code",
      "source": [
        "ngrok.set_auth_token(\"2NIDTxy1uMwuzJWvR1EGoqb0SVl_5sWYAAfFBc8WXJm5C8gD1\") "
      ],
      "metadata": {
        "id": "URjeVMto13gO"
      },
      "execution_count": 121,
      "outputs": []
    },
    {
      "cell_type": "code",
      "source": [
        "ngrok.kill()"
      ],
      "metadata": {
        "id": "k8v7oKmJ4Dch"
      },
      "execution_count": 122,
      "outputs": []
    },
    {
      "cell_type": "code",
      "source": [
        "!nohup streamlit run app.py --server.port 80 &\n",
        "url = ngrok.connect(port = '80')\n",
        "print(url)\n",
        "     "
      ],
      "metadata": {
        "id": "wy3rLKdx2PSS",
        "colab": {
          "base_uri": "https://localhost:8080/"
        },
        "outputId": "a7948643-107a-4cad-8b7e-3fdadc7cf491"
      },
      "execution_count": 123,
      "outputs": [
        {
          "output_type": "stream",
          "name": "stdout",
          "text": [
            "nohup: appending output to 'nohup.out'\n",
            "NgrokTunnel: \"http://e98b-34-75-72-16.ngrok-free.app\" -> \"http://localhost:80\"\n"
          ]
        }
      ]
    },
    {
      "cell_type": "code",
      "source": [
        "from pyngrok import ngrok\n",
        "\n",
        "tunnels = ngrok.get_tunnels()\n",
        "tunnels"
      ],
      "metadata": {
        "id": "VX9_H7HS2PVF",
        "colab": {
          "base_uri": "https://localhost:8080/"
        },
        "outputId": "f99c36a3-09d8-4179-d868-fb615033eebc"
      },
      "execution_count": 124,
      "outputs": [
        {
          "output_type": "execute_result",
          "data": {
            "text/plain": [
              "[<NgrokTunnel: \"https://e98b-34-75-72-16.ngrok-free.app\" -> \"http://localhost:80\">,\n",
              " <NgrokTunnel: \"http://e98b-34-75-72-16.ngrok-free.app\" -> \"http://localhost:80\">]"
            ]
          },
          "metadata": {},
          "execution_count": 124
        }
      ]
    },
    {
      "cell_type": "code",
      "source": [],
      "metadata": {
        "id": "nDXcXzzN2PXT"
      },
      "execution_count": null,
      "outputs": []
    }
  ]
}