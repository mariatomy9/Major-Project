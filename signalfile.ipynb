{
  "nbformat": 4,
  "nbformat_minor": 0,
  "metadata": {
    "colab": {
      "provenance": [],
      "mount_file_id": "18kuLqSK44xlIx_ARZE3McubWSSQHSoWS",
      "authorship_tag": "ABX9TyNMqcA+5smPiy7OsocNFByb",
      "include_colab_link": true
    },
    "kernelspec": {
      "name": "python3",
      "display_name": "Python 3"
    },
    "language_info": {
      "name": "python"
    }
  },
  "cells": [
    {
      "cell_type": "markdown",
      "metadata": {
        "id": "view-in-github",
        "colab_type": "text"
      },
      "source": [
        "<a href=\"https://colab.research.google.com/github/mariatomy9/Major-Project/blob/hisana/signalfile.ipynb\" target=\"_parent\"><img src=\"https://colab.research.google.com/assets/colab-badge.svg\" alt=\"Open In Colab\"/></a>"
      ]
    },
    {
      "cell_type": "code",
      "source": [
        "# !pip install  keras"
      ],
      "metadata": {
        "colab": {
          "base_uri": "https://localhost:8080/"
        },
        "id": "LnjmnamHHDeC",
        "outputId": "d61cca2a-599e-4f0a-aa91-ce0e1a56e23e"
      },
      "execution_count": null,
      "outputs": [
        {
          "output_type": "stream",
          "name": "stdout",
          "text": [
            "Looking in indexes: https://pypi.org/simple, https://us-python.pkg.dev/colab-wheels/public/simple/\n",
            "Requirement already satisfied: keras in /usr/local/lib/python3.9/dist-packages (2.11.0)\n"
          ]
        }
      ]
    },
    {
      "cell_type": "code",
      "execution_count": null,
      "metadata": {
        "id": "BpPs9I-FGpUc"
      },
      "outputs": [],
      "source": [
        "# from tensorflow.keras.utils import load_img\n",
        "# from tensorflow.keras.utils import img_to_array\n",
        "# img1 = load_img(\"/content/drive/MyDrive/Colab Notebooks/image_dataset/ictal_img1/ictal1.jpg\")\n",
        "# data1 = img_to_array(img1)\n",
        "# print(data)\n",
        "# img2 = load_img(\"/content/drive/MyDrive/Colab Notebooks/image_dataset/interictal_img1/interictal1.jpg\")\n",
        "# data2 = img_to_array(img2)"
      ]
    },
    {
      "cell_type": "code",
      "source": [
        "# data.ndim\n",
        "# data1.shape\n"
      ],
      "metadata": {
        "colab": {
          "base_uri": "https://localhost:8080/"
        },
        "id": "Q6DmNoGkIVlw",
        "outputId": "af7aafd5-5260-4717-aeea-9090072fce4e"
      },
      "execution_count": null,
      "outputs": [
        {
          "output_type": "execute_result",
          "data": {
            "text/plain": [
              "(288, 432, 3)"
            ]
          },
          "metadata": {},
          "execution_count": 18
        }
      ]
    },
    {
      "cell_type": "code",
      "source": [
        "# from PIL import Image\n",
        "\n",
        "# im1 = Image.open('/content/drive/MyDrive/Colab Notebooks/image_dataset/ictal_img1/ictal1.jpg')\n",
        "# im2 = Image.open('/content/drive/MyDrive/Colab Notebooks/image_dataset/interictal_img1/interictal1.jpg')"
      ],
      "metadata": {
        "id": "omdNBBUZLRnm"
      },
      "execution_count": null,
      "outputs": []
    },
    {
      "cell_type": "code",
      "source": [
        "# from PIL import Image\n",
        "\n",
        "# im1 = Image.open('/content/drive/MyDrive/Colab Notebooks/image_dataset/ictal_img1/ictal1.jpg')\n",
        "# im2 = Image.open('/content/drive/MyDrive/Colab Notebooks/image_dataset/interictal_img1/interictal1.jpg')\n",
        "\n",
        "# def get_concat_h_blank(im1, im2, color=(0, 0, 0)):\n",
        "#     dst = Image.new('RGB', (im1.width + im2.width, max(im1.height, im2.height)), color)\n",
        "#     dst.paste(im1, (0, 0))\n",
        "#     dst.paste(im2, (im1.width, 0))\n",
        "#     return dst\n",
        "\n",
        "# def get_concat_h_multi_blank(im_list):\n",
        "#     _im = im_list.pop(0)\n",
        "#     for im in im_list:\n",
        "#         _im = get_concat_h_blank(_im, im)\n",
        "#     return _im\n",
        "\n",
        "# get_concat_h_multi_blank([im1, im2, im1]).save('/content/drive/MyDrive/Colab Notebooks/image_dataset/pillow_concat_h.jpg')"
      ],
      "metadata": {
        "id": "1raoCb1LL-aK"
      },
      "execution_count": null,
      "outputs": []
    },
    {
      "cell_type": "code",
      "source": [
        "from google.colab import drive\n",
        "drive.mount('/content/drive')"
      ],
      "metadata": {
        "colab": {
          "base_uri": "https://localhost:8080/"
        },
        "id": "Z88gtgbS73y3",
        "outputId": "f3b3124a-0ad7-48d1-e417-b322d8874b53"
      },
      "execution_count": 1,
      "outputs": [
        {
          "output_type": "stream",
          "name": "stdout",
          "text": [
            "Drive already mounted at /content/drive; to attempt to forcibly remount, call drive.mount(\"/content/drive\", force_remount=True).\n"
          ]
        }
      ]
    },
    {
      "cell_type": "code",
      "source": [
        "import scipy.io\n",
        "import numpy as np\n",
        "mat1 = scipy.io.loadmat('/content/drive/MyDrive/Colab Notebooks/EEG Epilepsy Datasets/interictal/interictal1.mat')\n",
        "value1 = mat1['interictal']\n",
        "data1 = np.array(value1)\n",
        "data1\n",
        "data1.ndim\n"
      ],
      "metadata": {
        "colab": {
          "base_uri": "https://localhost:8080/"
        },
        "outputId": "ff4779d1-0efc-442a-fe48-a3e16a178d3e",
        "id": "iHuFxufP5a_N"
      },
      "execution_count": 52,
      "outputs": [
        {
          "output_type": "execute_result",
          "data": {
            "text/plain": [
              "2"
            ]
          },
          "metadata": {},
          "execution_count": 52
        }
      ]
    },
    {
      "cell_type": "code",
      "source": [
        "import scipy.io\n",
        "import numpy as np\n",
        "mat2 = scipy.io.loadmat('/content/drive/MyDrive/Colab Notebooks/EEG Epilepsy Datasets/interictal/interictal10.mat')\n",
        "value2 = mat2['interictal']\n",
        "data2 = np.array(value2)\n",
        "data2"
      ],
      "metadata": {
        "colab": {
          "base_uri": "https://localhost:8080/"
        },
        "outputId": "b56404e6-e9b7-4962-a47a-f86009325ec7",
        "id": "7GD2GdPt5aMi"
      },
      "execution_count": 54,
      "outputs": [
        {
          "output_type": "execute_result",
          "data": {
            "text/plain": [
              "array([[-11],\n",
              "       [-17],\n",
              "       [-24],\n",
              "       ...,\n",
              "       [-19],\n",
              "       [-15],\n",
              "       [-12]], dtype=int16)"
            ]
          },
          "metadata": {},
          "execution_count": 54
        }
      ]
    },
    {
      "cell_type": "code",
      "source": [
        "import scipy.io\n",
        "import numpy as np\n",
        "mat3 = scipy.io.loadmat('/content/drive/MyDrive/Colab Notebooks/EEG Epilepsy Datasets/interictal/interictal11.mat')\n",
        "value3 = mat3['interictal']\n",
        "data3 = np.array(value3)\n",
        "data3"
      ],
      "metadata": {
        "colab": {
          "base_uri": "https://localhost:8080/"
        },
        "outputId": "6e2f41f6-6f34-40b3-ab8b-325d1c2f8b8c",
        "id": "yk438YjC6NrS"
      },
      "execution_count": 55,
      "outputs": [
        {
          "output_type": "execute_result",
          "data": {
            "text/plain": [
              "array([[-10],\n",
              "       [ -4],\n",
              "       [  1],\n",
              "       ...,\n",
              "       [  7],\n",
              "       [  7],\n",
              "       [  5]], dtype=int16)"
            ]
          },
          "metadata": {},
          "execution_count": 55
        }
      ]
    },
    {
      "cell_type": "code",
      "source": [
        "import scipy.io\n",
        "import numpy as np\n",
        "mat4 = scipy.io.loadmat('/content/drive/MyDrive/Colab Notebooks/EEG Epilepsy Datasets/ictal/ictal1.mat')\n",
        "data4 = np.array(mat4)\n",
        "data1 # For converting to a NumPy array"
      ],
      "metadata": {
        "colab": {
          "base_uri": "https://localhost:8080/"
        },
        "id": "iO4qzMQ2PJpd",
        "outputId": "5fa34e8e-8750-40a2-e51e-fd1be90e3117"
      },
      "execution_count": 19,
      "outputs": [
        {
          "output_type": "execute_result",
          "data": {
            "text/plain": [
              "array({'__header__': b'MATLAB 5.0 MAT-file, Platform: PCWIN64, Created on: Sat Aug 06 14:02:59 2016', '__version__': '1.0', '__globals__': [], 'interictal': array([[  9],\n",
              "       [ 11],\n",
              "       [ 11],\n",
              "       ...,\n",
              "       [-12],\n",
              "       [-10],\n",
              "       [ -4]], dtype=int16)}, dtype=object)"
            ]
          },
          "metadata": {},
          "execution_count": 19
        }
      ]
    },
    {
      "cell_type": "code",
      "source": [
        "import scipy.io\n",
        "import numpy as np\n",
        "mat5 = scipy.io.loadmat('/content/drive/MyDrive/Colab Notebooks/EEG Epilepsy Datasets/ictal/ictal10.mat')\n",
        "data5 = np.array(mat5)\n",
        "data5"
      ],
      "metadata": {
        "colab": {
          "base_uri": "https://localhost:8080/"
        },
        "id": "_T9q4CLb78Ot",
        "outputId": "dc0c787d-845a-45a2-8793-38f17409cfd5"
      },
      "execution_count": 20,
      "outputs": [
        {
          "output_type": "execute_result",
          "data": {
            "text/plain": [
              "array({'__header__': b'MATLAB 5.0 MAT-file, Platform: PCWIN64, Created on: Sat Aug 06 14:02:24 2016', '__version__': '1.0', '__globals__': [], 'ictal': array([[-68],\n",
              "       [-37],\n",
              "       [ -8],\n",
              "       ...,\n",
              "       [-90],\n",
              "       [-89],\n",
              "       [-82]], dtype=int16)}, dtype=object)"
            ]
          },
          "metadata": {},
          "execution_count": 20
        }
      ]
    },
    {
      "cell_type": "code",
      "source": [
        "import scipy.io\n",
        "import numpy as np\n",
        "mat6 = scipy.io.loadmat('/content/drive/MyDrive/Colab Notebooks/EEG Epilepsy Datasets/ictal/ictal11.mat')\n",
        "data6 = np.array(mat6)\n",
        "data6"
      ],
      "metadata": {
        "colab": {
          "base_uri": "https://localhost:8080/"
        },
        "outputId": "9c7bd486-a804-48c0-f82d-bfe3b92a87a4",
        "id": "nLkWfZ3u5cHi"
      },
      "execution_count": 21,
      "outputs": [
        {
          "output_type": "execute_result",
          "data": {
            "text/plain": [
              "array({'__header__': b'MATLAB 5.0 MAT-file, Platform: PCWIN64, Created on: Sat Aug 06 14:02:24 2016', '__version__': '1.0', '__globals__': [], 'ictal': array([[-77],\n",
              "       [-73],\n",
              "       [-59],\n",
              "       ...,\n",
              "       [-67],\n",
              "       [-56],\n",
              "       [-66]], dtype=int16)}, dtype=object)"
            ]
          },
          "metadata": {},
          "execution_count": 21
        }
      ]
    },
    {
      "cell_type": "code",
      "source": [],
      "metadata": {
        "id": "G9n3Lulq5Zy7"
      },
      "execution_count": null,
      "outputs": []
    },
    {
      "cell_type": "code",
      "source": [
        "import scipy.io\n",
        "import numpy as np\n",
        "mat7 = scipy.io.loadmat('/content/drive/MyDrive/Colab Notebooks/EEG Epilepsy Datasets/interictal/interictal12.mat')\n",
        "data7 = np.array(mat7)\n",
        "data7"
      ],
      "metadata": {
        "colab": {
          "base_uri": "https://localhost:8080/"
        },
        "outputId": "2eae1994-5ad6-4006-ac63-ebe41aa3d424",
        "id": "kYy-pBAO-aii"
      },
      "execution_count": 23,
      "outputs": [
        {
          "output_type": "execute_result",
          "data": {
            "text/plain": [
              "array({'__header__': b'MATLAB 5.0 MAT-file, Platform: PCWIN64, Created on: Sat Aug 06 14:02:59 2016', '__version__': '1.0', '__globals__': [], 'interictal': array([[ 1],\n",
              "       [-2],\n",
              "       [-4],\n",
              "       ...,\n",
              "       [12],\n",
              "       [17],\n",
              "       [20]], dtype=int16)}, dtype=object)"
            ]
          },
          "metadata": {},
          "execution_count": 23
        }
      ]
    },
    {
      "cell_type": "code",
      "source": [],
      "metadata": {
        "id": "D9qIwysf6NSs"
      },
      "execution_count": 12,
      "outputs": []
    },
    {
      "cell_type": "code",
      "source": [
        "import scipy.io\n",
        "import numpy as np\n",
        "mat8 = scipy.io.loadmat('/content/drive/MyDrive/Colab Notebooks/EEG Epilepsy Datasets/interictal/interictal13.mat')\n",
        "data8 = np.array(mat8)\n",
        "data8"
      ],
      "metadata": {
        "colab": {
          "base_uri": "https://localhost:8080/"
        },
        "outputId": "28872048-8094-4b03-f621-b5a84ecc4170",
        "id": "Lt1Vs872-dpG"
      },
      "execution_count": 24,
      "outputs": [
        {
          "output_type": "execute_result",
          "data": {
            "text/plain": [
              "array({'__header__': b'MATLAB 5.0 MAT-file, Platform: PCWIN64, Created on: Sat Aug 06 14:02:59 2016', '__version__': '1.0', '__globals__': [], 'interictal': array([[ -7],\n",
              "       [ -8],\n",
              "       [ -2],\n",
              "       ...,\n",
              "       [-25],\n",
              "       [-20],\n",
              "       [-16]], dtype=int16)}, dtype=object)"
            ]
          },
          "metadata": {},
          "execution_count": 24
        }
      ]
    },
    {
      "cell_type": "code",
      "source": [],
      "metadata": {
        "id": "Eu94bDWf6OCS"
      },
      "execution_count": null,
      "outputs": []
    },
    {
      "cell_type": "code",
      "source": [
        "import scipy.io\n",
        "import numpy as np\n",
        "mat9 = scipy.io.loadmat('/content/drive/MyDrive/Colab Notebooks/EEG Epilepsy Datasets/interictal/interictal14.mat')\n",
        "data9 = np.array(mat9)\n",
        "data9"
      ],
      "metadata": {
        "colab": {
          "base_uri": "https://localhost:8080/",
          "height": 218
        },
        "outputId": "5b8c6192-d8c3-4a02-bdb5-345298213ef4",
        "id": "1_eiJv74-ftV"
      },
      "execution_count": 44,
      "outputs": [
        {
          "output_type": "error",
          "ename": "IndexError",
          "evalue": "ignored",
          "traceback": [
            "\u001b[0;31m---------------------------------------------------------------------------\u001b[0m",
            "\u001b[0;31mIndexError\u001b[0m                                Traceback (most recent call last)",
            "\u001b[0;32m<ipython-input-44-be3738fc6e12>\u001b[0m in \u001b[0;36m<cell line: 5>\u001b[0;34m()\u001b[0m\n\u001b[1;32m      3\u001b[0m \u001b[0mmat9\u001b[0m \u001b[0;34m=\u001b[0m \u001b[0mscipy\u001b[0m\u001b[0;34m.\u001b[0m\u001b[0mio\u001b[0m\u001b[0;34m.\u001b[0m\u001b[0mloadmat\u001b[0m\u001b[0;34m(\u001b[0m\u001b[0;34m'/content/drive/MyDrive/Colab Notebooks/EEG Epilepsy Datasets/interictal/interictal14.mat'\u001b[0m\u001b[0;34m)\u001b[0m\u001b[0;34m\u001b[0m\u001b[0;34m\u001b[0m\u001b[0m\n\u001b[1;32m      4\u001b[0m \u001b[0mdata9\u001b[0m \u001b[0;34m=\u001b[0m \u001b[0mnp\u001b[0m\u001b[0;34m.\u001b[0m\u001b[0marray\u001b[0m\u001b[0;34m(\u001b[0m\u001b[0mmat9\u001b[0m\u001b[0;34m)\u001b[0m\u001b[0;34m\u001b[0m\u001b[0;34m\u001b[0m\u001b[0m\n\u001b[0;32m----> 5\u001b[0;31m \u001b[0mdata9\u001b[0m\u001b[0;34m[\u001b[0m\u001b[0;36m6\u001b[0m\u001b[0;34m]\u001b[0m\u001b[0;34m\u001b[0m\u001b[0;34m\u001b[0m\u001b[0m\n\u001b[0m",
            "\u001b[0;31mIndexError\u001b[0m: too many indices for array: array is 0-dimensional, but 1 were indexed"
          ]
        }
      ]
    },
    {
      "cell_type": "code",
      "source": [
        "value = np.append(data1,data2)\n",
        "value"
      ],
      "metadata": {
        "colab": {
          "base_uri": "https://localhost:8080/"
        },
        "id": "sw3N83ja__Aa",
        "outputId": "448538f5-3f74-4fcd-bfc4-d0d0c9bb35fa"
      },
      "execution_count": 35,
      "outputs": [
        {
          "output_type": "execute_result",
          "data": {
            "text/plain": [
              "array([{'__header__': b'MATLAB 5.0 MAT-file, Platform: PCWIN64, Created on: Sat Aug 06 14:02:59 2016', '__version__': '1.0', '__globals__': [], 'interictal': array([[  9],\n",
              "              [ 11],\n",
              "              [ 11],\n",
              "              ...,\n",
              "              [-12],\n",
              "              [-10],\n",
              "              [ -4]], dtype=int16)}                                                                                                                                        ,\n",
              "       {'__header__': b'MATLAB 5.0 MAT-file, Platform: PCWIN64, Created on: Sat Aug 06 14:02:59 2016', '__version__': '1.0', '__globals__': [], 'interictal': array([[ 1],\n",
              "              [-2],\n",
              "              [-4],\n",
              "              ...,\n",
              "              [12],\n",
              "              [17],\n",
              "              [20]], dtype=int16)}                                                                                                                                        ],\n",
              "      dtype=object)"
            ]
          },
          "metadata": {},
          "execution_count": 35
        }
      ]
    },
    {
      "cell_type": "code",
      "source": [
        "import numpy as np\n",
        "import pandas as pd\n",
        "from PIL import Image\n",
        "import scipy.io.wavfile as wavf\n",
        "import matplotlib.pyplot as plt \n",
        "\n",
        "list1 = [data1,data2,data3]\n",
        "# signal = np.concatenate([np.expand_dims(i,axis=0) for i in list1 ])\n",
        "signal = np.concatenate([data1,data2,data3])\n",
        "# print(signal)\n",
        "result = signal.ravel()\n",
        "print(result)\n",
        "# df = pd.DataFrame(signal,'RGB)\n",
        "# print(df)\n",
        "y = np.arange(1,len(result)+1)\n",
        "plt.plot(result, y) \n",
        "plt.show()\n"
      ],
      "metadata": {
        "colab": {
          "base_uri": "https://localhost:8080/",
          "height": 447
        },
        "id": "umBQZpVhBDlE",
        "outputId": "5ed5bc70-47ab-4ec7-ee5e-2c615a58898b"
      },
      "execution_count": 75,
      "outputs": [
        {
          "output_type": "stream",
          "name": "stdout",
          "text": [
            "[ 9 11 11 ...  7  7  5]\n"
          ]
        },
        {
          "output_type": "display_data",
          "data": {
            "text/plain": [
              "<Figure size 640x480 with 1 Axes>"
            ],
            "image/png": "[encoded data removed]"
          },
          "metadata": {}
        }
      ]
    },
    {
      "cell_type": "code",
      "source": [],
      "metadata": {
        "id": "4v9vN6JDTR5g"
      },
      "execution_count": null,
      "outputs": []
    },
    {
      "cell_type": "code",
      "source": [
        "from PIL import Image\n",
        "import numpy as np\n",
        "\n",
        "img = Image.fromarray(signal, \"RGB\")\n",
        "# Display the Numpy array as Image\n",
        "# img.show()\n",
        "\n",
        "# Save the Numpy array as Image\n",
        "image_filename = \"opengenus_image.jpeg\"\n",
        "img.save(image_filename)"
      ],
      "metadata": {
        "id": "b7lRZLr6BzND"
      },
      "execution_count": 33,
      "outputs": []
    },
    {
      "cell_type": "code",
      "source": [
        "import numpy as np\n",
        "\n",
        "signal = np.concatenate([data1,data2])\n",
        "signal"
      ],
      "metadata": {
        "colab": {
          "base_uri": "https://localhost:8080/",
          "height": 253
        },
        "id": "5XwT1zUf6OoC",
        "outputId": "b518ef6b-e2fd-4258-8384-d2834a533ce5"
      },
      "execution_count": 26,
      "outputs": [
        {
          "output_type": "error",
          "ename": "ValueError",
          "evalue": "ignored",
          "traceback": [
            "\u001b[0;31m---------------------------------------------------------------------------\u001b[0m",
            "\u001b[0;31mValueError\u001b[0m                                Traceback (most recent call last)",
            "\u001b[0;32m<ipython-input-26-9d13bc2ddec6>\u001b[0m in \u001b[0;36m<cell line: 3>\u001b[0;34m()\u001b[0m\n\u001b[1;32m      1\u001b[0m \u001b[0;32mimport\u001b[0m \u001b[0mnumpy\u001b[0m \u001b[0;32mas\u001b[0m \u001b[0mnp\u001b[0m\u001b[0;34m\u001b[0m\u001b[0;34m\u001b[0m\u001b[0m\n\u001b[1;32m      2\u001b[0m \u001b[0;34m\u001b[0m\u001b[0m\n\u001b[0;32m----> 3\u001b[0;31m \u001b[0msignal\u001b[0m \u001b[0;34m=\u001b[0m \u001b[0mnp\u001b[0m\u001b[0;34m.\u001b[0m\u001b[0mconcatenate\u001b[0m\u001b[0;34m(\u001b[0m\u001b[0;34m[\u001b[0m\u001b[0mdata1\u001b[0m\u001b[0;34m,\u001b[0m\u001b[0mdata2\u001b[0m\u001b[0;34m]\u001b[0m\u001b[0;34m)\u001b[0m\u001b[0;34m\u001b[0m\u001b[0;34m\u001b[0m\u001b[0m\n\u001b[0m\u001b[1;32m      4\u001b[0m \u001b[0msignal\u001b[0m\u001b[0;34m\u001b[0m\u001b[0;34m\u001b[0m\u001b[0m\n",
            "\u001b[0;32m/usr/local/lib/python3.9/dist-packages/numpy/core/overrides.py\u001b[0m in \u001b[0;36mconcatenate\u001b[0;34m(*args, **kwargs)\u001b[0m\n",
            "\u001b[0;31mValueError\u001b[0m: zero-dimensional arrays cannot be concatenated"
          ]
        }
      ]
    },
    {
      "cell_type": "code",
      "source": [
        "# import scipy.io\n",
        "# import numpy as np\n",
        "# mat8 = scipy.io.loadmat('/content/drive/MyDrive/Colab Notebooks/EEG Epilepsy Datasets/preictal/preictal10.mat')\n",
        "# data8 = np.array(mat8)\n",
        "# data8"
      ],
      "metadata": {
        "colab": {
          "base_uri": "https://localhost:8080/"
        },
        "outputId": "20a3b3b2-8ac8-4a28-cc38-46a294d313db",
        "id": "bNso3QPX6O2b"
      },
      "execution_count": 14,
      "outputs": [
        {
          "output_type": "execute_result",
          "data": {
            "text/plain": [
              "array({'__header__': b'MATLAB 5.0 MAT-file, Platform: PCWIN64, Created on: Sat Aug 06 14:03:32 2016', '__version__': '1.0', '__globals__': [], 'preictal': array([[-10],\n",
              "       [ -8],\n",
              "       [ -7],\n",
              "       ...,\n",
              "       [-27],\n",
              "       [-30],\n",
              "       [-30]], dtype=int16)}, dtype=object)"
            ]
          },
          "metadata": {},
          "execution_count": 14
        }
      ]
    },
    {
      "cell_type": "code",
      "source": [
        "# import scipy.io\n",
        "# import numpy as np\n",
        "# mat7 = scipy.io.loadmat('/content/drive/MyDrive/Colab Notebooks/EEG Epilepsy Datasets/preictal/preictal1.mat')\n",
        "# data7 = np.array(mat7)\n",
        "# data7"
      ],
      "metadata": {
        "colab": {
          "base_uri": "https://localhost:8080/"
        },
        "outputId": "4805a990-3007-4ee1-b8cd-e3f45a10b5df",
        "id": "DJtoETvn6OSk"
      },
      "execution_count": 13,
      "outputs": [
        {
          "output_type": "execute_result",
          "data": {
            "text/plain": [
              "array({'__header__': b'MATLAB 5.0 MAT-file, Platform: PCWIN64, Created on: Sat Aug 06 14:03:32 2016', '__version__': '1.0', '__globals__': [], 'preictal': array([[  9],\n",
              "       [  1],\n",
              "       [ -1],\n",
              "       ...,\n",
              "       [247],\n",
              "       [247],\n",
              "       [246]], dtype=int16)}, dtype=object)"
            ]
          },
          "metadata": {},
          "execution_count": 13
        }
      ]
    },
    {
      "cell_type": "code",
      "source": [],
      "metadata": {
        "id": "WV7QY2VI6PJ1"
      },
      "execution_count": null,
      "outputs": []
    },
    {
      "cell_type": "code",
      "source": [
        "# import scipy.io\n",
        "# import numpy as np\n",
        "# mat9 = scipy.io.loadmat('/content/drive/MyDrive/Colab Notebooks/EEG Epilepsy Datasets/preictal/preictal11.mat')\n",
        "# data9 = np.array(mat9)\n",
        "# data9"
      ],
      "metadata": {
        "colab": {
          "base_uri": "https://localhost:8080/"
        },
        "outputId": "17b778c5-bdaf-4178-c53a-03a452e4a7ff",
        "id": "ZFsiZAu96PV7"
      },
      "execution_count": 15,
      "outputs": [
        {
          "output_type": "execute_result",
          "data": {
            "text/plain": [
              "array({'__header__': b'MATLAB 5.0 MAT-file, Platform: PCWIN64, Created on: Sat Aug 06 14:03:32 2016', '__version__': '1.0', '__globals__': [], 'preictal': array([[  48],\n",
              "       [  51],\n",
              "       [  50],\n",
              "       ...,\n",
              "       [-152],\n",
              "       [-135],\n",
              "       [-117]], dtype=int16)}, dtype=object)"
            ]
          },
          "metadata": {},
          "execution_count": 15
        }
      ]
    },
    {
      "cell_type": "code",
      "source": [],
      "metadata": {
        "id": "iz_yXEB36Prs"
      },
      "execution_count": null,
      "outputs": []
    }
  ]
}