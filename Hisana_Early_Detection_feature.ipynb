{
  "nbformat": 4,
  "nbformat_minor": 0,
  "metadata": {
    "colab": {
      "provenance": [],
      "include_colab_link": true
    },
    "kernelspec": {
      "name": "python3",
      "display_name": "Python 3"
    },
    "language_info": {
      "name": "python"
    }
  },
  "cells": [
    {
      "cell_type": "markdown",
      "metadata": {
        "id": "view-in-github",
        "colab_type": "text"
      },
      "source": [
        "<a href=\"https://colab.research.google.com/github/mariatomy9/Major-Project/blob/hisana/Hisana_Early_Detection_feature.ipynb\" target=\"_parent\"><img src=\"https://colab.research.google.com/assets/colab-badge.svg\" alt=\"Open In Colab\"/></a>"
      ]
    },
    {
      "cell_type": "code",
      "source": [
        "from google.colab import drive\n",
        "drive.mount('/content/gdrive')"
      ],
      "metadata": {
        "id": "UyxteNJoUe3Q"
      },
      "execution_count": null,
      "outputs": []
    },
    {
      "cell_type": "code",
      "execution_count": 2,
      "metadata": {
        "id": "nmGYp9RYUaUW"
      },
      "outputs": [],
      "source": [
        "import glob\n",
        "import scipy.io\n",
        "import matplotlib.pyplot as plt\n",
        "import numpy as np \n"
      ]
    },
    {
      "cell_type": "code",
      "source": [
        "from scipy import stats\n",
        "def mean(data):\n",
        "    return np.mean(data,axis=-1)\n",
        "    \n",
        "def std(data):\n",
        "    return np.std(data,axis=-1)\n",
        "\n",
        "def ptp(data):\n",
        "    return np.ptp(data,axis=-1)\n",
        "\n",
        "def var(data):\n",
        "        return np.var(data,axis=-1)\n",
        "\n",
        "def minim(data):\n",
        "      return np.min(data,axis=-1)\n",
        "\n",
        "\n",
        "def maxim(data):\n",
        "      return np.max(data,axis=-1)\n",
        "\n",
        "def argminim(data):\n",
        "      return np.argmin(data,axis=-1)\n",
        "\n",
        "\n",
        "def argmaxim(data):\n",
        "      return np.argmax(data,axis=-1)\n",
        "\n",
        "def mean_square(data):\n",
        "      return np.mean(data**2,axis=-1)\n",
        "\n",
        "def rms(data): #root mean square\n",
        "      return  np.sqrt(np.mean(data**2,axis=-1))  \n",
        "\n",
        "def abs_diffs_signal(data):\n",
        "    return np.sum(np.abs(np.diff(data,axis=-1)),axis=-1)\n",
        "\n",
        "\n",
        "def skewness(data):\n",
        "    return stats.skew(data,axis=-1)\n",
        "\n",
        "def kurtosis(data):\n",
        "    return stats.kurtosis(data,axis=-1)\n",
        "\n"
      ],
      "metadata": {
        "id": "Kx-nxYyS0ZFK"
      },
      "execution_count": 3,
      "outputs": []
    },
    {
      "cell_type": "code",
      "source": [
        "# import glob\n",
        "# import scipy.io\n",
        "# import matplotlib.pyplot as plt\n",
        "# import numpy as np\n",
        "# import pandas as pd\n",
        "# df = pd.DataFrame(columns=['Mean','Std','Ptp','Var','Minim','Maxim','Argminim','Argmaxim','Mean_square','RMS','Abs_diffs_signal',\n",
        "#                            'Skewness','Kurtosis','Spectral_centroid','Spectral_rolloff','Spectral_contrast','Spectral_bandwidth','RMS','Spectral_flatness'])\n",
        "\n",
        "# mat = scipy.io.loadmat('/content/gdrive/MyDrive/Colab Notebooks/EEG Epilepsy Datasets/ictal/ictal13.mat')\n",
        "# s = mat['ictal']\n",
        "# s=s.flatten()\n",
        "# a=0\n",
        "# b=256\n",
        "# while b<=1024:\n",
        "#   o=[]\n",
        "#   for i in range(a,b):\n",
        "#     o.append(s[i])\n",
        "#   o1=np.array(o)\n",
        "#   convertedArray = o1.astype(np.float)\n",
        "#   df2={'Mean':mean(o1),'Std':std(o1),'Ptp':ptp(o1),'Var':var(o1),'Minim':minim(o1),'Maxim':maxim(o1),'Argminim':argminim(o1),'Argmaxim':argmaxim(o1),\n",
        "#     'Mean_square':mean_square(o1),'RMS':rms(o1),'Abs_diffs_signal':abs_diffs_signal(o1),'Skewness':skewness(o1),'Kurtosis':kurtosis(o1),'Spectral_centroid':librosa.feature.spectral_centroid(y=convertedArray)[0][0],\n",
        "#     'Spectral_rolloff':librosa.feature.spectral_rolloff(y=convertedArray)[0][0],'Spectral_contrast':librosa.feature.spectral_contrast(y=convertedArray)[0][0],\n",
        "#     'Spectral_bandwidth':librosa.feature.spectral_bandwidth(y=convertedArray)[0][0],'RMS':librosa.feature.rms(y=convertedArray)[0][0],'Spectral_flatness':librosa.feature.spectral_flatness(y=convertedArray)[0][0]}\n",
        "#   df.loc[len(df)] = df2\n",
        "#   # print(librosa.feature.spectral_centroid(y=convertedArray)[0][0])\n",
        "#   # print(librosa.feature.spectral_rolloff(y=convertedArray)[0][0])\n",
        "#   # print(librosa.feature.spectral_contrast(y=convertedArray)[0][0])\n",
        "#   # print(librosa.feature.spectral_bandwidth(y=convertedArray)[0][0])\n",
        "#   # print(librosa.feature.rms(y=convertedArray)[0][0])\n",
        "#   # print(librosa.feature.spectral_flatness(y=convertedArray)[0][0])\n",
        "#   a+=256\n",
        "#   b+=256"
      ],
      "metadata": {
        "id": "TgyLDiEnMsU4"
      },
      "execution_count": null,
      "outputs": []
    },
    {
      "cell_type": "markdown",
      "source": [
        "findinf the parameters of the signal"
      ],
      "metadata": {
        "id": "PceayoyicobS"
      }
    },
    {
      "cell_type": "code",
      "source": [
        "# import numpy.fft as fft\n",
        "# spectrum = fft.fft(s)\n",
        "# freq = fft.fftfreq(len(spectrum))\n",
        "# print(freq)"
      ],
      "metadata": {
        "id": "4q9_wrqIcvQW"
      },
      "execution_count": null,
      "outputs": []
    },
    {
      "cell_type": "markdown",
      "source": [
        "spectral features"
      ],
      "metadata": {
        "id": "J7HLJ_EDN6zi"
      }
    },
    {
      "cell_type": "code",
      "source": [
        "# import librosa\n",
        "# !pip install librosa"
      ],
      "metadata": {
        "id": "9fVmCV8-N6iT"
      },
      "execution_count": null,
      "outputs": []
    },
    {
      "cell_type": "code",
      "source": [
        "# convertedArray = s.astype(np.float)"
      ],
      "metadata": {
        "id": "3GQcSY7cRo9J"
      },
      "execution_count": null,
      "outputs": []
    },
    {
      "cell_type": "markdown",
      "source": [
        "spectral_centroid\n"
      ],
      "metadata": {
        "id": "3Pl2mACmdKis"
      }
    },
    {
      "cell_type": "code",
      "source": [
        "# librosa.feature.spectral_centroid(y=convertedArray, sr=5000, S=None, n_fft=255, freq=None, win_length=255, window='hann', center=True, pad_mode='constant')\n"
      ],
      "metadata": {
        "id": "2ttQj5jVOXS8"
      },
      "execution_count": null,
      "outputs": []
    },
    {
      "cell_type": "markdown",
      "source": [
        "spectral_rolloff\n"
      ],
      "metadata": {
        "id": "1tqxJQ1STCNk"
      }
    },
    {
      "cell_type": "code",
      "source": [
        "# librosa.feature.spectral_rolloff(y=convertedArray, sr=22050, S=None, n_fft=2048, hop_length=512, win_length=None, window='hann', center=True, pad_mode='constant', freq=None, roll_percent=0.85)"
      ],
      "metadata": {
        "id": "bjg1uQ5NS8Af"
      },
      "execution_count": null,
      "outputs": []
    },
    {
      "cell_type": "markdown",
      "source": [
        "\n",
        "spectral_contrast\n",
        "\n",
        "\n",
        "\n"
      ],
      "metadata": {
        "id": "TgkucPEITY6h"
      }
    },
    {
      "cell_type": "code",
      "source": [
        "# librosa.feature.spectral_contrast(y=convertedArray, sr=22050, S=None, n_fft=2048, hop_length=512, win_length=None, window='hann', center=True, pad_mode='constant', freq=None, fmin=200.0, n_bands=6, quantile=0.02, linear=False)"
      ],
      "metadata": {
        "id": "ff187_PWS8D-"
      },
      "execution_count": null,
      "outputs": []
    },
    {
      "cell_type": "markdown",
      "source": [
        "spectral_bandwidth"
      ],
      "metadata": {
        "id": "vSlW3eK9ULt4"
      }
    },
    {
      "cell_type": "code",
      "source": [
        "# librosa.feature.spectral_bandwidth(y=convertedArray, sr=22050, S=None, n_fft=2048, hop_length=512, win_length=None, window='hann', center=True, pad_mode='constant', freq=None, centroid=None, norm=True, p=2)"
      ],
      "metadata": {
        "id": "CKlN1SJ3TsRu"
      },
      "execution_count": null,
      "outputs": []
    },
    {
      "cell_type": "markdown",
      "source": [
        "RMS\n"
      ],
      "metadata": {
        "id": "FBSkRkCCU5sR"
      }
    },
    {
      "cell_type": "code",
      "source": [
        "# librosa.feature.rms(y=convertedArray, S=None, frame_length=2048, hop_length=512, center=True, pad_mode='constant')"
      ],
      "metadata": {
        "id": "ZI9QQXGYS8IH"
      },
      "execution_count": null,
      "outputs": []
    },
    {
      "cell_type": "markdown",
      "source": [
        "spectral_flatness"
      ],
      "metadata": {
        "id": "uTYVu_61U-QX"
      }
    },
    {
      "cell_type": "code",
      "source": [
        "# librosa.feature.spectral_flatness(y=convertedArray, S=None, n_fft=2048, hop_length=512, win_length=None, window='hann', center=True, pad_mode='constant', amin=1e-10, power=2.0)"
      ],
      "metadata": {
        "id": "_YXkGfsHUreJ"
      },
      "execution_count": null,
      "outputs": []
    },
    {
      "cell_type": "code",
      "source": [
        "# import pandas as pd \n",
        "  \n",
        "# df = pd.read_csv('/content/interictal8.csv') \n",
        "# df = df.drop(df.columns[0],axis=1)\n",
        "# # print(df)\n",
        "\n",
        "# b=df.iloc[:,0:].values\n",
        "# c = b.flatten()\n",
        "# df2={'Mean':mean(c),'Std':std(c),'Ptp':ptp(c),'Var':var(c),'Minim':minim(c),'Maxim':maxim(c),'Argminim':argminim(c),'Argmaxim':argmaxim(c),\n",
        "# 'Mean_square':mean_square(c),'RMS':rms(c),'Abs_diffs_signal':abs_diffs_signal(c),'Skewness':skewness(c),'Kurtosis':kurtosis(c)}\n",
        "# df.loc[len(df)] = df2\n",
        "\n",
        "    \n",
        "# df = df.append(df2, ignore_index = True)\n",
        "# df.to_csv('interictalfea8.csv')\n"
      ],
      "metadata": {
        "id": "_II6gLnCM74c"
      },
      "execution_count": null,
      "outputs": []
    },
    {
      "cell_type": "code",
      "source": [
        "# import pandas as pd \n",
        "  \n",
        "# df = pd.read_csv('/content/gdrive/MyDrive/Colab Notebooks/EEG Epilepsy Datasets/ictal/ictal13.mat') \n",
        "# df = df.drop(df.columns[0],axis=1)\n",
        "# # print(df)\n",
        "\n",
        "# b=df.iloc[:,0:].values\n",
        "# c = b.flatten()\n",
        "# df2={'Mean':mean(c),'Std':std(c),'Ptp':ptp(c),'Var':var(c),'Minim':minim(c),'Maxim':maxim(c),'Argminim':argminim(c),'Argmaxim':argmaxim(c),\n",
        "# 'Mean_square':mean_square(c),'RMS':rms(c),'Abs_diffs_signal':abs_diffs_signal(c),'Skewness':skewness(c),'Kurtosis':kurtosis(c)}\n",
        "# df.loc[len(df)] = df2\n",
        "\n",
        "    \n",
        "# df = df.append(df2, ignore_index = True)\n",
        "# df.to_csv('interictalfea1.csv')\n",
        "\n"
      ],
      "metadata": {
        "id": "bAdnRP3IJfpb"
      },
      "execution_count": null,
      "outputs": []
    },
    {
      "cell_type": "code",
      "source": [
        "# import glob\n",
        "# import scipy.io\n",
        "# import matplotlib.pyplot as plt\n",
        "# import numpy as np\n",
        "# import pandas as pd\n",
        "# df = pd.DataFrame(columns=['Mean','Std','Ptp','Var','Minim','Maxim','Argminim','Argmaxim','Mean_square','RMS','Abs_diffs_signal','Skewness','Kurtosis'])\n",
        "\n",
        "\n",
        "# mat = scipy.io.loadmat('/content/drive/MyDrive/MajorProject/EEG Epilepsy Datasets/ictal/ictal1.mat')\n",
        "# s = mat['ictal']\n",
        "# s=s.flatten()\n",
        "# o1=np.array(s)\n",
        "\n",
        "# df2={'Mean':mean(o1),'Std':std(o1),'Ptp':ptp(o1),'Var':var(o1),'Minim':minim(o1),'Maxim':maxim(o1),'Argminim':argminim(o1),'Argmaxim':argmaxim(o1),\n",
        "# 'Mean_square':mean_square(o1),'RMS':rms(o1),'Abs_diffs_signal':abs_diffs_signal(o1),'Skewness':skewness(o1),'Kurtosis':kurtosis(o1)}\n",
        "# df.loc[len(df)] = df2\n",
        "\n",
        "    \n",
        "#   #df = df.append(df2, ignore_index = True)\n",
        "# # df.to_csv('Ictal.csv')\n",
        "# df"
      ],
      "metadata": {
        "id": "XlkgcnDMsFuz"
      },
      "execution_count": null,
      "outputs": []
    },
    {
      "cell_type": "code",
      "source": [
        "# mat = scipy.io.loadmat('/content/drive/MyDrive/Colab Notebooks/EEG Epilepsy Datasets/interictal/interictal8.mat')\n",
        "# s = mat['ictal']\n",
        "# s=s.flatten()\n",
        "# o1=np.array(s)\n",
        "# o1.ndim"
      ],
      "metadata": {
        "id": "Gl4b7IEcIJTH"
      },
      "execution_count": null,
      "outputs": []
    },
    {
      "cell_type": "code",
      "source": [
        "# import pandas as pd\n",
        "# f2 = pd.DataFrame(p)\n",
        "# f2['Label']=0\n",
        "# f2"
      ],
      "metadata": {
        "id": "gue8gyGyqccu"
      },
      "execution_count": null,
      "outputs": []
    },
    {
      "cell_type": "code",
      "source": [
        "# import glob\n",
        "# import scipy.io\n",
        "# import matplotlib.pyplot as plt\n",
        "# import numpy as np \n",
        "# l=[]\n",
        "# p=[]\n",
        "# for name in glob.glob('/content/gdrive/MyDrive/MajorProject/Epilepsy Training Set/preictal/*'):\n",
        "#   print(name)\n",
        "#   #l.append(str(name))"
      ],
      "metadata": {
        "id": "V7RxwfmVxzlA"
      },
      "execution_count": null,
      "outputs": []
    },
    {
      "cell_type": "code",
      "source": [
        "# mat = scipy.io.loadmat('/content/gdrive/MyDrive/MajorProject/Epilepsy Training Set/preictal/preictal7.mat')\n",
        "# s = mat['preictal']\n",
        "# s=s.flatten()\n",
        "\n"
      ],
      "metadata": {
        "id": "lvQxrPnonfX3"
      },
      "execution_count": null,
      "outputs": []
    },
    {
      "cell_type": "code",
      "source": [
        "# import glob\n",
        "# import scipy.io\n",
        "# import matplotlib.pyplot as plt\n",
        "# import numpy as np\n",
        "# import pandas as pd\n",
        "# df = pd.DataFrame(columns=['Mean','Std','Ptp','Var','Minim','Maxim','Argminim','Argmaxim','Mean_square','RMS','Abs_diffs_signal','Skewness','Kurtosis'])\n",
        "\n",
        "# for name in glob.glob('/content/gdrive/MyDrive/MajorProject/Epilepsy Training Set/preictal/*'):\n",
        "#   mat = scipy.io.loadmat(str(name))\n",
        "#   a = mat['preictal']\n",
        "#   b=a.flatten()\n",
        "  \n",
        "#   df2={'Mean':mean(b),'Std':std(b),'Ptp':ptp(b),'Var':var(b),'Minim':minim(b),'Maxim':maxim(b),'Argminim':argminim(b),'Argmaxim':argmaxim(b),\n",
        "#      'Mean_square':mean_square(b),'RMS':rms(b),'Abs_diffs_signal':abs_diffs_signal(b),'Skewness':skewness(b),'Kurtosis':kurtosis(b)}\n",
        "#   df.loc[len(df)] = df2\n",
        "#   #df = df.append(df2, ignore_index = True)\n",
        "# df.to_csv('Ictal.csv')"
      ],
      "metadata": {
        "id": "TEetPN6bDns6"
      },
      "execution_count": null,
      "outputs": []
    },
    {
      "cell_type": "code",
      "source": [
        "# import glob\n",
        "# import scipy.io\n",
        "# import matplotlib.pyplot as plt\n",
        "# import numpy as np\n",
        "# import pandas as pd\n",
        "# df = pd.DataFrame(columns=['Mean','Std','Ptp','Var','Minim','Maxim','Argminim','Argmaxim','Mean_square','RMS','Abs_diffs_signal','Skewness','Kurtosis'])\n",
        "\n",
        "# for name in glob.glob('/content/gdrive/MyDrive/MajorProject/Epilepsy Training Set/preictal/*'):\n",
        "#   mat = scipy.io.loadmat(str(name))\n",
        "#   a = mat['preictal']\n",
        "#   b=a.flatten()\n",
        "  \n",
        "#   df2={'Mean':mean(b),'Std':std(b),'Ptp':ptp(b),'Var':var(b),'Minim':minim(b),'Maxim':maxim(b),'Argminim':argminim(b),'Argmaxim':argmaxim(b),\n",
        "#      'Mean_square':mean_square(b),'RMS':rms(b),'Abs_diffs_signal':abs_diffs_signal(b),'Skewness':skewness(b),'Kurtosis':kurtosis(b)}\n",
        "#   df.loc[len(df)] = df2\n",
        "#   #df = df.append(df2, ignore_index = True)\n",
        "# df.to_csv('Ictal.csv')"
      ],
      "metadata": {
        "id": "Pcu93LTUjNiQ"
      },
      "execution_count": null,
      "outputs": []
    },
    {
      "cell_type": "code",
      "source": [
        "import glob\n",
        "import scipy.io\n",
        "import matplotlib.pyplot as plt\n",
        "import numpy as np\n",
        "import pandas as pd\n",
        "df = pd.DataFrame(columns=['Mean','Std','Ptp','Var','Minim','Maxim','Argminim','Argmaxim','Mean_square','RMS','Abs_diffs_signal',\n",
        "                           'Skewness','Kurtosis','Spectral_centroid','Spectral_rolloff','Spectral_contrast','Spectral_bandwidth','Spectral_flatness'])\n",
        "\n",
        "\n",
        "for name in glob.glob('/content/gdrive/MyDrive/Colab Notebooks/EEG Epilepsy Datasets/interictal/*'):\n",
        "  mat = scipy.io.loadmat(str(name))\n",
        "  s = mat['interictal']\n",
        "  s=s.flatten()\n",
        "  a=0\n",
        "  b=256\n",
        "  while b<=1024:\n",
        "    o=[]\n",
        "    for i in range(a,b):\n",
        "      o.append(s[i])\n",
        "    o1=np.array(o)\n",
        "    convertedArray = o1.astype(np.float)\n",
        "    df2={'Mean':mean(o1),'Std':std(o1),'Ptp':ptp(o1),'Var':var(o1),'Minim':minim(o1),'Maxim':maxim(o1),'Argminim':argminim(o1),'Argmaxim':argmaxim(o1),\n",
        "      'Mean_square':mean_square(o1),'RMS':rms(o1),'Abs_diffs_signal':abs_diffs_signal(o1),'Skewness':skewness(o1),'Kurtosis':kurtosis(o1),'Spectral_centroid':librosa.feature.spectral_centroid(y=convertedArray)[0][0],\n",
        "      'Spectral_rolloff':librosa.feature.spectral_rolloff(y=convertedArray)[0][0],'Spectral_contrast':librosa.feature.spectral_contrast(y=convertedArray)[0][0],\n",
        "      'Spectral_bandwidth':librosa.feature.spectral_bandwidth(y=convertedArray)[0][0],'Spectral_flatness':librosa.feature.spectral_flatness(y=convertedArray)[0][0]}\n",
        "    df.loc[len(df)] = df2\n",
        "    a+=256\n",
        "    b+=256\n",
        "    \n",
        "  df = df.append(df2, ignore_index = True)\n",
        "df.to_csv('interictal.csv')"
      ],
      "metadata": {
        "id": "PxWYWRGO8xd4"
      },
      "execution_count": null,
      "outputs": []
    },
    {
      "cell_type": "code",
      "source": [
        "df"
      ],
      "metadata": {
        "id": "L0hRruuzAoCx"
      },
      "execution_count": null,
      "outputs": []
    },
    {
      "cell_type": "code",
      "source": [
        "# '''\n",
        "# Preictal 0\n",
        "# Interictal 1\n",
        "# Ictal 2\n",
        "# '''"
      ],
      "metadata": {
        "id": "flMJPouU4t_n"
      },
      "execution_count": null,
      "outputs": []
    },
    {
      "cell_type": "code",
      "source": [
        "tf0=pd.read_csv('/content/preictal.csv')\n",
        "tf0=tf0.drop(['Unnamed: 0'],axis=1)\n",
        "tf0.loc[:, \"Label\"] = [0 for i in range(250)]\n",
        "tf0\n",
        "tf0.to_csv('preictal1.csv')\n"
      ],
      "metadata": {
        "id": "wAIsiHCByHaf"
      },
      "execution_count": 98,
      "outputs": []
    },
    {
      "cell_type": "code",
      "source": [
        "tf1=pd.read_csv('/content/interictal.csv')\n",
        "tf1=tf1.drop(['Unnamed: 0'],axis=1)\n",
        "tf1.loc[:, \"Label\"] = [1 for i in range(250)]\n",
        "tf1\n",
        "tf1.to_csv('interictal1.csv')\n",
        "\n"
      ],
      "metadata": {
        "id": "Dd7xZ4fQyEMp"
      },
      "execution_count": 99,
      "outputs": []
    },
    {
      "cell_type": "code",
      "source": [
        "tf2=pd.read_csv('/content/ictal.csv')\n",
        "tf2=tf2.drop(['Unnamed: 0'],axis=1)\n",
        "tf2.loc[:, \"Label\"] = [2 for i in range(250)]\n",
        "tf2\n",
        "tf2.to_csv('ictal1.csv')\n"
      ],
      "metadata": {
        "id": "Iyqyw2tAvsuZ"
      },
      "execution_count": 100,
      "outputs": []
    },
    {
      "cell_type": "code",
      "source": [
        "df = pd.concat(\n",
        "    map(pd.read_csv, ['/content/preictal1.csv', '/content/interictal1.csv','/content/ictal1.csv']), ignore_index=True)\n",
        "df=df.drop(['Unnamed: 0'],axis=1)\n",
        "print(df)\n",
        "df.to_csv('final.csv')"
      ],
      "metadata": {
        "colab": {
          "base_uri": "https://localhost:8080/"
        },
        "id": "-HZUjNAZz2ZY",
        "outputId": "19e1dffe-fefa-4fce-ee28-c3dd9b0af2ee"
      },
      "execution_count": 102,
      "outputs": [
        {
          "output_type": "stream",
          "name": "stdout",
          "text": [
            "         Mean         Std    Ptp           Var  Minim  Maxim  Argminim  \\\n",
            "0   -1.117188   30.918649  205.0    955.962830 -121.0   84.0      31.0   \n",
            "1   -2.406250   22.070178  112.0    487.092773  -66.0   46.0     245.0   \n",
            "2    3.945312   33.440785  198.0   1118.286072 -103.0   95.0      83.0   \n",
            "3    0.664062   26.704774  128.0    713.144958  -57.0   71.0     246.0   \n",
            "4    0.664062   26.704774  128.0    713.144958  -57.0   71.0     246.0   \n",
            "..        ...         ...    ...           ...    ...    ...       ...   \n",
            "745 -2.425781  102.197851  403.0  10444.400742 -213.0  190.0       4.0   \n",
            "746  4.949219  113.265768  411.0  12829.134140 -215.0  196.0       1.0   \n",
            "747 -3.722656  101.584004  470.0  10319.309799 -174.0  296.0       3.0   \n",
            "748 -9.359375  118.904619  515.0  14138.308350 -284.0  231.0      22.0   \n",
            "749 -9.359375  118.904619  515.0  14138.308350 -284.0  231.0      22.0   \n",
            "\n",
            "     Argmaxim  Mean_square        RMS  Abs_diffs_signal  Skewness  Kurtosis  \\\n",
            "0         7.0   957.210938  30.938826            1881.0 -0.345049  1.763514   \n",
            "1        88.0   492.882812  22.200964            1274.0 -0.514944 -0.179837   \n",
            "2       112.0  1133.851562  33.672712            1401.0 -0.050045  0.887321   \n",
            "3       222.0   713.585938  26.713029            1592.0  0.222045 -0.201158   \n",
            "4       222.0   713.585938  26.713029            1592.0  0.222045 -0.201158   \n",
            "..        ...          ...        ...               ...       ...       ...   \n",
            "745     216.0  7890.285156  88.827277            3139.0 -0.202495 -1.162501   \n",
            "746     146.0  7477.628906  86.473284            3405.0 -0.304136 -1.044319   \n",
            "747     145.0  6493.167969  80.580196            5418.0  0.686529  0.147394   \n",
            "748      63.0  6801.906250  82.473670            4341.0 -0.108817 -0.651929   \n",
            "749      63.0  6801.906250  82.473670            4341.0 -0.108817 -0.651929   \n",
            "\n",
            "     Spectral_centroid  Spectral_rolloff  Spectral_contrast  \\\n",
            "0          1575.063347       2573.217773          15.524951   \n",
            "1          1624.958333       2874.682617          10.028234   \n",
            "2          1344.911019       2411.718750          13.670393   \n",
            "3          1451.368639       2325.585938           8.331032   \n",
            "4          1451.368639       2325.585938           8.331032   \n",
            "..                 ...               ...                ...   \n",
            "745        2084.440888       4888.037109           7.643031   \n",
            "746        1919.873060       4554.272461           7.559955   \n",
            "747        2078.160766       4209.741211           6.176712   \n",
            "748        1582.535646       2950.048828           6.814438   \n",
            "749        1582.535646       2950.048828           6.814438   \n",
            "\n",
            "     Spectral_bandwidth  Spectral_flatness  Label  \n",
            "0           1535.610519           0.008207      0  \n",
            "1           1816.848709           0.015849      0  \n",
            "2           1657.435035           0.007697      0  \n",
            "3           1568.018153           0.008689      0  \n",
            "4           1568.018153           0.008689      0  \n",
            "..                  ...                ...    ...  \n",
            "745         2629.396446           0.024053      2  \n",
            "746         2508.301818           0.016297      2  \n",
            "747         2386.732569           0.044132      2  \n",
            "748         2084.927050           0.012621      2  \n",
            "749         2084.927050           0.012621      2  \n",
            "\n",
            "[750 rows x 19 columns]\n"
          ]
        }
      ]
    }
  ]
}