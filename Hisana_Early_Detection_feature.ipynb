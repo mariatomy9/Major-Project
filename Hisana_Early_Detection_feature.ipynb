{
  "nbformat": 4,
  "nbformat_minor": 0,
  "metadata": {
    "colab": {
      "provenance": [],
      "include_colab_link": true
    },
    "kernelspec": {
      "name": "python3",
      "display_name": "Python 3"
    },
    "language_info": {
      "name": "python"
    }
  },
  "cells": [
    {
      "cell_type": "markdown",
      "metadata": {
        "id": "view-in-github",
        "colab_type": "text"
      },
      "source": [
        "<a href=\"https://colab.research.google.com/github/mariatomy9/Major-Project/blob/hisana/Hisana_Early_Detection_feature.ipynb\" target=\"_parent\"><img src=\"https://colab.research.google.com/assets/colab-badge.svg\" alt=\"Open In Colab\"/></a>"
      ]
    },
    {
      "cell_type": "code",
      "source": [
        "from google.colab import drive\n",
        "drive.mount('/content/gdrive')"
      ],
      "metadata": {
        "id": "UyxteNJoUe3Q"
      },
      "execution_count": null,
      "outputs": []
    },
    {
      "cell_type": "code",
      "execution_count": null,
      "metadata": {
        "id": "nmGYp9RYUaUW"
      },
      "outputs": [],
      "source": [
        "import glob\n",
        "import scipy.io\n",
        "import matplotlib.pyplot as plt\n",
        "import numpy as np \n"
      ]
    },
    {
      "cell_type": "code",
      "source": [
        "from scipy import stats\n",
        "def mean(data):\n",
        "    return np.mean(data,axis=-1)\n",
        "    \n",
        "def std(data):\n",
        "    return np.std(data,axis=-1)\n",
        "\n",
        "def ptp(data):\n",
        "    return np.ptp(data,axis=-1)\n",
        "\n",
        "def var(data):\n",
        "        return np.var(data,axis=-1)\n",
        "\n",
        "def minim(data):\n",
        "      return np.min(data,axis=-1)\n",
        "\n",
        "\n",
        "def maxim(data):\n",
        "      return np.max(data,axis=-1)\n",
        "\n",
        "def argminim(data):\n",
        "      return np.argmin(data,axis=-1)\n",
        "\n",
        "\n",
        "def argmaxim(data):\n",
        "      return np.argmax(data,axis=-1)\n",
        "\n",
        "def mean_square(data):\n",
        "      return np.mean(data**2,axis=-1)\n",
        "\n",
        "def rms(data): #root mean square\n",
        "      return  np.sqrt(np.mean(data**2,axis=-1))  \n",
        "\n",
        "def abs_diffs_signal(data):\n",
        "    return np.sum(np.abs(np.diff(data,axis=-1)),axis=-1)\n",
        "\n",
        "\n",
        "def skewness(data):\n",
        "    return stats.skew(data,axis=-1)\n",
        "\n",
        "def kurtosis(data):\n",
        "    return stats.kurtosis(data,axis=-1)\n",
        "\n"
      ],
      "metadata": {
        "id": "Kx-nxYyS0ZFK"
      },
      "execution_count": null,
      "outputs": []
    },
    {
      "cell_type": "code",
      "source": [
        "import pandas as pd \n",
        "  \n",
        "df = pd.read_csv('/content/gdrive/MyDrive/Colab Notebooks/Early_prediction/csv/one.csv') \n",
        "df = df.drop(df.columns[0],axis=1)\n",
        "# print(df)\n",
        "\n",
        "b=df.iloc[:,0:].values\n",
        "c = b.flatten()\n",
        "df2={'Mean':mean(c),'Std':std(c),'Ptp':ptp(c),'Var':var(c),'Minim':minim(c),'Maxim':maxim(c),'Argminim':argminim(c),'Argmaxim':argmaxim(c),\n",
        "'Mean_square':mean_square(c),'RMS':rms(c),'Abs_diffs_signal':abs_diffs_signal(c),'Skewness':skewness(c),'Kurtosis':kurtosis(c)}\n",
        "df.loc[len(df)] = df2\n",
        "\n",
        "    \n",
        "df = df.append(df2, ignore_index = True)\n",
        "df.to_csv('testpre.csv')\n",
        "\n"
      ],
      "metadata": {
        "colab": {
          "base_uri": "https://localhost:8080/"
        },
        "id": "bAdnRP3IJfpb",
        "outputId": "a69d0054-ba21-4213-ab2b-699976227330"
      },
      "execution_count": null,
      "outputs": [
        {
          "output_type": "stream",
          "name": "stderr",
          "text": [
            "<ipython-input-34-feb8e05093be>:14: FutureWarning: The frame.append method is deprecated and will be removed from pandas in a future version. Use pandas.concat instead.\n",
            "  df = df.append(df2, ignore_index = True)\n"
          ]
        }
      ]
    },
    {
      "cell_type": "code",
      "source": [
        "# import glob\n",
        "# import scipy.io\n",
        "# import matplotlib.pyplot as plt\n",
        "# import numpy as np\n",
        "# import pandas as pd\n",
        "# df = pd.DataFrame(columns=['Mean','Std','Ptp','Var','Minim','Maxim','Argminim','Argmaxim','Mean_square','RMS','Abs_diffs_signal','Skewness','Kurtosis'])\n",
        "\n",
        "\n",
        "# mat = scipy.io.loadmat('/content/drive/MyDrive/MajorProject/EEG Epilepsy Datasets/ictal/ictal1.mat')\n",
        "# s = mat['ictal']\n",
        "# s=s.flatten()\n",
        "# o1=np.array(s)\n",
        "\n",
        "# df2={'Mean':mean(o1),'Std':std(o1),'Ptp':ptp(o1),'Var':var(o1),'Minim':minim(o1),'Maxim':maxim(o1),'Argminim':argminim(o1),'Argmaxim':argmaxim(o1),\n",
        "# 'Mean_square':mean_square(o1),'RMS':rms(o1),'Abs_diffs_signal':abs_diffs_signal(o1),'Skewness':skewness(o1),'Kurtosis':kurtosis(o1)}\n",
        "# df.loc[len(df)] = df2\n",
        "\n",
        "    \n",
        "#   #df = df.append(df2, ignore_index = True)\n",
        "# # df.to_csv('Ictal.csv')\n",
        "# df"
      ],
      "metadata": {
        "id": "XlkgcnDMsFuz"
      },
      "execution_count": null,
      "outputs": []
    },
    {
      "cell_type": "code",
      "source": [
        "mat = scipy.io.loadmat('/content/gdrive/MyDrive/Colab Notebooks/EEG Epilepsy Datasets/ictal/ictal1.mat')\n",
        "s = mat['ictal']\n",
        "s=s.flatten()\n",
        "o1=np.array(s)\n",
        "o1.ndim"
      ],
      "metadata": {
        "colab": {
          "base_uri": "https://localhost:8080/"
        },
        "id": "Gl4b7IEcIJTH",
        "outputId": "b9d7dc2e-c3ab-4600-dbfd-4a2d383e88b0"
      },
      "execution_count": null,
      "outputs": [
        {
          "output_type": "execute_result",
          "data": {
            "text/plain": [
              "1"
            ]
          },
          "metadata": {},
          "execution_count": 14
        }
      ]
    },
    {
      "cell_type": "code",
      "source": [
        "# import pandas as pd\n",
        "# f2 = pd.DataFrame(p)\n",
        "# f2['Label']=0\n",
        "# f2"
      ],
      "metadata": {
        "id": "gue8gyGyqccu"
      },
      "execution_count": null,
      "outputs": []
    },
    {
      "cell_type": "code",
      "source": [
        "# import glob\n",
        "# import scipy.io\n",
        "# import matplotlib.pyplot as plt\n",
        "# import numpy as np \n",
        "# l=[]\n",
        "# p=[]\n",
        "# for name in glob.glob('/content/gdrive/MyDrive/MajorProject/Epilepsy Training Set/preictal/*'):\n",
        "#   print(name)\n",
        "#   #l.append(str(name))"
      ],
      "metadata": {
        "id": "V7RxwfmVxzlA"
      },
      "execution_count": null,
      "outputs": []
    },
    {
      "cell_type": "code",
      "source": [
        "# mat = scipy.io.loadmat('/content/gdrive/MyDrive/MajorProject/Epilepsy Training Set/preictal/preictal7.mat')\n",
        "# s = mat['preictal']\n",
        "# s=s.flatten()\n",
        "\n"
      ],
      "metadata": {
        "id": "lvQxrPnonfX3"
      },
      "execution_count": null,
      "outputs": []
    },
    {
      "cell_type": "code",
      "source": [
        "# import glob\n",
        "# import scipy.io\n",
        "# import matplotlib.pyplot as plt\n",
        "# import numpy as np\n",
        "# import pandas as pd\n",
        "# df = pd.DataFrame(columns=['Mean','Std','Ptp','Var','Minim','Maxim','Argminim','Argmaxim','Mean_square','RMS','Abs_diffs_signal','Skewness','Kurtosis'])\n",
        "\n",
        "# for name in glob.glob('/content/gdrive/MyDrive/MajorProject/Epilepsy Training Set/preictal/*'):\n",
        "#   mat = scipy.io.loadmat(str(name))\n",
        "#   a = mat['preictal']\n",
        "#   b=a.flatten()\n",
        "  \n",
        "#   df2={'Mean':mean(b),'Std':std(b),'Ptp':ptp(b),'Var':var(b),'Minim':minim(b),'Maxim':maxim(b),'Argminim':argminim(b),'Argmaxim':argmaxim(b),\n",
        "#      'Mean_square':mean_square(b),'RMS':rms(b),'Abs_diffs_signal':abs_diffs_signal(b),'Skewness':skewness(b),'Kurtosis':kurtosis(b)}\n",
        "#   df.loc[len(df)] = df2\n",
        "#   #df = df.append(df2, ignore_index = True)\n",
        "# df.to_csv('Ictal.csv')"
      ],
      "metadata": {
        "id": "TEetPN6bDns6"
      },
      "execution_count": null,
      "outputs": []
    },
    {
      "cell_type": "code",
      "source": [
        "# import glob\n",
        "# import scipy.io\n",
        "# import matplotlib.pyplot as plt\n",
        "# import numpy as np\n",
        "# import pandas as pd\n",
        "# df = pd.DataFrame(columns=['Mean','Std','Ptp','Var','Minim','Maxim','Argminim','Argmaxim','Mean_square','RMS','Abs_diffs_signal','Skewness','Kurtosis'])\n",
        "\n",
        "# for name in glob.glob('/content/gdrive/MyDrive/MajorProject/Epilepsy Training Set/preictal/*'):\n",
        "#   mat = scipy.io.loadmat(str(name))\n",
        "#   a = mat['preictal']\n",
        "#   b=a.flatten()\n",
        "  \n",
        "#   df2={'Mean':mean(b),'Std':std(b),'Ptp':ptp(b),'Var':var(b),'Minim':minim(b),'Maxim':maxim(b),'Argminim':argminim(b),'Argmaxim':argmaxim(b),\n",
        "#      'Mean_square':mean_square(b),'RMS':rms(b),'Abs_diffs_signal':abs_diffs_signal(b),'Skewness':skewness(b),'Kurtosis':kurtosis(b)}\n",
        "#   df.loc[len(df)] = df2\n",
        "#   #df = df.append(df2, ignore_index = True)\n",
        "# df.to_csv('Ictal.csv')"
      ],
      "metadata": {
        "id": "Pcu93LTUjNiQ"
      },
      "execution_count": null,
      "outputs": []
    },
    {
      "cell_type": "code",
      "source": [
        "# import glob\n",
        "# import scipy.io\n",
        "# import matplotlib.pyplot as plt\n",
        "# import numpy as np\n",
        "# import pandas as pd\n",
        "# df = pd.DataFrame(columns=['Mean','Std','Ptp','Var','Minim','Maxim','Argminim','Argmaxim','Mean_square','RMS','Abs_diffs_signal','Skewness','Kurtosis'])\n",
        "\n",
        "# for name in glob.glob('/content/gdrive/MyDrive/MajorProject/Epilepsy Training Set/ictal/*'):\n",
        "#   mat = scipy.io.loadmat(str(name))\n",
        "#   s = mat['ictal']\n",
        "#   s=s.flatten()\n",
        "#   a=0\n",
        "#   b=256\n",
        "#   while b<=1024:\n",
        "#     o=[]\n",
        "#     for i in range(a,b):\n",
        "#       o.append(s[i])\n",
        "#     o1=np.array(o)\n",
        "#     df2={'Mean':mean(o1),'Std':std(o1),'Ptp':ptp(o1),'Var':var(o1),'Minim':minim(o1),'Maxim':maxim(o1),'Argminim':argminim(o1),'Argmaxim':argmaxim(o1),\n",
        "#       'Mean_square':mean_square(o1),'RMS':rms(o1),'Abs_diffs_signal':abs_diffs_signal(o1),'Skewness':skewness(o1),'Kurtosis':kurtosis(o1)}\n",
        "#     df.loc[len(df)] = df2\n",
        "#     a+=256\n",
        "#     b+=256\n",
        "    \n",
        "#   #df = df.append(df2, ignore_index = True)\n",
        "# df.to_csv('Ictal.csv')"
      ],
      "metadata": {
        "id": "PxWYWRGO8xd4"
      },
      "execution_count": null,
      "outputs": []
    },
    {
      "cell_type": "code",
      "source": [
        "# df"
      ],
      "metadata": {
        "id": "L0hRruuzAoCx"
      },
      "execution_count": null,
      "outputs": []
    },
    {
      "cell_type": "code",
      "source": [
        "# '''\n",
        "# Preictal 0\n",
        "# Interictal 1\n",
        "# Ictal 2\n",
        "# '''"
      ],
      "metadata": {
        "id": "flMJPouU4t_n"
      },
      "execution_count": null,
      "outputs": []
    },
    {
      "cell_type": "code",
      "source": [
        "# tf2=pd.read_csv('Ictal.csv')\n",
        "# tf2=tf2.drop(['Unnamed: 0'],axis=1)\n",
        "# tf2.loc[:, \"Label\"] = [2 for i in range(140)]\n",
        "# tf2\n"
      ],
      "metadata": {
        "id": "Iyqyw2tAvsuZ"
      },
      "execution_count": null,
      "outputs": []
    }
  ]
}