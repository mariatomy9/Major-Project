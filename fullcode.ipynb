{
  "cells": [
    {
      "cell_type": "markdown",
      "metadata": {
        "id": "view-in-github",
        "colab_type": "text"
      },
      "source": [
        "<a href=\"https://colab.research.google.com/github/mariatomy9/Major-Project/blob/hisana/fullcode.ipynb\" target=\"_parent\"><img src=\"https://colab.research.google.com/assets/colab-badge.svg\" alt=\"Open In Colab\"/></a>"
      ]
    },
    {
      "cell_type": "code",
      "source": [
        "from google.colab import drive\n",
        "drive.mount('/content/drive')"
      ],
      "metadata": {
        "colab": {
          "base_uri": "https://localhost:8080/"
        },
        "id": "zqfKYGM-3EIC",
        "outputId": "410db12d-d917-48f7-de24-79b54b3f7338"
      },
      "execution_count": 16,
      "outputs": [
        {
          "output_type": "stream",
          "name": "stdout",
          "text": [
            "Mounted at /content/drive\n"
          ]
        }
      ]
    },
    {
      "cell_type": "code",
      "execution_count": 81,
      "metadata": {
        "id": "g51PyEd_Gwo4",
        "colab": {
          "base_uri": "https://localhost:8080/"
        },
        "outputId": "94fb9913-51d5-4bce-ba7a-6b98ab7bee33"
      },
      "outputs": [
        {
          "output_type": "stream",
          "name": "stdout",
          "text": [
            "Looking in indexes: https://pypi.org/simple, https://us-python.pkg.dev/colab-wheels/public/simple/\n",
            "Requirement already satisfied: pyngrok in /usr/local/lib/python3.9/dist-packages (5.2.2)\n",
            "Requirement already satisfied: PyYAML in /usr/local/lib/python3.9/dist-packages (from pyngrok) (6.0)\n"
          ]
        }
      ],
      "source": [
        "!pip install eeglib\n",
        "!pip install mne\n",
        "!pip install pyEDFlib\n",
        "!pip install EDFlib-Python\n",
        "import pandas as pd\n",
        "import eeglib\n",
        "from eeglib.helpers import EDFHelper\n",
        "import mne\n",
        "import pickle\n",
        "! pip install streamlit -q\n",
        "! pip install streamlit_option_menu\n",
        "! pip install --upgrade streamlit\n",
        "! pip install pyngrok\n",
        "from pyngrok import ngrok\n"
      ]
    },
    {
      "cell_type": "code",
      "source": [
        "\n",
        "%%writefile app.py\n",
        "\n",
        "# -*- coding: utf-8 -*-\n",
        "\n",
        "import pickle\n",
        "import streamlit as st\n",
        "\n",
        "from streamlit_option_menu import option_menu\n",
        "\n",
        "\n",
        "\n",
        "# loading the saved models\n",
        "\n",
        "# epilepsy_model = pickle.load(open('/content/epilepsy_model.sav', 'rb'))\n",
        "\n",
        "\n",
        "\n",
        "# sidebar for navigation\n",
        "with st.sidebar:\n",
        "    \n",
        "    selected = option_menu('Multiple Disease Prediction System',\n",
        "                          \n",
        "                          ['Epilepsy Classification',\n",
        "                            'Disease Classification',\n",
        "                           'Early Detection',],\n",
        "                          icons=['activity','heart','person'],\n",
        "                          default_index=0)\n",
        "    \n",
        "    \n",
        "# Diabetes Prediction Page\n",
        "if (selected == 'Diabetes Prediction'):\n",
        "    \n",
        "    # page title\n",
        "    st.title('Diabetes Prediction using ML')\n",
        "    \n",
        "    \n",
        "    # getting the input data from the user\n",
        "    col1, col2, col3 = st.columns(3)\n",
        "    \n",
        "    with col1:\n",
        "        Pregnancies = st.text_input('Number of Pregnancies')\n",
        "        \n",
        "    with col2:\n",
        "        Glucose = st.text_input('Glucose Level')\n",
        "    \n",
        "    with col3:\n",
        "        BloodPressure = st.text_input('Blood Pressure value')\n",
        "    \n",
        "    with col1:\n",
        "        SkinThickness = st.text_input('Skin Thickness value')\n",
        "    \n",
        "    with col2:\n",
        "        Insulin = st.text_input('Insulin Level')\n",
        "    \n",
        "    with col3:\n",
        "        BMI = st.text_input('BMI value')\n",
        "    \n",
        "    with col1:\n",
        "        DiabetesPedigreeFunction = st.text_input('Diabetes Pedigree Function value')\n",
        "    \n",
        "    with col2:\n",
        "        Age = st.text_input('Age of the Person')\n",
        "    \n",
        "    \n",
        "    # code for Prediction\n",
        "    diab_diagnosis = ''\n",
        "    \n",
        "    # creating a button for Prediction\n",
        "    \n",
        "    if st.button('Diabetes Test Result'):\n",
        "        diab_prediction = diabetes_model.predict([[Pregnancies, Glucose, BloodPressure, SkinThickness, Insulin, BMI, DiabetesPedigreeFunction, Age]])\n",
        "        \n",
        "        if (diab_prediction[0] == 1):\n",
        "          diab_diagnosis = 'The person is diabetic'\n",
        "        else:\n",
        "          diab_diagnosis = 'The person is not diabetic'\n",
        "        \n",
        "    st.success(diab_diagnosis)\n",
        "\n",
        "\n",
        "\n",
        "\n",
        "# Heart Disease Prediction Page\n",
        "if (selected == 'Heart Disease Prediction'):\n",
        "    \n",
        "    # page title\n",
        "    st.title('Heart Disease Prediction using ML')\n",
        "    \n",
        "    col1, col2, col3 = st.columns(3)\n",
        "    \n",
        "    with col1:\n",
        "        age = st.text_input('Age')\n",
        "        \n",
        "    with col2:\n",
        "        sex = st.text_input('Sex')\n",
        "        \n",
        "    with col3:\n",
        "        cp = st.text_input('Chest Pain types')\n",
        "        \n",
        "    with col1:\n",
        "        trestbps = st.text_input('Resting Blood Pressure')\n",
        "        \n",
        "    with col2:\n",
        "        chol = st.text_input('Serum Cholestoral in mg/dl')\n",
        "        \n",
        "    with col3:\n",
        "        fbs = st.text_input('Fasting Blood Sugar > 120 mg/dl')\n",
        "        \n",
        "    with col1:\n",
        "        restecg = st.text_input('Resting Electrocardiographic results')\n",
        "        \n",
        "    with col2:\n",
        "        thalach = st.text_input('Maximum Heart Rate achieved')\n",
        "        \n",
        "    with col3:\n",
        "        exang = st.text_input('Exercise Induced Angina')\n",
        "        \n",
        "    with col1:\n",
        "        oldpeak = st.text_input('ST depression induced by exercise')\n",
        "        \n",
        "    with col2:\n",
        "        slope = st.text_input('Slope of the peak exercise ST segment')\n",
        "        \n",
        "    with col3:\n",
        "        ca = st.text_input('Major vessels colored by flourosopy')\n",
        "        \n",
        "    with col1:\n",
        "        thal = st.text_input('thal: 0 = normal; 1 = fixed defect; 2 = reversable defect')\n",
        "        \n",
        "        \n",
        "     \n",
        "     \n",
        "    # code for Prediction\n",
        "    heart_diagnosis = ''\n",
        "    \n",
        "    # creating a button for Prediction\n",
        "    \n",
        "    if st.button('Heart Disease Test Result'):\n",
        "        heart_prediction = heart_disease_model.predict([[age, sex, cp, trestbps, chol, fbs, restecg,thalach,exang,oldpeak,slope,ca,thal]])                          \n",
        "        \n",
        "        if (heart_prediction[0] == 1):\n",
        "          heart_diagnosis = 'The person is having heart disease'\n",
        "        else:\n",
        "          heart_diagnosis = 'The person does not have any heart disease'\n",
        "        \n",
        "    st.success(heart_diagnosis)\n",
        "        \n",
        "    \n",
        "\n",
        "# Epilepsy Classification\n",
        "if (selected == \"Epilepsy Classification\"):\n",
        "    \n",
        "    # page title\n",
        "    st.title(\"Epilepsy Classification using Deep Learning\")\n",
        "\n",
        "    Patient_id =st.text_input(\"Enter your Patient Id\")\n",
        "    gender = st.selectbox(\"Enter your gender\",[\"Male\", \"Female\"])\n",
        "    col1, col2, col3 = st.columns(3)\n",
        "    # getting user inputgender = col1.selectbox(\"Enter your gender\",[\"Male\", \"Female\"])\n",
        "\n",
        "\n",
        "    age = col2.number_input(\"Enter your age\")\n",
        "    \n",
        "    stroke = col1.selectbox(\"Have you ever experienced a seizure?\",[\"Yes\",\"No\"])\n",
        "    clinical_History = st.text_input(\"Past Clinical Records\")\n",
        "    uploaded_file = st.file_uploader(\"Upload the eeg (EDF FILE)\")\n",
        "    if st.button('predict'):\n",
        "        if Patient_id == \"\" :                                                                                                                                                                                                 \n",
        "          st.write(\"fill the Patient_id\") \n",
        "        elif gender == \"\" :\n",
        "          st.write(\"fill the gender field\")\n",
        "        elif age == \"\" :\n",
        "          st.write(\"fill the age field\")\n",
        "        elif stroke == \"\" :\n",
        "          st.write(\"fill all the questions\")  \n",
        "        elif uploaded_file is not None :\n",
        "          st.write(\"Processing Please Wait\")\n",
        "          dataframe = pd.read_csv(uploaded_file)\n",
        "          st.write(dataframe) \n",
        "        else :\n",
        "          st.write(\"Upload the File\")    \n",
        "\n",
        "    st.sidebar.markdown(\" You are in Types of Epilepsy Page\")\n",
        "    \n",
        "\n",
        "\n",
        "\n",
        "\n",
        "\n"
      ],
      "metadata": {
        "colab": {
          "base_uri": "https://localhost:8080/"
        },
        "id": "ncU_OMyq_I6c",
        "outputId": "b4f8f9c4-a683-41a4-b7f2-da02bb821f1d"
      },
      "execution_count": 84,
      "outputs": [
        {
          "output_type": "stream",
          "name": "stdout",
          "text": [
            "Overwriting app.py\n"
          ]
        }
      ]
    },
    {
      "cell_type": "code",
      "execution_count": null,
      "metadata": {
        "id": "PjGfpLbRG41v"
      },
      "outputs": [],
      "source": [
        "s1= mne.io.read_raw_edf('/content/drive/MyDrive/Colab Notebooks/ADERSH BALU/EDF/ADERSHBALU~ AD_646ad5ed-cfc7-45a0-b2ac-274a1cc8cf29.edf',include=['C3', 'C4', 'Cz',\n",
        " 'F3','F4','F7','F8','Fz','Fp1','Fp2','A1','A2','O1','O2','P3','P4','T5','T6','Pz','T3','T4','ECG-LA','ECG-RA'])\n",
        "s2 = mne.export.export_raw('/content/ADERSHBALU.edf',s1,overwrite=True)\n",
        "helper= EDFHelper(\"/content/ADERSHBALU.edf\",lowpass=70, highpass=1, normalize=True, ICA=True)\n",
        "wrapper=eeglib.wrapper.Wrapper(helper)\n",
        "wrapper.addFeature.PFD()\n",
        "wrapper.addFeature.DTW((0,1))\n",
        "wrapper.addFeature.hjorthActivity()\n",
        "data=wrapper.getAllFeatures()\n",
        "data.insert(47, \"Label\", 6, True)\n",
        "data.to_csv('ABHIJITH_generalised.csv')\n"
      ]
    },
    {
      "cell_type": "code",
      "source": [
        "ngrok.set_auth_token(\"2NIDTxy1uMwuzJWvR1EGoqb0SVl_5sWYAAfFBc8WXJm5C8gD1\") \n",
        "ngrok.kill()\n",
        "!nohup streamlit run app.py --server.port 80 &\n",
        "url = ngrok.connect(port = '80')\n",
        "print(url)\n",
        "tunnels = ngrok.get_tunnels()\n",
        "tunnels"
      ],
      "metadata": {
        "colab": {
          "base_uri": "https://localhost:8080/"
        },
        "id": "Jzv4dF42_gjH",
        "outputId": "f0ce85ab-c11e-47d8-8be3-c43758ad17b2"
      },
      "execution_count": 85,
      "outputs": [
        {
          "output_type": "stream",
          "name": "stdout",
          "text": [
            "nohup: appending output to 'nohup.out'\n",
            "NgrokTunnel: \"http://2a05-104-154-163-30.ngrok-free.app\" -> \"http://localhost:80\"\n"
          ]
        },
        {
          "output_type": "execute_result",
          "data": {
            "text/plain": [
              "[<NgrokTunnel: \"http://2a05-104-154-163-30.ngrok-free.app\" -> \"http://localhost:80\">,\n",
              " <NgrokTunnel: \"https://2a05-104-154-163-30.ngrok-free.app\" -> \"http://localhost:80\">]"
            ]
          },
          "metadata": {},
          "execution_count": 85
        }
      ]
    }
  ],
  "metadata": {
    "colab": {
      "provenance": [],
      "include_colab_link": true
    },
    "kernelspec": {
      "display_name": "Python 3",
      "name": "python3"
    },
    "language_info": {
      "name": "python"
    }
  },
  "nbformat": 4,
  "nbformat_minor": 0
}