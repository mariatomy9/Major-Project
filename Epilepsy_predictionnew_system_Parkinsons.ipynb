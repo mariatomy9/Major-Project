{
  "nbformat": 4,
  "nbformat_minor": 0,
  "metadata": {
    "colab": {
      "provenance": [],
      "include_colab_link": true
    },
    "kernelspec": {
      "name": "python3",
      "display_name": "Python 3"
    },
    "language_info": {
      "name": "python"
    }
  },
  "cells": [
    {
      "cell_type": "markdown",
      "metadata": {
        "id": "view-in-github",
        "colab_type": "text"
      },
      "source": [
        "<a href=\"https://colab.research.google.com/github/mariatomy9/Major-Project/blob/lena/Epilepsy_predictionnew_system_Parkinsons.ipynb\" target=\"_parent\"><img src=\"https://colab.research.google.com/assets/colab-badge.svg\" alt=\"Open In Colab\"/></a>"
      ]
    },
    {
      "cell_type": "markdown",
      "metadata": {
        "id": "9B5Zl1UOBMAJ"
      },
      "source": [
        "Importing the Dependencies"
      ]
    },
    {
      "cell_type": "code",
      "metadata": {
        "id": "YOCpZ1Vm6cfW"
      },
      "source": [
        "import numpy as np\n",
        "import pandas as pd\n",
        "from sklearn.model_selection import train_test_split\n",
        "from sklearn import svm\n",
        "from sklearn.metrics import accuracy_score"
      ],
      "execution_count": null,
      "outputs": []
    },
    {
      "cell_type": "code",
      "source": [
        "from google.colab import drive\n",
        "drive.mount('/content/drive')"
      ],
      "metadata": {
        "id": "vpmXT1wp0Qjz",
        "colab": {
          "base_uri": "https://localhost:8080/"
        },
        "outputId": "e74da998-742a-4816-fc22-ca676a0d023d"
      },
      "execution_count": null,
      "outputs": [
        {
          "output_type": "stream",
          "name": "stdout",
          "text": [
            "Mounted at /content/drive\n"
          ]
        }
      ]
    },
    {
      "cell_type": "markdown",
      "metadata": {
        "id": "PZm-USrtB_q4"
      },
      "source": [
        "Data Collection & Analysis"
      ]
    },
    {
      "cell_type": "code",
      "metadata": {
        "id": "5YC2lGuVBiZA"
      },
      "source": [
        "# loading the data from csv file to a Pandas DataFrame\n",
        "epilepsy_data = pd.read_csv('/content/drive/MyDrive/Colab Notebooks/dataset_epil.csv')"
      ],
      "execution_count": null,
      "outputs": []
    },
    {
      "cell_type": "code",
      "metadata": {
        "id": "Iw8z6w60Djd2"
      },
      "source": [
        "# printing the first 5 rows of the dataframe\n",
        "epilepsy_data.head()"
      ],
      "execution_count": null,
      "outputs": []
    },
    {
      "cell_type": "code",
      "metadata": {
        "id": "cK7L_o2TDuZb",
        "colab": {
          "base_uri": "https://localhost:8080/"
        },
        "outputId": "b55ae319-8c82-4de0-feee-2b8313c20ab3"
      },
      "source": [
        "# number of rows and columns in the dataframe\n",
        "epilepsy_data.shape"
      ],
      "execution_count": null,
      "outputs": [
        {
          "output_type": "execute_result",
          "data": {
            "text/plain": [
              "(12699, 49)"
            ]
          },
          "metadata": {},
          "execution_count": 5
        }
      ]
    },
    {
      "cell_type": "code",
      "metadata": {
        "id": "NLmzHIgnEGi4",
        "colab": {
          "base_uri": "https://localhost:8080/"
        },
        "outputId": "63203019-bf5d-43c5-dfc0-3e957a967f04"
      },
      "source": [
        "# getting more information about the dataset\n",
        "epilepsy_data.info()"
      ],
      "execution_count": null,
      "outputs": [
        {
          "output_type": "stream",
          "name": "stdout",
          "text": [
            "<class 'pandas.core.frame.DataFrame'>\n",
            "RangeIndex: 12699 entries, 0 to 12698\n",
            "Data columns (total 49 columns):\n",
            " #   Column                 Non-Null Count  Dtype  \n",
            "---  ------                 --------------  -----  \n",
            " 0   Unnamed: 0             12699 non-null  int64  \n",
            " 1   PFD(){}_0              12699 non-null  float64\n",
            " 2   PFD(){}_1              12699 non-null  float64\n",
            " 3   PFD(){}_2              12699 non-null  float64\n",
            " 4   PFD(){}_3              12699 non-null  float64\n",
            " 5   PFD(){}_4              12699 non-null  float64\n",
            " 6   PFD(){}_5              12699 non-null  float64\n",
            " 7   PFD(){}_6              12699 non-null  float64\n",
            " 8   PFD(){}_7              12699 non-null  float64\n",
            " 9   PFD(){}_8              12699 non-null  float64\n",
            " 10  PFD(){}_9              12699 non-null  float64\n",
            " 11  PFD(){}_10             12699 non-null  float64\n",
            " 12  PFD(){}_11             12699 non-null  float64\n",
            " 13  PFD(){}_12             12699 non-null  float64\n",
            " 14  PFD(){}_13             12699 non-null  float64\n",
            " 15  PFD(){}_14             12699 non-null  float64\n",
            " 16  PFD(){}_15             12699 non-null  float64\n",
            " 17  PFD(){}_16             12699 non-null  float64\n",
            " 18  PFD(){}_17             12699 non-null  float64\n",
            " 19  PFD(){}_18             12699 non-null  float64\n",
            " 20  PFD(){}_19             12699 non-null  float64\n",
            " 21  PFD(){}_20             12699 non-null  float64\n",
            " 22  PFD(){}_21             12699 non-null  float64\n",
            " 23  PFD(){}_22             12699 non-null  float64\n",
            " 24  DTW((0, 1),){}         12699 non-null  float64\n",
            " 25  hjorthActivity(){}_0   12699 non-null  float64\n",
            " 26  hjorthActivity(){}_1   12699 non-null  float64\n",
            " 27  hjorthActivity(){}_2   12699 non-null  float64\n",
            " 28  hjorthActivity(){}_3   12699 non-null  float64\n",
            " 29  hjorthActivity(){}_4   12699 non-null  float64\n",
            " 30  hjorthActivity(){}_5   12699 non-null  float64\n",
            " 31  hjorthActivity(){}_6   12699 non-null  float64\n",
            " 32  hjorthActivity(){}_7   12699 non-null  float64\n",
            " 33  hjorthActivity(){}_8   12699 non-null  float64\n",
            " 34  hjorthActivity(){}_9   12699 non-null  float64\n",
            " 35  hjorthActivity(){}_10  12699 non-null  float64\n",
            " 36  hjorthActivity(){}_11  12699 non-null  float64\n",
            " 37  hjorthActivity(){}_12  12699 non-null  float64\n",
            " 38  hjorthActivity(){}_13  12699 non-null  float64\n",
            " 39  hjorthActivity(){}_14  12699 non-null  float64\n",
            " 40  hjorthActivity(){}_15  12699 non-null  float64\n",
            " 41  hjorthActivity(){}_16  12699 non-null  float64\n",
            " 42  hjorthActivity(){}_17  12699 non-null  float64\n",
            " 43  hjorthActivity(){}_18  12699 non-null  float64\n",
            " 44  hjorthActivity(){}_19  12699 non-null  float64\n",
            " 45  hjorthActivity(){}_20  12699 non-null  float64\n",
            " 46  hjorthActivity(){}_21  12699 non-null  float64\n",
            " 47  hjorthActivity(){}_22  12699 non-null  float64\n",
            " 48  Label                  12699 non-null  int64  \n",
            "dtypes: float64(47), int64(2)\n",
            "memory usage: 4.7 MB\n"
          ]
        }
      ]
    },
    {
      "cell_type": "code",
      "metadata": {
        "id": "70rgu_k4ET9F",
        "colab": {
          "base_uri": "https://localhost:8080/"
        },
        "outputId": "c4db8144-621d-4584-fc1f-8d1c7ad4b0ef"
      },
      "source": [
        "# checking for missing values in each column\n",
        "epilepsy_data.isnull().sum()"
      ],
      "execution_count": null,
      "outputs": [
        {
          "output_type": "execute_result",
          "data": {
            "text/plain": [
              "Unnamed: 0               0\n",
              "PFD(){}_0                0\n",
              "PFD(){}_1                0\n",
              "PFD(){}_2                0\n",
              "PFD(){}_3                0\n",
              "PFD(){}_4                0\n",
              "PFD(){}_5                0\n",
              "PFD(){}_6                0\n",
              "PFD(){}_7                0\n",
              "PFD(){}_8                0\n",
              "PFD(){}_9                0\n",
              "PFD(){}_10               0\n",
              "PFD(){}_11               0\n",
              "PFD(){}_12               0\n",
              "PFD(){}_13               0\n",
              "PFD(){}_14               0\n",
              "PFD(){}_15               0\n",
              "PFD(){}_16               0\n",
              "PFD(){}_17               0\n",
              "PFD(){}_18               0\n",
              "PFD(){}_19               0\n",
              "PFD(){}_20               0\n",
              "PFD(){}_21               0\n",
              "PFD(){}_22               0\n",
              "DTW((0, 1),){}           0\n",
              "hjorthActivity(){}_0     0\n",
              "hjorthActivity(){}_1     0\n",
              "hjorthActivity(){}_2     0\n",
              "hjorthActivity(){}_3     0\n",
              "hjorthActivity(){}_4     0\n",
              "hjorthActivity(){}_5     0\n",
              "hjorthActivity(){}_6     0\n",
              "hjorthActivity(){}_7     0\n",
              "hjorthActivity(){}_8     0\n",
              "hjorthActivity(){}_9     0\n",
              "hjorthActivity(){}_10    0\n",
              "hjorthActivity(){}_11    0\n",
              "hjorthActivity(){}_12    0\n",
              "hjorthActivity(){}_13    0\n",
              "hjorthActivity(){}_14    0\n",
              "hjorthActivity(){}_15    0\n",
              "hjorthActivity(){}_16    0\n",
              "hjorthActivity(){}_17    0\n",
              "hjorthActivity(){}_18    0\n",
              "hjorthActivity(){}_19    0\n",
              "hjorthActivity(){}_20    0\n",
              "hjorthActivity(){}_21    0\n",
              "hjorthActivity(){}_22    0\n",
              "Label                    0\n",
              "dtype: int64"
            ]
          },
          "metadata": {},
          "execution_count": 6
        }
      ]
    },
    {
      "cell_type": "code",
      "metadata": {
        "id": "1AxFu0-nEhSA"
      },
      "source": [
        "# getting some statistical measures about the data\n",
        "epilepsy_data.describe()"
      ],
      "execution_count": null,
      "outputs": []
    },
    {
      "cell_type": "markdown",
      "source": [
        "Implementation"
      ],
      "metadata": {
        "id": "E-WjSEh1l5T5"
      }
    },
    {
      "cell_type": "code",
      "source": [
        "from __future__ import print_function\n",
        "import os\n",
        "import time\n",
        "import random\n",
        "import glob\n",
        "import librosa\n",
        "import numpy as np\n",
        "import librosa.display\n",
        "import tensorflow as tf\n",
        "from tensorflow.keras.optimizers import Adam\n",
        "import matplotlib.pyplot as plt\n",
        "import numpy as np\n",
        "from numpy import loadtxt\n",
        "import seaborn as sn\n",
        "import pandas as pd"
      ],
      "metadata": {
        "id": "qomeA6VMl63i"
      },
      "execution_count": null,
      "outputs": []
    },
    {
      "cell_type": "code",
      "source": [
        "import keras\n",
        "from keras.models import Sequential\n",
        "from keras.wrappers.scikit_learn import KerasClassifier\n",
        "from keras.utils import np_utils\n",
        "from sklearn.model_selection import cross_val_score\n",
        "from sklearn.model_selection import KFold\n",
        "from sklearn.preprocessing import LabelEncoder\n",
        "from sklearn.pipeline import Pipeline\n",
        "from sklearn.model_selection import train_test_split\n",
        "from tensorflow.keras.callbacks import  ModelCheckpoint\n",
        "from tensorflow.keras.models import Model, load_model\n",
        "from keras.layers.core import Dense, Activation\n",
        "from keras.layers.core import Dropout\n",
        "from keras.layers import BatchNormalization\n",
        "from keras.layers import Dropout"
      ],
      "metadata": {
        "id": "uu8A5chBl-9m"
      },
      "execution_count": null,
      "outputs": []
    },
    {
      "cell_type": "code",
      "source": [
        "\n",
        "#epilepsy_data =epilepsy_data.drop(['Unnamed: 0'],axis=1)\n",
        "epilepsy_data"
      ],
      "metadata": {
        "id": "ACOerGO7l_BW"
      },
      "execution_count": null,
      "outputs": []
    },
    {
      "cell_type": "code",
      "source": [
        "sn.countplot(x='Label', data=epilepsy_data)"
      ],
      "metadata": {
        "id": "5QWQTlWamTRE",
        "colab": {
          "base_uri": "https://localhost:8080/",
          "height": 466
        },
        "outputId": "9ed1b702-0f4c-4bdf-f740-bc302eec650d"
      },
      "execution_count": null,
      "outputs": [
        {
          "output_type": "execute_result",
          "data": {
            "text/plain": [
              "<Axes: xlabel='Label', ylabel='count'>"
            ]
          },
          "metadata": {},
          "execution_count": 13
        },
        {
          "output_type": "display_data",
          "data": {
            "text/plain": [
              "<Figure size 640x480 with 1 Axes>"
            ],
            "image/png": "[encoded data removed]"
          },
          "metadata": {}
        }
      ]
    },
    {
      "cell_type": "code",
      "source": [
        "epilepsy_data.isnull().sum()"
      ],
      "metadata": {
        "id": "LGZmt2GimTVf"
      },
      "execution_count": null,
      "outputs": []
    },
    {
      "cell_type": "code",
      "source": [
        "epilepsy_data.columns"
      ],
      "metadata": {
        "id": "2c9kB6GlmTcC",
        "colab": {
          "base_uri": "https://localhost:8080/"
        },
        "outputId": "203c431a-958e-45bb-d2c9-2810642172e5"
      },
      "execution_count": null,
      "outputs": [
        {
          "output_type": "execute_result",
          "data": {
            "text/plain": [
              "Index(['Unnamed: 0', 'PFD(){}_0', 'PFD(){}_1', 'PFD(){}_2', 'PFD(){}_3',\n",
              "       'PFD(){}_4', 'PFD(){}_5', 'PFD(){}_6', 'PFD(){}_7', 'PFD(){}_8',\n",
              "       'PFD(){}_9', 'PFD(){}_10', 'PFD(){}_11', 'PFD(){}_12', 'PFD(){}_13',\n",
              "       'PFD(){}_14', 'PFD(){}_15', 'PFD(){}_16', 'PFD(){}_17', 'PFD(){}_18',\n",
              "       'PFD(){}_19', 'PFD(){}_20', 'PFD(){}_21', 'PFD(){}_22',\n",
              "       'DTW((0, 1),){}', 'hjorthActivity(){}_0', 'hjorthActivity(){}_1',\n",
              "       'hjorthActivity(){}_2', 'hjorthActivity(){}_3', 'hjorthActivity(){}_4',\n",
              "       'hjorthActivity(){}_5', 'hjorthActivity(){}_6', 'hjorthActivity(){}_7',\n",
              "       'hjorthActivity(){}_8', 'hjorthActivity(){}_9', 'hjorthActivity(){}_10',\n",
              "       'hjorthActivity(){}_11', 'hjorthActivity(){}_12',\n",
              "       'hjorthActivity(){}_13', 'hjorthActivity(){}_14',\n",
              "       'hjorthActivity(){}_15', 'hjorthActivity(){}_16',\n",
              "       'hjorthActivity(){}_17', 'hjorthActivity(){}_18',\n",
              "       'hjorthActivity(){}_19', 'hjorthActivity(){}_20',\n",
              "       'hjorthActivity(){}_21', 'hjorthActivity(){}_22', 'Label'],\n",
              "      dtype='object')"
            ]
          },
          "metadata": {},
          "execution_count": 12
        }
      ]
    },
    {
      "cell_type": "code",
      "source": [
        "x=epilepsy_data[['PFD(){}_0', 'PFD(){}_1', 'PFD(){}_2', 'PFD(){}_3', 'PFD(){}_4',\n",
        "       'PFD(){}_5', 'PFD(){}_6', 'PFD(){}_7', 'PFD(){}_8', 'PFD(){}_9',\n",
        "       'PFD(){}_10', 'PFD(){}_11', 'PFD(){}_12', 'PFD(){}_13', 'PFD(){}_14',\n",
        "       'PFD(){}_15', 'PFD(){}_16', 'PFD(){}_17', 'PFD(){}_18', 'PFD(){}_19',\n",
        "       'PFD(){}_20', 'PFD(){}_21', 'PFD(){}_22', 'DTW((0, 1),){}',\n",
        "       'hjorthActivity(){}_0', 'hjorthActivity(){}_1', 'hjorthActivity(){}_2',\n",
        "       'hjorthActivity(){}_3', 'hjorthActivity(){}_4', 'hjorthActivity(){}_5',\n",
        "       'hjorthActivity(){}_6', 'hjorthActivity(){}_7', 'hjorthActivity(){}_8',\n",
        "       'hjorthActivity(){}_9', 'hjorthActivity(){}_10',\n",
        "       'hjorthActivity(){}_11', 'hjorthActivity(){}_12',\n",
        "       'hjorthActivity(){}_13', 'hjorthActivity(){}_14',\n",
        "       'hjorthActivity(){}_15', 'hjorthActivity(){}_16',\n",
        "       'hjorthActivity(){}_17', 'hjorthActivity(){}_18',\n",
        "       'hjorthActivity(){}_19', 'hjorthActivity(){}_20',\n",
        "       'hjorthActivity(){}_21', 'hjorthActivity(){}_22']]\n",
        "x.shape"
      ],
      "metadata": {
        "id": "uKPcb4-Sl_FZ"
      },
      "execution_count": null,
      "outputs": []
    },
    {
      "cell_type": "code",
      "source": [
        "# y = epilepsy_data.loc[:,'Label'].values\n",
        "y = epilepsy_data['Label']\n",
        "y\n"
      ],
      "metadata": {
        "id": "sr5LWgCtnEI8",
        "colab": {
          "base_uri": "https://localhost:8080/"
        },
        "outputId": "9730916d-9371-4774-bb91-f0d8bc95f5d8"
      },
      "execution_count": null,
      "outputs": [
        {
          "output_type": "execute_result",
          "data": {
            "text/plain": [
              "0        0\n",
              "1        0\n",
              "2        0\n",
              "3        0\n",
              "4        0\n",
              "        ..\n",
              "12694    6\n",
              "12695    6\n",
              "12696    6\n",
              "12697    6\n",
              "12698    6\n",
              "Name: Label, Length: 12699, dtype: int64"
            ]
          },
          "metadata": {},
          "execution_count": 62
        }
      ]
    },
    {
      "cell_type": "markdown",
      "metadata": {
        "id": "QIOAtx35JUMg"
      },
      "source": [
        "Model Training"
      ]
    },
    {
      "cell_type": "code",
      "source": [
        "# from sklearn.preprocessing import StandardScaler\n",
        "# scaler = StandardScaler()\n",
        "# scaler.fit(x)\n",
        "# x = scaler.transform(x)\n",
        "# from keras.utils import to_categorical\n",
        "# y = to_categorical(y)\n",
        "# y"
      ],
      "metadata": {
        "id": "EMXsU4NSnEOH"
      },
      "execution_count": null,
      "outputs": []
    },
    {
      "cell_type": "code",
      "source": [
        "from sklearn.model_selection import train_test_split\n",
        "x_train, x_test, y_train, y_test = train_test_split(x, y, test_size = 0.2, random_state = 42)"
      ],
      "metadata": {
        "id": "OF2N5dCFnUS2"
      },
      "execution_count": null,
      "outputs": []
    },
    {
      "cell_type": "code",
      "source": [
        "# x_train = np.reshape(x_train, (x_train.shape[0],x.shape[1]))\n",
        "# x_test = np.reshape(x_test, (x_test.shape[0],x.shape[1]))"
      ],
      "metadata": {
        "id": "G5cGyHwMnUVF"
      },
      "execution_count": null,
      "outputs": []
    },
    {
      "cell_type": "code",
      "source": [
        "# y_train = np.reshape(y_train, (y_train.shape[0],y.shape[1]))\n",
        "# y_test = np.reshape(y_test, (y_test.shape[0],y.shape[1]))"
      ],
      "metadata": {
        "id": "pLSRUDRRvSkJ"
      },
      "execution_count": null,
      "outputs": []
    },
    {
      "cell_type": "code",
      "source": [
        "# x_train, x_test, y_test = train_test_split(x, y, test_size=0.2, random_state=2)"
      ],
      "metadata": {
        "id": "g5UMX0-E217-"
      },
      "execution_count": null,
      "outputs": []
    },
    {
      "cell_type": "code",
      "source": [
        "print(x.shape, x_train.shape, x_test.shape)"
      ],
      "metadata": {
        "id": "RORH9oSw2LT3",
        "colab": {
          "base_uri": "https://localhost:8080/"
        },
        "outputId": "985a9e59-c1d7-4d3f-c2a1-187a35969939"
      },
      "execution_count": null,
      "outputs": [
        {
          "output_type": "stream",
          "name": "stdout",
          "text": [
            "(12699, 47) (10159, 47) (2540, 47)\n"
          ]
        }
      ]
    },
    {
      "cell_type": "code",
      "source": [
        "model = svm.SVC(kernel='linear')"
      ],
      "metadata": {
        "id": "4o8xKJADyZLU"
      },
      "execution_count": null,
      "outputs": []
    },
    {
      "cell_type": "code",
      "source": [
        "model.fit(x_train, y_train)"
      ],
      "metadata": {
        "colab": {
          "base_uri": "https://localhost:8080/",
          "height": 74
        },
        "id": "v3HNKSJS-ShP",
        "outputId": "06d6e153-b864-4b7b-d1c8-d5c5a769316a"
      },
      "execution_count": null,
      "outputs": [
        {
          "output_type": "execute_result",
          "data": {
            "text/plain": [
              "SVC(kernel='linear')"
            ],
            "text/html": [
              "<style>#sk-container-id-3 {color: black;background-color: white;}#sk-container-id-3 pre{padding: 0;}#sk-container-id-3 div.sk-toggleable {background-color: white;}#sk-container-id-3 label.sk-toggleable__label {cursor: pointer;display: block;width: 100%;margin-bottom: 0;padding: 0.3em;box-sizing: border-box;text-align: center;}#sk-container-id-3 label.sk-toggleable__label-arrow:before {content: \"▸\";float: left;margin-right: 0.25em;color: #696969;}#sk-container-id-3 label.sk-toggleable__label-arrow:hover:before {color: black;}#sk-container-id-3 div.sk-estimator:hover label.sk-toggleable__label-arrow:before {color: black;}#sk-container-id-3 div.sk-toggleable__content {max-height: 0;max-width: 0;overflow: hidden;text-align: left;background-color: #f0f8ff;}#sk-container-id-3 div.sk-toggleable__content pre {margin: 0.2em;color: black;border-radius: 0.25em;background-color: #f0f8ff;}#sk-container-id-3 input.sk-toggleable__control:checked~div.sk-toggleable__content {max-height: 200px;max-width: 100%;overflow: auto;}#sk-container-id-3 input.sk-toggleable__control:checked~label.sk-toggleable__label-arrow:before {content: \"▾\";}#sk-container-id-3 div.sk-estimator input.sk-toggleable__control:checked~label.sk-toggleable__label {background-color: #d4ebff;}#sk-container-id-3 div.sk-label input.sk-toggleable__control:checked~label.sk-toggleable__label {background-color: #d4ebff;}#sk-container-id-3 input.sk-hidden--visually {border: 0;clip: rect(1px 1px 1px 1px);clip: rect(1px, 1px, 1px, 1px);height: 1px;margin: -1px;overflow: hidden;padding: 0;position: absolute;width: 1px;}#sk-container-id-3 div.sk-estimator {font-family: monospace;background-color: #f0f8ff;border: 1px dotted black;border-radius: 0.25em;box-sizing: border-box;margin-bottom: 0.5em;}#sk-container-id-3 div.sk-estimator:hover {background-color: #d4ebff;}#sk-container-id-3 div.sk-parallel-item::after {content: \"\";width: 100%;border-bottom: 1px solid gray;flex-grow: 1;}#sk-container-id-3 div.sk-label:hover label.sk-toggleable__label {background-color: #d4ebff;}#sk-container-id-3 div.sk-serial::before {content: \"\";position: absolute;border-left: 1px solid gray;box-sizing: border-box;top: 0;bottom: 0;left: 50%;z-index: 0;}#sk-container-id-3 div.sk-serial {display: flex;flex-direction: column;align-items: center;background-color: white;padding-right: 0.2em;padding-left: 0.2em;position: relative;}#sk-container-id-3 div.sk-item {position: relative;z-index: 1;}#sk-container-id-3 div.sk-parallel {display: flex;align-items: stretch;justify-content: center;background-color: white;position: relative;}#sk-container-id-3 div.sk-item::before, #sk-container-id-3 div.sk-parallel-item::before {content: \"\";position: absolute;border-left: 1px solid gray;box-sizing: border-box;top: 0;bottom: 0;left: 50%;z-index: -1;}#sk-container-id-3 div.sk-parallel-item {display: flex;flex-direction: column;z-index: 1;position: relative;background-color: white;}#sk-container-id-3 div.sk-parallel-item:first-child::after {align-self: flex-end;width: 50%;}#sk-container-id-3 div.sk-parallel-item:last-child::after {align-self: flex-start;width: 50%;}#sk-container-id-3 div.sk-parallel-item:only-child::after {width: 0;}#sk-container-id-3 div.sk-dashed-wrapped {border: 1px dashed gray;margin: 0 0.4em 0.5em 0.4em;box-sizing: border-box;padding-bottom: 0.4em;background-color: white;}#sk-container-id-3 div.sk-label label {font-family: monospace;font-weight: bold;display: inline-block;line-height: 1.2em;}#sk-container-id-3 div.sk-label-container {text-align: center;}#sk-container-id-3 div.sk-container {/* jupyter's `normalize.less` sets `[hidden] { display: none; }` but bootstrap.min.css set `[hidden] { display: none !important; }` so we also need the `!important` here to be able to override the default hidden behavior on the sphinx rendered scikit-learn.org. See: https://github.com/scikit-learn/scikit-learn/issues/21755 */display: inline-block !important;position: relative;}#sk-container-id-3 div.sk-text-repr-fallback {display: none;}</style><div id=\"sk-container-id-3\" class=\"sk-top-container\"><div class=\"sk-text-repr-fallback\"><pre>SVC(kernel=&#x27;linear&#x27;)</pre><b>In a Jupyter environment, please rerun this cell to show the HTML representation or trust the notebook. <br />On GitHub, the HTML representation is unable to render, please try loading this page with nbviewer.org.</b></div><div class=\"sk-container\" hidden><div class=\"sk-item\"><div class=\"sk-estimator sk-toggleable\"><input class=\"sk-toggleable__control sk-hidden--visually\" id=\"sk-estimator-id-3\" type=\"checkbox\" checked><label for=\"sk-estimator-id-3\" class=\"sk-toggleable__label sk-toggleable__label-arrow\">SVC</label><div class=\"sk-toggleable__content\"><pre>SVC(kernel=&#x27;linear&#x27;)</pre></div></div></div></div></div>"
            ]
          },
          "metadata": {},
          "execution_count": 66
        }
      ]
    },
    {
      "cell_type": "code",
      "source": [
        "# import tensorflow as tf\n",
        "# from tensorflow.keras import Sequential\n",
        "\n",
        "# from tensorflow.keras.layers import Dense, Dropout\n",
        "# from tensorflow.keras.layers import Embedding\n",
        "# from tensorflow.keras.layers import GRU,LSTM\n",
        "# tf.keras.backend.clear_session()\n",
        "\n",
        "# model = Sequential()\n",
        "# model.add(LSTM(64, input_shape=(None,47),activation=\"relu\",return_sequences=True))\n",
        "# model.add(Dropout(0.2))\n",
        "# model.add(LSTM(32,activation=\"sigmoid\"))\n",
        "# model.add(Dropout(0.2))\n",
        "# #model.add(LSTM(100,return_sequences=True))\n",
        "# #model.add(Dropout(0.2))\n",
        "# #model.add(LSTM(50))\n",
        "# #model.add(Dropout(0.2))\n",
        "# model.add(Dense(7, activation='sigmoid'))\n",
        "# from keras.optimizers import SGD\n",
        "# model.compile(loss = 'categorical_crossentropy', optimizer = \"adam\", metrics = ['accuracy'])\n",
        "# model.summary()"
      ],
      "metadata": {
        "id": "CaLzldqhncaw"
      },
      "execution_count": null,
      "outputs": []
    },
    {
      "cell_type": "code",
      "source": [
        "# history = model.fit(x_train, y_train, epochs = 100, validation_data= (x_test, y_test))\n",
        "# score, acc = model.evaluate(x_test, y_test)"
      ],
      "metadata": {
        "id": "g3tBpaduncgF"
      },
      "execution_count": null,
      "outputs": []
    },
    {
      "cell_type": "markdown",
      "metadata": {
        "id": "1z_-nZfuLJrH"
      },
      "source": [
        "Model Evaluation"
      ]
    },
    {
      "cell_type": "code",
      "source": [
        "# from sklearn.metrics import accuracy_score\n",
        "# pred = model.predict(x_test)\n",
        "# predict_classes = np.argmax(pred,axis=1)\n",
        "# expected_classes = np.argmax(y_test,axis=1)\n",
        "# print(expected_classes.shape)\n",
        "# print(predict_classes.shape)\n",
        "# correct = accuracy_score(expected_classes,predict_classes)\n",
        "# print(f\"Training Accuracy: {correct}\")"
      ],
      "metadata": {
        "id": "fVP0a81mncjD"
      },
      "execution_count": null,
      "outputs": []
    },
    {
      "cell_type": "markdown",
      "metadata": {
        "id": "Rj3XAnF8LMF4"
      },
      "source": [
        "Accuracy Score"
      ]
    },
    {
      "cell_type": "code",
      "source": [
        "# accuracy score on training data\n",
        "x_train_prediction = model.predict(x_train)\n",
        "training_data_accuracy = accuracy_score(y_train, x_train_prediction)"
      ],
      "metadata": {
        "id": "eXNXFzy8yktA"
      },
      "execution_count": null,
      "outputs": []
    },
    {
      "cell_type": "code",
      "source": [
        "print('Accuracy score of training data : ', training_data_accuracy)"
      ],
      "metadata": {
        "id": "9mB-q8_4yz7q",
        "colab": {
          "base_uri": "https://localhost:8080/"
        },
        "outputId": "0f35b157-e621-45df-92b9-ee9d2cbaebdc"
      },
      "execution_count": null,
      "outputs": [
        {
          "output_type": "stream",
          "name": "stdout",
          "text": [
            "Accuracy score of training data :  0.9888768579584605\n"
          ]
        }
      ]
    },
    {
      "cell_type": "code",
      "source": [
        "# score = model.evaluate(x_test, y_test, verbose=0)\n",
        "# print(\"Testing Accuracy: {0:.2%}\".format(score[1]))"
      ],
      "metadata": {
        "id": "U9qfiahDncpM"
      },
      "execution_count": null,
      "outputs": []
    },
    {
      "cell_type": "code",
      "source": [
        "# from sklearn.metrics import classification_report\n",
        "# print(classification_report(pred,y_test))\n",
        "# from sklearn.metrics import confusion_matrix\n",
        "# cm = confusion_matrix(expected_classes, predict_classes)\n",
        "# cm"
      ],
      "metadata": {
        "id": "-TAeniEtncsF"
      },
      "execution_count": null,
      "outputs": []
    },
    {
      "cell_type": "code",
      "source": [
        "# import pickle \n",
        "# pickle_out = open(\"classifier.pkl\", mode = \"wb\") \n",
        "# pickle.dump(model, pickle_out) \n",
        "# pickle_out.close()"
      ],
      "metadata": {
        "id": "r5UrzHOpoKM7"
      },
      "execution_count": null,
      "outputs": []
    },
    {
      "cell_type": "code",
      "source": [],
      "metadata": {
        "id": "c1bQeL8joKQk"
      },
      "execution_count": null,
      "outputs": []
    },
    {
      "cell_type": "markdown",
      "metadata": {
        "id": "L1srlxtEFYfN"
      },
      "source": [
        "1  --> Parkinson's Positive\n",
        "\n",
        "0 --> Healthy\n"
      ]
    },
    {
      "cell_type": "markdown",
      "metadata": {
        "id": "QlR4JG4YMfOR"
      },
      "source": [
        "Building a Predictive System"
      ]
    },
    {
      "cell_type": "code",
      "metadata": {
        "id": "w0FjSoO1MGBU",
        "colab": {
          "base_uri": "https://localhost:8080/"
        },
        "outputId": "4d2f8d1e-f0d7-446f-fdbd-129211e915d0"
      },
      "source": [
        "#  ! pip install sklearn.preprocessing\n",
        "#  from sklearn.preprocessing import StandardScaler\n",
        "#  scaler = StandardScaler()\n",
        "\n",
        "input_data = (1.022224036,1.025597943,1.026628492,1.017753612,1.02300601,1.025855911,1.02688558,1.023526192,1.025081343,1.021440009,1.025855911,1.02300601,1.025081343,1.026628492,1.016957658,1.023785945,1.023526192,1.02170158,1.026113658,1.019602539,1.026628492,1.018811556,1.019075452,67.55852081,0.129276054,0.244076292,1.161924085,0.55142179,0.312740427,0.447469233,1.266637893,0.577037211,0.324785222,0.550311011,0.238264147,1.018519967,0.289087007,0.636381834,1.218350514,0.706671773,0.072827386,0.257066686,0.250389285,0.591472076,0.40405088,0.398747189,0.492704294\t)\n",
        "\n",
        "# changing input data to a numpy array\n",
        "input_data_as_numpy_array = np.asarray(input_data)\n",
        "\n",
        "# reshape the numpy array\n",
        "input_data_reshaped = input_data_as_numpy_array.reshape(1,-1)\n",
        "\n",
        "# std_data = scaler.transform(input_data_reshaped)\n",
        "prediction = model.predict(input_data_reshaped)\n",
        "print(prediction)\n",
        "\n",
        "# if (prediction[0] == 0):\n",
        "#   print(\"The Person does not have Parkinsons Disease\")\n",
        "\n",
        "# else:\n",
        "#   print(\"The Person has Parkinsons\")\n",
        "\n",
        "if (prediction == 0):\n",
        "  print(\"dis1 generalized\")\n",
        "elif (prediction == 1):\n",
        "  print(\"dis3 generalized\")\n",
        "elif (prediction == 2):\n",
        "  print(\" delta generalized\")\n",
        "elif (prediction == 3):\n",
        "  print(\"single burst generalized\")\n",
        "elif (prediction == 4):\n",
        "  print(\"temporal\")\n",
        "elif (prediction == 5):\n",
        "  print(\"frontocentral\")\n",
        "elif (prediction == 6):\n",
        "  print(\"frontopolar\")\n",
        "else:\n",
        "  print(\"The Person doesnot have epilepsy\")\n"
      ],
      "execution_count": null,
      "outputs": [
        {
          "output_type": "stream",
          "name": "stdout",
          "text": [
            "[2]\n",
            " delta generalized\n"
          ]
        }
      ]
    },
    {
      "cell_type": "markdown",
      "metadata": {
        "id": "FCHCMHpshHU4"
      },
      "source": [
        "Saving the trained model"
      ]
    },
    {
      "cell_type": "code",
      "metadata": {
        "id": "cdmTOR4MhHCB"
      },
      "source": [
        "import pickle"
      ],
      "execution_count": null,
      "outputs": []
    },
    {
      "cell_type": "code",
      "metadata": {
        "id": "4gN09lokhKuZ"
      },
      "source": [
        "filename = 'epilepsy_model.sav'\n",
        "pickle.dump(model, open(filename, 'wb'))"
      ],
      "execution_count": null,
      "outputs": []
    },
    {
      "cell_type": "code",
      "metadata": {
        "id": "IKW4D5CqhP5X"
      },
      "source": [
        "# loading the saved model\n",
        "epilepsy_model = pickle.load(open('epilepsy_model.sav', 'rb'))"
      ],
      "execution_count": null,
      "outputs": []
    },
    {
      "cell_type": "code",
      "source": [
        "for column in x.columns:\n",
        "  print(column)"
      ],
      "metadata": {
        "id": "m8FO1U8hRVm_"
      },
      "execution_count": null,
      "outputs": []
    },
    {
      "cell_type": "code",
      "source": [
        "pip install jedi"
      ],
      "metadata": {
        "id": "JPyuHFeDRXZU"
      },
      "execution_count": null,
      "outputs": []
    },
    {
      "cell_type": "code",
      "source": [
        "pip install streamlit -q"
      ],
      "metadata": {
        "id": "qh85LitM13Vo"
      },
      "execution_count": null,
      "outputs": []
    },
    {
      "cell_type": "code",
      "source": [
        "pip install streamlit-option-menu"
      ],
      "metadata": {
        "id": "6TJBdP-n-h2A"
      },
      "execution_count": null,
      "outputs": []
    },
    {
      "cell_type": "code",
      "source": [
        "\n",
        "%%writefile app.py\n",
        "\n",
        "# -*- coding: utf-8 -*-\n",
        "\n",
        "import pickle\n",
        "import streamlit as st\n",
        "\n",
        "from streamlit_option_menu import option_menu\n",
        "\n",
        "\n",
        "\n",
        "# loading the saved models\n",
        "\n",
        "epilepsy_model = pickle.load(open('/content/epilepsy_model.sav', 'rb'))\n",
        "\n",
        "\n",
        "\n",
        "# sidebar for navigation\n",
        "with st.sidebar:\n",
        "    \n",
        "    selected = option_menu('Multiple Disease Prediction System',\n",
        "                          \n",
        "                          ['Epilepsy Classification',\n",
        "                            'Disease Classification',\n",
        "                           'Early Detection',],\n",
        "                          icons=['activity','heart','person'],\n",
        "                          default_index=0)\n",
        "    \n",
        "    \n",
        "# Diabetes Prediction Page\n",
        "if (selected == 'Diabetes Prediction'):\n",
        "    \n",
        "    # page title\n",
        "    st.title('Diabetes Prediction using ML')\n",
        "    \n",
        "    \n",
        "    # getting the input data from the user\n",
        "    col1, col2, col3 = st.columns(3)\n",
        "    \n",
        "    with col1:\n",
        "        Pregnancies = st.text_input('Number of Pregnancies')\n",
        "        \n",
        "    with col2:\n",
        "        Glucose = st.text_input('Glucose Level')\n",
        "    \n",
        "    with col3:\n",
        "        BloodPressure = st.text_input('Blood Pressure value')\n",
        "    \n",
        "    with col1:\n",
        "        SkinThickness = st.text_input('Skin Thickness value')\n",
        "    \n",
        "    with col2:\n",
        "        Insulin = st.text_input('Insulin Level')\n",
        "    \n",
        "    with col3:\n",
        "        BMI = st.text_input('BMI value')\n",
        "    \n",
        "    with col1:\n",
        "        DiabetesPedigreeFunction = st.text_input('Diabetes Pedigree Function value')\n",
        "    \n",
        "    with col2:\n",
        "        Age = st.text_input('Age of the Person')\n",
        "    \n",
        "    \n",
        "    # code for Prediction\n",
        "    diab_diagnosis = ''\n",
        "    \n",
        "    # creating a button for Prediction\n",
        "    \n",
        "    if st.button('Diabetes Test Result'):\n",
        "        diab_prediction = diabetes_model.predict([[Pregnancies, Glucose, BloodPressure, SkinThickness, Insulin, BMI, DiabetesPedigreeFunction, Age]])\n",
        "        \n",
        "        if (diab_prediction[0] == 1):\n",
        "          diab_diagnosis = 'The person is diabetic'\n",
        "        else:\n",
        "          diab_diagnosis = 'The person is not diabetic'\n",
        "        \n",
        "    st.success(diab_diagnosis)\n",
        "\n",
        "\n",
        "\n",
        "\n",
        "# Heart Disease Prediction Page\n",
        "if (selected == 'Heart Disease Prediction'):\n",
        "    \n",
        "    # page title\n",
        "    st.title('Heart Disease Prediction using ML')\n",
        "    \n",
        "    col1, col2, col3 = st.columns(3)\n",
        "    \n",
        "    with col1:\n",
        "        age = st.text_input('Age')\n",
        "        \n",
        "    with col2:\n",
        "        sex = st.text_input('Sex')\n",
        "        \n",
        "    with col3:\n",
        "        cp = st.text_input('Chest Pain types')\n",
        "        \n",
        "    with col1:\n",
        "        trestbps = st.text_input('Resting Blood Pressure')\n",
        "        \n",
        "    with col2:\n",
        "        chol = st.text_input('Serum Cholestoral in mg/dl')\n",
        "        \n",
        "    with col3:\n",
        "        fbs = st.text_input('Fasting Blood Sugar > 120 mg/dl')\n",
        "        \n",
        "    with col1:\n",
        "        restecg = st.text_input('Resting Electrocardiographic results')\n",
        "        \n",
        "    with col2:\n",
        "        thalach = st.text_input('Maximum Heart Rate achieved')\n",
        "        \n",
        "    with col3:\n",
        "        exang = st.text_input('Exercise Induced Angina')\n",
        "        \n",
        "    with col1:\n",
        "        oldpeak = st.text_input('ST depression induced by exercise')\n",
        "        \n",
        "    with col2:\n",
        "        slope = st.text_input('Slope of the peak exercise ST segment')\n",
        "        \n",
        "    with col3:\n",
        "        ca = st.text_input('Major vessels colored by flourosopy')\n",
        "        \n",
        "    with col1:\n",
        "        thal = st.text_input('thal: 0 = normal; 1 = fixed defect; 2 = reversable defect')\n",
        "        \n",
        "        \n",
        "     \n",
        "     \n",
        "    # code for Prediction\n",
        "    heart_diagnosis = ''\n",
        "    \n",
        "    # creating a button for Prediction\n",
        "    \n",
        "    if st.button('Heart Disease Test Result'):\n",
        "        heart_prediction = heart_disease_model.predict([[age, sex, cp, trestbps, chol, fbs, restecg,thalach,exang,oldpeak,slope,ca,thal]])                          \n",
        "        \n",
        "        if (heart_prediction[0] == 1):\n",
        "          heart_diagnosis = 'The person is having heart disease'\n",
        "        else:\n",
        "          heart_diagnosis = 'The person does not have any heart disease'\n",
        "        \n",
        "    st.success(heart_diagnosis)\n",
        "        \n",
        "    \n",
        "\n",
        "# Epilepsy Classification\n",
        "if (selected == \"Epilepsy Classification\"):\n",
        "    \n",
        "    # page title\n",
        "    st.title(\"Epilepsy Classification using Deep Learning\")\n",
        "    \n",
        "    col1, col2, col3, col4, col5 = st.columns(5)  \n",
        "    \n",
        "    with col1:\n",
        "        PFD0 = st.text_input('PFD0')\n",
        "        \n",
        "    with col2:\n",
        "        PFD1 = st.text_input('PFD1')\n",
        "        \n",
        "    with col3:\n",
        "        PFD2 = st.text_input('PFD2')\n",
        "        \n",
        "    with col4:\n",
        "        PFD3 = st.text_input('PFD3')\n",
        "        \n",
        "    with col5:\n",
        "        PFD4 = st.text_input('PFD4')\n",
        "        \n",
        "    with col1:\n",
        "        PFD5 = st.text_input('PFD5')\n",
        "        \n",
        "    with col2:\n",
        "        PFD6 = st.text_input('PFD6')\n",
        "        \n",
        "    with col3:\n",
        "        PFD7 = st.text_input('PFD7')\n",
        "        \n",
        "    with col4:\n",
        "        PFD8 = st.text_input('PFD8')\n",
        "        \n",
        "    with col5:\n",
        "        PFD9 = st.text_input('PFD9')\n",
        "        \n",
        "    with col1:\n",
        "        PFD10 = st.text_input('PFD10')\n",
        "        \n",
        "    with col2:\n",
        "        PFD11 = st.text_input('PFD11')\n",
        "        \n",
        "    with col4:\n",
        "        PFD12 = st.text_input('PFD12')\n",
        "        \n",
        "    with col5:\n",
        "        PFD13 = st.text_input('PFD13')\n",
        "        \n",
        "    with col1:\n",
        "        PFD14 = st.text_input('PFD14')\n",
        "        \n",
        "    with col2:\n",
        "        PFD15 = st.text_input('PFD15')\n",
        "        \n",
        "    with col3:\n",
        "        PFD16 = st.text_input('PFD16')\n",
        "        \n",
        "    with col4:\n",
        "        PFD17 = st.text_input('PFD17')\n",
        "        \n",
        "    with col5:\n",
        "        PFD18 = st.text_input('PFD18')\n",
        "        \n",
        "    with col1:\n",
        "        PFD19 = st.text_input('PFD19')\n",
        "        \n",
        "    with col2:\n",
        "        PFD20 = st.text_input('PFD20')\n",
        "\n",
        "    with col3:\n",
        "        PFD21 = st.text_input('PFD21')\n",
        "        \n",
        "    with col4:\n",
        "        PFD22 = st.text_input('PFD22')\n",
        "        \n",
        "    with col5:\n",
        "         DTW = st.text_input(' DTW')\n",
        "\n",
        "    with col1:\n",
        "        hjorthActivity0 = st.text_input('hjorthActivity0')\n",
        "        \n",
        "    with col2:\n",
        "        hjorthActivity1 = st.text_input('hjorthActivity1')\n",
        "\n",
        "    with col3:\n",
        "        hjorthActivity2 = st.text_input('hjorthActivity2')\n",
        "        \n",
        "    with col4:\n",
        "        hjorthActivity3 = st.text_input('hjorthActivity3')\n",
        "        \n",
        "    with col5:\n",
        "        hjorthActivity4 = st.text_input('hjorthActivity4')\n",
        "      \n",
        "    with col1:\n",
        "        hjorthActivity5 = st.text_input('hjorthActivity5')\n",
        "        \n",
        "    with col2:\n",
        "        hjorthActivity6 = st.text_input('hjorthActivity6')\n",
        "\n",
        "    with col3:\n",
        "        hjorthActivity7 = st.text_input('hjorthActivity7')\n",
        "        \n",
        "    with col4:\n",
        "        hjorthActivity8 = st.text_input('hjorthActivity8')\n",
        "        \n",
        "    with col5:\n",
        "        hjorthActivity9 = st.text_input('hjorthActivity9')\n",
        "    \n",
        "    with col1:\n",
        "        hjorthActivity10 = st.text_input('hjorthActivity10')\n",
        "        \n",
        "    with col2:\n",
        "        hjorthActivity11 = st.text_input('hjorthActivity11')\n",
        "\n",
        "    with col3:\n",
        "        hjorthActivity12 = st.text_input('hjorthActivity12')\n",
        "        \n",
        "    with col4:\n",
        "        hjorthActivity13 = st.text_input('hjorthActivity13')\n",
        "        \n",
        "    with col5:\n",
        "        hjorthActivity14 = st.text_input('hjorthActivity14')\n",
        "      \n",
        "    with col1:\n",
        "        hjorthActivity15 = st.text_input('hjorthActivity15')\n",
        "        \n",
        "    with col2:\n",
        "        hjorthActivity16 = st.text_input('hjorthActivity16')\n",
        "\n",
        "    with col3:\n",
        "        hjorthActivity17 = st.text_input('hjorthActivity17')\n",
        "        \n",
        "    with col4:\n",
        "        hjorthActivity18 = st.text_input('hjorthActivity18')\n",
        "        \n",
        "    with col5:\n",
        "        hjorthActivity19 = st.text_input('hjorthActivity19')\n",
        "    \n",
        "    with col1:\n",
        "        hjorthActivity20 = st.text_input('hjorthActivity20')\n",
        "        \n",
        "    with col2:\n",
        "        hjorthActivity21 = st.text_input('hjorthActivity21')\n",
        "\n",
        "    with col3:\n",
        "        hjorthActivity22 = st.text_input('hjorthActivity22')\n",
        "        \n",
        "    \n",
        "    \n",
        "    \n",
        "    # code for Prediction\n",
        "    epilepsy_diagnosis = ''\n",
        "    \n",
        "    # creating a button for Prediction    \n",
        "    if st.button(\"Epilepsy Classification\"):\n",
        "        epilepsy_prediction = epilepsy_model.predict([[PFD0,PFD1,PFD2,PFD3,PFD4,PFD5,PFD6,PFD7,PFD8,PFD9,PFD10,PFD11,PFD12,PFD13,PFD14,PFD15,PFD16,PFD17,PFD18,PFD19,PFD20,PFD21,PFD22,DTW,hjorthActivity0,hjorthActivity1,hjorthActivity2,hjorthActivity3,hjorthActivity4,hjorthActivity5,hjorthActivity6,hjorthActivity7,hjorthActivity8,hjorthActivity9,hjorthActivity10,hjorthActivity11,hjorthActivity12,hjorthActivity13,hjorthActivity14,hjorthActivity15,hjorthActivity16,hjorthActivity17,hjorthActivity18,hjorthActivity19,hjorthActivity20,hjorthActivity21,hjorthActivity22]])                          \n",
        "        \n",
        "\n",
        "\n",
        "\n",
        "        if (epilepsy_prediction[0] == 0):\n",
        "          epilepsy_diagnosis = \"dis1 generalized\"\n",
        "        elif (epilepsy_prediction[0] == 1):\n",
        "          epilepsy_diagnosis = \"dis3 generalized\"\n",
        "        elif (epilepsy_prediction[0] == 2):\n",
        "          epilepsy_diagnosis = \"delta generalized\"\n",
        "        elif (epilepsy_prediction[0] == 3):\n",
        "          epilepsy_diagnosis = \"single burst generalized\"\n",
        "        elif (epilepsy_prediction[0] == 4):\n",
        "          epilepsy_diagnosis = \"temporal\"\n",
        "        elif (epilepsy_prediction[0] == 5):\n",
        "          epilepsy_diagnosis = \"frontocentral\"\n",
        "        elif (epilepsy_prediction[0] == 6):\n",
        "          epilepsy_diagnosis = \"frontopolar\"\n",
        "        \n",
        "        else:\n",
        "          epilepsy_diagnosis = \"The person does not have Epilepsy\"\n",
        "        \n",
        "    st.success(epilepsy_diagnosis)\n",
        "\n",
        "\n",
        "\n",
        "\n"
      ],
      "metadata": {
        "id": "ZZo8BCnY13Yv"
      },
      "execution_count": null,
      "outputs": []
    },
    {
      "cell_type": "code",
      "source": [
        "! pip install pyngrok"
      ],
      "metadata": {
        "id": "jI7t-1pn13bm"
      },
      "execution_count": null,
      "outputs": []
    },
    {
      "cell_type": "code",
      "source": [
        "from pyngrok import ngrok"
      ],
      "metadata": {
        "id": "B9HsICMd13d8"
      },
      "execution_count": null,
      "outputs": []
    },
    {
      "cell_type": "code",
      "source": [
        "ngrok.set_auth_token(\"2NIDTxy1uMwuzJWvR1EGoqb0SVl_5sWYAAfFBc8WXJm5C8gD1\") "
      ],
      "metadata": {
        "id": "URjeVMto13gO"
      },
      "execution_count": null,
      "outputs": []
    },
    {
      "cell_type": "code",
      "source": [
        "ngrok.kill()"
      ],
      "metadata": {
        "id": "k8v7oKmJ4Dch"
      },
      "execution_count": null,
      "outputs": []
    },
    {
      "cell_type": "code",
      "source": [
        "!nohup streamlit run app.py --server.port 80 &\n",
        "url = ngrok.connect(port = '80')\n",
        "print(url)\n",
        "     "
      ],
      "metadata": {
        "id": "wy3rLKdx2PSS"
      },
      "execution_count": null,
      "outputs": []
    },
    {
      "cell_type": "code",
      "source": [
        "from pyngrok import ngrok\n",
        "\n",
        "tunnels = ngrok.get_tunnels()\n",
        "tunnels"
      ],
      "metadata": {
        "id": "VX9_H7HS2PVF"
      },
      "execution_count": null,
      "outputs": []
    },
    {
      "cell_type": "code",
      "source": [],
      "metadata": {
        "id": "nDXcXzzN2PXT"
      },
      "execution_count": null,
      "outputs": []
    }
  ]
}