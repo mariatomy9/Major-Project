{
  "nbformat": 4,
  "nbformat_minor": 0,
  "metadata": {
    "colab": {
      "provenance": [],
      "mount_file_id": "1S-pnUN6_yiMOQFk-mOrWx-oSUD5nsUu5",
      "authorship_tag": "ABX9TyPYfklKkftP7TF2fd+tkl02",
      "include_colab_link": true
    },
    "kernelspec": {
      "name": "python3",
      "display_name": "Python 3"
    },
    "language_info": {
      "name": "python"
    }
  },
  "cells": [
    {
      "cell_type": "markdown",
      "metadata": {
        "id": "view-in-github",
        "colab_type": "text"
      },
      "source": [
        "<a href=\"https://colab.research.google.com/github/mariatomy9/Major-Project/blob/hisana/signalcsv.ipynb\" target=\"_parent\"><img src=\"https://colab.research.google.com/assets/colab-badge.svg\" alt=\"Open In Colab\"/></a>"
      ]
    },
    {
      "cell_type": "code",
      "source": [
        "from google.colab import drive\n",
        "drive.mount('/content/drive')"
      ],
      "metadata": {
        "colab": {
          "base_uri": "https://localhost:8080/"
        },
        "id": "aF0Qf_pjLjzR",
        "outputId": "714c8819-0dee-4687-ebd1-da822451f7c7"
      },
      "execution_count": null,
      "outputs": [
        {
          "output_type": "stream",
          "name": "stdout",
          "text": [
            "Drive already mounted at /content/drive; to attempt to forcibly remount, call drive.mount(\"/content/drive\", force_remount=True).\n"
          ]
        }
      ]
    },
    {
      "cell_type": "code",
      "source": [
        "import pandas as pd\n",
        "import numpy as np\n",
        "\n",
        "# data1 = pd.read_csv('/content/drive/MyDrive/Colab Notebooks/Early_prediction/csv/twenty.csv')\n",
        "# print(data1)"
      ],
      "metadata": {
        "id": "SoBX3hrgyzcy"
      },
      "execution_count": null,
      "outputs": []
    },
    {
      "cell_type": "code",
      "source": [
        "\n",
        "for i in {\"one\",\"two\",\"three\",\"four\",\"five\",\"six\",\"seven\",\"eight\",\"nine\",\"ten\",\"eleven\",\"twelve\",\"thirteen\",\"fourteen\",\"fifteen\",\"sixteen\",\"seventeen\",\"eighteen\",\"nineteen\",\"twenty\"}:\n",
        "  path = str(i)+'.csv'\n",
        "  path1 = '/content/drive/MyDrive/Colab Notebooks/Early_prediction/csv/'+path\n",
        "  # data1.to_csv('path1',mode = 'a',header = False)\n",
        "  # data = pd.read_csv(path1)\n",
        "  # reading data from demo2.csv\n",
        "  data=pd.read_csv('/content/drive/MyDrive/Colab Notebooks/Early_prediction/csv/'+path)\n",
        "  # appending data to demo1.csv\n",
        "  data.to_csv(\"/content/drive/MyDrive/Colab Notebooks/Early_prediction/csv/allsignal.csv\",index=False,header=False,mode=\"a\")"
      ],
      "metadata": {
        "id": "-b_Xvn2hhnfT"
      },
      "execution_count": null,
      "outputs": []
    },
    {
      "cell_type": "code",
      "source": [
        "result = pd.read_csv(\"/content/drive/MyDrive/Colab Notebooks/Early_prediction/csv/allsignal.csv\")\n",
        "var = pd.DataFrame(result)\n",
        "# print(result)\n",
        "print(var)"
      ],
      "metadata": {
        "colab": {
          "base_uri": "https://localhost:8080/"
        },
        "id": "LEAhxP9jZ-Cu",
        "outputId": "a3753074-8d3a-4b65-bd25-1155b6f5ba44"
      },
      "execution_count": null,
      "outputs": [
        {
          "output_type": "stream",
          "name": "stdout",
          "text": [
            "           0  104\n",
            "0          1   41\n",
            "1          2  -26\n",
            "2          3  -90\n",
            "3          4 -157\n",
            "4          5 -215\n",
            "...      ...  ...\n",
            "122874  6139 -197\n",
            "122875  6140 -182\n",
            "122876  6141 -162\n",
            "122877  6142 -140\n",
            "122878  6143 -116\n",
            "\n",
            "[122879 rows x 2 columns]\n"
          ]
        }
      ]
    },
    {
      "cell_type": "code",
      "source": [
        "result.columns =['Timestamp', 'values']\n",
        "# data1_wide=pd.pivot(result,  columns = 'Timestamp',values = 'values') \n",
        "arr = result.to_numpy()\n",
        "arr1 = arr.reshape(2,122879)\n",
        "signal = pd.DataFrame(arr1)\n",
        "signal.to_csv('reallsignal.csv')\n"
      ],
      "metadata": {
        "id": "ePAM0F64TjU3"
      },
      "execution_count": null,
      "outputs": []
    }
  ]
}