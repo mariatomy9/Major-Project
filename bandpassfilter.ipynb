{
  "nbformat": 4,
  "nbformat_minor": 0,
  "metadata": {
    "colab": {
      "provenance": [],
      "authorship_tag": "ABX9TyMnMaqgWaYUQkjTGV9j/iWB",
      "include_colab_link": true
    },
    "kernelspec": {
      "name": "python3",
      "display_name": "Python 3"
    },
    "language_info": {
      "name": "python"
    }
  },
  "cells": [
    {
      "cell_type": "markdown",
      "metadata": {
        "id": "view-in-github",
        "colab_type": "text"
      },
      "source": [
        "<a href=\"https://colab.research.google.com/github/mariatomy9/Major-Project/blob/hisana/bandpassfilter.ipynb\" target=\"_parent\"><img src=\"https://colab.research.google.com/assets/colab-badge.svg\" alt=\"Open In Colab\"/></a>"
      ]
    },
    {
      "cell_type": "markdown",
      "source": [
        "This is the code for a Butterfly bandpass filter of frequency ranging 10-250 Hz . The degree of the filter ranges frm 3,6,9 \n"
      ],
      "metadata": {
        "id": "jsNZo0szE2A1"
      }
    },
    {
      "cell_type": "code",
      "execution_count": 1,
      "metadata": {
        "id": "DUmFHk6JDVDO"
      },
      "outputs": [],
      "source": [
        "from scipy.signal import butter, lfilter"
      ]
    },
    {
      "cell_type": "code",
      "source": [
        "def butter_bandpass(lowcut, highcut, fs, order=5):\n",
        "    return butter(order, [lowcut, highcut], fs=fs, btype='band')\n",
        "\n",
        "def butter_bandpass_filter(data, lowcut, highcut, fs, order=5):\n",
        "    b, a = butter_bandpass(lowcut, highcut, fs, order=order)\n",
        "    y = lfilter(b, a, data)\n",
        "    return y"
      ],
      "metadata": {
        "id": "sNh5Dgf_DjGV"
      },
      "execution_count": 2,
      "outputs": []
    },
    {
      "cell_type": "code",
      "source": [
        "if __name__ == \"__main__\":\n",
        "    import numpy as np\n",
        "    import matplotlib.pyplot as plt\n",
        "    from scipy.signal import freqz\n",
        "\n",
        "    # Sample rate and desired cutoff frequencies (in Hz).\n",
        "    fs = 500.0\n",
        "    lowcut = 10.0\n",
        "    highcut = 249.0\n",
        "\n",
        "    # Plot the frequency response for a few different orders.\n",
        "    plt.figure(1)\n",
        "    plt.clf()\n",
        "    for order in [3, 6, 9]:\n",
        "        b, a = butter_bandpass(lowcut, highcut, fs, order=order)\n",
        "        w, h = freqz(b, a, fs=fs, worN=250)\n",
        "        plt.plot(w, abs(h), label=\"order = %d\" % order)\n",
        "\n",
        "    plt.plot([0, 0.5 * fs], [np.sqrt(0.5), np.sqrt(0.5)],\n",
        "             '--', label='sqrt(0.5)')\n",
        "    plt.xlabel('Frequency (Hz)')\n",
        "    plt.ylabel('Gain')\n",
        "    plt.grid(True)\n",
        "    plt.legend(loc='best')"
      ],
      "metadata": {
        "colab": {
          "base_uri": "https://localhost:8080/",
          "height": 279
        },
        "id": "eEU_OVikEYNz",
        "outputId": "02fbcda1-a2f5-4cbe-cfc0-1da11ef1e76a"
      },
      "execution_count": 3,
      "outputs": [
        {
          "output_type": "display_data",
          "data": {
            "text/plain": [
              "<Figure size 432x288 with 1 Axes>"
            ],
            "image/png": "[encoded data removed]"
          },
          "metadata": {
            "needs_background": "light"
          }
        }
      ]
    },
    {
      "cell_type": "code",
      "source": [],
      "metadata": {
        "id": "jCCtmvVREyid"
      },
      "execution_count": null,
      "outputs": []
    }
  ]
}