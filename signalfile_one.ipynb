{
  "nbformat": 4,
  "nbformat_minor": 0,
  "metadata": {
    "colab": {
      "provenance": [],
      "mount_file_id": "18kuLqSK44xlIx_ARZE3McubWSSQHSoWS",
      "authorship_tag": "ABX9TyN1CVff4Qd52xLL4BO3gonk",
      "include_colab_link": true
    },
    "kernelspec": {
      "name": "python3",
      "display_name": "Python 3"
    },
    "language_info": {
      "name": "python"
    }
  },
  "cells": [
    {
      "cell_type": "markdown",
      "metadata": {
        "id": "view-in-github",
        "colab_type": "text"
      },
      "source": [
        "<a href=\"https://colab.research.google.com/github/mariatomy9/Major-Project/blob/hisana/signalfile_one.ipynb\" target=\"_parent\"><img src=\"https://colab.research.google.com/assets/colab-badge.svg\" alt=\"Open In Colab\"/></a>"
      ]
    },
    {
      "cell_type": "code",
      "source": [
        "from google.colab import drive\n",
        "drive.mount('/content/drive')"
      ],
      "metadata": {
        "colab": {
          "base_uri": "https://localhost:8080/"
        },
        "id": "Z88gtgbS73y3",
        "outputId": "121b6fbf-25e6-4b1a-da25-523667de857f"
      },
      "execution_count": null,
      "outputs": [
        {
          "output_type": "stream",
          "name": "stdout",
          "text": [
            "Drive already mounted at /content/drive; to attempt to forcibly remount, call drive.mount(\"/content/drive\", force_remount=True).\n"
          ]
        }
      ]
    },
    {
      "cell_type": "code",
      "source": [
        "import scipy.io\n",
        "import numpy as np\n",
        "mat1 = scipy.io.loadmat('/content/drive/MyDrive/Colab Notebooks/EEG Epilepsy Datasets/interictal/interictal1.mat')\n",
        "value1 = mat1['interictal']\n",
        "data1 = np.array(value1)\n",
        "data1\n"
      ],
      "metadata": {
        "colab": {
          "base_uri": "https://localhost:8080/"
        },
        "outputId": "5b3a0cc6-c0af-4dd1-9f7b-9f7dd82f41a8",
        "id": "iHuFxufP5a_N"
      },
      "execution_count": null,
      "outputs": [
        {
          "output_type": "execute_result",
          "data": {
            "text/plain": [
              "array([[  9],\n",
              "       [ 11],\n",
              "       [ 11],\n",
              "       ...,\n",
              "       [-12],\n",
              "       [-10],\n",
              "       [ -4]], dtype=int16)"
            ]
          },
          "metadata": {},
          "execution_count": 19
        }
      ]
    },
    {
      "cell_type": "code",
      "source": [
        "import scipy.io\n",
        "import numpy as np\n",
        "mat2 = scipy.io.loadmat('/content/drive/MyDrive/Colab Notebooks/EEG Epilepsy Datasets/interictal/interictal2.mat')\n",
        "value2 = mat2['interictal']\n",
        "data2 = np.array(value2)\n",
        "data2"
      ],
      "metadata": {
        "colab": {
          "base_uri": "https://localhost:8080/"
        },
        "outputId": "3025d45e-8e58-414d-b232-1556a72fcdb5",
        "id": "7GD2GdPt5aMi"
      },
      "execution_count": null,
      "outputs": [
        {
          "output_type": "execute_result",
          "data": {
            "text/plain": [
              "array([[ 1],\n",
              "       [-1],\n",
              "       [ 0],\n",
              "       ...,\n",
              "       [-4],\n",
              "       [ 3],\n",
              "       [ 9]], dtype=int16)"
            ]
          },
          "metadata": {},
          "execution_count": 20
        }
      ]
    },
    {
      "cell_type": "code",
      "source": [
        "import scipy.io\n",
        "import numpy as np\n",
        "mat3 = scipy.io.loadmat('/content/drive/MyDrive/Colab Notebooks/EEG Epilepsy Datasets/preictal/preictal1.mat')\n",
        "value3 = mat3['preictal']\n",
        "data3 = np.array(value3)\n",
        "data3"
      ],
      "metadata": {
        "colab": {
          "base_uri": "https://localhost:8080/"
        },
        "outputId": "ec023359-53f5-42ad-bb73-23c2c469fea9",
        "id": "yk438YjC6NrS"
      },
      "execution_count": null,
      "outputs": [
        {
          "output_type": "execute_result",
          "data": {
            "text/plain": [
              "array([[  9],\n",
              "       [  1],\n",
              "       [ -1],\n",
              "       ...,\n",
              "       [247],\n",
              "       [247],\n",
              "       [246]], dtype=int16)"
            ]
          },
          "metadata": {},
          "execution_count": 21
        }
      ]
    },
    {
      "cell_type": "code",
      "source": [],
      "metadata": {
        "id": "ZV6A3_M-nu0j"
      },
      "execution_count": null,
      "outputs": []
    },
    {
      "cell_type": "code",
      "source": [
        "import scipy.io\n",
        "import numpy as np\n",
        "mat4 = scipy.io.loadmat('/content/drive/MyDrive/Colab Notebooks/EEG Epilepsy Datasets/preictal/preictal2.mat')\n",
        "value4 = mat4['preictal']\n",
        "data4 = np.array(value4)\n",
        "data4"
      ],
      "metadata": {
        "colab": {
          "base_uri": "https://localhost:8080/"
        },
        "outputId": "65890550-ff3f-4fb9-ad4f-87a16fcf62dc",
        "id": "KG0evuJsnvR3"
      },
      "execution_count": null,
      "outputs": [
        {
          "output_type": "execute_result",
          "data": {
            "text/plain": [
              "array([[  7],\n",
              "       [ 16],\n",
              "       [ 23],\n",
              "       ...,\n",
              "       [-14],\n",
              "       [-11],\n",
              "       [ -5]], dtype=int16)"
            ]
          },
          "metadata": {},
          "execution_count": 22
        }
      ]
    },
    {
      "cell_type": "code",
      "source": [],
      "metadata": {
        "id": "jAa7ThI-nw8I"
      },
      "execution_count": null,
      "outputs": []
    },
    {
      "cell_type": "code",
      "source": [
        "import scipy.io\n",
        "import numpy as np\n",
        "mat5= scipy.io.loadmat('/content/drive/MyDrive/Colab Notebooks/EEG Epilepsy Datasets/ictal/ictal1.mat')\n",
        "value5 = mat5['ictal']\n",
        "data5 = np.array(value5)\n",
        "data5"
      ],
      "metadata": {
        "colab": {
          "base_uri": "https://localhost:8080/"
        },
        "outputId": "0fa7042e-000e-4d1c-f3cf-84c45089aefd",
        "id": "CYzKz1DrnxZ9"
      },
      "execution_count": null,
      "outputs": [
        {
          "output_type": "execute_result",
          "data": {
            "text/plain": [
              "array([[ 13],\n",
              "       [ 13],\n",
              "       [ 14],\n",
              "       ...,\n",
              "       [-63],\n",
              "       [-58],\n",
              "       [-50]], dtype=int16)"
            ]
          },
          "metadata": {},
          "execution_count": 23
        }
      ]
    },
    {
      "cell_type": "code",
      "source": [
        "import scipy.io\n",
        "import numpy as np\n",
        "mat6 = scipy.io.loadmat('/content/drive/MyDrive/Colab Notebooks/EEG Epilepsy Datasets/ictal/ictal2.mat')\n",
        "value6 = mat6['ictal']\n",
        "data6 = np.array(value5)\n",
        "data6"
      ],
      "metadata": {
        "colab": {
          "base_uri": "https://localhost:8080/"
        },
        "outputId": "5cb9ffff-e921-4848-8143-e03e01ef4dbd",
        "id": "vhTjRvHrnyXq"
      },
      "execution_count": null,
      "outputs": [
        {
          "output_type": "execute_result",
          "data": {
            "text/plain": [
              "array([[ 13],\n",
              "       [ 13],\n",
              "       [ 14],\n",
              "       ...,\n",
              "       [-63],\n",
              "       [-58],\n",
              "       [-50]], dtype=int16)"
            ]
          },
          "metadata": {},
          "execution_count": 24
        }
      ]
    },
    {
      "cell_type": "code",
      "source": [
        "import numpy as np\n",
        "import pandas as pd\n",
        "import matplotlib.pyplot as plt \n",
        "\n",
        "list1 = [data1,data2,data3,data4,data5,data6]\n",
        "signal = np.concatenate([np.expand_dims(i,axis=0) for i in list1 ])\n",
        "# signal = np.concatenate([data1,data2,data3])\n",
        "# print(signal)\n",
        "result = signal.ravel()\n",
        "print(result)\n",
        "# df = pd.DataFrame(signal,'RGB)\n",
        "# print(df)\n",
        "y = np.arange(1,len(result)+1)\n",
        "plt.plot(y,result) \n",
        "plt.show()\n",
        "plt.savefig('first signal.png')\n",
        "\n"
      ],
      "metadata": {
        "colab": {
          "base_uri": "https://localhost:8080/",
          "height": 465
        },
        "id": "bd2YFGGwny2b",
        "outputId": "5952a26c-28a9-4495-c7bd-4e4b9ee8fdea"
      },
      "execution_count": null,
      "outputs": [
        {
          "output_type": "stream",
          "name": "stdout",
          "text": [
            "[  9  11  11 ... -63 -58 -50]\n"
          ]
        },
        {
          "output_type": "display_data",
          "data": {
            "text/plain": [
              "<Figure size 640x480 with 1 Axes>"
            ],
            "image/png": "[encoded data removed]"
          },
          "metadata": {}
        },
        {
          "output_type": "display_data",
          "data": {
            "text/plain": [
              "<Figure size 640x480 with 0 Axes>"
            ]
          },
          "metadata": {}
        }
      ]
    }
  ]
}